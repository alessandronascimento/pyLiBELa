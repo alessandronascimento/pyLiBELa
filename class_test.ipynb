{
  "nbformat": 4,
  "nbformat_minor": 0,
  "metadata": {
    "colab": {
      "provenance": [],
      "authorship_tag": "ABX9TyO9rTovwETv2mifF9Tq2bIq",
      "include_colab_link": true
    },
    "kernelspec": {
      "name": "python3",
      "display_name": "Python 3"
    },
    "language_info": {
      "name": "python"
    }
  },
  "cells": [
    {
      "cell_type": "markdown",
      "metadata": {
        "id": "view-in-github",
        "colab_type": "text"
      },
      "source": [
        "<a href=\"https://colab.research.google.com/github/alessandronascimento/pyLiBELa/blob/main/class_test.ipynb\" target=\"_parent\"><img src=\"https://colab.research.google.com/assets/colab-badge.svg\" alt=\"Open In Colab\"/></a>"
      ]
    },
    {
      "cell_type": "code",
      "source": [
        "! apt-get install libboost-python1.71-dev openbabel libopenbabel-dev python-dev zlib1g-dev libeigen3-dev libgsl-dev libnlopt-cxx-dev\n",
        "!rm -f Makefile*\n",
        "!wget https://raw.githubusercontent.com/alessandronascimento/pyLiBELa/main/Colabs/Makefile\n",
        "!rm -rf src/* obj/*\n",
        "!rmdir src obj\n",
        "!make FILES"
      ],
      "metadata": {
        "colab": {
          "base_uri": "https://localhost:8080/"
        },
        "id": "_gl7AYBzOW1E",
        "outputId": "333b7e3d-f08b-495b-cabf-0c8d53be83b3"
      },
      "execution_count": 2,
      "outputs": [
        {
          "output_type": "stream",
          "name": "stdout",
          "text": [
            "Reading package lists... Done\n",
            "Building dependency tree       \n",
            "Reading state information... Done\n",
            "Note, selecting 'python-dev-is-python2' instead of 'python-dev'\n",
            "libboost-python1.71-dev is already the newest version (1.71.0-6ubuntu6).\n",
            "libeigen3-dev is already the newest version (3.3.7-2).\n",
            "libgsl-dev is already the newest version (2.5+dfsg-6build1).\n",
            "libnlopt-cxx-dev is already the newest version (2.6.1-8ubuntu2).\n",
            "libopenbabel-dev is already the newest version (3.0.0+dfsg-3ubuntu3).\n",
            "openbabel is already the newest version (3.0.0+dfsg-3ubuntu3).\n",
            "python-dev-is-python2 is already the newest version (2.7.17-4).\n",
            "zlib1g-dev is already the newest version (1:1.2.11.dfsg-2ubuntu1.5).\n",
            "0 upgraded, 0 newly installed, 0 to remove and 24 not upgraded.\n",
            "--2023-04-18 12:27:06--  https://raw.githubusercontent.com/alessandronascimento/pyLiBELa/main/Colabs/Makefile\n",
            "Resolving raw.githubusercontent.com (raw.githubusercontent.com)... 185.199.108.133, 185.199.109.133, 185.199.110.133, ...\n",
            "Connecting to raw.githubusercontent.com (raw.githubusercontent.com)|185.199.108.133|:443... connected.\n",
            "HTTP request sent, awaiting response... 200 OK\n",
            "Length: 7004 (6.8K) [text/plain]\n",
            "Saving to: ‘Makefile’\n",
            "\n",
            "Makefile            100%[===================>]   6.84K  --.-KB/s    in 0s      \n",
            "\n",
            "2023-04-18 12:27:07 (79.4 MB/s) - ‘Makefile’ saved [7004/7004]\n",
            "\n",
            "Downloaded files\n"
          ]
        }
      ]
    },
    {
      "cell_type": "code",
      "source": [
        "!rm -rf *.so *.o\n",
        "!rm -rf obj/*\n",
        "!rmdir obj\n",
        "#CC_FLAGS = -fPIC -O3 -shared -I/usr/include/python3.9 -I/usr/include/openbabel3 -I/usr/include/eigen3  -DBUILD=0 -DHAVE_EIGEN\n",
        "#LD_FLAGS = -L/usr/lib/x86_64-linux-gnu -lboost_python38 -lz -lopenbabel -lgsl -lnlopt_cxx\n",
        "#@$(CC) $< $(CC_FLAGS) -o $@\n",
        "#$(CC) -shared obj/pyPARSER.o -o pyPARSER.so $(LD_FLAGS)\n",
        "\n",
        "!g++ src/pyGrid.cpp -fPIC -O3 -shared -I/usr/include/python3.9 -I/usr/include/openbabel3 -I/usr/include/eigen3  -DBUILD=0 -DHAVE_EIGEN -c \n",
        "\n",
        "!g++ src/pyWRITER.cpp -fPIC -O3 -shared -I/usr/include/python3.9 -I/usr/include/openbabel3 -I/usr/include/eigen3  -DBUILD=0 -DHAVE_EIGEN -c \n",
        "\n",
        "!mkdir obj\n",
        "!mv *.o obj\n",
        "\n",
        "!g++ -shared obj/pyGrid.o obj/pyWRITER.o -o pyGrid.so -L/usr/lib/gcc/x86_64-linux-gnu -lboost_python38 -lz -lopenbabel -lgsl -lnlopt_cxx\n",
        "\n",
        "!ls\n",
        "\n",
        "from pyGrid import *\n"
      ],
      "metadata": {
        "id": "CaNn_zLaFZHl",
        "outputId": "41a1c539-2403-4481-d6ff-329849bf580e",
        "colab": {
          "base_uri": "https://localhost:8080/"
        }
      },
      "execution_count": 2,
      "outputs": [
        {
          "output_type": "stream",
          "name": "stdout",
          "text": [
            "\u001b[01m\u001b[Ksrc/pyGrid.cpp:\u001b[m\u001b[K In member function ‘\u001b[01m\u001b[Kvoid Grid::load_Ambergrids_from_file()\u001b[m\u001b[K’:\n",
            "\u001b[01m\u001b[Ksrc/pyGrid.cpp:712:18:\u001b[m\u001b[K \u001b[01;35m\u001b[Kwarning: \u001b[m\u001b[Kignoring return value of ‘\u001b[01m\u001b[Kchar* fgets(char*, int, FILE*)\u001b[m\u001b[K’, declared with attribute warn_unused_result [\u001b[01;35m\u001b[K-Wunused-result\u001b[m\u001b[K]\n",
            "  712 |             \u001b[01;35m\u001b[Kfgets(str, 80, pbsa_map)\u001b[m\u001b[K;\n",
            "      |             \u001b[01;35m\u001b[K~~~~~^~~~~~~~~~~~~~~~~~~\u001b[m\u001b[K\n",
            "\u001b[01m\u001b[Ksrc/pyGrid.cpp:717:15:\u001b[m\u001b[K \u001b[01;35m\u001b[Kwarning: \u001b[m\u001b[Kignoring return value of ‘\u001b[01m\u001b[Kint fscanf(FILE*, const char*, ...)\u001b[m\u001b[K’, declared with attribute warn_unused_result [\u001b[01;35m\u001b[K-Wunused-result\u001b[m\u001b[K]\n",
            "  717 |         \u001b[01;35m\u001b[Kfscanf(pbsa_map, \"%d %d %d\", &this->npointsx, &this->npointsy, &this->npointsz)\u001b[m\u001b[K;\n",
            "      |         \u001b[01;35m\u001b[K~~~~~~^~~~~~~~~~~~~~~~~~~~~~~~~~~~~~~~~~~~~~~~~~~~~~~~~~~~~~~~~~~~~~~~~~~~~~~~~\u001b[m\u001b[K\n",
            "\u001b[01m\u001b[Ksrc/pyGrid.cpp:744:27:\u001b[m\u001b[K \u001b[01;35m\u001b[Kwarning: \u001b[m\u001b[Kignoring return value of ‘\u001b[01m\u001b[Kint fscanf(FILE*, const char*, ...)\u001b[m\u001b[K’, declared with attribute warn_unused_result [\u001b[01;35m\u001b[K-Wunused-result\u001b[m\u001b[K]\n",
            "  744 |                     \u001b[01;35m\u001b[Kfscanf(pbsa_map, \"%f\", &phi)\u001b[m\u001b[K;\n",
            "      |                     \u001b[01;35m\u001b[K~~~~~~^~~~~~~~~~~~~~~~~~~~~~\u001b[m\u001b[K\n",
            "\u001b[01m\u001b[Ksrc/pyGrid.cpp:\u001b[m\u001b[K In member function ‘\u001b[01m\u001b[Kvoid Grid::load_Delphi_Grid_from_file()\u001b[m\u001b[K’:\n",
            "\u001b[01m\u001b[Ksrc/pyGrid.cpp:1025:10:\u001b[m\u001b[K \u001b[01;35m\u001b[Kwarning: \u001b[m\u001b[Kignoring return value of ‘\u001b[01m\u001b[Ksize_t fread(void*, size_t, size_t, FILE*)\u001b[m\u001b[K’, declared with attribute warn_unused_result [\u001b[01;35m\u001b[K-Wunused-result\u001b[m\u001b[K]\n",
            " 1025 |     \u001b[01;35m\u001b[Kfread(&tmpi, sizeof(int), 1, phimap)\u001b[m\u001b[K;\n",
            "      |     \u001b[01;35m\u001b[K~~~~~^~~~~~~~~~~~~~~~~~~~~~~~~~~~~~~\u001b[m\u001b[K\n",
            "\u001b[01m\u001b[Ksrc/pyGrid.cpp:1034:10:\u001b[m\u001b[K \u001b[01;35m\u001b[Kwarning: \u001b[m\u001b[Kignoring return value of ‘\u001b[01m\u001b[Ksize_t fread(void*, size_t, size_t, FILE*)\u001b[m\u001b[K’, declared with attribute warn_unused_result [\u001b[01;35m\u001b[K-Wunused-result\u001b[m\u001b[K]\n",
            " 1034 |     \u001b[01;35m\u001b[Kfread(&tmpi, sizeof(int), 1, phimap)\u001b[m\u001b[K;\n",
            "      |     \u001b[01;35m\u001b[K~~~~~^~~~~~~~~~~~~~~~~~~~~~~~~~~~~~~\u001b[m\u001b[K\n",
            "\u001b[01m\u001b[Ksrc/pyGrid.cpp:1035:10:\u001b[m\u001b[K \u001b[01;35m\u001b[Kwarning: \u001b[m\u001b[Kignoring return value of ‘\u001b[01m\u001b[Ksize_t fread(void*, size_t, size_t, FILE*)\u001b[m\u001b[K’, declared with attribute warn_unused_result [\u001b[01;35m\u001b[K-Wunused-result\u001b[m\u001b[K]\n",
            " 1035 |     \u001b[01;35m\u001b[Kfread(&tmpi, sizeof(int), 1, phimap)\u001b[m\u001b[K;\n",
            "      |     \u001b[01;35m\u001b[K~~~~~^~~~~~~~~~~~~~~~~~~~~~~~~~~~~~~\u001b[m\u001b[K\n",
            "\u001b[01m\u001b[Ksrc/pyGrid.cpp:1037:10:\u001b[m\u001b[K \u001b[01;35m\u001b[Kwarning: \u001b[m\u001b[Kignoring return value of ‘\u001b[01m\u001b[Ksize_t fread(void*, size_t, size_t, FILE*)\u001b[m\u001b[K’, declared with attribute warn_unused_result [\u001b[01;35m\u001b[K-Wunused-result\u001b[m\u001b[K]\n",
            " 1037 |     \u001b[01;35m\u001b[Kfread(&ivary, sizeof(int), 1, phimap)\u001b[m\u001b[K;\n",
            "      |     \u001b[01;35m\u001b[K~~~~~^~~~~~~~~~~~~~~~~~~~~~~~~~~~~~~~\u001b[m\u001b[K\n",
            "\u001b[01m\u001b[Ksrc/pyGrid.cpp:1038:10:\u001b[m\u001b[K \u001b[01;35m\u001b[Kwarning: \u001b[m\u001b[Kignoring return value of ‘\u001b[01m\u001b[Ksize_t fread(void*, size_t, size_t, FILE*)\u001b[m\u001b[K’, declared with attribute warn_unused_result [\u001b[01;35m\u001b[K-Wunused-result\u001b[m\u001b[K]\n",
            " 1038 |     \u001b[01;35m\u001b[Kfread(&nbyte, sizeof(int), 1, phimap)\u001b[m\u001b[K;\n",
            "      |     \u001b[01;35m\u001b[K~~~~~^~~~~~~~~~~~~~~~~~~~~~~~~~~~~~~~\u001b[m\u001b[K\n",
            "\u001b[01m\u001b[Ksrc/pyGrid.cpp:1039:10:\u001b[m\u001b[K \u001b[01;35m\u001b[Kwarning: \u001b[m\u001b[Kignoring return value of ‘\u001b[01m\u001b[Ksize_t fread(void*, size_t, size_t, FILE*)\u001b[m\u001b[K’, declared with attribute warn_unused_result [\u001b[01;35m\u001b[K-Wunused-result\u001b[m\u001b[K]\n",
            " 1039 |     \u001b[01;35m\u001b[Kfread(&inddat, sizeof(int), 1, phimap)\u001b[m\u001b[K;\n",
            "      |     \u001b[01;35m\u001b[K~~~~~^~~~~~~~~~~~~~~~~~~~~~~~~~~~~~~~~\u001b[m\u001b[K\n",
            "\u001b[01m\u001b[Ksrc/pyGrid.cpp:1041:10:\u001b[m\u001b[K \u001b[01;35m\u001b[Kwarning: \u001b[m\u001b[Kignoring return value of ‘\u001b[01m\u001b[Ksize_t fread(void*, size_t, size_t, FILE*)\u001b[m\u001b[K’, declared with attribute warn_unused_result [\u001b[01;35m\u001b[K-Wunused-result\u001b[m\u001b[K]\n",
            " 1041 |     \u001b[01;35m\u001b[Kfread(&extent, sizeof(double), 1, phimap)\u001b[m\u001b[K;\n",
            "      |     \u001b[01;35m\u001b[K~~~~~^~~~~~~~~~~~~~~~~~~~~~~~~~~~~~~~~~~~\u001b[m\u001b[K\n",
            "\u001b[01m\u001b[Ksrc/pyGrid.cpp:1042:10:\u001b[m\u001b[K \u001b[01;35m\u001b[Kwarning: \u001b[m\u001b[Kignoring return value of ‘\u001b[01m\u001b[Ksize_t fread(void*, size_t, size_t, FILE*)\u001b[m\u001b[K’, declared with attribute warn_unused_result [\u001b[01;35m\u001b[K-Wunused-result\u001b[m\u001b[K]\n",
            " 1042 |     \u001b[01;35m\u001b[Kfread(&extent, sizeof(double), 1, phimap)\u001b[m\u001b[K;\n",
            "      |     \u001b[01;35m\u001b[K~~~~~^~~~~~~~~~~~~~~~~~~~~~~~~~~~~~~~~~~~\u001b[m\u001b[K\n",
            "\u001b[01m\u001b[Ksrc/pyGrid.cpp:1043:10:\u001b[m\u001b[K \u001b[01;35m\u001b[Kwarning: \u001b[m\u001b[Kignoring return value of ‘\u001b[01m\u001b[Ksize_t fread(void*, size_t, size_t, FILE*)\u001b[m\u001b[K’, declared with attribute warn_unused_result [\u001b[01;35m\u001b[K-Wunused-result\u001b[m\u001b[K]\n",
            " 1043 |     \u001b[01;35m\u001b[Kfread(&extent, sizeof(double), 1, phimap)\u001b[m\u001b[K;\n",
            "      |     \u001b[01;35m\u001b[K~~~~~^~~~~~~~~~~~~~~~~~~~~~~~~~~~~~~~~~~~\u001b[m\u001b[K\n",
            "\u001b[01m\u001b[Ksrc/pyGrid.cpp:1045:10:\u001b[m\u001b[K \u001b[01;35m\u001b[Kwarning: \u001b[m\u001b[Kignoring return value of ‘\u001b[01m\u001b[Ksize_t fread(void*, size_t, size_t, FILE*)\u001b[m\u001b[K’, declared with attribute warn_unused_result [\u001b[01;35m\u001b[K-Wunused-result\u001b[m\u001b[K]\n",
            " 1045 |     \u001b[01;35m\u001b[Kfread(&xang, sizeof(double), 1, phimap)\u001b[m\u001b[K;\n",
            "      |     \u001b[01;35m\u001b[K~~~~~^~~~~~~~~~~~~~~~~~~~~~~~~~~~~~~~~~\u001b[m\u001b[K\n",
            "\u001b[01m\u001b[Ksrc/pyGrid.cpp:1046:10:\u001b[m\u001b[K \u001b[01;35m\u001b[Kwarning: \u001b[m\u001b[Kignoring return value of ‘\u001b[01m\u001b[Ksize_t fread(void*, size_t, size_t, FILE*)\u001b[m\u001b[K’, declared with attribute warn_unused_result [\u001b[01;35m\u001b[K-Wunused-result\u001b[m\u001b[K]\n",
            " 1046 |     \u001b[01;35m\u001b[Kfread(&yang, sizeof(double), 1, phimap)\u001b[m\u001b[K;\n",
            "      |     \u001b[01;35m\u001b[K~~~~~^~~~~~~~~~~~~~~~~~~~~~~~~~~~~~~~~~\u001b[m\u001b[K\n",
            "\u001b[01m\u001b[Ksrc/pyGrid.cpp:1047:10:\u001b[m\u001b[K \u001b[01;35m\u001b[Kwarning: \u001b[m\u001b[Kignoring return value of ‘\u001b[01m\u001b[Ksize_t fread(void*, size_t, size_t, FILE*)\u001b[m\u001b[K’, declared with attribute warn_unused_result [\u001b[01;35m\u001b[K-Wunused-result\u001b[m\u001b[K]\n",
            " 1047 |     \u001b[01;35m\u001b[Kfread(&zang, sizeof(double), 1, phimap)\u001b[m\u001b[K;\n",
            "      |     \u001b[01;35m\u001b[K~~~~~^~~~~~~~~~~~~~~~~~~~~~~~~~~~~~~~~~\u001b[m\u001b[K\n",
            "\u001b[01m\u001b[Ksrc/pyGrid.cpp:1049:10:\u001b[m\u001b[K \u001b[01;35m\u001b[Kwarning: \u001b[m\u001b[Kignoring return value of ‘\u001b[01m\u001b[Ksize_t fread(void*, size_t, size_t, FILE*)\u001b[m\u001b[K’, declared with attribute warn_unused_result [\u001b[01;35m\u001b[K-Wunused-result\u001b[m\u001b[K]\n",
            " 1049 |     \u001b[01;35m\u001b[Kfread(&xstart, sizeof(double), 1, phimap)\u001b[m\u001b[K;\n",
            "      |     \u001b[01;35m\u001b[K~~~~~^~~~~~~~~~~~~~~~~~~~~~~~~~~~~~~~~~~~\u001b[m\u001b[K\n",
            "\u001b[01m\u001b[Ksrc/pyGrid.cpp:1050:10:\u001b[m\u001b[K \u001b[01;35m\u001b[Kwarning: \u001b[m\u001b[Kignoring return value of ‘\u001b[01m\u001b[Ksize_t fread(void*, size_t, size_t, FILE*)\u001b[m\u001b[K’, declared with attribute warn_unused_result [\u001b[01;35m\u001b[K-Wunused-result\u001b[m\u001b[K]\n",
            " 1050 |     \u001b[01;35m\u001b[Kfread(&xend, sizeof(double), 1, phimap)\u001b[m\u001b[K;\n",
            "      |     \u001b[01;35m\u001b[K~~~~~^~~~~~~~~~~~~~~~~~~~~~~~~~~~~~~~~~\u001b[m\u001b[K\n",
            "\u001b[01m\u001b[Ksrc/pyGrid.cpp:1052:10:\u001b[m\u001b[K \u001b[01;35m\u001b[Kwarning: \u001b[m\u001b[Kignoring return value of ‘\u001b[01m\u001b[Ksize_t fread(void*, size_t, size_t, FILE*)\u001b[m\u001b[K’, declared with attribute warn_unused_result [\u001b[01;35m\u001b[K-Wunused-result\u001b[m\u001b[K]\n",
            " 1052 |     \u001b[01;35m\u001b[Kfread(&ystart, sizeof(double), 1, phimap)\u001b[m\u001b[K;\n",
            "      |     \u001b[01;35m\u001b[K~~~~~^~~~~~~~~~~~~~~~~~~~~~~~~~~~~~~~~~~~\u001b[m\u001b[K\n",
            "\u001b[01m\u001b[Ksrc/pyGrid.cpp:1053:10:\u001b[m\u001b[K \u001b[01;35m\u001b[Kwarning: \u001b[m\u001b[Kignoring return value of ‘\u001b[01m\u001b[Ksize_t fread(void*, size_t, size_t, FILE*)\u001b[m\u001b[K’, declared with attribute warn_unused_result [\u001b[01;35m\u001b[K-Wunused-result\u001b[m\u001b[K]\n",
            " 1053 |     \u001b[01;35m\u001b[Kfread(&yend, sizeof(double), 1, phimap)\u001b[m\u001b[K;\n",
            "      |     \u001b[01;35m\u001b[K~~~~~^~~~~~~~~~~~~~~~~~~~~~~~~~~~~~~~~~\u001b[m\u001b[K\n",
            "\u001b[01m\u001b[Ksrc/pyGrid.cpp:1055:10:\u001b[m\u001b[K \u001b[01;35m\u001b[Kwarning: \u001b[m\u001b[Kignoring return value of ‘\u001b[01m\u001b[Ksize_t fread(void*, size_t, size_t, FILE*)\u001b[m\u001b[K’, declared with attribute warn_unused_result [\u001b[01;35m\u001b[K-Wunused-result\u001b[m\u001b[K]\n",
            " 1055 |     \u001b[01;35m\u001b[Kfread(&zstart, sizeof(double), 1, phimap)\u001b[m\u001b[K;\n",
            "      |     \u001b[01;35m\u001b[K~~~~~^~~~~~~~~~~~~~~~~~~~~~~~~~~~~~~~~~~~\u001b[m\u001b[K\n",
            "\u001b[01m\u001b[Ksrc/pyGrid.cpp:1056:10:\u001b[m\u001b[K \u001b[01;35m\u001b[Kwarning: \u001b[m\u001b[Kignoring return value of ‘\u001b[01m\u001b[Ksize_t fread(void*, size_t, size_t, FILE*)\u001b[m\u001b[K’, declared with attribute warn_unused_result [\u001b[01;35m\u001b[K-Wunused-result\u001b[m\u001b[K]\n",
            " 1056 |     \u001b[01;35m\u001b[Kfread(&zend, sizeof(double), 1, phimap)\u001b[m\u001b[K;\n",
            "      |     \u001b[01;35m\u001b[K~~~~~^~~~~~~~~~~~~~~~~~~~~~~~~~~~~~~~~~\u001b[m\u001b[K\n",
            "\u001b[01m\u001b[Ksrc/pyGrid.cpp:1058:10:\u001b[m\u001b[K \u001b[01;35m\u001b[Kwarning: \u001b[m\u001b[Kignoring return value of ‘\u001b[01m\u001b[Ksize_t fread(void*, size_t, size_t, FILE*)\u001b[m\u001b[K’, declared with attribute warn_unused_result [\u001b[01;35m\u001b[K-Wunused-result\u001b[m\u001b[K]\n",
            " 1058 |     \u001b[01;35m\u001b[Kfread(&intx, sizeof(int), 1, phimap)\u001b[m\u001b[K;\n",
            "      |     \u001b[01;35m\u001b[K~~~~~^~~~~~~~~~~~~~~~~~~~~~~~~~~~~~~\u001b[m\u001b[K\n",
            "\u001b[01m\u001b[Ksrc/pyGrid.cpp:1059:10:\u001b[m\u001b[K \u001b[01;35m\u001b[Kwarning: \u001b[m\u001b[Kignoring return value of ‘\u001b[01m\u001b[Ksize_t fread(void*, size_t, size_t, FILE*)\u001b[m\u001b[K’, declared with attribute warn_unused_result [\u001b[01;35m\u001b[K-Wunused-result\u001b[m\u001b[K]\n",
            " 1059 |     \u001b[01;35m\u001b[Kfread(&inty, sizeof(int), 1, phimap)\u001b[m\u001b[K;\n",
            "      |     \u001b[01;35m\u001b[K~~~~~^~~~~~~~~~~~~~~~~~~~~~~~~~~~~~~\u001b[m\u001b[K\n",
            "\u001b[01m\u001b[Ksrc/pyGrid.cpp:1060:10:\u001b[m\u001b[K \u001b[01;35m\u001b[Kwarning: \u001b[m\u001b[Kignoring return value of ‘\u001b[01m\u001b[Ksize_t fread(void*, size_t, size_t, FILE*)\u001b[m\u001b[K’, declared with attribute warn_unused_result [\u001b[01;35m\u001b[K-Wunused-result\u001b[m\u001b[K]\n",
            " 1060 |     \u001b[01;35m\u001b[Kfread(&intz, sizeof(int), 1, phimap)\u001b[m\u001b[K;\n",
            "      |     \u001b[01;35m\u001b[K~~~~~^~~~~~~~~~~~~~~~~~~~~~~~~~~~~~~\u001b[m\u001b[K\n",
            "\u001b[01m\u001b[Ksrc/pyGrid.cpp:1102:22:\u001b[m\u001b[K \u001b[01;35m\u001b[Kwarning: \u001b[m\u001b[Kignoring return value of ‘\u001b[01m\u001b[Ksize_t fread(void*, size_t, size_t, FILE*)\u001b[m\u001b[K’, declared with attribute warn_unused_result [\u001b[01;35m\u001b[K-Wunused-result\u001b[m\u001b[K]\n",
            " 1102 |                 \u001b[01;35m\u001b[Kfread(&phi, sizeof(double), 1, phimap)\u001b[m\u001b[K;\n",
            "      |                 \u001b[01;35m\u001b[K~~~~~^~~~~~~~~~~~~~~~~~~~~~~~~~~~~~~~~\u001b[m\u001b[K\n",
            "\u001b[01m\u001b[Ksrc/pyGrid.cpp:\u001b[m\u001b[K In member function ‘\u001b[01m\u001b[Kvoid Grid::load_phimap_from_file(int)\u001b[m\u001b[K’:\n",
            "\u001b[01m\u001b[Ksrc/pyGrid.cpp:1137:10:\u001b[m\u001b[K \u001b[01;35m\u001b[Kwarning: \u001b[m\u001b[Kignoring return value of ‘\u001b[01m\u001b[Ksize_t fread(void*, size_t, size_t, FILE*)\u001b[m\u001b[K’, declared with attribute warn_unused_result [\u001b[01;35m\u001b[K-Wunused-result\u001b[m\u001b[K]\n",
            " 1137 |     \u001b[01;35m\u001b[Kfread(&tmpi, sizeof(int), 1, phimap)\u001b[m\u001b[K;\n",
            "      |     \u001b[01;35m\u001b[K~~~~~^~~~~~~~~~~~~~~~~~~~~~~~~~~~~~~\u001b[m\u001b[K\n",
            "\u001b[01m\u001b[Ksrc/pyGrid.cpp:1146:10:\u001b[m\u001b[K \u001b[01;35m\u001b[Kwarning: \u001b[m\u001b[Kignoring return value of ‘\u001b[01m\u001b[Ksize_t fread(void*, size_t, size_t, FILE*)\u001b[m\u001b[K’, declared with attribute warn_unused_result [\u001b[01;35m\u001b[K-Wunused-result\u001b[m\u001b[K]\n",
            " 1146 |     \u001b[01;35m\u001b[Kfread(&tmpi, sizeof(int), 1, phimap)\u001b[m\u001b[K;\n",
            "      |     \u001b[01;35m\u001b[K~~~~~^~~~~~~~~~~~~~~~~~~~~~~~~~~~~~~\u001b[m\u001b[K\n",
            "\u001b[01m\u001b[Ksrc/pyGrid.cpp:1147:10:\u001b[m\u001b[K \u001b[01;35m\u001b[Kwarning: \u001b[m\u001b[Kignoring return value of ‘\u001b[01m\u001b[Ksize_t fread(void*, size_t, size_t, FILE*)\u001b[m\u001b[K’, declared with attribute warn_unused_result [\u001b[01;35m\u001b[K-Wunused-result\u001b[m\u001b[K]\n",
            " 1147 |     \u001b[01;35m\u001b[Kfread(&tmpi, sizeof(int), 1, phimap)\u001b[m\u001b[K;\n",
            "      |     \u001b[01;35m\u001b[K~~~~~^~~~~~~~~~~~~~~~~~~~~~~~~~~~~~~\u001b[m\u001b[K\n",
            "\u001b[01m\u001b[Ksrc/pyGrid.cpp:1163:10:\u001b[m\u001b[K \u001b[01;35m\u001b[Kwarning: \u001b[m\u001b[Kignoring return value of ‘\u001b[01m\u001b[Ksize_t fread(void*, size_t, size_t, FILE*)\u001b[m\u001b[K’, declared with attribute warn_unused_result [\u001b[01;35m\u001b[K-Wunused-result\u001b[m\u001b[K]\n",
            " 1163 |     \u001b[01;35m\u001b[Kfread(&tmpi, sizeof(int), 1, phimap)\u001b[m\u001b[K;\n",
            "      |     \u001b[01;35m\u001b[K~~~~~^~~~~~~~~~~~~~~~~~~~~~~~~~~~~~~\u001b[m\u001b[K\n",
            "\u001b[01m\u001b[Ksrc/pyGrid.cpp:1164:10:\u001b[m\u001b[K \u001b[01;35m\u001b[Kwarning: \u001b[m\u001b[Kignoring return value of ‘\u001b[01m\u001b[Ksize_t fread(void*, size_t, size_t, FILE*)\u001b[m\u001b[K’, declared with attribute warn_unused_result [\u001b[01;35m\u001b[K-Wunused-result\u001b[m\u001b[K]\n",
            " 1164 |     \u001b[01;35m\u001b[Kfread(&tmpi, sizeof(int), 1, phimap)\u001b[m\u001b[K;\n",
            "      |     \u001b[01;35m\u001b[K~~~~~^~~~~~~~~~~~~~~~~~~~~~~~~~~~~~~\u001b[m\u001b[K\n",
            "\u001b[01m\u001b[Ksrc/pyGrid.cpp:1186:22:\u001b[m\u001b[K \u001b[01;35m\u001b[Kwarning: \u001b[m\u001b[Kignoring return value of ‘\u001b[01m\u001b[Ksize_t fread(void*, size_t, size_t, FILE*)\u001b[m\u001b[K’, declared with attribute warn_unused_result [\u001b[01;35m\u001b[K-Wunused-result\u001b[m\u001b[K]\n",
            " 1186 |                 \u001b[01;35m\u001b[Kfread(&kt_phi, sizeof(float), 1, phimap)\u001b[m\u001b[K;\n",
            "      |                 \u001b[01;35m\u001b[K~~~~~^~~~~~~~~~~~~~~~~~~~~~~~~~~~~~~~~~~\u001b[m\u001b[K\n",
            "\u001b[01m\u001b[Ksrc/pyGrid.cpp:1192:10:\u001b[m\u001b[K \u001b[01;35m\u001b[Kwarning: \u001b[m\u001b[Kignoring return value of ‘\u001b[01m\u001b[Ksize_t fread(void*, size_t, size_t, FILE*)\u001b[m\u001b[K’, declared with attribute warn_unused_result [\u001b[01;35m\u001b[K-Wunused-result\u001b[m\u001b[K]\n",
            " 1192 |     \u001b[01;35m\u001b[Kfread(&tmpi, sizeof(int), 1, phimap)\u001b[m\u001b[K;\n",
            "      |     \u001b[01;35m\u001b[K~~~~~^~~~~~~~~~~~~~~~~~~~~~~~~~~~~~~\u001b[m\u001b[K\n",
            "\u001b[01m\u001b[Ksrc/pyGrid.cpp:1193:10:\u001b[m\u001b[K \u001b[01;35m\u001b[Kwarning: \u001b[m\u001b[Kignoring return value of ‘\u001b[01m\u001b[Ksize_t fread(void*, size_t, size_t, FILE*)\u001b[m\u001b[K’, declared with attribute warn_unused_result [\u001b[01;35m\u001b[K-Wunused-result\u001b[m\u001b[K]\n",
            " 1193 |     \u001b[01;35m\u001b[Kfread(&tmpi, sizeof(int), 1, phimap)\u001b[m\u001b[K;\n",
            "      |     \u001b[01;35m\u001b[K~~~~~^~~~~~~~~~~~~~~~~~~~~~~~~~~~~~~\u001b[m\u001b[K\n",
            "\u001b[01m\u001b[Ksrc/pyGrid.cpp:1202:10:\u001b[m\u001b[K \u001b[01;35m\u001b[Kwarning: \u001b[m\u001b[Kignoring return value of ‘\u001b[01m\u001b[Ksize_t fread(void*, size_t, size_t, FILE*)\u001b[m\u001b[K’, declared with attribute warn_unused_result [\u001b[01;35m\u001b[K-Wunused-result\u001b[m\u001b[K]\n",
            " 1202 |     \u001b[01;35m\u001b[Kfread(&tmpi, sizeof(int), 1, phimap)\u001b[m\u001b[K;\n",
            "      |     \u001b[01;35m\u001b[K~~~~~^~~~~~~~~~~~~~~~~~~~~~~~~~~~~~~\u001b[m\u001b[K\n",
            "\u001b[01m\u001b[Ksrc/pyGrid.cpp:1203:10:\u001b[m\u001b[K \u001b[01;35m\u001b[Kwarning: \u001b[m\u001b[Kignoring return value of ‘\u001b[01m\u001b[Ksize_t fread(void*, size_t, size_t, FILE*)\u001b[m\u001b[K’, declared with attribute warn_unused_result [\u001b[01;35m\u001b[K-Wunused-result\u001b[m\u001b[K]\n",
            " 1203 |     \u001b[01;35m\u001b[Kfread(&tmpi, sizeof(int), 1, phimap)\u001b[m\u001b[K;\n",
            "      |     \u001b[01;35m\u001b[K~~~~~^~~~~~~~~~~~~~~~~~~~~~~~~~~~~~~\u001b[m\u001b[K\n",
            "\u001b[01m\u001b[Ksrc/pyGrid.cpp:1210:10:\u001b[m\u001b[K \u001b[01;35m\u001b[Kwarning: \u001b[m\u001b[Kignoring return value of ‘\u001b[01m\u001b[Ksize_t fread(void*, size_t, size_t, FILE*)\u001b[m\u001b[K’, declared with attribute warn_unused_result [\u001b[01;35m\u001b[K-Wunused-result\u001b[m\u001b[K]\n",
            " 1210 |     \u001b[01;35m\u001b[Kfread(&scale, sizeof(float), 1, phimap)\u001b[m\u001b[K;\n",
            "      |     \u001b[01;35m\u001b[K~~~~~^~~~~~~~~~~~~~~~~~~~~~~~~~~~~~~~~~\u001b[m\u001b[K\n",
            "\u001b[01m\u001b[Ksrc/pyGrid.cpp:1211:10:\u001b[m\u001b[K \u001b[01;35m\u001b[Kwarning: \u001b[m\u001b[Kignoring return value of ‘\u001b[01m\u001b[Ksize_t fread(void*, size_t, size_t, FILE*)\u001b[m\u001b[K’, declared with attribute warn_unused_result [\u001b[01;35m\u001b[K-Wunused-result\u001b[m\u001b[K]\n",
            " 1211 |     \u001b[01;35m\u001b[Kfread(&oldmid_x, sizeof(float), 1, phimap)\u001b[m\u001b[K;\n",
            "      |     \u001b[01;35m\u001b[K~~~~~^~~~~~~~~~~~~~~~~~~~~~~~~~~~~~~~~~~~~\u001b[m\u001b[K\n",
            "\u001b[01m\u001b[Ksrc/pyGrid.cpp:1212:10:\u001b[m\u001b[K \u001b[01;35m\u001b[Kwarning: \u001b[m\u001b[Kignoring return value of ‘\u001b[01m\u001b[Ksize_t fread(void*, size_t, size_t, FILE*)\u001b[m\u001b[K’, declared with attribute warn_unused_result [\u001b[01;35m\u001b[K-Wunused-result\u001b[m\u001b[K]\n",
            " 1212 |     \u001b[01;35m\u001b[Kfread(&oldmid_y, sizeof(float), 1, phimap)\u001b[m\u001b[K;\n",
            "      |     \u001b[01;35m\u001b[K~~~~~^~~~~~~~~~~~~~~~~~~~~~~~~~~~~~~~~~~~~\u001b[m\u001b[K\n",
            "\u001b[01m\u001b[Ksrc/pyGrid.cpp:1213:10:\u001b[m\u001b[K \u001b[01;35m\u001b[Kwarning: \u001b[m\u001b[Kignoring return value of ‘\u001b[01m\u001b[Ksize_t fread(void*, size_t, size_t, FILE*)\u001b[m\u001b[K’, declared with attribute warn_unused_result [\u001b[01;35m\u001b[K-Wunused-result\u001b[m\u001b[K]\n",
            " 1213 |     \u001b[01;35m\u001b[Kfread(&oldmid_z, sizeof(float), 1, phimap)\u001b[m\u001b[K;\n",
            "      |     \u001b[01;35m\u001b[K~~~~~^~~~~~~~~~~~~~~~~~~~~~~~~~~~~~~~~~~~~\u001b[m\u001b[K\n",
            "\u001b[01m\u001b[Ksrc/pyGrid.cpp:1214:10:\u001b[m\u001b[K \u001b[01;35m\u001b[Kwarning: \u001b[m\u001b[Kignoring return value of ‘\u001b[01m\u001b[Ksize_t fread(void*, size_t, size_t, FILE*)\u001b[m\u001b[K’, declared with attribute warn_unused_result [\u001b[01;35m\u001b[K-Wunused-result\u001b[m\u001b[K]\n",
            " 1214 |     \u001b[01;35m\u001b[Kfread(&igrid, sizeof(int), 1, phimap)\u001b[m\u001b[K;\n",
            "      |     \u001b[01;35m\u001b[K~~~~~^~~~~~~~~~~~~~~~~~~~~~~~~~~~~~~~\u001b[m\u001b[K\n",
            "\u001b[01m\u001b[Ksrc/pyGrid.cpp:\u001b[m\u001b[K In member function ‘\u001b[01m\u001b[Kvoid Grid::load_delphi_cube()\u001b[m\u001b[K’:\n",
            "\u001b[01m\u001b[Ksrc/pyGrid.cpp:1258:11:\u001b[m\u001b[K \u001b[01;35m\u001b[Kwarning: \u001b[m\u001b[Kignoring return value of ‘\u001b[01m\u001b[Kint fscanf(FILE*, const char*, ...)\u001b[m\u001b[K’, declared with attribute warn_unused_result [\u001b[01;35m\u001b[K-Wunused-result\u001b[m\u001b[K]\n",
            " 1258 |     \u001b[01;35m\u001b[Kfscanf(phimap, \"%f %d %f %f %f\", &scale, &igrid, &centerx, &centery, &centerz)\u001b[m\u001b[K;\n",
            "      |     \u001b[01;35m\u001b[K~~~~~~^~~~~~~~~~~~~~~~~~~~~~~~~~~~~~~~~~~~~~~~~~~~~~~~~~~~~~~~~~~~~~~~~~~~~~~~\u001b[m\u001b[K\n",
            "\u001b[01m\u001b[Ksrc/pyGrid.cpp:1272:10:\u001b[m\u001b[K \u001b[01;35m\u001b[Kwarning: \u001b[m\u001b[Kignoring return value of ‘\u001b[01m\u001b[Kchar* fgets(char*, int, FILE*)\u001b[m\u001b[K’, declared with attribute warn_unused_result [\u001b[01;35m\u001b[K-Wunused-result\u001b[m\u001b[K]\n",
            " 1272 |     \u001b[01;35m\u001b[Kfgets(str, 80, phimap)\u001b[m\u001b[K;\n",
            "      |     \u001b[01;35m\u001b[K~~~~~^~~~~~~~~~~~~~~~~\u001b[m\u001b[K\n",
            "\u001b[01m\u001b[Ksrc/pyGrid.cpp:1273:10:\u001b[m\u001b[K \u001b[01;35m\u001b[Kwarning: \u001b[m\u001b[Kignoring return value of ‘\u001b[01m\u001b[Kchar* fgets(char*, int, FILE*)\u001b[m\u001b[K’, declared with attribute warn_unused_result [\u001b[01;35m\u001b[K-Wunused-result\u001b[m\u001b[K]\n",
            " 1273 |     \u001b[01;35m\u001b[Kfgets(str, 80, phimap)\u001b[m\u001b[K;\n",
            "      |     \u001b[01;35m\u001b[K~~~~~^~~~~~~~~~~~~~~~~\u001b[m\u001b[K\n",
            "\u001b[01m\u001b[Ksrc/pyGrid.cpp:1274:11:\u001b[m\u001b[K \u001b[01;35m\u001b[Kwarning: \u001b[m\u001b[Kignoring return value of ‘\u001b[01m\u001b[Kint fscanf(FILE*, const char*, ...)\u001b[m\u001b[K’, declared with attribute warn_unused_result [\u001b[01;35m\u001b[K-Wunused-result\u001b[m\u001b[K]\n",
            " 1274 |     \u001b[01;35m\u001b[Kfscanf(phimap, \"%d %f %f %f\", &itmp, &dtmp, &dtmp, &dtmp)\u001b[m\u001b[K;\n",
            "      |     \u001b[01;35m\u001b[K~~~~~~^~~~~~~~~~~~~~~~~~~~~~~~~~~~~~~~~~~~~~~~~~~~~~~~~~~\u001b[m\u001b[K\n",
            "\u001b[01m\u001b[Ksrc/pyGrid.cpp:1275:11:\u001b[m\u001b[K \u001b[01;35m\u001b[Kwarning: \u001b[m\u001b[Kignoring return value of ‘\u001b[01m\u001b[Kint fscanf(FILE*, const char*, ...)\u001b[m\u001b[K’, declared with attribute warn_unused_result [\u001b[01;35m\u001b[K-Wunused-result\u001b[m\u001b[K]\n",
            " 1275 |     \u001b[01;35m\u001b[Kfscanf(phimap, \"%d %f %f %f\", &itmp, &dtmp, &dtmp, &dtmp)\u001b[m\u001b[K;\n",
            "      |     \u001b[01;35m\u001b[K~~~~~~^~~~~~~~~~~~~~~~~~~~~~~~~~~~~~~~~~~~~~~~~~~~~~~~~~~\u001b[m\u001b[K\n",
            "\u001b[01m\u001b[Ksrc/pyGrid.cpp:1276:11:\u001b[m\u001b[K \u001b[01;35m\u001b[Kwarning: \u001b[m\u001b[Kignoring return value of ‘\u001b[01m\u001b[Kint fscanf(FILE*, const char*, ...)\u001b[m\u001b[K’, declared with attribute warn_unused_result [\u001b[01;35m\u001b[K-Wunused-result\u001b[m\u001b[K]\n",
            " 1276 |     \u001b[01;35m\u001b[Kfscanf(phimap, \"%d %f %f %f\", &itmp, &dtmp, &dtmp, &dtmp)\u001b[m\u001b[K;\n",
            "      |     \u001b[01;35m\u001b[K~~~~~~^~~~~~~~~~~~~~~~~~~~~~~~~~~~~~~~~~~~~~~~~~~~~~~~~~~\u001b[m\u001b[K\n",
            "\u001b[01m\u001b[Ksrc/pyGrid.cpp:1277:11:\u001b[m\u001b[K \u001b[01;35m\u001b[Kwarning: \u001b[m\u001b[Kignoring return value of ‘\u001b[01m\u001b[Kint fscanf(FILE*, const char*, ...)\u001b[m\u001b[K’, declared with attribute warn_unused_result [\u001b[01;35m\u001b[K-Wunused-result\u001b[m\u001b[K]\n",
            " 1277 |     \u001b[01;35m\u001b[Kfscanf(phimap, \"%d %f %f %f\", &itmp, &dtmp, &dtmp, &dtmp)\u001b[m\u001b[K;\n",
            "      |     \u001b[01;35m\u001b[K~~~~~~^~~~~~~~~~~~~~~~~~~~~~~~~~~~~~~~~~~~~~~~~~~~~~~~~~~\u001b[m\u001b[K\n",
            "\u001b[01m\u001b[Ksrc/pyGrid.cpp:1278:11:\u001b[m\u001b[K \u001b[01;35m\u001b[Kwarning: \u001b[m\u001b[Kignoring return value of ‘\u001b[01m\u001b[Kint fscanf(FILE*, const char*, ...)\u001b[m\u001b[K’, declared with attribute warn_unused_result [\u001b[01;35m\u001b[K-Wunused-result\u001b[m\u001b[K]\n",
            " 1278 |     \u001b[01;35m\u001b[Kfscanf(phimap, \"%d %f %f %f %f\", &itmp, &dtmp, &dtmp, &dtmp, &dtmp)\u001b[m\u001b[K;\n",
            "      |     \u001b[01;35m\u001b[K~~~~~~^~~~~~~~~~~~~~~~~~~~~~~~~~~~~~~~~~~~~~~~~~~~~~~~~~~~~~~~~~~~~\u001b[m\u001b[K\n",
            "\u001b[01m\u001b[Ksrc/pyGrid.cpp:1295:23:\u001b[m\u001b[K \u001b[01;35m\u001b[Kwarning: \u001b[m\u001b[Kignoring return value of ‘\u001b[01m\u001b[Kint fscanf(FILE*, const char*, ...)\u001b[m\u001b[K’, declared with attribute warn_unused_result [\u001b[01;35m\u001b[K-Wunused-result\u001b[m\u001b[K]\n",
            " 1295 |                 \u001b[01;35m\u001b[Kfscanf(phimap, \"%f\", &phi)\u001b[m\u001b[K;\n",
            "      |                 \u001b[01;35m\u001b[K~~~~~~^~~~~~~~~~~~~~~~~~~~\u001b[m\u001b[K\n",
            "Makefile  obj  pyGrid.so  sample_data  src\n"
          ]
        }
      ]
    },
    {
      "cell_type": "code",
      "source": [
        "from pyGrid import *"
      ],
      "metadata": {
        "id": "JnBBfHnDWNba"
      },
      "execution_count": 3,
      "outputs": []
    },
    {
      "cell_type": "code",
      "source": [
        "!rm -rf *.so\n",
        "!ls\n",
        "exit()\n",
        "#from pyPARSER import *"
      ],
      "metadata": {
        "colab": {
          "base_uri": "https://localhost:8080/"
        },
        "id": "dvnyoUjKRjv_",
        "outputId": "60647d1e-810f-4524-be7e-14b7b29fa35f"
      },
      "execution_count": 7,
      "outputs": [
        {
          "output_type": "stream",
          "name": "stdout",
          "text": [
            "Makefile  obj  sample_data  src\n"
          ]
        }
      ]
    }
  ]
}