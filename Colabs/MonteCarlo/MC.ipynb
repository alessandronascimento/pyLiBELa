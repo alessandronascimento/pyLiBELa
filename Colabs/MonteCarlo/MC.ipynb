{
  "nbformat": 4,
  "nbformat_minor": 0,
  "metadata": {
    "colab": {
      "provenance": [],
      "authorship_tag": "ABX9TyMPHAFmX7LXsrObV9KN70fx",
      "include_colab_link": true
    },
    "kernelspec": {
      "name": "python3",
      "display_name": "Python 3"
    },
    "language_info": {
      "name": "python"
    }
  },
  "cells": [
    {
      "cell_type": "markdown",
      "metadata": {
        "id": "view-in-github",
        "colab_type": "text"
      },
      "source": [
        "<a href=\"https://colab.research.google.com/github/alessandronascimento/pyLiBELa/blob/main/Colabs/MonteCarlo/MC.ipynb\" target=\"_parent\"><img src=\"https://colab.research.google.com/assets/colab-badge.svg\" alt=\"Open In Colab\"/></a>"
      ]
    },
    {
      "cell_type": "markdown",
      "source": [
        "# Monte Carlo Simulations with LiBELa #\n",
        "\n",
        "This Colab uses pyLiBELa for Monte Carlo simulations. In this simulations, the ligand is samples in a Metropolis MC scheme bound in a protein active site.\n",
        "\n",
        "The required files are:\n",
        "* a protein structure in MOL2 format;\n",
        "* a ligand structure in MOL2 format;\n"
      ],
      "metadata": {
        "id": "Ll1z6EDpyOA7"
      }
    },
    {
      "cell_type": "code",
      "source": [
        "#@title Downloading dependencies {display-mode: \"form\"}\n",
        "\n",
        "%%capture\n",
        "! apt-get install python-dev-is-python3 zlib1g-dev libeigen3-dev libgsl-dev libnlopt-cxx-dev libgsl-dev\n",
        "!pip install ipython-autotime\n",
        "%load_ext autotime\n",
        "!pip3 install condacolab\n",
        "import condacolab\n",
        "import timeit\n",
        "from google.colab import files\n",
        "condacolab.install()\n",
        "!mamba install openbabel"
      ],
      "metadata": {
        "colab": {
          "base_uri": "https://localhost:8080/"
        },
        "id": "cozdVI3zyOLT",
        "outputId": "cc152165-3a9d-437b-d05f-a219a4a63981"
      },
      "execution_count": 1,
      "outputs": [
        {
          "output_type": "stream",
          "name": "stdout",
          "text": [
            "time: 4.64 s (started: 2023-10-03 19:02:40 +00:00)\n"
          ]
        }
      ]
    },
    {
      "cell_type": "code",
      "source": [
        "#@title Installing pyLiBELa {display-mode: \"form\"}\n",
        "\n",
        "%%capture\n",
        "! git clone https://github.com/alessandronascimento/pyLiBELa.git\n",
        "! mv pyLiBELa/src src\n",
        "! mv pyLiBELa/test test\n",
        "! rm -rf pyLiBELa\n",
        "! mkdir -p obj\n",
        "! rm -f Makefile*\n",
        "! wget https://raw.githubusercontent.com/alessandronascimento/pyLiBELa/main/Colabs/Makefile\n",
        "! make -j2"
      ],
      "metadata": {
        "id": "5m1qcvD-yTUK"
      },
      "execution_count": null,
      "outputs": []
    },
    {
      "cell_type": "code",
      "source": [
        "#@title Importing pyLiBELa {display-mode: \"form\"}\n",
        "try:\n",
        "  from pyPARSER import *\n",
        "  from pyMol2 import *\n",
        "  from pyWRITER import *\n",
        "  from pyGrid import *\n",
        "  from pyCOORD_MC import *\n",
        "  from pyFindHB import *\n",
        "  from pyEnergy2 import *\n",
        "  from pyGaussian import *\n",
        "  from pyConformer import *\n",
        "  from pyRAND import *\n",
        "  from pyMcEntropy import *\n",
        "  from pySA import *\n",
        "  from pyOptimizer import *\n",
        "  from pyMC import *\n",
        "  from pyFullSearch import *\n",
        "  from pyDocker import *\n",
        "  print('pyLiBELa is imported!')\n",
        "except ImportError:\n",
        "  print('An ImportError occurred, try running this cell again!')"
      ],
      "metadata": {
        "id": "cOe7yGEJyaFa"
      },
      "execution_count": null,
      "outputs": []
    },
    {
      "cell_type": "code",
      "source": [
        "#@title Upload Receptor File {display-mode: \"form\"}\n",
        "\n",
        "rec_upload = files.upload()\n",
        "printf(\"File {name} uploaded!\".format(name=rec_upload.keys()[0]))\n",
        "rec_file=rec_upload.keys()[0]"
      ],
      "metadata": {
        "id": "FsUTexIszJas"
      },
      "execution_count": null,
      "outputs": []
    },
    {
      "cell_type": "code",
      "source": [
        "#@title Upload Ligand File {display-mode: \"form\"}\n",
        "\n",
        "lig_upload = files.upload()\n",
        "printf(\"File {name} uploaded!\".format(name=lig_upload.keys()[0]))\n",
        "lig_file=lig_upload.keys()[0]"
      ],
      "metadata": {
        "id": "VBq5RUSV0h2g"
      },
      "execution_count": null,
      "outputs": []
    },
    {
      "cell_type": "code",
      "source": [
        "Input = PARSER()\n",
        "\n",
        "# Some default options:\n",
        "# 1. We are using two processors for Grid calculations;\n",
        "#\n",
        "\n",
        "Input.generate_conformers = True;\n",
        "Input.dock_parallel = True;\n",
        "Input.parallel_jobs = 2;\n",
        "Input.eq_mode = True;\n",
        "Input.write_grids = True\n",
        "Input.use_grids = True\n",
        "Input.write_mol2 = False\n",
        "Input.atom_limit = 100\n",
        "    #atom limit not counting H\n",
        "\n",
        "# Energy Calculation Parameters:\n",
        "scoring_function = \"0\" #@param [\"0\", \"1\", \"2\", \"3\"]\n",
        "Input.dielectric_model = \"r\" #@param [\"r\", \"constant\"]\n",
        "Input.scoring_function = int(scoring_function)\n",
        "grid_dimension = 30.0 #@param {type:\"number\"}\n",
        "Input.grid_spacing = 0.4 #@param {type:\"number\"}\n",
        "Input.solvation_alpha = 0.1 #@param {type:\"number\"}\n",
        "Input.solvation_beta = -0.005 #@param {type:\"number\"}\n",
        "\n",
        "# Optimization parameter:\n",
        "Input.min_tol = 1E-5;\n",
        "Input.min_delta = 1E-3;\n",
        "Input.dock_min_tol = 1E-5;\n",
        "search_box = 20.0 #@param {type:\"number\"}\n",
        "Input.timeout = 20\n",
        "Input.min_timeout = 20\n",
        "Input.overlay_optimizer = \"mma\"\n",
        "Input.energy_optimizer = \"mma\"\n",
        "if (Input.scoring_function < 3):\n",
        "  delta = 2.5 #@param {type:\"number\"}\n",
        "  Input.deltaij6 = (delta*delta*delta*delta*delta*delta)\n",
        "  delta_es = 2.5 #@param {type:\"number\"}\n",
        "  Input.deltaij_es6 = pow(delta_es, 6);\n",
        "  Input.deltaij_es3 = (delta_es*delta_es*delta_es)\n",
        "\n",
        "Input.number_steps=20000000 #@param {type:\"number\"}\n",
        "Input.temperature=300.0 #@param {type:\"number\"}\n",
        "Input.rotation_step=1.25 #@param {type:\"number\"}\n",
        "Input.torsion_step=1.25 #@param {type:\"number\"}\n",
        "Input.sample_torsions=True;\n",
        "Input.eq_steps=1000000 #@param {type:\"number\"}\n",
        "Input.ligsim=True;\n",
        "Input.mc_stride=100000 #@param {type:\"number\"}\n",
        "Input.seed=1423 #@param {type:\"number\"}\n",
        "Input.output=\"MC\" # @param {type:\"string\"}\n",
        "Input.generate_conformers=False;\n",
        "\n",
        "\n",
        "\n",
        "Input.search_box_x, Input.search_box_y, Input.search_box_z = search_box, search_box, search_box;\n",
        "Input.x_dim, Input.y_dim, Input.z_dim = grid_dimension, grid_dimension, grid_dimension;\n"
      ],
      "metadata": {
        "id": "Di3LN30Uyeks"
      },
      "execution_count": null,
      "outputs": []
    },
    {
      "cell_type": "code",
      "source": [
        "Rec = Mol2(Input, rec_file)\n",
        "Lig = Mol2(Input, lig_file)\n",
        "Writer = WRITER(Input)\n",
        "Coord = COORD_MC()\n",
        "center = Coord.compute_com(Lig)\n",
        "Grids = Grid(Input,Writer, Rec, center)\n",
        "EqMC = MC(Lig, Input, Writer)\n",
        "EqMC.run(Grids, Lig, Lig, Lig.xyz, Input, Input.temp)\n",
        "if (Input.ligsim):\n",
        "  EqMC.ligand_run(Lig, Lig, Lig.xyz, Input, Input.temp)\n",
        "\n",
        "\n",
        "print()\n",
        "print()\n",
        "print(\"Final Binding Energies:\")\n",
        "print(\"     DeltaU = <Ebound> - <Efree> = %7.3f kcal/mol\" % EqMC.average_deltaE)\n",
        "print(\"     TdS = - (<TSbound> - <TSfree>) = %7.3f kcal/mol\" % (EqMC.boundTS-EqMC.freeTS));\n",
        "print(\"     Binding Energy = <dU> - TdS = %7.3f kcal/mol\" % (EqMC.average_deltaE - (EqMC.boundTS-EqMC.freeTS)));\n",
        "print()\n",
        "print()"
      ],
      "metadata": {
        "id": "pu1gNQ5D3KDs"
      },
      "execution_count": null,
      "outputs": []
    }
  ]
}