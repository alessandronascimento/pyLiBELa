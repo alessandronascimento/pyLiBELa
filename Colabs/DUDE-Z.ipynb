{
  "nbformat": 4,
  "nbformat_minor": 0,
  "metadata": {
    "colab": {
      "provenance": [],
      "include_colab_link": true
    },
    "kernelspec": {
      "name": "python3",
      "display_name": "Python 3"
    },
    "language_info": {
      "name": "python"
    }
  },
  "cells": [
    {
      "cell_type": "markdown",
      "metadata": {
        "id": "view-in-github",
        "colab_type": "text"
      },
      "source": [
        "<a href=\"https://colab.research.google.com/github/alessandronascimento/pyLiBELa/blob/main/Colabs/DUDE-Z.ipynb\" target=\"_parent\"><img src=\"https://colab.research.google.com/assets/colab-badge.svg\" alt=\"Open In Colab\"/></a>"
      ]
    },
    {
      "cell_type": "code",
      "source": [
        "#@title Downloading dependencies {display-mode: \"form\"}\n",
        "\n",
        "%%capture\n",
        "! apt-get install python-dev-is-python3 zlib1g-dev libeigen3-dev libgsl-dev libnlopt-cxx-dev libgsl-dev\n",
        "!pip install ipython-autotime\n",
        "%load_ext autotime\n",
        "!pip3 install condacolab\n",
        "import condacolab\n",
        "import timeit\n",
        "import os\n",
        "import timeit\n",
        "import numpy as np\n",
        "from google.colab import drive\n",
        "import matplotlib.pyplot as plt\n",
        "condacolab.install()\n",
        "!mamba install openbabel"
      ],
      "metadata": {
        "id": "0NP7rjKJLKWC",
        "colab": {
          "base_uri": "https://localhost:8080/"
        },
        "outputId": "d3c005dd-4240-403f-e915-9028455466dd"
      },
      "execution_count": null,
      "outputs": [
        {
          "output_type": "stream",
          "name": "stdout",
          "text": [
            "time: 4.53 s (started: 2023-10-04 16:19:38 +00:00)\n"
          ]
        }
      ]
    },
    {
      "cell_type": "code",
      "source": [
        "#@title Installing pyLiBELa {display-mode: \"form\"}\n",
        "\n",
        "%%capture\n",
        "! git clone https://github.com/alessandronascimento/pyLiBELa.git\n",
        "! mv pyLiBELa/src src\n",
        "! mv pyLiBELa/test test\n",
        "! rm -rf pyLiBELa\n",
        "! mkdir -p obj\n",
        "! rm -f Makefile*\n",
        "! wget https://raw.githubusercontent.com/alessandronascimento/pyLiBELa/main/Colabs/Makefile\n",
        "! make -j2"
      ],
      "metadata": {
        "id": "ofZ9ZY0uvuDM",
        "outputId": "e5897584-a250-4113-829d-5bf95049733b",
        "colab": {
          "base_uri": "https://localhost:8080/"
        }
      },
      "execution_count": null,
      "outputs": [
        {
          "output_type": "stream",
          "name": "stdout",
          "text": [
            "time: 3min 14s (started: 2023-10-04 16:20:22 +00:00)\n"
          ]
        }
      ]
    },
    {
      "cell_type": "code",
      "execution_count": null,
      "metadata": {
        "id": "mmqpdtV1CU49",
        "colab": {
          "base_uri": "https://localhost:8080/"
        },
        "outputId": "0c43bf72-71c5-4f09-fad4-4afff62f60bf"
      },
      "outputs": [
        {
          "output_type": "stream",
          "name": "stdout",
          "text": [
            "pyLiBELa is imported!\n",
            "time: 8.99 s (started: 2023-10-04 16:23:36 +00:00)\n"
          ]
        }
      ],
      "source": [
        "#@title Importing pyLiBELa {display-mode: \"form\"}\n",
        "try:\n",
        "  from pyPARSER import *\n",
        "  from pyMol2 import *\n",
        "  from pyWRITER import *\n",
        "  from pyGrid import *\n",
        "  from pyCOORD_MC import *\n",
        "  from pyFindHB import *\n",
        "  from pyEnergy2 import *\n",
        "  from pyGaussian import *\n",
        "  from pyConformer import *\n",
        "  from pyRAND import *\n",
        "  from pyMcEntropy import *\n",
        "  from pySA import *\n",
        "  from pyOptimizer import *\n",
        "  from pyMC import *\n",
        "  from pyFullSearch import *\n",
        "  from pyDocker import *\n",
        "  print('pyLiBELa is imported!')\n",
        "except ImportError:\n",
        "  print('An ImportError occurred, try running this cell again!')"
      ]
    },
    {
      "cell_type": "code",
      "source": [
        "folder = \"/content/gdrive/MyDrive/Projects_Data/LiBELa/DUDE-Z\" # @param {type:\"string\"}\n",
        "\n",
        "drive.mount('/content/gdrive')\n",
        "%cd $folder\n",
        "%cd scripts\n",
        "tlist = open('targets.dat', 'r')\n",
        "targets=[]\n",
        "for line in tlist:\n",
        "  targets.append(line)\n",
        "tlist.close()\n"
      ],
      "metadata": {
        "colab": {
          "base_uri": "https://localhost:8080/"
        },
        "id": "vCjLETjxXuRA",
        "outputId": "5847afe3-bb02-4846-f20c-255c4c92003b"
      },
      "execution_count": null,
      "outputs": [
        {
          "output_type": "stream",
          "name": "stdout",
          "text": [
            "Mounted at /gdrive\n",
            "/gdrive/MyDrive/Projects_Data/LiBELa/DUDE-Z\n",
            "/gdrive/MyDrive/Projects_Data/LiBELa/DUDE-Z/scripts\n",
            "time: 34 s (started: 2023-10-04 16:19:46 +00:00)\n"
          ]
        }
      ]
    },
    {
      "cell_type": "code",
      "source": [
        "#@title Docking parameters {display-mode: \"form\"}\n",
        "\n",
        "Input = PARSER()\n",
        "\n",
        "# Some default options:\n",
        "# 1. We are using two processors for Grid calculations;\n",
        "#\n",
        "\n",
        "Input.generate_conformers = True;\n",
        "Input.dock_parallel = True;\n",
        "Input.parallel_jobs = 2;\n",
        "Input.write_grids = False;\n",
        "Input.use_grids = True\n",
        "Input.grid_prefix='McGrid'\n",
        "Input.load_grid_from_file = True;\n",
        "Input.write_mol2 = False\n",
        "Input.atom_limit = 100 #@param {type:\"number\"}\n",
        "    #atom limit not counting H\n",
        "\n",
        "# Energy Calculation Parameters:\n",
        "scoring_function = \"0\" #@param [\"0\", \"1\", \"2\", \"3\"]\n",
        "Input.dielectric_model = \"r\" #@param [\"r\", \"constant\"]\n",
        "Input.scoring_function = int(scoring_function)\n",
        "grid_dimension = 30.0 #@param {type:\"number\"}\n",
        "Input.grid_spacing = 0.4 #@param {type:\"number\"}\n",
        "Input.solvation_alpha = 0.1 #@param {type:\"number\"}\n",
        "Input.solvation_beta = -0.005 #@param {type:\"number\"}\n",
        "\n",
        "# Optimization parameter:\n",
        "Input.min_tol = 1E-5;\n",
        "Input.min_delta = 1E-3;\n",
        "Input.dock_min_tol = 1E-5;\n",
        "search_box = 20.0 #@param {type:\"number\"}\n",
        "Input.timeout = 20 #@param {type:\"number\"}\n",
        "Input.min_timeout = 20 #@param {type:\"number\"}\n",
        "Input.overlay_optimizer = \"mma\" #@param [\"mma\", \"ln_auglag\", \"subplex\", \"none\"]\n",
        "Input.energy_optimizer = \"mma\" #@param [\"direct\", \"isres\", \"crs\", \"esch\", \"stogo\", \"mma\", \"simplex\", \"none\"]\n",
        "if (Input.scoring_function < 3):\n",
        "  delta = 2.5 #@param {type:\"number\"}\n",
        "  Input.deltaij6 = (delta*delta*delta*delta*delta*delta)\n",
        "  delta_es = 2.5 #@param {type:\"number\"}\n",
        "  Input.deltaij_es6 = pow(delta_es, 6);\n",
        "  Input.deltaij_es3 = (delta_es*delta_es*delta_es)\n",
        "\n",
        "Input.search_box_x, Input.search_box_y, Input.search_box_z = search_box, search_box, search_box;\n",
        "Input.x_dim, Input.y_dim, Input.z_dim = grid_dimension, grid_dimension, grid_dimension;\n",
        "\n",
        "Input.use_overlay_cutoff = True # @param {type:\"boolean\"}\n",
        "Input.overlay_cutoff = 0.6 #@param {type:\"number\"}\n",
        "Input.use_smiles = True;"
      ],
      "metadata": {
        "id": "bBiFwd-WIDdw",
        "colab": {
          "base_uri": "https://localhost:8080/"
        },
        "outputId": "df030adc-2746-4fe7-d87b-51565b70537b"
      },
      "execution_count": null,
      "outputs": [
        {
          "output_type": "stream",
          "name": "stdout",
          "text": [
            "time: 6.99 ms (started: 2023-10-04 16:23:45 +00:00)\n"
          ]
        }
      ]
    },
    {
      "cell_type": "code",
      "source": [
        "\n",
        "#@title Reading molecular files and Docking {display-mode: \"form\"}\n",
        "\n",
        "targets=['GLCM']\n",
        "\n",
        "for target in (targets):\n",
        "  %cd $folder/targets/$target\n",
        "  !mkdir -p SF0_mma\n",
        "  %cd SF0_mma\n",
        "  base_prefix=target;\n",
        "\n",
        "# get the list of multimol files\n",
        "  multimol_list=[]\n",
        "  for item in os.listdir('../'):\n",
        "    if item.startswith('multimol.'):\n",
        "      multimol_list.append('../' + item)\n",
        "\n",
        "  print('There are %d chuncks of ligands to dock.' % len(multimol_list))\n",
        "\n",
        "\n",
        "  REC = Mol2(Input, '../rec.mol2.gz')\n",
        "  RefLig = Mol2(Input, '../lig.mol2.gz')\n",
        "\n",
        "  Writer = WRITER(Input)\n",
        "  Coord = COORD_MC()\n",
        "  HB = FindHB()\n",
        "  Ene  = Energy2(Input)\n",
        "\n",
        "  for i in range(len(REC.residue_pointer)-1):\n",
        "    HB.parse_residue(REC.residue_pointer[i]-1, REC.residue_pointer[i+1]-2, REC.resnames[i], REC, RefLig, 9.0);\n",
        "  HB.find_ligandHB('../lig.mol2.gz', RefLig);\n",
        "  print('The receptor has %5d / %5d HB donors/acceptors around the active site.' % (len(REC.HBdonors), len(REC.HBacceptors)));\n",
        "\n",
        "\n",
        "  center = Coord.compute_com(RefLig)\n",
        "\n",
        "  print()\n",
        "  start_energy = Ene.compute_ene(REC, RefLig, RefLig.xyz);\n",
        "  print('Starting energy: %7.3f kcal/mol' % start_energy);\n",
        "  print()\n",
        "  print('Generating grids. This may take a while..')\n",
        "\n",
        "  Grids = Grid(Input, Writer)\n",
        "  Grids.load_grids_from_file();\n",
        "  print('Grids loaded.')\n",
        "  grid_energy = Ene.compute_ene(Grids, RefLig, RefLig.xyz);\n",
        "  print('Grid original energy: %7.3f kcal/mol' % grid_energy);\n",
        "  print('Grid error: %7.3f %%' % abs(100.*(start_energy-grid_energy)/start_energy));\n",
        "\n",
        "  count=0;\n",
        "  count_chunck=0;\n",
        "  for multimol in (multimol_list):\n",
        "    print(\"Processing chunck %s ...\" % multimol);\n",
        "    count_chunck += 1;\n",
        "    Input.output=(base_prefix+'_'+str(count_chunck))\n",
        "    molecules=[]\n",
        "    smiles_list = open(multimol, 'r')\n",
        "    for line in smiles_list:\n",
        "      line2 = line.split()\n",
        "      molecules.append(line2[0])\n",
        "    smiles_list.close()\n",
        "    for mol in molecules:\n",
        "      Lig2 = Mol2();\n",
        "      if Lig2.parse_smiles(Input, mol, 'Lig'):\n",
        "        count += 1;\n",
        "        Dock.run(REC, Lig2, RefLig, center, Input, Grids, count);\n",
        "      else:\n",
        "        print('Molecule %s skipped' % molecules[mol]);\n"
      ],
      "metadata": {
        "id": "UwJdna1V2f96",
        "colab": {
          "base_uri": "https://localhost:8080/"
        },
        "outputId": "9c22222d-db03-4004-edaa-03aff6e3498d"
      },
      "execution_count": null,
      "outputs": [
        {
          "output_type": "stream",
          "name": "stdout",
          "text": [
            "/gdrive/MyDrive/Projects_Data/LiBELa/DUDE-Z/targets/MT1\n",
            "/gdrive/MyDrive/Projects_Data/LiBELa/DUDE-Z/targets/MT1/SF0_mma\n",
            "There are 4 chuncks of ligands to dock.\n",
            "The receptor has    14 /    14 HB donors/acceptors around the active site.\n",
            "\n",
            "Starting energy: -36.230 kcal/mol\n",
            "\n",
            "Generating grids. This may take a while..\n",
            "Grids loaded.\n",
            "Grid original energy: -35.833 kcal/mol\n",
            "Grid error:   1.095 %\n",
            "Processing chunck ../multimol.00 ...\n",
            "Processing chunck ../multimol.01 ...\n",
            "Processing chunck ../multimol.02 ...\n",
            "Processing chunck ../multimol.03 ...\n",
            "time: 3h 18min 59s (started: 2023-10-04 16:24:05 +00:00)\n"
          ]
        }
      ]
    },
    {
      "cell_type": "code",
      "source": [
        "#@title Computing Enrichment {display-mode: \"form\"}\n",
        "! more McLiBELa.log | grep LIG | sort -g -k 9 > sorted_list\n",
        "sorted_file=open('sorted_list', 'r')\n",
        "nlig = ! wc -l ../ligands.smi | awk '{print $1}'\n",
        "nlig=int(nlig)\n",
        "ndec = ! wc -l ../decoys.smi | awk '{print $1}'\n",
        "ndec=int(ndec)\n",
        "found_decoys=0\n",
        "found_ligands=0\n",
        "x=[]\n",
        "y=[]\n",
        "for line in sorted_file:\n",
        "  line2 = line.split()\n",
        "  if (line2[0] <= nlig):\n",
        "    found_ligands += 1;\n",
        "  else:\n",
        "    found_decoys += 1;\n",
        "  x.append(found_decoys/ndec);\n",
        "  y.append(found_ligands/lig);\n",
        "\n",
        "sorted_file.close()\n",
        "\n",
        "plt.plot(x, y, 'o', ls='-', ms=4))\n",
        "plt.ylabel('Fraction of Actives')\n",
        "plt.xlabel('Fraction of Decoys')\n",
        "plt.title(base_prefix)\n",
        "plt.show()\n",
        "\n"
      ],
      "metadata": {
        "id": "9TSUaclY9K2E"
      },
      "execution_count": null,
      "outputs": []
    }
  ]
}