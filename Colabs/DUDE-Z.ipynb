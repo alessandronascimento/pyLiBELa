{
  "nbformat": 4,
  "nbformat_minor": 0,
  "metadata": {
    "colab": {
      "provenance": [],
      "include_colab_link": true
    },
    "kernelspec": {
      "name": "python3",
      "display_name": "Python 3"
    },
    "language_info": {
      "name": "python"
    }
  },
  "cells": [
    {
      "cell_type": "markdown",
      "metadata": {
        "id": "view-in-github",
        "colab_type": "text"
      },
      "source": [
        "<a href=\"https://colab.research.google.com/github/alessandronascimento/pyLiBELa/blob/main/Colabs/DUDE-Z.ipynb\" target=\"_parent\"><img src=\"https://colab.research.google.com/assets/colab-badge.svg\" alt=\"Open In Colab\"/></a>"
      ]
    },
    {
      "cell_type": "code",
      "source": [
        "#@title Downloading dependencies {display-mode: \"form\"}\n",
        "\n",
        "%%capture\n",
        "! apt-get install python-dev-is-python3 zlib1g-dev libeigen3-dev libgsl-dev libnlopt-cxx-dev libgsl-dev\n",
        "!pip install ipython-autotime\n",
        "%load_ext autotime\n",
        "!pip3 install condacolab\n",
        "import condacolab\n",
        "import timeit\n",
        "condacolab.install()\n",
        "!mamba install openbabel"
      ],
      "metadata": {
        "id": "0NP7rjKJLKWC",
        "colab": {
          "base_uri": "https://localhost:8080/"
        },
        "outputId": "2f141fbb-a75e-49a8-8597-6014d7b2d825"
      },
      "execution_count": 1,
      "outputs": [
        {
          "output_type": "stream",
          "name": "stdout",
          "text": [
            "time: 5.53 s (started: 2023-09-29 15:07:40 +00:00)\n"
          ]
        }
      ]
    },
    {
      "cell_type": "code",
      "source": [
        "#@title Installing pyLiBELa {display-mode: \"form\"}\n",
        "\n",
        "%%capture\n",
        "! git clone https://github.com/alessandronascimento/pyLiBELa.git\n",
        "! mv pyLiBELa/src src\n",
        "! mv pyLiBELa/test test\n",
        "! rm -rf pyLiBELa\n",
        "! mkdir -p obj\n",
        "! rm -f Makefile*\n",
        "! wget https://raw.githubusercontent.com/alessandronascimento/pyLiBELa/main/Colabs/Makefile\n",
        "! make -j2"
      ],
      "metadata": {
        "id": "ofZ9ZY0uvuDM"
      },
      "execution_count": null,
      "outputs": []
    },
    {
      "cell_type": "code",
      "execution_count": 8,
      "metadata": {
        "id": "mmqpdtV1CU49",
        "colab": {
          "base_uri": "https://localhost:8080/"
        },
        "outputId": "36fcbad2-0427-436c-b88e-82cb78c310ef"
      },
      "outputs": [
        {
          "output_type": "stream",
          "name": "stdout",
          "text": [
            "pyLiBELa is imported!\n",
            "time: 41.8 ms (started: 2023-09-29 15:12:34 +00:00)\n"
          ]
        }
      ],
      "source": [
        "#@title Importing pyLiBELa {display-mode: \"form\"}\n",
        "try:\n",
        "  from pyPARSER import *\n",
        "  from pyMol2 import *\n",
        "  from pyWRITER import *\n",
        "  from pyGrid import *\n",
        "  from pyCOORD_MC import *\n",
        "  from pyFindHB import *\n",
        "  from pyEnergy2 import *\n",
        "  from pyGaussian import *\n",
        "  from pyConformer import *\n",
        "  from pyRAND import *\n",
        "  from pyMcEntropy import *\n",
        "  from pySA import *\n",
        "  from pyOptimizer import *\n",
        "  from pyMC import *\n",
        "  from pyFullSearch import *\n",
        "  from pyDocker import *\n",
        "  print('pyLiBELa is imported!')\n",
        "except ImportError:\n",
        "  print('An ImportError occurred, try running this cell again!')"
      ]
    },
    {
      "cell_type": "code",
      "source": [
        "folder = \"/gdrive/MyDrive/Projects_Data/LiBELa/DUDE-Z\" # @param {type:\"string\"}\n",
        "\n",
        "from google.colab import drive\n",
        "drive.mount('/gdrive')\n",
        "%cd $folder\n",
        "%cd scripts\n",
        "tlist = open('targets.dat', 'r')\n",
        "targets=[]\n",
        "for line in tlist:\n",
        "  targets.append(line)\n",
        "tlist.close()\n"
      ],
      "metadata": {
        "colab": {
          "base_uri": "https://localhost:8080/"
        },
        "id": "vCjLETjxXuRA",
        "outputId": "ed3d74d3-e0b4-4206-d01c-24cf2b9118df"
      },
      "execution_count": 11,
      "outputs": [
        {
          "output_type": "stream",
          "name": "stdout",
          "text": [
            "Drive already mounted at /gdrive; to attempt to forcibly remount, call drive.mount(\"/gdrive\", force_remount=True).\n",
            "/gdrive/MyDrive/Projects_Data/LiBELa/DUDE-Z\n",
            "/gdrive/MyDrive/Projects_Data/LiBELa/DUDE-Z/scripts\n",
            "time: 2.6 s (started: 2023-09-29 15:19:20 +00:00)\n"
          ]
        }
      ]
    },
    {
      "cell_type": "code",
      "source": [
        "#@title Docking parameters {display-mode: \"form\"}\n",
        "\n",
        "import os\n",
        "import timeit\n",
        "import numpy as np\n",
        "\n",
        "Input = PARSER()\n",
        "\n",
        "# Some default options:\n",
        "# 1. We are using two processors for Grid calculations;\n",
        "#\n",
        "\n",
        "Input.generate_conformers = True;\n",
        "Input.dock_parallel = True;\n",
        "Input.parallel_jobs = 2;\n",
        "Input.write_grids = True\n",
        "Input.use_grids = True\n",
        "Input.write_mol2 = False\n",
        "Input.atom_limit = 100 #@param {type:\"number\"}\n",
        "    #atom limit not counting H\n",
        "\n",
        "# Energy Calculation Parameters:\n",
        "scoring_function = \"0\" #@param [\"0\", \"1\", \"2\", \"3\"]\n",
        "Input.dielectric_model = \"r\" #@param [\"r\", \"constant\"]\n",
        "Input.scoring_function = int(scoring_function)\n",
        "grid_dimension = 30.0 #@param {type:\"number\"}\n",
        "Input.grid_spacing = 0.4 #@param {type:\"number\"}\n",
        "Input.solvation_alpha = 0.1 #@param {type:\"number\"}\n",
        "Input.solvation_beta = -0.005 #@param {type:\"number\"}\n",
        "\n",
        "# Optimization parameter:\n",
        "Input.min_tol = 1E-5;\n",
        "Input.min_delta = 1E-3;\n",
        "Input.dock_min_tol = 1E-5;\n",
        "search_box = 20.0 #@param {type:\"number\"}\n",
        "Input.timeout = 20 #@param {type:\"number\"}\n",
        "Input.min_timeout = 20 #@param {type:\"number\"}\n",
        "Input.overlay_optimizer = \"mma\" #@param [\"mma\", \"ln_auglag\", \"subplex\", \"none\"]\n",
        "Input.energy_optimizer = \"mma\" #@param [\"direct\", \"isres\", \"crs\", \"esch\", \"stogo\", \"mma\", \"simplex\", \"none\"]\n",
        "if (Input.scoring_function < 3):\n",
        "  delta = 2.5 #@param {type:\"number\"}\n",
        "  Input.deltaij6 = (delta*delta*delta*delta*delta*delta)\n",
        "  delta_es = 2.5 #@param {type:\"number\"}\n",
        "  Input.deltaij_es6 = pow(delta_es, 6);\n",
        "  Input.deltaij_es3 = (delta_es*delta_es*delta_es)\n",
        "\n",
        "Input.search_box_x, Input.search_box_y, Input.search_box_z = search_box, search_box, search_box;\n",
        "Input.x_dim, Input.y_dim, Input.z_dim = grid_dimension, grid_dimension, grid_dimension;\n",
        "\n",
        "Input.use_overlay_cutoff = True # @param {type:\"boolean\"}\n",
        "Input.overlay_cutoff = 0.6 #@param {type:\"number\"}\n",
        "Input.use_smiles = True;"
      ],
      "metadata": {
        "id": "bBiFwd-WIDdw",
        "colab": {
          "base_uri": "https://localhost:8080/"
        },
        "outputId": "1a6a1754-ab3f-4917-ec49-88d12d37be09"
      },
      "execution_count": 12,
      "outputs": [
        {
          "output_type": "stream",
          "name": "stdout",
          "text": [
            "time: 1.84 ms (started: 2023-09-29 15:19:31 +00:00)\n"
          ]
        }
      ]
    },
    {
      "cell_type": "code",
      "source": [
        "\n",
        "#@title Reading molecular files {display-mode: \"form\"}\n",
        "\n",
        "for target in (targets):\n",
        "  %cd $folder/targets/$target\n",
        "  !mkdir -p SF0_mma\n",
        "  %cd SF0_mma\n",
        "  REC = Mol2(Input, '../rec.mol2.gz')\n",
        "  RefLig = Mol2(Input, '../lig.mol2.gz')\n",
        "\n",
        "  Writer = WRITER(Input)\n",
        "  Coord = COORD_MC()\n",
        "  HB = FindHB()\n",
        "  Ene  = Energy2(Input)\n",
        "\n",
        "  for i in range(len(REC.residue_pointer)-1):\n",
        "    HB.parse_residue(REC.residue_pointer[i]-1, REC.residue_pointer[i+1]-2, REC.resnames[i], REC, RefLig, 9.0);\n",
        "  HB.find_ligandHB('../lig.mol2.gz', RefLig);\n",
        "  print('The receptor has %5d / %5d HB donors/acceptors around the active site.' % (len(REC.HBdonors), len(REC.HBacceptors)));\n",
        "\n",
        "  Dock = Docker(Writer)\n",
        "  center = Coord.compute_com(RefLig)\n",
        "\n",
        "  print()\n",
        "  start_energy = Ene.compute_ene(REC, RefLig, RefLig.xyz);\n",
        "  print('Starting energy: %7.3f kcal/mol' % start_energy);\n",
        "  print()\n",
        "  print('Generating grids. This may take a while..')\n",
        "\n",
        "  start_time = timeit.default_timer()\n",
        "  Grids = Grid(Input, Writer, REC, center)\n",
        "  time = timeit.default_timer() - start_time\n",
        "\n",
        "  print('Grids computed, and it took %.2f s!' %(time))\n",
        "  grid_energy = Ene.compute_ene(Grids, RefLig, RefLig.xyz);\n",
        "  print('Grid original energy: %7.3f kcal/mol' % grid_energy);\n",
        "  print('Grid error: %7.3f %%' % abs(100.*(start_energy-grid_energy)/start_energy));\n",
        "\n",
        "  molecules=[]\n",
        "  smiles_list = open('../multimol.dat', 'r')\n",
        "  for line in smiles_list:\n",
        "    line2 = line.split()\n",
        "    molecules.append(line2[0])\n",
        "  smiles_list.close()\n",
        "\n",
        "  count = 0;\n",
        "  for mol in molecules:\n",
        "    Lig2 = Mol2()\n",
        "    if Lig2.parse_smiles(Input, mol, 'Lig'):\n",
        "      count += 1;\n",
        "      Dock.run(REC, Lig2, RefLig, center, Input, Grids, count);\n",
        "    else:\n",
        "      print('Molecule %s skipped' % molecules[mol]);\n"
      ],
      "metadata": {
        "id": "UwJdna1V2f96",
        "colab": {
          "base_uri": "https://localhost:8080/"
        },
        "outputId": "1ec36586-50d9-4239-d74b-ea3f47a22fbd"
      },
      "execution_count": null,
      "outputs": [
        {
          "output_type": "stream",
          "name": "stdout",
          "text": [
            "/gdrive/MyDrive/Projects_Data/LiBELa/DUDE-Z/targets/AA2AR\n",
            "/gdrive/MyDrive/Projects_Data/LiBELa/DUDE-Z/targets/AA2AR/SF0_mma\n",
            "The receptor has    13 /    14 HB donors/acceptors around the active site.\n",
            "\n",
            "Starting energy: -39.987 kcal/mol\n",
            "\n",
            "Generating grids. This may take a while..\n",
            "Grids computed, and it took 292.67 s!\n",
            "Grid original energy: -40.067 kcal/mol\n",
            "Grid error:   0.200 %\n"
          ]
        }
      ]
    }
  ]
}