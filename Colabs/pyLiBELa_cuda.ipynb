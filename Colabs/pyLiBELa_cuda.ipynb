{
  "nbformat": 4,
  "nbformat_minor": 0,
  "metadata": {
    "colab": {
      "provenance": [],
      "gpuType": "T4",
      "authorship_tag": "ABX9TyMK8iDnj9tj+zL5Ku5dSa2v",
      "include_colab_link": true
    },
    "kernelspec": {
      "name": "python3",
      "display_name": "Python 3"
    },
    "language_info": {
      "name": "python"
    },
    "accelerator": "GPU"
  },
  "cells": [
    {
      "cell_type": "markdown",
      "metadata": {
        "id": "view-in-github",
        "colab_type": "text"
      },
      "source": [
        "<a href=\"https://colab.research.google.com/github/alessandronascimento/pyLiBELa/blob/main/Colabs/pyLiBELa_cuda.ipynb\" target=\"_parent\"><img src=\"https://colab.research.google.com/assets/colab-badge.svg\" alt=\"Open In Colab\"/></a>"
      ]
    },
    {
      "cell_type": "markdown",
      "source": [
        "# First things first\n",
        "### From now on, we will be only using CUDA, a GPU computing API.\n",
        "### In order to do that, we need to use the GPU runtime from Google Colab that can be selected following the steps in the menu:\n",
        "### `Runtime > Change Runtime Type > T4 GPU`"
      ],
      "metadata": {
        "id": "cr6BrZIv54Fl"
      }
    },
    {
      "cell_type": "code",
      "source": [
        "#@title Downloading dependencies {display-mode: \"form\"}\n",
        "\n",
        "%%capture\n",
        "! apt-get install python-dev-is-python3 zlib1g-dev libeigen3-dev libgsl-dev libnlopt-cxx-dev libgsl-dev\n",
        "!pip install ipython-autotime\n",
        "%load_ext autotime\n",
        "!pip3 install condacolab\n",
        "import condacolab\n",
        "condacolab.install()\n",
        "!mamba install openbabel\n"
      ],
      "metadata": {
        "id": "0NP7rjKJLKWC",
        "outputId": "f60ac6a4-7af7-4319-c4e3-01912c13a279",
        "colab": {
          "base_uri": "https://localhost:8080/"
        }
      },
      "execution_count": 1,
      "outputs": [
        {
          "output_type": "stream",
          "name": "stdout",
          "text": [
            "time: 49.8 s (started: 2023-11-10 03:30:31 +00:00)\n"
          ]
        }
      ]
    },
    {
      "cell_type": "code",
      "source": [
        "#@title Installing pyLiBELa {display-mode: \"form\"}\n",
        "\n",
        "%%capture\n",
        "use_cuda = True #@param {type:\"boolean\"}\n",
        "\n",
        "! rm -f Makefile*\n",
        "! rm -rf obj src test\n",
        "! rmdir obj src\n",
        "if use_cuda:\n",
        "  ! git clone --branch alex-works https://github.com/alessandronascimento/pyLiBELa.git\n",
        "  ! wget https://raw.githubusercontent.com/alessandronascimento/pyLiBELa/alex-works/Colabs/Makefile\n",
        "else:\n",
        "  ! git clone --branch main https://github.com/alessandronascimento/pyLiBELa.git\n",
        "  ! wget https://raw.githubusercontent.com/alessandronascimento/pyLiBELa/main/Colabs/Makefile\n",
        "\n",
        "! mv pyLiBELa/src src\n",
        "! mv pyLiBELa/test test\n",
        "! rm -rf pyLiBELa\n",
        "! mkdir -p obj\n",
        "! sed -i 's+-I/usr/include/openbabel3+-I/usr/local/include/openbabel3+g' Makefile\n",
        "! make -j2\n"
      ],
      "metadata": {
        "id": "ofZ9ZY0uvuDM"
      },
      "execution_count": 1,
      "outputs": []
    },
    {
      "cell_type": "code",
      "execution_count": 2,
      "metadata": {
        "id": "mmqpdtV1CU49",
        "colab": {
          "base_uri": "https://localhost:8080/"
        },
        "outputId": "606f84f3-1dfc-4cd8-e0d8-17fb28168006"
      },
      "outputs": [
        {
          "output_type": "stream",
          "name": "stdout",
          "text": [
            "pyLiBELa is imported!\n"
          ]
        }
      ],
      "source": [
        "#@title Importing pyLiBELa {display-mode: \"form\"}\n",
        "try:\n",
        "  from pyPARSER import *\n",
        "  from pyMol2 import *\n",
        "  from pyWRITER import *\n",
        "  from pyGrid import *\n",
        "  from pyCOORD_MC import *\n",
        "  from pyFindHB import *\n",
        "  from pyEnergy2 import *\n",
        "  from pyGaussian import *\n",
        "  from pyConformer import *\n",
        "  from pyRAND import *\n",
        "  from pyMcEntropy import *\n",
        "  from pySA import *\n",
        "  from pyOptimizer import *\n",
        "  from pyMC import *\n",
        "  from pyFullSearch import *\n",
        "  from pyDocker import *\n",
        "  print('pyLiBELa is imported!')\n",
        "except ImportError:\n",
        "  print('An ImportError occurred, try running this cell again!')"
      ]
    },
    {
      "cell_type": "code",
      "source": [
        "#@title Docking parameters {display-mode: \"form\"}\n",
        "\n",
        "import os\n",
        "import timeit\n",
        "import numpy as np\n",
        "\n",
        "Input = PARSER()\n",
        "\n",
        "Input.generate_conformers = True;\n",
        "Input.dock_parallel = False;\n",
        "Input.parallel_jobs = 1;\n",
        "Input.write_grids = False;\n",
        "Input.load_grid_from_file = True;\n",
        "Input.use_grids = True\n",
        "Input.write_mol2 = True\n",
        "Input.atom_limit = 10000 #@param {type:\"number\"}\n",
        "\n",
        "scoring_function = \"0\" #@param [\"0\", \"1\", \"2\", \"3\"]\n",
        "Input.dielectric_model = \"r\" #@param [\"r\", \"constant\"]\n",
        "#Input.diel = 2.0;\n",
        "Input.scoring_function = int(scoring_function)\n",
        "grid_dimension = 30.0 #@param {type:\"number\"}\n",
        "Input.grid_prefix = '../grids/McGrid'\n",
        "Input.grid_spacing = 0.4 #@param {type:\"number\"}\n",
        "Input.solvation_alpha = 0.1 #@param {type:\"number\"}\n",
        "Input.solvation_beta = -0.005 #@param {type:\"number\"}\n",
        "\n",
        "# Optimization parameter:\n",
        "Input.min_tol = 1E-4;\n",
        "Input.min_delta = 1E-4;\n",
        "Input.dock_min_tol = 1E-4;\n",
        "search_box = 8.0 #@param {type:\"number\"}\n",
        "Input.timeout = 20 #@param {type:\"number\"}\n",
        "Input.min_timeout = 30 #@param {type:\"number\"}\n",
        "Input.overlay_optimizer = \"mma\" #@param [\"mma\", \"ln_auglag\", \"subplex\", \"none\"]\n",
        "Input.energy_optimizer = \"mma\" #@param [\"direct\", \"isres\", \"crs\", \"esch\", \"stogo\", \"mma\", \"simplex\", \"none\"]\n",
        "if (Input.scoring_function < 3):\n",
        "    delta = 2.5 #@param {type:\"number\"}\n",
        "    Input.deltaij6 = (delta*delta*delta*delta*delta*delta)\n",
        "    delta_es = 2.5 #@param {type:\"number\"}\n",
        "    Input.deltaij_es6 = pow(delta_es, 6);\n",
        "    Input.deltaij_es3 = (delta_es*delta_es*delta_es)\n",
        "\n",
        "Input.conf_search_trials = 10000;\n",
        "Input.conformers_to_evaluate = 2;\n",
        "Input.lig_conformers = 10;\n",
        "\n",
        "Input.search_box_x, Input.search_box_y, Input.search_box_z = search_box, search_box, search_box;\n",
        "Input.x_dim, Input.y_dim, Input.z_dim = grid_dimension, grid_dimension, grid_dimension;"
      ],
      "metadata": {
        "id": "tDifdyCVpYXf"
      },
      "execution_count": 3,
      "outputs": []
    },
    {
      "cell_type": "code",
      "source": [
        "#@title Getting SB2021 data {display-mode: \"form\"}\n",
        "\n",
        "%%capture\n",
        "from google.colab import drive\n",
        "drive.mount('/content/drive/')\n",
        "sb_folder = '/content/drive/MyDrive/pyLiBELa/SB/' #@param {type:\"string\"}\n",
        "\n",
        "with open(sb_folder+'list.txt') as f:\n",
        "    targets_list = f.readlines()\n",
        "\n",
        "\n",
        "targets_list = [target[0:4] for target in targets_list]\n",
        "\n"
      ],
      "metadata": {
        "id": "GXFKrWDVM0Hx"
      },
      "execution_count": 4,
      "outputs": []
    },
    {
      "cell_type": "code",
      "source": [
        "#@title Selecting the target {display-mode: \"form\"}\n",
        "%cd /content\n",
        "\n",
        "#%cd /root/content\n",
        "\n",
        "index_target=4 #@param {type:\"integer\"}\n",
        "target=targets_list[index_target]\n",
        "folder = sb_folder+target\n",
        "\n",
        "rec_file = folder + \"/\" +  target + \".lig.am1bcc.mol2.gz\"\n",
        "lig_file = folder + \"/\" +  target + \".rec.clean.mol2.gz\"\n",
        "\n",
        "!mkdir -p $target\n",
        "\n",
        "rec_new = target+'/rec.mol2.gz'\n",
        "lig_new = target+'/lig.mol2.gz'\n",
        "\n",
        "\n",
        "%cp $rec_file $rec_new\n",
        "%cp $lig_file $lig_new\n"
      ],
      "metadata": {
        "id": "Y9gVfI77NOfL",
        "outputId": "fca24529-6ff8-4d16-aabe-71c55a9acf49",
        "colab": {
          "base_uri": "https://localhost:8080/"
        }
      },
      "execution_count": 7,
      "outputs": [
        {
          "output_type": "stream",
          "name": "stdout",
          "text": [
            "/content\n"
          ]
        }
      ]
    },
    {
      "cell_type": "code",
      "source": [
        "\n",
        "#@title Reading molecular files {display-mode: \"form\"}\n",
        "\n",
        "#Reading Ligand SMILES\n",
        "\n",
        "\n",
        "ligand_smiles = \"N1C=Cc2ccccc12\" #@param {type:\"string\"}\n",
        "\n",
        "\n",
        "Lig2 = Mol2()\n",
        "if Mol2.parse_smiles(Lig2, Input, ligand_smiles, 'Lig2'):\n",
        "   print('Ligand SMILES parsed successfully!')\n",
        "   print(ligand_smiles)\n",
        "\n",
        "else:\n",
        "  print('Oops, something wrong with you ligand... \\nIt may be way too big or have an unknown atom.')\n",
        "\n",
        "#Reading reference ligand and receptor from source\n",
        "\n",
        "#lig_src =  '185L/lig.mol2.gz' #@param {type:\"string\"}\n",
        "#rec_src = '185L/rec.mol2.gz' #@param {type:\"string\"}\n",
        "\n",
        "lig_src =  target + '/lig.mol2.gz'\n",
        "rec_src = target + '/rec.mol2.gz'\n",
        "\n",
        "\n",
        "REC = Mol2(Input, rec_src)\n",
        "RefLig = Mol2(Input, lig_src)\n",
        "#Lig2 = Mol2(Input,lig_src)\n",
        "\n",
        "print('Receptor and reference ligand parsed successfully!')\n",
        "print(\"Receptor has %4d atoms.\" % REC.N)\n",
        "print('Reference Ligand has %4d atoms' % RefLig.N)\n",
        "print('Search ligand has %4d atoms' % Lig2.N)\n"
      ],
      "metadata": {
        "id": "UwJdna1V2f96",
        "colab": {
          "base_uri": "https://localhost:8080/"
        },
        "outputId": "7ba0cef2-7615-401f-fc6f-78798b1aba04"
      },
      "execution_count": 8,
      "outputs": [
        {
          "output_type": "stream",
          "name": "stdout",
          "text": [
            "Ligand SMILES parsed successfully!\n",
            "[P]([O])([O])([O])C[P]([O])([O])O[P]([O])([O])OC[C@H]1O[C@H]([C@@H]([C@@H]1O)O)N1C=NC2=C1N=C(NC2=O)N\n",
            "Receptor and reference ligand parsed successfully!\n",
            "Receptor has   46 atoms.\n",
            "Reference Ligand has 2620 atoms\n",
            "Search ligand has   46 atoms\n"
          ]
        }
      ]
    },
    {
      "cell_type": "code",
      "source": [
        "#@title Grid Generation and Docking calculation\n",
        "%load_ext autotime\n",
        "!rm -rf McLiBELa_dock.mol2.gz\n",
        "import timeit\n",
        "\n",
        "Writer = WRITER(Input)\n",
        "Coord = COORD_MC()\n",
        "HB = FindHB()\n",
        "Ene  = Energy2(Input)\n",
        "\n",
        "for i in range(len(REC.residue_pointer)-1):\n",
        "  HB.parse_residue(REC.residue_pointer[i]-1, REC.residue_pointer[i+1]-2, REC.resnames[i], REC, RefLig, 9.0);\n",
        "HB.find_ligandHB(lig_src, RefLig);\n",
        "print('The receptor has %5d / %5d HB donors/acceptors around the active site.' % (len(REC.HBdonors), len(REC.HBacceptors)));\n",
        "\n",
        "Dock = Docker(Writer)\n",
        "center = Coord.compute_com(RefLig)\n",
        "\n",
        "print()\n",
        "start_energy = Ene.compute_ene(REC, RefLig, RefLig.xyz);\n",
        "print('Starting energy: %7.3f kcal/mol' % start_energy);\n",
        "print()\n",
        "print('Generating grids. This may take a while..')\n",
        "\n",
        "start_time = timeit.default_timer()\n",
        "Grids = Grid(Input, Writer, REC, center)\n",
        "time = timeit.default_timer() - start_time\n",
        "\n",
        "time_per_atom = time/REC.N\n",
        "print('Grids computed, and it took %.2f s! That means %.4f s per atom.' %(time,time_per_atom))\n",
        "grid_energy = Ene.compute_ene(Grids, RefLig, RefLig.xyz);\n",
        "print('Grid original energy: %7.3f kcal/mol' % grid_energy);\n",
        "print('Grid error: %7.3f' % abs(100.*(start_energy-grid_energy)/start_energy));\n",
        "print()\n",
        "print()\n",
        "print('Starting docking calculation...')\n",
        "Dock.run(REC, Lig2, RefLig, center, Input, Grids, 0)\n",
        "print('Docking calculation finished!')\n",
        "\n",
        "Writer.write_box(center, Grids.xbegin, Grids.ybegin, Grids.zbegin, Grids.xend, Grids.yend, Grids.zend)\n"
      ],
      "metadata": {
        "id": "3V0xpV6F2i3q",
        "cellView": "form",
        "colab": {
          "base_uri": "https://localhost:8080/"
        },
        "outputId": "f9efe94d-7567-44ce-fff1-bcd66b301ce5"
      },
      "execution_count": 10,
      "outputs": [
        {
          "output_type": "stream",
          "name": "stdout",
          "text": [
            "The autotime extension is already loaded. To reload it, use:\n",
            "  %reload_ext autotime\n",
            "The receptor has     0 /     0 HB donors/acceptors around the active site.\n",
            "\n",
            "Starting energy: -144.121 kcal/mol\n",
            "\n",
            "Generating grids. This may take a while..\n",
            "Grids computed, and it took 0.21 s! That means 0.0046 s per atom.\n",
            "Grid original energy:     nan kcal/mol\n",
            "Grid error:     nan\n",
            "\n",
            "\n",
            "Starting docking calculation...\n",
            "Docking calculation finished!\n",
            "time: 2min 27s (started: 2023-11-10 03:57:34 +00:00)\n"
          ]
        }
      ]
    },
    {
      "cell_type": "code",
      "source": [
        "#@title Preparing Output Files\n",
        "!rm -rf lig2.pdb lig_ref.pdb rec.pdb\n",
        "\n",
        "\n",
        "!obabel -imol2 McLiBELa_dock.mol2.gz -opdb -O lig2.pdb\n",
        "!obabel -imol2 test/lig.mol2.gz -opdb -O lig_ref.pdb\n",
        "!obabel -imol2 test/rec.mol2.gz -opdb -O rec.pdb\n",
        "\n",
        "lig2_pdb = open('lig2.pdb', 'r').read()\n",
        "lig_ref_pdb = open('lig_ref.pdb', 'r').read()\n",
        "rec_pdb = open('rec.pdb','r').read()\n",
        "\n",
        "box_pdb = open('box.pdb','r').read()\n",
        "\n",
        "def join_pdb(name_file_rec,name_file_lig,name_file_merge):\n",
        "  !cp $name_file_rec temp_rec.pdb\n",
        "  !cp $name_file_lig temp_lig.pdb\n",
        "\n",
        "  !sed -i '/END\\|CONECT/d' temp_rec.pdb #tira o end e o conect do arquivo do receptor\n",
        "\n",
        "  !sed -i 's/A  /B  /g' temp_lig.pdb #troca a cadeia A por B no arquivo do ligante\n",
        "\n",
        "  !sed -i '/CONECT/d' temp_lig.pdb #tira o conect do arquivo do ligante\n",
        "\n",
        "  !cat temp_rec.pdb temp_lig.pdb > $name_file_merge #concatena os arquivos\n",
        "\n",
        "  !rm -rf temp_rec.pdb temp_lig.pdb\n",
        "\n",
        "\n",
        "join_pdb('rec.pdb','lig_ref.pdb','complex1.pdb')\n",
        "complex1_pdb = open('complex1.pdb','r').read()\n",
        "\n",
        "join_pdb('rec.pdb','lig2.pdb','complex2.pdb')\n",
        "complex2_pdb = open('complex2.pdb','r').read()\n"
      ],
      "metadata": {
        "id": "GfSEvBRyASyr",
        "cellView": "form"
      },
      "execution_count": null,
      "outputs": []
    },
    {
      "cell_type": "code",
      "source": [
        "#@title Calculating RMSD\n",
        "!obrms lig_ref.pdb lig2.pdb > rmsd.txt\n",
        "with open('rmsd.txt') as rmsd_text:\n",
        "   rmsd_list = rmsd_text.readlines()\n",
        "\n",
        "#print(rmsd_list)\n",
        "rmsd = rmsd_list[0].split()[-1]\n",
        "\n",
        "print('The RMSD between the reference ligand and its reference after docking is %s.' %rmsd)\n"
      ],
      "metadata": {
        "id": "VzMGLWszjlUX",
        "cellView": "form"
      },
      "execution_count": null,
      "outputs": []
    },
    {
      "cell_type": "code",
      "source": [
        "#@title Setting view\n",
        "%%capture\n",
        "try:\n",
        "  import py3Dmol\n",
        "except:\n",
        "  !pip install py3Dmol\n",
        "  import py3Dmol\n",
        "aminoacids = ['MET', 'THR', 'ASN', 'LYS', 'SER', 'ARG', 'VAL', 'ALA', 'ASP', 'GLU', 'GLY', 'PHE', 'LEU', 'TYR', 'CYS', 'TRP', 'PRO', 'HIS', 'GLN', 'ILE', 'ASH', 'CYX', 'GLH', 'HIE', 'HID', 'HIP','HOH']\n"
      ],
      "metadata": {
        "id": "cXTwPuTHFceG",
        "cellView": "form"
      },
      "execution_count": null,
      "outputs": []
    },
    {
      "cell_type": "code",
      "source": [
        "#@title Ligands\n",
        "#@markdown The reference ligand is in green and the docked ligand is in yellow.\n",
        "view = py3Dmol.view()\n",
        "\n",
        "#Adding models\n",
        "view.addModel(lig2_pdb,'pdb') #model 0\n",
        "view.addModel(lig_ref_pdb,'pdb') #model 1\n",
        "#view.addModel(box_pdb,'pdb') #something wrong with it\n",
        "\n",
        "view.setStyle({'model':0},{'stick': {'colorscheme':'yellowCarbon'}})\n",
        "view.setStyle({'model':1},{'stick': {'colorscheme':'greenCarbon'}})\n",
        "\n",
        "\n",
        "view.setBackgroundColor('white')\n",
        "view.zoomTo({'model':0})\n",
        "view.show()"
      ],
      "metadata": {
        "id": "tuJOlyeLr54x",
        "cellView": "form"
      },
      "execution_count": null,
      "outputs": []
    },
    {
      "cell_type": "code",
      "source": [
        "#@title Docking complex\n",
        "view = py3Dmol.view(width=800,height=600)\n",
        "\n",
        "#Adding models\n",
        "view.addModel(complex2_pdb,'pdb')\n",
        "view.addModel(lig_ref_pdb,'pdb') #model 1\n",
        "\n",
        "view.addModel(box_pdb,'pdb')\n",
        "view.setStyle({'model':2}, {'stick':{\"color\":\"#ff0000\",\"width\":1}})\n",
        "\n",
        "view.setStyle({'chain':'B'},{'stick': {'colorscheme':'yellowCarbon'}})\n",
        "\n",
        "view.setStyle({'chain':'A'},  {\"cartoon\":{'arrows':True,'colorscheme':'ssPymol','opacity':0.7}})\n",
        "view.setStyle({ 'chain':'A', 'not':{'resn':aminoacids}}, {'sphere':{}})\n",
        "view.addStyle({'chain':'A','within':{'distance':'5', 'sel':{'chain':'B'}},'byres':True}, {'stick': {'colorscheme':'skyblueCarbon'}})\n",
        "view.setStyle({'model':1},{'stick': {'colorscheme':'greenCarbon','opacity':0.7}})\n",
        "\n",
        "view.setBackgroundColor('white')\n",
        "#view.zoomTo({'chain':'B'})\n",
        "view.zoomTo({'model':2})\n",
        "view.show()"
      ],
      "metadata": {
        "id": "FoJEPewmr7UG"
      },
      "execution_count": null,
      "outputs": []
    },
    {
      "cell_type": "code",
      "source": [
        "#@title Original complex\n",
        "view = py3Dmol.view(width=800,height=600)\n",
        "\n",
        "#Adding models\n",
        "view.addModel(complex1_pdb,'pdb') #model 0\n",
        "#view.addModel(rec_pdb,'pdb') #model 1\n",
        "\n",
        "\n",
        "view.setStyle({'chain':'B'},{'stick': {'colorscheme':'greenCarbon','opacity':0.1}})\n",
        "view.setStyle({'chain':'B'},{'opacity':0.7})\n",
        "\n",
        "\n",
        "view.setStyle({'chain':'A'},  {\"cartoon\":{'arrows':True,'colorscheme':'rasmol','opacity':0.7}})\n",
        "view.setStyle({ 'chain':'A', 'not':{'resn':aminoacids}}, {'sphere':{}})\n",
        "#view.addStyle({'chain':'A','within':{'distance':'5', 'sel':{'chain':'B'}},'byres':True}, {'stick': {'colorscheme':'skyblueCarbon'}})\n",
        "\n",
        "\n",
        "view.setBackgroundColor('white')\n",
        "view.zoomTo({'chain':'A'})\n",
        "view.show()"
      ],
      "metadata": {
        "id": "Fg9qVjTLsBXb"
      },
      "execution_count": null,
      "outputs": []
    }
  ]
}