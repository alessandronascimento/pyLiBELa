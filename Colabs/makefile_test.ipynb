{
  "nbformat": 4,
  "nbformat_minor": 0,
  "metadata": {
    "colab": {
      "provenance": [],
      "authorship_tag": "ABX9TyMq9jA5WMpnfZfX7mN+HWrL",
      "include_colab_link": true
    },
    "kernelspec": {
      "name": "python3",
      "display_name": "Python 3"
    },
    "language_info": {
      "name": "python"
    }
  },
  "cells": [
    {
      "cell_type": "markdown",
      "metadata": {
        "id": "view-in-github",
        "colab_type": "text"
      },
      "source": [
        "<a href=\"https://colab.research.google.com/github/alessandronascimento/pyLiBELa/blob/main/Colabs/makefile_test.ipynb\" target=\"_parent\"><img src=\"https://colab.research.google.com/assets/colab-badge.svg\" alt=\"Open In Colab\"/></a>"
      ]
    },
    {
      "cell_type": "code",
      "execution_count": null,
      "metadata": {
        "id": "W7u36RgusPuu"
      },
      "outputs": [],
      "source": [
        "! apt-get install libboost-python1.71-dev openbabel libopenbabel-dev python-dev zlib1g-dev libeigen3-dev libgsl-dev\n",
        "!rm -rf Makefile*\n",
        "!wget https://raw.githubusercontent.com/alessandronascimento/pyLiBELa/main/Colabs/Makefile\n",
        "!make uninstall\n",
        "!make install"
      ]
    },
    {
      "cell_type": "code",
      "source": [
        "!make clean\n",
        "!make"
      ],
      "metadata": {
        "id": "JAvDpZ_W0RGo"
      },
      "execution_count": null,
      "outputs": []
    },
    {
      "cell_type": "code",
      "source": [
        "!mv /content/obj/* /content/src/*gz /content\n",
        "!ls"
      ],
      "metadata": {
        "id": "n0RcHlml0nuV"
      },
      "execution_count": null,
      "outputs": []
    },
    {
      "cell_type": "code",
      "source": [
        "from pyPARSER import *\n",
        "from pyMol2 import *\n",
        "from pyWRITER import *\n",
        "from pyGrid import *\n",
        "from pyCOORD_MC import *\n",
        "from pyFindHB import * \n"
      ],
      "metadata": {
        "id": "bGF7TslaoXb-"
      },
      "execution_count": null,
      "outputs": []
    },
    {
      "cell_type": "code",
      "source": [
        "Input = PARSER()\n",
        "print(Input.mol2_aa)"
      ],
      "metadata": {
        "id": "6gGSOCc2p-xo"
      },
      "execution_count": null,
      "outputs": []
    },
    {
      "cell_type": "code",
      "source": [
        "lig = Mol2(Input, \"lig.mol2.gz\")"
      ],
      "metadata": {
        "id": "5TmwkeIXucQp"
      },
      "execution_count": null,
      "outputs": []
    },
    {
      "cell_type": "code",
      "source": [
        "print(lig.charges)\n",
        "pycharges=[]\n",
        "pycharges = list(lig.charges)\n",
        "print(pycharges)"
      ],
      "metadata": {
        "id": "H-UdOjnRubTc"
      },
      "execution_count": null,
      "outputs": []
    },
    {
      "cell_type": "code",
      "source": [
        "Writer = WRITER(Input)\n",
        "print(Writer.print_welcome())"
      ],
      "metadata": {
        "id": "q0eIuRfLuray"
      },
      "execution_count": null,
      "outputs": []
    }
  ]
}