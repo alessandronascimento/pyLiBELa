{
  "nbformat": 4,
  "nbformat_minor": 0,
  "metadata": {
    "colab": {
      "provenance": [],
      "authorship_tag": "ABX9TyMq9jA5WMpnfZfX7mN+HWrL",
      "include_colab_link": true
    },
    "kernelspec": {
      "name": "python3",
      "display_name": "Python 3"
    },
    "language_info": {
      "name": "python"
    }
  },
  "cells": [
    {
      "cell_type": "markdown",
      "metadata": {
        "id": "view-in-github",
        "colab_type": "text"
      },
      "source": [
        "<a href=\"https://colab.research.google.com/github/alessandronascimento/pyLiBELa/blob/main/Colabs/makefile_test.ipynb\" target=\"_parent\"><img src=\"https://colab.research.google.com/assets/colab-badge.svg\" alt=\"Open In Colab\"/></a>"
      ]
    },
    {
      "cell_type": "code",
      "execution_count": 1,
      "metadata": {
        "id": "W7u36RgusPuu",
        "outputId": "133aa9ea-7a41-4d31-879b-019ad4c6218d",
        "colab": {
          "base_uri": "https://localhost:8080/"
        }
      },
      "outputs": [
        {
          "output_type": "stream",
          "name": "stdout",
          "text": [
            "Reading package lists... Done\n",
            "Building dependency tree       \n",
            "Reading state information... Done\n",
            "Note, selecting 'python-dev-is-python2' instead of 'python-dev'\n",
            "libboost-python1.71-dev is already the newest version (1.71.0-6ubuntu6).\n",
            "libboost-python1.71-dev set to manually installed.\n",
            "zlib1g-dev is already the newest version (1:1.2.11.dfsg-2ubuntu1.5).\n",
            "zlib1g-dev set to manually installed.\n",
            "The following additional packages will be installed:\n",
            "  libgsl23 libgslcblas0 libopenbabel6 libpython2-dev libpython2-stdlib\n",
            "  libpython2.7 libpython2.7-dev libschroedinger-maeparser1 python-is-python2\n",
            "  python2 python2-dev python2-minimal python2.7-dev\n",
            "Suggested packages:\n",
            "  libeigen3-doc libmpfrc++-dev gsl-ref-psdoc | gsl-doc-pdf | gsl-doc-info\n",
            "  | gsl-ref-html libopenbabel-doc python2-doc python-tk\n",
            "The following NEW packages will be installed:\n",
            "  libeigen3-dev libgsl-dev libgsl23 libgslcblas0 libopenbabel-dev\n",
            "  libopenbabel6 libpython2-dev libpython2-stdlib libpython2.7 libpython2.7-dev\n",
            "  libschroedinger-maeparser1 openbabel python-dev-is-python2 python-is-python2\n",
            "  python2 python2-dev python2-minimal python2.7-dev\n",
            "0 upgraded, 18 newly installed, 0 to remove and 23 not upgraded.\n",
            "Need to get 10.6 MB of archives.\n",
            "After this operation, 53.9 MB of additional disk space will be used.\n",
            "Get:1 http://archive.ubuntu.com/ubuntu focal/universe amd64 python2-minimal amd64 2.7.17-2ubuntu4 [27.5 kB]\n",
            "Get:2 http://archive.ubuntu.com/ubuntu focal/universe amd64 libpython2-stdlib amd64 2.7.17-2ubuntu4 [7,072 B]\n",
            "Get:3 http://archive.ubuntu.com/ubuntu focal/universe amd64 python2 amd64 2.7.17-2ubuntu4 [26.5 kB]\n",
            "Get:4 http://archive.ubuntu.com/ubuntu focal/universe amd64 libgslcblas0 amd64 2.5+dfsg-6build1 [84.6 kB]\n",
            "Get:5 http://archive.ubuntu.com/ubuntu focal/universe amd64 libgsl23 amd64 2.5+dfsg-6build1 [850 kB]\n",
            "Get:6 http://archive.ubuntu.com/ubuntu focal/universe amd64 libgsl-dev amd64 2.5+dfsg-6build1 [1,064 kB]\n",
            "Get:7 http://archive.ubuntu.com/ubuntu focal/universe amd64 libschroedinger-maeparser1 amd64 1.2.2-1build1 [89.1 kB]\n",
            "Get:8 http://archive.ubuntu.com/ubuntu focal/universe amd64 libopenbabel6 amd64 3.0.0+dfsg-3ubuntu3 [3,568 kB]\n",
            "Get:9 http://archive.ubuntu.com/ubuntu focal/universe amd64 libopenbabel-dev amd64 3.0.0+dfsg-3ubuntu3 [173 kB]\n",
            "Get:10 http://archive.ubuntu.com/ubuntu focal-updates/universe amd64 libpython2.7 amd64 2.7.18-1~20.04.3 [1,037 kB]\n",
            "Get:11 http://archive.ubuntu.com/ubuntu focal-updates/universe amd64 libpython2.7-dev amd64 2.7.18-1~20.04.3 [2,466 kB]\n",
            "Get:12 http://archive.ubuntu.com/ubuntu focal/universe amd64 libpython2-dev amd64 2.7.17-2ubuntu4 [7,140 B]\n",
            "Get:13 http://archive.ubuntu.com/ubuntu focal/universe amd64 openbabel amd64 3.0.0+dfsg-3ubuntu3 [127 kB]\n",
            "Get:14 http://archive.ubuntu.com/ubuntu focal/universe amd64 python-is-python2 all 2.7.17-4 [2,496 B]\n",
            "Get:15 http://archive.ubuntu.com/ubuntu focal-updates/universe amd64 python2.7-dev amd64 2.7.18-1~20.04.3 [293 kB]\n",
            "Get:16 http://archive.ubuntu.com/ubuntu focal/universe amd64 python2-dev amd64 2.7.17-2ubuntu4 [1,268 B]\n",
            "Get:17 http://archive.ubuntu.com/ubuntu focal/universe amd64 python-dev-is-python2 all 2.7.17-4 [1,396 B]\n",
            "Get:18 http://archive.ubuntu.com/ubuntu focal/universe amd64 libeigen3-dev all 3.3.7-2 [815 kB]\n",
            "Fetched 10.6 MB in 1s (13.7 MB/s)\n",
            "Selecting previously unselected package python2-minimal.\n",
            "(Reading database ... 128288 files and directories currently installed.)\n",
            "Preparing to unpack .../python2-minimal_2.7.17-2ubuntu4_amd64.deb ...\n",
            "Unpacking python2-minimal (2.7.17-2ubuntu4) ...\n",
            "Selecting previously unselected package libpython2-stdlib:amd64.\n",
            "Preparing to unpack .../libpython2-stdlib_2.7.17-2ubuntu4_amd64.deb ...\n",
            "Unpacking libpython2-stdlib:amd64 (2.7.17-2ubuntu4) ...\n",
            "Setting up python2-minimal (2.7.17-2ubuntu4) ...\n",
            "Selecting previously unselected package python2.\n",
            "(Reading database ... 128317 files and directories currently installed.)\n",
            "Preparing to unpack .../00-python2_2.7.17-2ubuntu4_amd64.deb ...\n",
            "Unpacking python2 (2.7.17-2ubuntu4) ...\n",
            "Selecting previously unselected package libgslcblas0:amd64.\n",
            "Preparing to unpack .../01-libgslcblas0_2.5+dfsg-6build1_amd64.deb ...\n",
            "Unpacking libgslcblas0:amd64 (2.5+dfsg-6build1) ...\n",
            "Selecting previously unselected package libgsl23:amd64.\n",
            "Preparing to unpack .../02-libgsl23_2.5+dfsg-6build1_amd64.deb ...\n",
            "Unpacking libgsl23:amd64 (2.5+dfsg-6build1) ...\n",
            "Selecting previously unselected package libgsl-dev.\n",
            "Preparing to unpack .../03-libgsl-dev_2.5+dfsg-6build1_amd64.deb ...\n",
            "Unpacking libgsl-dev (2.5+dfsg-6build1) ...\n",
            "Selecting previously unselected package libschroedinger-maeparser1:amd64.\n",
            "Preparing to unpack .../04-libschroedinger-maeparser1_1.2.2-1build1_amd64.deb ...\n",
            "Unpacking libschroedinger-maeparser1:amd64 (1.2.2-1build1) ...\n",
            "Selecting previously unselected package libopenbabel6.\n",
            "Preparing to unpack .../05-libopenbabel6_3.0.0+dfsg-3ubuntu3_amd64.deb ...\n",
            "Unpacking libopenbabel6 (3.0.0+dfsg-3ubuntu3) ...\n",
            "Selecting previously unselected package libopenbabel-dev.\n",
            "Preparing to unpack .../06-libopenbabel-dev_3.0.0+dfsg-3ubuntu3_amd64.deb ...\n",
            "Unpacking libopenbabel-dev (3.0.0+dfsg-3ubuntu3) ...\n",
            "Selecting previously unselected package libpython2.7:amd64.\n",
            "Preparing to unpack .../07-libpython2.7_2.7.18-1~20.04.3_amd64.deb ...\n",
            "Unpacking libpython2.7:amd64 (2.7.18-1~20.04.3) ...\n",
            "Selecting previously unselected package libpython2.7-dev:amd64.\n",
            "Preparing to unpack .../08-libpython2.7-dev_2.7.18-1~20.04.3_amd64.deb ...\n",
            "Unpacking libpython2.7-dev:amd64 (2.7.18-1~20.04.3) ...\n",
            "Selecting previously unselected package libpython2-dev:amd64.\n",
            "Preparing to unpack .../09-libpython2-dev_2.7.17-2ubuntu4_amd64.deb ...\n",
            "Unpacking libpython2-dev:amd64 (2.7.17-2ubuntu4) ...\n",
            "Selecting previously unselected package openbabel.\n",
            "Preparing to unpack .../10-openbabel_3.0.0+dfsg-3ubuntu3_amd64.deb ...\n",
            "Unpacking openbabel (3.0.0+dfsg-3ubuntu3) ...\n",
            "Selecting previously unselected package python-is-python2.\n",
            "Preparing to unpack .../11-python-is-python2_2.7.17-4_all.deb ...\n",
            "Unpacking python-is-python2 (2.7.17-4) ...\n",
            "Selecting previously unselected package python2.7-dev.\n",
            "Preparing to unpack .../12-python2.7-dev_2.7.18-1~20.04.3_amd64.deb ...\n",
            "Unpacking python2.7-dev (2.7.18-1~20.04.3) ...\n",
            "Selecting previously unselected package python2-dev.\n",
            "Preparing to unpack .../13-python2-dev_2.7.17-2ubuntu4_amd64.deb ...\n",
            "Unpacking python2-dev (2.7.17-2ubuntu4) ...\n",
            "Selecting previously unselected package python-dev-is-python2.\n",
            "Preparing to unpack .../14-python-dev-is-python2_2.7.17-4_all.deb ...\n",
            "Unpacking python-dev-is-python2 (2.7.17-4) ...\n",
            "Selecting previously unselected package libeigen3-dev.\n",
            "Preparing to unpack .../15-libeigen3-dev_3.3.7-2_all.deb ...\n",
            "Unpacking libeigen3-dev (3.3.7-2) ...\n",
            "Setting up libpython2.7:amd64 (2.7.18-1~20.04.3) ...\n",
            "Setting up libpython2.7-dev:amd64 (2.7.18-1~20.04.3) ...\n",
            "Setting up libgslcblas0:amd64 (2.5+dfsg-6build1) ...\n",
            "Setting up libpython2-stdlib:amd64 (2.7.17-2ubuntu4) ...\n",
            "Setting up python2 (2.7.17-2ubuntu4) ...\n",
            "Setting up libschroedinger-maeparser1:amd64 (1.2.2-1build1) ...\n",
            "Setting up libgsl23:amd64 (2.5+dfsg-6build1) ...\n",
            "Setting up libeigen3-dev (3.3.7-2) ...\n",
            "Setting up libpython2-dev:amd64 (2.7.17-2ubuntu4) ...\n",
            "Setting up python-is-python2 (2.7.17-4) ...\n",
            "Setting up python2.7-dev (2.7.18-1~20.04.3) ...\n",
            "Setting up libgsl-dev (2.5+dfsg-6build1) ...\n",
            "Setting up python2-dev (2.7.17-2ubuntu4) ...\n",
            "Setting up libopenbabel6 (3.0.0+dfsg-3ubuntu3) ...\n",
            "Setting up openbabel (3.0.0+dfsg-3ubuntu3) ...\n",
            "Setting up libopenbabel-dev (3.0.0+dfsg-3ubuntu3) ...\n",
            "Setting up python-dev-is-python2 (2.7.17-4) ...\n",
            "Processing triggers for man-db (2.9.1-1) ...\n",
            "Processing triggers for libc-bin (2.31-0ubuntu9.9) ...\n",
            "--2023-03-30 01:16:44--  https://raw.githubusercontent.com/alessandronascimento/pyLiBELa/main/Colabs/Makefile\n",
            "Resolving raw.githubusercontent.com (raw.githubusercontent.com)... 185.199.108.133, 185.199.109.133, 185.199.110.133, ...\n",
            "Connecting to raw.githubusercontent.com (raw.githubusercontent.com)|185.199.108.133|:443... connected.\n",
            "HTTP request sent, awaiting response... 200 OK\n",
            "Length: 2567 (2.5K) [text/plain]\n",
            "Saving to: ‘Makefile’\n",
            "\n",
            "Makefile            100%[===================>]   2.51K  --.-KB/s    in 0s      \n",
            "\n",
            "2023-03-30 01:16:45 (39.8 MB/s) - ‘Makefile’ saved [2567/2567]\n",
            "\n",
            "rmdir: failed to remove 'src': No such file or directory\n",
            "make: *** [Makefile:87: uninstall] Error 1\n",
            "--2023-03-30 01:16:45--  https://raw.githubusercontent.com/alessandronascimento/pyLiBELa/main/src/pyPARSER.cpp\n",
            "Resolving raw.githubusercontent.com (raw.githubusercontent.com)... 185.199.110.133, 185.199.111.133, 185.199.108.133, ...\n",
            "Connecting to raw.githubusercontent.com (raw.githubusercontent.com)|185.199.110.133|:443... connected.\n",
            "HTTP request sent, awaiting response... 200 OK\n",
            "Length: 22345 (22K) [text/plain]\n",
            "Saving to: ‘pyPARSER.cpp’\n",
            "\n",
            "pyPARSER.cpp        100%[===================>]  21.82K  --.-KB/s    in 0.001s  \n",
            "\n",
            "2023-03-30 01:16:45 (15.7 MB/s) - ‘pyPARSER.cpp’ saved [22345/22345]\n",
            "\n",
            "--2023-03-30 01:16:45--  https://raw.githubusercontent.com/alessandronascimento/pyLiBELa/main/src/pyPARSER.h\n",
            "Resolving raw.githubusercontent.com (raw.githubusercontent.com)... 185.199.108.133, 185.199.109.133, 185.199.110.133, ...\n",
            "Connecting to raw.githubusercontent.com (raw.githubusercontent.com)|185.199.108.133|:443... connected.\n",
            "HTTP request sent, awaiting response... 200 OK\n",
            "Length: 12042 (12K) [text/plain]\n",
            "Saving to: ‘pyPARSER.h’\n",
            "\n",
            "pyPARSER.h          100%[===================>]  11.76K  --.-KB/s    in 0s      \n",
            "\n",
            "2023-03-30 01:16:45 (94.2 MB/s) - ‘pyPARSER.h’ saved [12042/12042]\n",
            "\n",
            "--2023-03-30 01:16:45--  https://raw.githubusercontent.com/alessandronascimento/pyLiBELa/main/src/pyMol2.cpp\n",
            "Resolving raw.githubusercontent.com (raw.githubusercontent.com)... 185.199.108.133, 185.199.109.133, 185.199.110.133, ...\n",
            "Connecting to raw.githubusercontent.com (raw.githubusercontent.com)|185.199.108.133|:443... connected.\n",
            "HTTP request sent, awaiting response... 200 OK\n",
            "Length: 58328 (57K) [text/plain]\n",
            "Saving to: ‘pyMol2.cpp’\n",
            "\n",
            "pyMol2.cpp          100%[===================>]  56.96K  --.-KB/s    in 0.01s   \n",
            "\n",
            "2023-03-30 01:16:45 (5.26 MB/s) - ‘pyMol2.cpp’ saved [58328/58328]\n",
            "\n",
            "--2023-03-30 01:16:45--  https://raw.githubusercontent.com/alessandronascimento/pyLiBELa/main/src/pyMol2.h\n",
            "Resolving raw.githubusercontent.com (raw.githubusercontent.com)... 185.199.108.133, 185.199.109.133, 185.199.110.133, ...\n",
            "Connecting to raw.githubusercontent.com (raw.githubusercontent.com)|185.199.108.133|:443... connected.\n",
            "HTTP request sent, awaiting response... 200 OK\n",
            "Length: 4392 (4.3K) [text/plain]\n",
            "Saving to: ‘pyMol2.h’\n",
            "\n",
            "pyMol2.h            100%[===================>]   4.29K  --.-KB/s    in 0s      \n",
            "\n",
            "2023-03-30 01:16:45 (51.6 MB/s) - ‘pyMol2.h’ saved [4392/4392]\n",
            "\n",
            "--2023-03-30 01:16:45--  https://raw.githubusercontent.com/alessandronascimento/pyLiBELa/main/src/pyWRITER.cpp\n",
            "Resolving raw.githubusercontent.com (raw.githubusercontent.com)... 185.199.110.133, 185.199.108.133, 185.199.109.133, ...\n",
            "Connecting to raw.githubusercontent.com (raw.githubusercontent.com)|185.199.110.133|:443... connected.\n",
            "HTTP request sent, awaiting response... 200 OK\n",
            "Length: 40353 (39K) [text/plain]\n",
            "Saving to: ‘pyWRITER.cpp’\n",
            "\n",
            "pyWRITER.cpp        100%[===================>]  39.41K  --.-KB/s    in 0.006s  \n",
            "\n",
            "2023-03-30 01:16:46 (6.95 MB/s) - ‘pyWRITER.cpp’ saved [40353/40353]\n",
            "\n",
            "--2023-03-30 01:16:46--  https://raw.githubusercontent.com/alessandronascimento/pyLiBELa/main/src/pyWRITER.h\n",
            "Resolving raw.githubusercontent.com (raw.githubusercontent.com)... 185.199.108.133, 185.199.111.133, 185.199.109.133, ...\n",
            "Connecting to raw.githubusercontent.com (raw.githubusercontent.com)|185.199.108.133|:443... connected.\n",
            "HTTP request sent, awaiting response... 200 OK\n",
            "Length: 3091 (3.0K) [text/plain]\n",
            "Saving to: ‘pyWRITER.h’\n",
            "\n",
            "pyWRITER.h          100%[===================>]   3.02K  --.-KB/s    in 0s      \n",
            "\n",
            "2023-03-30 01:16:46 (36.3 MB/s) - ‘pyWRITER.h’ saved [3091/3091]\n",
            "\n",
            "--2023-03-30 01:16:46--  https://raw.githubusercontent.com/alessandronascimento/pyLiBELa/main/src/pyGrid.h\n",
            "Resolving raw.githubusercontent.com (raw.githubusercontent.com)... 185.199.110.133, 185.199.111.133, 185.199.108.133, ...\n",
            "Connecting to raw.githubusercontent.com (raw.githubusercontent.com)|185.199.110.133|:443... connected.\n",
            "HTTP request sent, awaiting response... 200 OK\n",
            "Length: 5026 (4.9K) [text/plain]\n",
            "Saving to: ‘pyGrid.h’\n",
            "\n",
            "pyGrid.h            100%[===================>]   4.91K  --.-KB/s    in 0s      \n",
            "\n",
            "2023-03-30 01:16:46 (65.0 MB/s) - ‘pyGrid.h’ saved [5026/5026]\n",
            "\n",
            "--2023-03-30 01:16:46--  https://raw.githubusercontent.com/alessandronascimento/pyLiBELa/main/src/pyGrid.cpp\n",
            "Resolving raw.githubusercontent.com (raw.githubusercontent.com)... 185.199.111.133, 185.199.110.133, 185.199.108.133, ...\n",
            "Connecting to raw.githubusercontent.com (raw.githubusercontent.com)|185.199.111.133|:443... connected.\n",
            "HTTP request sent, awaiting response... 200 OK\n",
            "Length: 67346 (66K) [text/plain]\n",
            "Saving to: ‘pyGrid.cpp’\n",
            "\n",
            "pyGrid.cpp          100%[===================>]  65.77K  --.-KB/s    in 0.01s   \n",
            "\n",
            "2023-03-30 01:16:46 (5.67 MB/s) - ‘pyGrid.cpp’ saved [67346/67346]\n",
            "\n",
            "--2023-03-30 01:16:46--  https://raw.githubusercontent.com/alessandronascimento/pyLiBELa/main/src/iMcLiBELa.h\n",
            "Resolving raw.githubusercontent.com (raw.githubusercontent.com)... 185.199.108.133, 185.199.111.133, 185.199.109.133, ...\n",
            "Connecting to raw.githubusercontent.com (raw.githubusercontent.com)|185.199.108.133|:443... connected.\n",
            "HTTP request sent, awaiting response... 200 OK\n",
            "Length: 442 [text/plain]\n",
            "Saving to: ‘iMcLiBELa.h’\n",
            "\n",
            "iMcLiBELa.h         100%[===================>]     442  --.-KB/s    in 0s      \n",
            "\n",
            "2023-03-30 01:16:46 (16.1 MB/s) - ‘iMcLiBELa.h’ saved [442/442]\n",
            "\n",
            "--2023-03-30 01:16:46--  https://raw.githubusercontent.com/alessandronascimento/pyLiBELa/main/src/pyCOORD_MC.cpp\n",
            "Resolving raw.githubusercontent.com (raw.githubusercontent.com)... 185.199.110.133, 185.199.108.133, 185.199.111.133, ...\n",
            "Connecting to raw.githubusercontent.com (raw.githubusercontent.com)|185.199.110.133|:443... connected.\n",
            "HTTP request sent, awaiting response... 200 OK\n",
            "Length: 13555 (13K) [text/plain]\n",
            "Saving to: ‘pyCOORD_MC.cpp’\n",
            "\n",
            "pyCOORD_MC.cpp      100%[===================>]  13.24K  --.-KB/s    in 0.001s  \n",
            "\n",
            "2023-03-30 01:16:46 (24.0 MB/s) - ‘pyCOORD_MC.cpp’ saved [13555/13555]\n",
            "\n",
            "--2023-03-30 01:16:46--  https://raw.githubusercontent.com/alessandronascimento/pyLiBELa/main/src/pyCOORD_MC.h\n",
            "Resolving raw.githubusercontent.com (raw.githubusercontent.com)... 185.199.111.133, 185.199.110.133, 185.199.108.133, ...\n",
            "Connecting to raw.githubusercontent.com (raw.githubusercontent.com)|185.199.111.133|:443... connected.\n",
            "HTTP request sent, awaiting response... 200 OK\n",
            "Length: 7329 (7.2K) [text/plain]\n",
            "Saving to: ‘pyCOORD_MC.h’\n",
            "\n",
            "pyCOORD_MC.h        100%[===================>]   7.16K  --.-KB/s    in 0s      \n",
            "\n",
            "2023-03-30 01:16:46 (40.9 MB/s) - ‘pyCOORD_MC.h’ saved [7329/7329]\n",
            "\n",
            "--2023-03-30 01:16:46--  https://raw.githubusercontent.com/alessandronascimento/pyLiBELa/main/src/pyRAND.h\n",
            "Resolving raw.githubusercontent.com (raw.githubusercontent.com)... 185.199.108.133, 185.199.109.133, 185.199.110.133, ...\n",
            "Connecting to raw.githubusercontent.com (raw.githubusercontent.com)|185.199.108.133|:443... connected.\n",
            "HTTP request sent, awaiting response... 200 OK\n",
            "Length: 1372 (1.3K) [text/plain]\n",
            "Saving to: ‘pyRAND.h’\n",
            "\n",
            "pyRAND.h            100%[===================>]   1.34K  --.-KB/s    in 0s      \n",
            "\n",
            "2023-03-30 01:16:47 (60.8 MB/s) - ‘pyRAND.h’ saved [1372/1372]\n",
            "\n",
            "--2023-03-30 01:16:47--  https://raw.githubusercontent.com/alessandronascimento/pyLiBELa/main/src/pyFindHB.cpp\n",
            "Resolving raw.githubusercontent.com (raw.githubusercontent.com)... 185.199.108.133, 185.199.109.133, 185.199.110.133, ...\n",
            "Connecting to raw.githubusercontent.com (raw.githubusercontent.com)|185.199.108.133|:443... connected.\n",
            "HTTP request sent, awaiting response... 200 OK\n",
            "Length: 17041 (17K) [text/plain]\n",
            "Saving to: ‘pyFindHB.cpp’\n",
            "\n",
            "pyFindHB.cpp        100%[===================>]  16.64K  --.-KB/s    in 0s      \n",
            "\n",
            "2023-03-30 01:16:47 (35.9 MB/s) - ‘pyFindHB.cpp’ saved [17041/17041]\n",
            "\n",
            "--2023-03-30 01:16:47--  https://raw.githubusercontent.com/alessandronascimento/pyLiBELa/main/src/pyFindHB.h\n",
            "Resolving raw.githubusercontent.com (raw.githubusercontent.com)... 185.199.109.133, 185.199.111.133, 185.199.108.133, ...\n",
            "Connecting to raw.githubusercontent.com (raw.githubusercontent.com)|185.199.109.133|:443... connected.\n",
            "HTTP request sent, awaiting response... 200 OK\n",
            "Length: 893 [text/plain]\n",
            "Saving to: ‘pyFindHB.h’\n",
            "\n",
            "pyFindHB.h          100%[===================>]     893  --.-KB/s    in 0s      \n",
            "\n",
            "2023-03-30 01:16:47 (39.6 MB/s) - ‘pyFindHB.h’ saved [893/893]\n",
            "\n",
            "--2023-03-30 01:16:47--  https://raw.githubusercontent.com/alessandronascimento/pyLiBELa/main/test/rec.mol2.gz\n",
            "Resolving raw.githubusercontent.com (raw.githubusercontent.com)... 185.199.108.133, 185.199.109.133, 185.199.110.133, ...\n",
            "Connecting to raw.githubusercontent.com (raw.githubusercontent.com)|185.199.108.133|:443... connected.\n",
            "HTTP request sent, awaiting response... 200 OK\n",
            "Length: 79116 (77K) [application/octet-stream]\n",
            "Saving to: ‘rec.mol2.gz’\n",
            "\n",
            "rec.mol2.gz         100%[===================>]  77.26K  --.-KB/s    in 0.01s   \n",
            "\n",
            "2023-03-30 01:16:47 (5.83 MB/s) - ‘rec.mol2.gz’ saved [79116/79116]\n",
            "\n",
            "--2023-03-30 01:16:47--  https://raw.githubusercontent.com/alessandronascimento/pyLiBELa/main/test/lig.mol2.gz\n",
            "Resolving raw.githubusercontent.com (raw.githubusercontent.com)... 185.199.108.133, 185.199.109.133, 185.199.110.133, ...\n",
            "Connecting to raw.githubusercontent.com (raw.githubusercontent.com)|185.199.108.133|:443... connected.\n",
            "HTTP request sent, awaiting response... 200 OK\n",
            "Length: 563 [application/octet-stream]\n",
            "Saving to: ‘lig.mol2.gz’\n",
            "\n",
            "lig.mol2.gz         100%[===================>]     563  --.-KB/s    in 0s      \n",
            "\n",
            "2023-03-30 01:16:47 (20.9 MB/s) - ‘lig.mol2.gz’ saved [563/563]\n",
            "\n"
          ]
        }
      ],
      "source": [
        "! apt-get install libboost-python1.71-dev openbabel libopenbabel-dev python-dev zlib1g-dev libeigen3-dev libgsl-dev\n",
        "!rm -rf Makefile*\n",
        "!wget https://raw.githubusercontent.com/alessandronascimento/pyLiBELa/main/Colabs/Makefile\n",
        "!make uninstall\n",
        "!make install"
      ]
    },
    {
      "cell_type": "code",
      "source": [
        "!make clean\n",
        "!make"
      ],
      "metadata": {
        "id": "JAvDpZ_W0RGo",
        "outputId": "98f6ed83-9280-4bf0-fb6a-375140daf7d0",
        "colab": {
          "base_uri": "https://localhost:8080/"
        }
      },
      "execution_count": 2,
      "outputs": [
        {
          "output_type": "stream",
          "name": "stdout",
          "text": [
            "rmdir: failed to remove 'obj': No such file or directory\n",
            "make: *** [Makefile:95: clean] Error 1\n",
            "Building dinamic libraries using G++ compiler: src/pyFindHB.cpp\n",
            "g++ src/pyFindHB.cpp -fPIC -shared -I/usr/include/python3.9 -I/usr/include/openbabel3 -I/usr/include/eigen3 -DBUILD=0 -DHAVE_EIGEN -o obj/pyFindHB.so -L/usr/lib/x86_64-linux-gnu -lboost_python38 -lz -lopenbabel                  \n",
            " \n",
            "Building dinamic libraries using G++ compiler: src/pyMol2.cpp\n",
            "g++ src/pyMol2.cpp -fPIC -shared -I/usr/include/python3.9 -I/usr/include/openbabel3 -I/usr/include/eigen3 -DBUILD=0 -DHAVE_EIGEN -o obj/pyMol2.so -L/usr/lib/x86_64-linux-gnu -lboost_python38 -lz -lopenbabel                  \n",
            " \n",
            "Building dinamic libraries using G++ compiler: src/pyGrid.cpp\n",
            "g++ src/pyGrid.cpp -fPIC -shared -I/usr/include/python3.9 -I/usr/include/openbabel3 -I/usr/include/eigen3 -DBUILD=0 -DHAVE_EIGEN -o obj/pyGrid.so -L/usr/lib/x86_64-linux-gnu -lboost_python38 -lz -lopenbabel                  \n",
            " \n",
            "Building dinamic libraries using G++ compiler: src/pyPARSER.cpp\n",
            "g++ src/pyPARSER.cpp -fPIC -shared -I/usr/include/python3.9 -I/usr/include/openbabel3 -I/usr/include/eigen3 -DBUILD=0 -DHAVE_EIGEN -o obj/pyPARSER.so -L/usr/lib/x86_64-linux-gnu -lboost_python38 -lz -lopenbabel                  \n",
            " \n",
            "Building dinamic libraries using G++ compiler: src/pyCOORD_MC.cpp\n",
            "g++ src/pyCOORD_MC.cpp -fPIC -shared -I/usr/include/python3.9 -I/usr/include/openbabel3 -I/usr/include/eigen3 -DBUILD=0 -DHAVE_EIGEN -o obj/pyCOORD_MC.so -L/usr/lib/x86_64-linux-gnu -lboost_python38 -lz -lopenbabel                  \n",
            " \n",
            "Building dinamic libraries using G++ compiler: src/pyWRITER.cpp\n",
            "g++ src/pyWRITER.cpp -fPIC -shared -I/usr/include/python3.9 -I/usr/include/openbabel3 -I/usr/include/eigen3 -DBUILD=0 -DHAVE_EIGEN -o obj/pyWRITER.so -L/usr/lib/x86_64-linux-gnu -lboost_python38 -lz -lopenbabel                  \n",
            " \n"
          ]
        }
      ]
    },
    {
      "cell_type": "code",
      "source": [
        "!mv /content/obj/* /content/src/*gz /content\n",
        "!ls"
      ],
      "metadata": {
        "id": "n0RcHlml0nuV",
        "outputId": "a459416e-f15b-410e-f6f7-5d3c9c62623a",
        "colab": {
          "base_uri": "https://localhost:8080/"
        }
      },
      "execution_count": 3,
      "outputs": [
        {
          "output_type": "stream",
          "name": "stdout",
          "text": [
            "lig.mol2.gz  obj\t    pyFindHB.so  pyMol2.so    pyWRITER.so  sample_data\n",
            "Makefile     pyCOORD_MC.so  pyGrid.so\t pyPARSER.so  rec.mol2.gz  src\n"
          ]
        }
      ]
    },
    {
      "cell_type": "code",
      "source": [
        "from pyPARSER import *\n",
        "from pyMol2 import *\n",
        "from pyWRITER import *\n",
        "from pyGrid import *\n",
        "from pyCOORD_MC import *\n",
        "from pyFindHB import * \n"
      ],
      "metadata": {
        "id": "bGF7TslaoXb-"
      },
      "execution_count": 11,
      "outputs": []
    },
    {
      "cell_type": "code",
      "source": [
        "Input = PARSER()\n",
        "print(Input.mol2_aa)"
      ],
      "metadata": {
        "id": "6gGSOCc2p-xo",
        "outputId": "933e2526-d1ed-45c9-f029-25458c4966f2",
        "colab": {
          "base_uri": "https://localhost:8080/"
        }
      },
      "execution_count": 5,
      "outputs": [
        {
          "output_type": "stream",
          "name": "stdout",
          "text": [
            "False\n"
          ]
        }
      ]
    },
    {
      "cell_type": "code",
      "source": [
        "lig = Mol2(Input, \"lig.mol2.gz\")"
      ],
      "metadata": {
        "id": "5TmwkeIXucQp"
      },
      "execution_count": 6,
      "outputs": []
    },
    {
      "cell_type": "code",
      "source": [
        "print(lig.charges)\n",
        "pycharges=[]\n",
        "pycharges = list(lig.charges)\n",
        "print(pycharges)"
      ],
      "metadata": {
        "id": "H-UdOjnRubTc",
        "outputId": "e3360359-17e9-4176-8d49-eea9de483c15",
        "colab": {
          "base_uri": "https://localhost:8080/"
        }
      },
      "execution_count": 7,
      "outputs": [
        {
          "output_type": "stream",
          "name": "stdout",
          "text": [
            "<pyMol2.vectorDouble object at 0x7f87f954cfa0>\n",
            "[0.03680000081658363, -0.05900000035762787, -0.1889999955892563, -0.0949999988079071, -0.08299999684095383, -0.14900000393390656, -0.11299999803304672, -0.12099999934434891, -0.1387999951839447, 0.1889999955892563, 0.16500000655651093, 0.1379999965429306, 0.13300000131130219, 0.13500000536441803, 0.15000000596046448]\n"
          ]
        }
      ]
    },
    {
      "cell_type": "code",
      "source": [
        "Writer = WRITER(Input)\n",
        "print(Writer.print_welcome())"
      ],
      "metadata": {
        "id": "q0eIuRfLuray",
        "outputId": "63653e73-17fa-44a5-fb37-4fa4df922131",
        "colab": {
          "base_uri": "https://localhost:8080/"
        }
      },
      "execution_count": 8,
      "outputs": [
        {
          "output_type": "stream",
          "name": "stdout",
          "text": [
            "None\n"
          ]
        }
      ]
    }
  ]
}