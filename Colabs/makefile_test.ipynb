{
  "nbformat": 4,
  "nbformat_minor": 0,
  "metadata": {
    "colab": {
      "provenance": [],
      "authorship_tag": "ABX9TyPwY15k1HOc/nhjVaFgUiua",
      "include_colab_link": true
    },
    "kernelspec": {
      "name": "python3",
      "display_name": "Python 3"
    },
    "language_info": {
      "name": "python"
    }
  },
  "cells": [
    {
      "cell_type": "markdown",
      "metadata": {
        "id": "view-in-github",
        "colab_type": "text"
      },
      "source": [
        "<a href=\"https://colab.research.google.com/github/alessandronascimento/pyLiBELa/blob/main/Colabs/makefile_test.ipynb\" target=\"_parent\"><img src=\"https://colab.research.google.com/assets/colab-badge.svg\" alt=\"Open In Colab\"/></a>"
      ]
    },
    {
      "cell_type": "code",
      "execution_count": 15,
      "metadata": {
        "id": "W7u36RgusPuu",
        "outputId": "1c7f094f-4a1e-4472-9a8e-e1d5e932e7ed",
        "colab": {
          "base_uri": "https://localhost:8080/"
        }
      },
      "outputs": [
        {
          "output_type": "stream",
          "name": "stdout",
          "text": [
            "Reading package lists... Done\n",
            "Building dependency tree       \n",
            "Reading state information... Done\n",
            "Note, selecting 'python-dev-is-python2' instead of 'python-dev'\n",
            "libboost-python1.71-dev is already the newest version (1.71.0-6ubuntu6).\n",
            "libeigen3-dev is already the newest version (3.3.7-2).\n",
            "libgsl-dev is already the newest version (2.5+dfsg-6build1).\n",
            "libopenbabel-dev is already the newest version (3.0.0+dfsg-3ubuntu3).\n",
            "openbabel is already the newest version (3.0.0+dfsg-3ubuntu3).\n",
            "python-dev-is-python2 is already the newest version (2.7.17-4).\n",
            "zlib1g-dev is already the newest version (1:1.2.11.dfsg-2ubuntu1.5).\n",
            "0 upgraded, 0 newly installed, 0 to remove and 23 not upgraded.\n",
            "--2023-03-29 18:33:43--  https://raw.githubusercontent.com/alessandronascimento/pyLiBELa/main/Colabs/Makefile\n",
            "Resolving raw.githubusercontent.com (raw.githubusercontent.com)... 185.199.111.133, 185.199.109.133, 185.199.110.133, ...\n",
            "Connecting to raw.githubusercontent.com (raw.githubusercontent.com)|185.199.111.133|:443... connected.\n",
            "HTTP request sent, awaiting response... 200 OK\n",
            "Length: 2567 (2.5K) [text/plain]\n",
            "Saving to: ‘Makefile’\n",
            "\n",
            "Makefile            100%[===================>]   2.51K  --.-KB/s    in 0s      \n",
            "\n",
            "2023-03-29 18:33:43 (26.6 MB/s) - ‘Makefile’ saved [2567/2567]\n",
            "\n",
            "--2023-03-29 18:33:43--  https://raw.githubusercontent.com/alessandronascimento/pyLiBELa/main/src/pyPARSER.cpp\n",
            "Resolving raw.githubusercontent.com (raw.githubusercontent.com)... 185.199.110.133, 185.199.108.133, 185.199.111.133, ...\n",
            "Connecting to raw.githubusercontent.com (raw.githubusercontent.com)|185.199.110.133|:443... connected.\n",
            "HTTP request sent, awaiting response... 200 OK\n",
            "Length: 22345 (22K) [text/plain]\n",
            "Saving to: ‘pyPARSER.cpp’\n",
            "\n",
            "pyPARSER.cpp        100%[===================>]  21.82K  --.-KB/s    in 0.002s  \n",
            "\n",
            "2023-03-29 18:33:43 (11.3 MB/s) - ‘pyPARSER.cpp’ saved [22345/22345]\n",
            "\n",
            "--2023-03-29 18:33:43--  https://raw.githubusercontent.com/alessandronascimento/pyLiBELa/main/src/pyPARSER.h\n",
            "Resolving raw.githubusercontent.com (raw.githubusercontent.com)... 185.199.108.133, 185.199.109.133, 185.199.110.133, ...\n",
            "Connecting to raw.githubusercontent.com (raw.githubusercontent.com)|185.199.108.133|:443... connected.\n",
            "HTTP request sent, awaiting response... 200 OK\n",
            "Length: 12042 (12K) [text/plain]\n",
            "Saving to: ‘pyPARSER.h’\n",
            "\n",
            "pyPARSER.h          100%[===================>]  11.76K  --.-KB/s    in 0s      \n",
            "\n",
            "2023-03-29 18:33:43 (93.5 MB/s) - ‘pyPARSER.h’ saved [12042/12042]\n",
            "\n",
            "--2023-03-29 18:33:43--  https://raw.githubusercontent.com/alessandronascimento/pyLiBELa/main/src/pyMol2.cpp\n",
            "Resolving raw.githubusercontent.com (raw.githubusercontent.com)... 185.199.108.133, 185.199.109.133, 185.199.110.133, ...\n",
            "Connecting to raw.githubusercontent.com (raw.githubusercontent.com)|185.199.108.133|:443... connected.\n",
            "HTTP request sent, awaiting response... 200 OK\n",
            "Length: 58328 (57K) [text/plain]\n",
            "Saving to: ‘pyMol2.cpp’\n",
            "\n",
            "pyMol2.cpp          100%[===================>]  56.96K  --.-KB/s    in 0.01s   \n",
            "\n",
            "2023-03-29 18:33:43 (4.40 MB/s) - ‘pyMol2.cpp’ saved [58328/58328]\n",
            "\n",
            "--2023-03-29 18:33:43--  https://raw.githubusercontent.com/alessandronascimento/pyLiBELa/main/src/pyMol2.h\n",
            "Resolving raw.githubusercontent.com (raw.githubusercontent.com)... 185.199.109.133, 185.199.110.133, 185.199.111.133, ...\n",
            "Connecting to raw.githubusercontent.com (raw.githubusercontent.com)|185.199.109.133|:443... connected.\n",
            "HTTP request sent, awaiting response... 200 OK\n",
            "Length: 4392 (4.3K) [text/plain]\n",
            "Saving to: ‘pyMol2.h’\n",
            "\n",
            "pyMol2.h            100%[===================>]   4.29K  --.-KB/s    in 0s      \n",
            "\n",
            "2023-03-29 18:33:44 (38.6 MB/s) - ‘pyMol2.h’ saved [4392/4392]\n",
            "\n",
            "--2023-03-29 18:33:44--  https://raw.githubusercontent.com/alessandronascimento/pyLiBELa/main/src/pyWRITER.cpp\n",
            "Resolving raw.githubusercontent.com (raw.githubusercontent.com)... 185.199.108.133, 185.199.109.133, 185.199.110.133, ...\n",
            "Connecting to raw.githubusercontent.com (raw.githubusercontent.com)|185.199.108.133|:443... connected.\n",
            "HTTP request sent, awaiting response... 200 OK\n",
            "Length: 40353 (39K) [text/plain]\n",
            "Saving to: ‘pyWRITER.cpp’\n",
            "\n",
            "pyWRITER.cpp        100%[===================>]  39.41K  --.-KB/s    in 0.003s  \n",
            "\n",
            "2023-03-29 18:33:44 (11.1 MB/s) - ‘pyWRITER.cpp’ saved [40353/40353]\n",
            "\n",
            "--2023-03-29 18:33:44--  https://raw.githubusercontent.com/alessandronascimento/pyLiBELa/main/src/pyWRITER.h\n",
            "Resolving raw.githubusercontent.com (raw.githubusercontent.com)... 185.199.108.133, 185.199.109.133, 185.199.110.133, ...\n",
            "Connecting to raw.githubusercontent.com (raw.githubusercontent.com)|185.199.108.133|:443... connected.\n",
            "HTTP request sent, awaiting response... 200 OK\n",
            "Length: 3091 (3.0K) [text/plain]\n",
            "Saving to: ‘pyWRITER.h’\n",
            "\n",
            "pyWRITER.h          100%[===================>]   3.02K  --.-KB/s    in 0s      \n",
            "\n",
            "2023-03-29 18:33:44 (34.1 MB/s) - ‘pyWRITER.h’ saved [3091/3091]\n",
            "\n",
            "--2023-03-29 18:33:44--  https://raw.githubusercontent.com/alessandronascimento/pyLiBELa/main/src/pyGrid.h\n",
            "Resolving raw.githubusercontent.com (raw.githubusercontent.com)... 185.199.111.133, 185.199.108.133, 185.199.109.133, ...\n",
            "Connecting to raw.githubusercontent.com (raw.githubusercontent.com)|185.199.111.133|:443... connected.\n",
            "HTTP request sent, awaiting response... 200 OK\n",
            "Length: 5026 (4.9K) [text/plain]\n",
            "Saving to: ‘pyGrid.h’\n",
            "\n",
            "pyGrid.h            100%[===================>]   4.91K  --.-KB/s    in 0s      \n",
            "\n",
            "2023-03-29 18:33:44 (54.2 MB/s) - ‘pyGrid.h’ saved [5026/5026]\n",
            "\n",
            "--2023-03-29 18:33:44--  https://raw.githubusercontent.com/alessandronascimento/pyLiBELa/main/src/pyGrid.cpp\n",
            "Resolving raw.githubusercontent.com (raw.githubusercontent.com)... 185.199.108.133, 185.199.109.133, 185.199.110.133, ...\n",
            "Connecting to raw.githubusercontent.com (raw.githubusercontent.com)|185.199.108.133|:443... connected.\n",
            "HTTP request sent, awaiting response... 200 OK\n",
            "Length: 67322 (66K) [text/plain]\n",
            "Saving to: ‘pyGrid.cpp’\n",
            "\n",
            "pyGrid.cpp          100%[===================>]  65.74K  --.-KB/s    in 0.01s   \n",
            "\n",
            "2023-03-29 18:33:44 (5.03 MB/s) - ‘pyGrid.cpp’ saved [67322/67322]\n",
            "\n",
            "--2023-03-29 18:33:44--  https://raw.githubusercontent.com/alessandronascimento/pyLiBELa/main/src/iMcLiBELa.h\n",
            "Resolving raw.githubusercontent.com (raw.githubusercontent.com)... 185.199.108.133, 185.199.109.133, 185.199.110.133, ...\n",
            "Connecting to raw.githubusercontent.com (raw.githubusercontent.com)|185.199.108.133|:443... connected.\n",
            "HTTP request sent, awaiting response... 200 OK\n",
            "Length: 442 [text/plain]\n",
            "Saving to: ‘iMcLiBELa.h’\n",
            "\n",
            "iMcLiBELa.h         100%[===================>]     442  --.-KB/s    in 0s      \n",
            "\n",
            "2023-03-29 18:33:45 (20.8 MB/s) - ‘iMcLiBELa.h’ saved [442/442]\n",
            "\n",
            "--2023-03-29 18:33:45--  https://raw.githubusercontent.com/alessandronascimento/pyLiBELa/main/src/pyCOORD_MC.cpp\n",
            "Resolving raw.githubusercontent.com (raw.githubusercontent.com)... 185.199.108.133, 185.199.109.133, 185.199.110.133, ...\n",
            "Connecting to raw.githubusercontent.com (raw.githubusercontent.com)|185.199.108.133|:443... connected.\n",
            "HTTP request sent, awaiting response... 200 OK\n",
            "Length: 13555 (13K) [text/plain]\n",
            "Saving to: ‘pyCOORD_MC.cpp’\n",
            "\n",
            "pyCOORD_MC.cpp      100%[===================>]  13.24K  --.-KB/s    in 0s      \n",
            "\n",
            "2023-03-29 18:33:45 (28.6 MB/s) - ‘pyCOORD_MC.cpp’ saved [13555/13555]\n",
            "\n",
            "--2023-03-29 18:33:45--  https://raw.githubusercontent.com/alessandronascimento/pyLiBELa/main/src/pyCOORD_MC.h\n",
            "Resolving raw.githubusercontent.com (raw.githubusercontent.com)... 185.199.111.133, 185.199.108.133, 185.199.109.133, ...\n",
            "Connecting to raw.githubusercontent.com (raw.githubusercontent.com)|185.199.111.133|:443... connected.\n",
            "HTTP request sent, awaiting response... 200 OK\n",
            "Length: 7329 (7.2K) [text/plain]\n",
            "Saving to: ‘pyCOORD_MC.h’\n",
            "\n",
            "pyCOORD_MC.h        100%[===================>]   7.16K  --.-KB/s    in 0s      \n",
            "\n",
            "2023-03-29 18:33:45 (67.3 MB/s) - ‘pyCOORD_MC.h’ saved [7329/7329]\n",
            "\n",
            "--2023-03-29 18:33:45--  https://raw.githubusercontent.com/alessandronascimento/pyLiBELa/main/src/pyRAND.h\n",
            "Resolving raw.githubusercontent.com (raw.githubusercontent.com)... 185.199.108.133, 185.199.109.133, 185.199.110.133, ...\n",
            "Connecting to raw.githubusercontent.com (raw.githubusercontent.com)|185.199.108.133|:443... connected.\n",
            "HTTP request sent, awaiting response... 200 OK\n",
            "Length: 1372 (1.3K) [text/plain]\n",
            "Saving to: ‘pyRAND.h’\n",
            "\n",
            "pyRAND.h            100%[===================>]   1.34K  --.-KB/s    in 0s      \n",
            "\n",
            "2023-03-29 18:33:45 (75.1 MB/s) - ‘pyRAND.h’ saved [1372/1372]\n",
            "\n",
            "--2023-03-29 18:33:45--  https://raw.githubusercontent.com/alessandronascimento/pyLiBELa/main/src/pyFindHB.cpp\n",
            "Resolving raw.githubusercontent.com (raw.githubusercontent.com)... 185.199.108.133, 185.199.109.133, 185.199.110.133, ...\n",
            "Connecting to raw.githubusercontent.com (raw.githubusercontent.com)|185.199.108.133|:443... connected.\n",
            "HTTP request sent, awaiting response... 200 OK\n",
            "Length: 16990 (17K) [text/plain]\n",
            "Saving to: ‘pyFindHB.cpp’\n",
            "\n",
            "pyFindHB.cpp        100%[===================>]  16.59K  --.-KB/s    in 0.001s  \n",
            "\n",
            "2023-03-29 18:33:45 (17.7 MB/s) - ‘pyFindHB.cpp’ saved [16990/16990]\n",
            "\n",
            "--2023-03-29 18:33:45--  https://raw.githubusercontent.com/alessandronascimento/pyLiBELa/main/src/pyFindHB.h\n",
            "Resolving raw.githubusercontent.com (raw.githubusercontent.com)... 185.199.108.133, 185.199.109.133, 185.199.110.133, ...\n",
            "Connecting to raw.githubusercontent.com (raw.githubusercontent.com)|185.199.108.133|:443... connected.\n",
            "HTTP request sent, awaiting response... 200 OK\n",
            "Length: 893 [text/plain]\n",
            "Saving to: ‘pyFindHB.h’\n",
            "\n",
            "pyFindHB.h          100%[===================>]     893  --.-KB/s    in 0s      \n",
            "\n",
            "2023-03-29 18:33:45 (70.9 MB/s) - ‘pyFindHB.h’ saved [893/893]\n",
            "\n",
            "--2023-03-29 18:33:45--  https://raw.githubusercontent.com/alessandronascimento/pyLiBELa/main/test/rec.mol2.gz\n",
            "Resolving raw.githubusercontent.com (raw.githubusercontent.com)... 185.199.108.133, 185.199.109.133, 185.199.110.133, ...\n",
            "Connecting to raw.githubusercontent.com (raw.githubusercontent.com)|185.199.108.133|:443... connected.\n",
            "HTTP request sent, awaiting response... 200 OK\n",
            "Length: 79116 (77K) [application/octet-stream]\n",
            "Saving to: ‘rec.mol2.gz’\n",
            "\n",
            "rec.mol2.gz         100%[===================>]  77.26K  --.-KB/s    in 0.01s   \n",
            "\n",
            "2023-03-29 18:33:45 (5.09 MB/s) - ‘rec.mol2.gz’ saved [79116/79116]\n",
            "\n",
            "--2023-03-29 18:33:45--  https://raw.githubusercontent.com/alessandronascimento/pyLiBELa/main/test/lig.mol2.gz\n",
            "Resolving raw.githubusercontent.com (raw.githubusercontent.com)... 185.199.108.133, 185.199.109.133, 185.199.110.133, ...\n",
            "Connecting to raw.githubusercontent.com (raw.githubusercontent.com)|185.199.108.133|:443... connected.\n",
            "HTTP request sent, awaiting response... 200 OK\n",
            "Length: 563 [application/octet-stream]\n",
            "Saving to: ‘lig.mol2.gz’\n",
            "\n",
            "lig.mol2.gz         100%[===================>]     563  --.-KB/s    in 0s      \n",
            "\n",
            "2023-03-29 18:33:46 (34.0 MB/s) - ‘lig.mol2.gz’ saved [563/563]\n",
            "\n"
          ]
        }
      ],
      "source": [
        "! apt-get install libboost-python1.71-dev openbabel libopenbabel-dev python-dev zlib1g-dev libeigen3-dev libgsl-dev\n",
        "!rm -rf Makefile*\n",
        "!wget https://raw.githubusercontent.com/alessandronascimento/pyLiBELa/main/Colabs/Makefile\n",
        "!make uninstall\n",
        "!make install\n"
      ]
    },
    {
      "cell_type": "code",
      "source": [
        "!make clean\n",
        "!make"
      ],
      "metadata": {
        "id": "JAvDpZ_W0RGo",
        "colab": {
          "base_uri": "https://localhost:8080/"
        },
        "outputId": "d8e511d0-2676-4efe-ca91-061b2598ad67"
      },
      "execution_count": 16,
      "outputs": [
        {
          "output_type": "stream",
          "name": "stdout",
          "text": [
            "Building dinamic libraries using G++ compiler: src/pyFindHB.cpp\n",
            "g++ src/pyFindHB.cpp -fPIC -shared -I/usr/include/python3.9 -I/usr/include/openbabel3 -I/usr/include/eigen3 -DBUILD=0 -DHAVE_EIGEN -o obj/pyFindHB.so -L/usr/lib/x86_64-linux-gnu -lboost_python38 -lz -lopenbabel                  \n",
            " \n",
            "Building dinamic libraries using G++ compiler: src/pyMol2.cpp\n",
            "g++ src/pyMol2.cpp -fPIC -shared -I/usr/include/python3.9 -I/usr/include/openbabel3 -I/usr/include/eigen3 -DBUILD=0 -DHAVE_EIGEN -o obj/pyMol2.so -L/usr/lib/x86_64-linux-gnu -lboost_python38 -lz -lopenbabel                  \n",
            " \n",
            "Building dinamic libraries using G++ compiler: src/pyGrid.cpp\n",
            "g++ src/pyGrid.cpp -fPIC -shared -I/usr/include/python3.9 -I/usr/include/openbabel3 -I/usr/include/eigen3 -DBUILD=0 -DHAVE_EIGEN -o obj/pyGrid.so -L/usr/lib/x86_64-linux-gnu -lboost_python38 -lz -lopenbabel                  \n",
            " \n",
            "Building dinamic libraries using G++ compiler: src/pyPARSER.cpp\n",
            "g++ src/pyPARSER.cpp -fPIC -shared -I/usr/include/python3.9 -I/usr/include/openbabel3 -I/usr/include/eigen3 -DBUILD=0 -DHAVE_EIGEN -o obj/pyPARSER.so -L/usr/lib/x86_64-linux-gnu -lboost_python38 -lz -lopenbabel                  \n",
            " \n",
            "Building dinamic libraries using G++ compiler: src/pyCOORD_MC.cpp\n",
            "g++ src/pyCOORD_MC.cpp -fPIC -shared -I/usr/include/python3.9 -I/usr/include/openbabel3 -I/usr/include/eigen3 -DBUILD=0 -DHAVE_EIGEN -o obj/pyCOORD_MC.so -L/usr/lib/x86_64-linux-gnu -lboost_python38 -lz -lopenbabel                  \n",
            " \n",
            "Building dinamic libraries using G++ compiler: src/pyWRITER.cpp\n",
            "g++ src/pyWRITER.cpp -fPIC -shared -I/usr/include/python3.9 -I/usr/include/openbabel3 -I/usr/include/eigen3 -DBUILD=0 -DHAVE_EIGEN -o obj/pyWRITER.so -L/usr/lib/x86_64-linux-gnu -lboost_python38 -lz -lopenbabel                  \n",
            " \n"
          ]
        }
      ]
    },
    {
      "cell_type": "code",
      "source": [
        "!mv /content/obj/* /content\n",
        "!ls\n"
      ],
      "metadata": {
        "id": "n0RcHlml0nuV",
        "outputId": "e272eb9a-34ff-44b0-cba4-10549ca3be08",
        "colab": {
          "base_uri": "https://localhost:8080/"
        }
      },
      "execution_count": 17,
      "outputs": [
        {
          "output_type": "stream",
          "name": "stdout",
          "text": [
            "Makefile  pyCOORD_MC.so  pyGrid.so  pyPARSER.so  sample_data\n",
            "obj\t  pyFindHB.so\t pyMol2.so  pyWRITER.so  src\n"
          ]
        }
      ]
    },
    {
      "cell_type": "code",
      "source": [
        "from pyPARSER import *\n",
        "from pyMol2 import *\n",
        "from pyWRITER import *\n",
        "#from pyGrid import * #Já coloquei o include e não funcionou\n",
        "from pyCOORD_MC import *\n",
        "#from pyFindHB import * "
      ],
      "metadata": {
        "id": "bGF7TslaoXb-"
      },
      "execution_count": 30,
      "outputs": []
    }
  ]
}