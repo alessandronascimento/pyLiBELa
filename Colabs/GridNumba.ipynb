{
  "nbformat": 4,
  "nbformat_minor": 0,
  "metadata": {
    "colab": {
      "provenance": [],
      "gpuType": "T4",
      "collapsed_sections": [
        "_QVvQVvbwOAu",
        "YSoP87sAvpZ1",
        "g95WpJOXv2BG"
      ],
      "authorship_tag": "ABX9TyMTQccC3Gu9H21ILEZH+idz",
      "include_colab_link": true
    },
    "kernelspec": {
      "name": "python3",
      "display_name": "Python 3"
    },
    "language_info": {
      "name": "python"
    },
    "gpuClass": "standard"
  },
  "cells": [
    {
      "cell_type": "markdown",
      "metadata": {
        "id": "view-in-github",
        "colab_type": "text"
      },
      "source": [
        "<a href=\"https://colab.research.google.com/github/alessandronascimento/pyLiBELa/blob/alex-works/Colabs/GridNumba.ipynb\" target=\"_parent\"><img src=\"https://colab.research.google.com/assets/colab-badge.svg\" alt=\"Open In Colab\"/></a>"
      ]
    },
    {
      "cell_type": "markdown",
      "source": [
        "#Setup"
      ],
      "metadata": {
        "id": "_QVvQVvbwOAu"
      }
    },
    {
      "cell_type": "code",
      "execution_count": 1,
      "metadata": {
        "id": "TwsRKRp9esZA"
      },
      "outputs": [],
      "source": [
        "#@title Baixando pyLiBELa {display-mode: \"form\"}\n",
        "%%capture\n",
        "!pip3 install condacolab\n",
        "import condacolab\n",
        "condacolab.install()\n",
        "! apt-get install openbabel libopenbabel-dev python-dev-is-python3 zlib1g-dev libeigen3-dev libgsl-dev libnlopt-cxx-dev libgsl-dev\n",
        "! mamba install -c anaconda py-boost"
      ]
    },
    {
      "cell_type": "code",
      "source": [
        "! git init\n",
        "! git remote add origin https://github.com/alessandronascimento/pyLiBELa.git\n",
        "! git pull origin alex-works"
      ],
      "metadata": {
        "id": "-lCaeibWig5e",
        "colab": {
          "base_uri": "https://localhost:8080/"
        },
        "outputId": "091768a7-5c6b-4cc9-bd89-327dd99f377a"
      },
      "execution_count": 1,
      "outputs": [
        {
          "output_type": "stream",
          "name": "stdout",
          "text": [
            "Initialized empty Git repository in /content/.git/\n",
            "remote: Enumerating objects: 1784, done.\u001b[K\n",
            "remote: Counting objects: 100% (409/409), done.\u001b[K\n",
            "remote: Compressing objects: 100% (212/212), done.\u001b[K\n",
            "remote: Total 1784 (delta 278), reused 285 (delta 196), pack-reused 1375\u001b[K\n",
            "Receiving objects: 100% (1784/1784), 4.68 MiB | 17.56 MiB/s, done.\n",
            "Resolving deltas: 100% (1214/1214), done.\n",
            "From https://github.com/alessandronascimento/pyLiBELa\n",
            " * branch            alex-works -> FETCH_HEAD\n",
            " * [new branch]      alex-works -> origin/alex-works\n"
          ]
        }
      ]
    },
    {
      "cell_type": "code",
      "source": [
        "! mv pyLiBELa/src src\n",
        "! rm -rf pyLiBELa\n",
        "! mkdir -p obj\n",
        "! rm -f Makefile*\n",
        "!wget https://raw.githubusercontent.com/alessandronascimento/pyLiBELa/main/Colabs/Makefile\n",
        "!make -j4 "
      ],
      "metadata": {
        "id": "22FgzIQs-_hf"
      },
      "execution_count": null,
      "outputs": []
    },
    {
      "cell_type": "code",
      "source": [
        "!rm -rf obj"
      ],
      "metadata": {
        "id": "ETlQXy-6nrDV"
      },
      "execution_count": null,
      "outputs": []
    },
    {
      "cell_type": "markdown",
      "source": [
        "# Initializations"
      ],
      "metadata": {
        "id": "Cr0SsB3LwSs8"
      }
    },
    {
      "cell_type": "code",
      "source": [
        "#@title Importando bibliotecas {display-mode: \"form\"}\n",
        "\n",
        "from pyPARSER import *\n",
        "from pyMol2 import *\n",
        "from pyWRITER import *\n",
        "from pyGrid import *\n",
        "from pyCOORD_MC import *\n",
        "from pyFindHB import * \n",
        "from pyEnergy2 import *\n",
        "from pyGaussian import *\n",
        "from pyConformer import *\n",
        "from pyRAND import *\n",
        "from pyMcEntropy import *\n",
        "from pySA import *\n",
        "from pyOptimizer import *\n",
        "from pyMC import *\n",
        "from pyFullSearch import *\n",
        "from pyDocker import *\n",
        "\n",
        "from tqdm import tqdm\n",
        "import numpy as np\n",
        "import numba as nb\n",
        "from numba import jit\n",
        "import pdb"
      ],
      "metadata": {
        "id": "XeH3-_wigWy2"
      },
      "execution_count": 3,
      "outputs": []
    },
    {
      "cell_type": "code",
      "source": [
        "Input = PARSER()\n",
        "Input.output = \"teste\" #@param {type:\"string\"}\n",
        "Input.scoring_function = 0 #@param {type:\"integer\"}\n",
        "Input.use_grids = True #@param {type:\"boolean\"}\n",
        "Input.grid_prefix = \"McGrid\" #@param {type:\"string\"}\n",
        "Input.search_box_x = 30.0 #@param {type:\"number\"}\n",
        "Input.search_box_y = 30.0 #@param {type:\"number\"}\n",
        "Input.search_box_z = 30.0 #@param {type:\"number\"}\n",
        "Input.grid_spacing = 1.0 #@param {type:\"number\"}\n",
        "Input.x_dim = 30.0 #@param {type:\"number\"}\n",
        "Input.y_dim = 30.0 #@param {type:\"number\"}\n",
        "Input.z_dim = 30.0 #@param {type:\"number\"}\n",
        "Input.write_grids = True;\n",
        "\n",
        "# Para que funcione a funcão\n",
        "\n",
        "Input.dielectric_model = \"constant\" #@param {type: \"string\"}"
      ],
      "metadata": {
        "id": "_m90wgC1rM7b"
      },
      "execution_count": 4,
      "outputs": []
    },
    {
      "cell_type": "code",
      "source": [
        "Writer = WRITER(Input)\n",
        "Coord = COORD_MC()\n",
        "HB = FindHB()\n",
        "lig = Mol2(Input, \"test/lig.mol2.gz\")\n",
        "rec = Mol2(Input, \"test/rec.mol2.gz\")\n",
        "Energy = Energy2(Input)\n",
        "com = Coord.compute_com(lig)"
      ],
      "metadata": {
        "id": "2nLoYXbxn2lk"
      },
      "execution_count": 51,
      "outputs": []
    },
    {
      "cell_type": "code",
      "source": [
        "refgrid = Grid(Input, Writer, rec, com)\n",
        "py_grid = Grid(Input, Writer, rec, com)\n",
        "numba_grid = Grid(Input, Writer, rec, com)"
      ],
      "metadata": {
        "id": "Wtrpabouy8AW"
      },
      "execution_count": null,
      "outputs": []
    },
    {
      "cell_type": "code",
      "source": [
        "for i in range(len(rec.charges)):\n",
        "  \n",
        "  print(rec.charges[i], '\\n')"
      ],
      "metadata": {
        "id": "9hmToMcyieHd"
      },
      "execution_count": null,
      "outputs": []
    },
    {
      "cell_type": "code",
      "source": [
        "refgrid.compute_grid_softcore(rec)"
      ],
      "metadata": {
        "id": "-dQSKyqaO7ig"
      },
      "execution_count": null,
      "outputs": []
    },
    {
      "cell_type": "code",
      "source": [
        "refgrid.compute_grid_softcore_HB_omp(rec)"
      ],
      "metadata": {
        "id": "ktqGQFQ-ve6S"
      },
      "execution_count": null,
      "outputs": []
    },
    {
      "cell_type": "code",
      "source": [
        "del(refgrid)"
      ],
      "metadata": {
        "id": "lVdRZcFglHuu"
      },
      "execution_count": 48,
      "outputs": []
    },
    {
      "cell_type": "code",
      "source": [
        "del(py_grid)"
      ],
      "metadata": {
        "id": "ZsgEZOUiz9a0"
      },
      "execution_count": 49,
      "outputs": []
    },
    {
      "cell_type": "code",
      "source": [
        "del(numba_grid)"
      ],
      "metadata": {
        "id": "fXq-BmN1y12J"
      },
      "execution_count": 50,
      "outputs": []
    },
    {
      "cell_type": "code",
      "source": [
        "for i in range(grid.npointsy):\n",
        "  print('\\n')\n",
        "  for j in range(grid.npointsz):\n",
        "    print(f'{refgrid.rec_solv_gauss[0][i][j]:.2f}', end=' ')"
      ],
      "metadata": {
        "id": "deVK_Ich9iRp"
      },
      "execution_count": null,
      "outputs": []
    },
    {
      "cell_type": "markdown",
      "source": [
        "# Porting work"
      ],
      "metadata": {
        "id": "XsOK_I_BwbpO"
      }
    },
    {
      "cell_type": "code",
      "source": [
        "#@title compute_grid_softcore\n",
        "def compute_grid_softcore(Rec, Grid, Input):\n",
        "  \n",
        "  # if (Input.scoring_function >= 2):\n",
        "    #Grid.compute_grid_harcore(rec)\n",
        "    #return\n",
        "\n",
        "  \n",
        "  for i in tqdm(range(Grid.npointsx)):\n",
        "    x = (i*Grid.grid_spacing) + Grid.xbegin\n",
        "\n",
        "    for j in range(Grid.npointsy):\n",
        "      y = (j*Grid.grid_spacing) + Grid.ybegin\n",
        "\n",
        "      for k in range(Grid.npointsz):\n",
        "        z = (k*Grid.grid_spacing) + Grid.zbegin\n",
        "\n",
        "        elec = 0\n",
        "        vdwA = 0\n",
        "        vdwB = 0\n",
        "        solv = 0\n",
        "        rec_solv = 0\n",
        "\n",
        "        for n in range(Rec.N):\n",
        "          d = Grid.distance(x, Rec.xyz[n][0], y, Rec.xyz[n][1], z, Rec.xyz[n][2])\n",
        "          d2 = d**2\n",
        "          d3 = d**3\n",
        "          d6 = d2**3\n",
        "\n",
        "          denom = (d3 + Input.deltaij_es3) ** (1/3)\n",
        "\n",
        "          if (Input.dielectric_model == \"constant\"):\n",
        "            elec += (332*Rec.charges[n]) / (Input.diel*denom)\n",
        "            denom = (d6 + Input.deltaij_es6) ** (1/3)\n",
        "            solv += ( ((Input.solvation_alpha * Rec.charges[n] * Rec.charges[n]) + \n",
        "                       Input.solvation_beta ) * np.exp((-denom/(2*Input.sigma**2))) / (Input.sigma**3) )\n",
        "            rec_solv += (4/3) * np.pi * Rec.radii[n]**3 * np.exp((-denom/(2*Input.sigma**2))) / (Input.sigma**3)\n",
        "\n",
        "          else:\n",
        "            denom = (d6 + Input.deltaij_es6) ** (1/3)\n",
        "            elec += (332 * Rec.charges[n]/(Input.diel*denom))\n",
        "            solv += ( ((Input.solvation_alpha * Rec.charges[n] * Rec.charges[n]) + \n",
        "                       Input.solvation_beta ) * np.exp((-denom/(2*Input.sigma**2))) / (Input.sigma**3) )\n",
        "            rec_solv += (4/3) * np.pi * Rec.radii[n]**3 * np.exp((-denom/(2*Input.sigma**2))) / (Input.sigma**3)\n",
        "\n",
        "          denom = d6 + Input.deltaij6\n",
        "          vdwA += (4096 * Rec.epsilons_sqrt[n] * Rec.radii[n]**6) / (denom**2)\n",
        "          vdwB += (128 * Rec.epsilons_sqrt[n] * Rec.radii[n]**3) / (denom)\n",
        "\n",
        "        # NOTE: assumo aqui que todos os arrays estão inicializados\n",
        "        # e do tamanho correto\n",
        "        Grid.elec_grid[i][j][k] = elec\n",
        "        Grid.vdwA_grid[i][j][k] = vdwA\n",
        "        Grid.vdwB_grid[i][j][k] = vdwB\n",
        "        Grid.solv_gauss[i][j][k] = solv\n",
        "        Grid.rec_solv_gauss[i][j][k] = rec_solv\n",
        "\n",
        "  Grid.rec_si = 0\n",
        "  for i in range(Rec.N):\n",
        "    Grid.rec_si += (Input.solvation_alpha * Rec.charges[i] ** 2) + Input.solvation_beta\n",
        "\n"
      ],
      "metadata": {
        "id": "A0MhJ6lbjZ8S",
        "cellView": "form"
      },
      "execution_count": null,
      "outputs": []
    },
    {
      "cell_type": "code",
      "source": [
        "#@title compute_softcore_HB_omp\n",
        "\n",
        "\n",
        "def compute_grid_softcore_HB_omp(rec, grid, input):\n",
        "  \n",
        "  #if input.scoring_function >= 2:\n",
        "  #  compute_grid_hardcore_HB_omp(...)\n",
        "  #  return\n",
        "\n",
        "  HB_C12 = np.double(55332.873)\n",
        "  HB_C10 = np.double(18393.199)\n",
        "\n",
        "  for i in range(grid.npointsx):\n",
        "    x = np.double(i*grid.grid_spacing + grid.xbegin) \n",
        "\n",
        "    for j in range(grid.npointsy):\n",
        "      y = np.double(j*grid.grid_spacing + grid.ybegin) \n",
        "\n",
        "      for k in range(grid.npointsz):\n",
        "        z = np.double(k*grid.grid_spacing + grid.zbegin) \n",
        "\n",
        "        elec = np.double(0.0)\n",
        "        vdwA = np.double(0.0)\n",
        "        vdwB = np.double(0.0) \n",
        "        solv = np.double(0.0) \n",
        "        rec_solv = np.double(0.0) \n",
        "        hb_donor = np.double(0.0) \n",
        "        hb_acceptor = np.double(0.0) \n",
        "\n",
        "        for a in range(rec.N):\n",
        "          \n",
        "          d2 = np.double(grid.distance_squared(x, rec.xyz[a][0], y, rec.xyz[a][1], z, rec.xyz[a][2]))\n",
        "          d6 = np.double(np.power(d2, 3))\n",
        "          \n",
        "          denom = np.double(0.0)\n",
        "            \n",
        "          if input.dielectric_model == \"constant\":\n",
        "            denom = np.power(d6 + input.deltaij_es6, 1/3)\n",
        "            elec += (332.0*rec.charges[a])/(input.diel*denom)\n",
        "            solv += ((input.solvation_alpha * rec.charges[a] * rec.charges[a]) + input.solvation_beta) * np.exp((-denom/(2 * np.power(input.sigma, 2)))) / (np.power(input.sigma, 3))\n",
        "            rec_solv += (4/3) * np.pi * np.power(rec.radii[a], 3) * np.exp((-denom/(2*np.power(input.sigma, 2)))) / (np.power(input.sigma, 3))\n",
        "\n",
        "          else:\n",
        "            denom = np.power(d6 + input.deltaij_es6, 1/3)\n",
        "            elec += (332.0*rec.charges[a]/(input.diel*denom))\n",
        "            solv += ((input.solvation_alpha * np.power(rec.charges[a], 2)) + input.solvation_beta) * np.exp((-denom/(2 * np.power(input.sigma, 2)))) / (np.power(input.sigma, 3))\n",
        "            rec_solv += (4/3) * np.pi * np.power(rec.radii[a], 3) * np.exp((-denom/(2*np.power(input.sigma, 2)))) / (np.power(input.sigma, 3))\n",
        "          \n",
        "          denom = (d6 + input.deltaij6)\n",
        "          vdwA += (4096*rec.epsilons_sqrt[a] * np.power(rec.radii[a], 6)) / np.power(denom, 2)\n",
        "          vdwB += ( 128*rec.epsilons_sqrt[a] * np.power(rec.radii[a], 3)) / denom\n",
        "\n",
        "        for m in range(len(rec.HBdonors)):\n",
        "          d2 = grid.distance_squared(rec.xyz[rec.HBdonors[m][1]][0], x, rec.xyz[rec.HBdonors[m][1]][1], y, rec.xyz[rec.HBdonors[m][1]][2], z)\n",
        "          d10 = np.double(np.power(d2, 5))\n",
        "          ang = np.double(grid.angle(rec.xyz[rec.HBdonors[m][0]][0], rec.xyz[rec.HBdonors[m][0]][1], rec.xyz[rec.HBdonors[m][0]][2], \n",
        "                          rec.xyz[rec.HBdonors[m][1]][0], rec.xyz[rec.HBdonors[m][1]][1], rec.xyz[rec.HBdonors[m][1]][2], x, y, z))\n",
        "          angle_term = np.double(np.power(np.cos(ang * np.pi / 180), 4))\n",
        "          hb_donor += ((HB_C12/(d10*d2)) - (HB_C10/d10)) * angle_term\n",
        "\n",
        "        for n in range(len(rec.HBacceptors)):\n",
        "          d2 = grid.distance_squared(rec.xyz[rec.HBacceptors[n]][0], x, rec.xyz[rec.HBacceptors[n]][1], y, rec.xyz[rec.HBacceptors[n]][2], z)\n",
        "          d10 = np.double(np.power(d2, 5))\n",
        "          hb_acceptor += ((HB_C12/(d10*d2)) - (HB_C10/d10))\n",
        "\n",
        "        grid.elec_grid[i][j][k] = elec\n",
        "        grid.vdwA_grid[i][j][k] = vdwA\n",
        "        grid.vdwB_grid[i][j][k] = vdwB\n",
        "        grid.solv_gauss[i][j][k] = solv\n",
        "        grid.rec_solv_gauss[i][j][k] = rec_solv\n",
        "        grid.hb_donor_grid[i][j][k] = hb_donor\n",
        "        grid.hb_acceptor_grid[i][j][k] = hb_acceptor;\n",
        "\n",
        "  grid.rec_si = 0.0\n",
        "  for a in range(rec.N):\n",
        "    grid.rec_si += (input.solvation_alpha * np.power(rec.charges[a], 2)) + input.solvation_beta\n"
      ],
      "metadata": {
        "id": "WP-kjvuJ89ST"
      },
      "execution_count": 45,
      "outputs": []
    },
    {
      "cell_type": "code",
      "source": [
        "@jit(nopython = True)\n",
        "def distance_squared(x1, x2, y1, y2, z1, z2):\n",
        "  return np.power(x2 - x1, 2) + np.power(y2 - y1, 2) + np.power(z2 - z1, 2)"
      ],
      "metadata": {
        "id": "LOyAAJzph8YZ"
      },
      "execution_count": 6,
      "outputs": []
    },
    {
      "cell_type": "code",
      "source": [
        "@jit(nopython = True)\n",
        "def angle(x1, y1, z1, x2, y2, z2, x3, y3, z3):\n",
        "  ab = np.sqrt(distance_squared(x1, x2, y1, y2, z1, z2))\n",
        "  ac = np.sqrt(distance_squared(x1, x3, y1, y3, z1, z3))\n",
        "  bc = np.sqrt(distance_squared(x2, x3, y2, y3, z2, z3))\n",
        "\n",
        "  angle = np.arccos((np.power(ab, 2) + np.power(bc, 2) - np.power(ac, 2))/(2*ab*bc))\n",
        "  return angle * 180 / np.pi"
      ],
      "metadata": {
        "id": "INqgM5XhZ6N7"
      },
      "execution_count": 7,
      "outputs": []
    },
    {
      "cell_type": "code",
      "source": [
        "#testing\n",
        "print(refgrid.distance_squared(1, 2, 3, 4, 5, 6))\n",
        "print(distance_squared(1, 2, 3, 4, 5, 6))"
      ],
      "metadata": {
        "id": "RiFoIYdMik-V"
      },
      "execution_count": null,
      "outputs": []
    },
    {
      "cell_type": "code",
      "source": [
        "#testing\n",
        "\n",
        "print(refgrid.angle(0, 0, 0, 4, 5, 6, 7, 8, 9))\n",
        "print(angle(0, 0, 0, 4 ,5 ,6 ,7 ,8 ,9))\n",
        "#angle.inspect_types()"
      ],
      "metadata": {
        "id": "95Wrb1jFfF5U"
      },
      "execution_count": null,
      "outputs": []
    },
    {
      "cell_type": "markdown",
      "source": [
        "High level objects to be ported:\n",
        "- [x] Grid :: npointsx, npointsy, npointsz \n",
        "- [x] Grid :: grid_spacing\n",
        "- [x] Grid :: xbegin, ybegin, zbegin \n",
        "- [x] Grid :: distance_squared() — faz inline\n",
        "- [x] Grid :: angle()\n",
        "- [x] Parser :: dieletric_model\n",
        "- [x] Parser :: deltaij_es6\n",
        "- [x] Parser :: solvation_alpha, salvation_beta\n",
        "- [x] Parser :: sigma\n",
        "- [x] Parser :: deltaij6\n",
        "- [x] Mols :: N\n",
        "- [x] Mol2 :: xyz (array)\n",
        "- [x] Mol2 :: charges (array)\n",
        "- [x] Mol2 :: radii (array)\n",
        "- [x] Mol2 :: epsilons_sqrt (array)\n",
        "- [x] Mol2 :: HBdonors (array)\n",
        "- [x] Mol2 :: HBacceptors (array)\n",
        "- [x] Outputs…\n",
        "\n",
        "\n"
      ],
      "metadata": {
        "id": "9-Q0ev1VWzvk"
      }
    },
    {
      "cell_type": "code",
      "source": [
        "#@title (NUMBA) _compute_softcore_HB_omp_numba\n",
        "\n",
        "#from numba.core.errors import NumbaDeprecationWarning, NumbaPendingDeprecationWarning\n",
        "#import warnings\n",
        "\n",
        "#warnings.simplefilter('ignore', category=NumbaDeprecationWarning)\n",
        "#warnings.simplefilter('ignore', category=NumbaPendingDeprecationWarning)\n",
        "\n",
        "\n",
        "@jit(nopython=True)\n",
        "def _compute_grid_softcore_HB_omp_numba(npointsx, npointsy, npointsz,  # from Grid here onwards\n",
        "                                   grid_spacing, \n",
        "                                   xbegin, ybegin, zbegin,\n",
        "                                   dielectric_model, # from Parser here onwards \n",
        "                                   deltaij_es6, deltaij6,\n",
        "                                   solvation_alpha, solvation_beta,\n",
        "                                   sigma, diel,\n",
        "                                   N, # from Mol2 here onwards\n",
        "                                   xyz = np.empty((0,0), dtype=np.float64), \n",
        "                                   charges = np.empty(0, dtype=np.float64), \n",
        "                                   radii = np.empty(0, dtype=np.float64), \n",
        "                                   epsilons_sqrt = np.empty(0, dtype=np.float64), \n",
        "                                   HBdonors = np.empty((0,0), dtype=np.int64), \n",
        "                                   HBacceptors = np.empty(0, dtype=np.int64), \n",
        "                                   out_elec_grid = np.empty((0,0,0), dtype=np.float64), # output arrays from here onwards \n",
        "                                   out_vdwA_grid = np.empty((0,0,0), dtype=np.float64),\n",
        "                                   out_vdwB_grid = np.empty((0,0,0), dtype=np.float64),\n",
        "                                   out_solv_gauss = np.empty((0,0,0), dtype=np.float64),\n",
        "                                   out_rec_solv_gauss = np.empty((0,0,0), dtype=np.float64),\n",
        "                                   out_hb_donor_grid = np.empty((0,0,0), dtype=np.float64),\n",
        "                                   out_hb_acceptor_grid = np.empty((0,0,0), dtype=np.float64)):\n",
        "  \n",
        "  #if input.scoring_function >= 2:\n",
        "  #  compute_grid_hardcore_HB_omp(...)\n",
        "  #  return\n",
        "\n",
        "  HB_C12 = np.double(55332.873)\n",
        "  HB_C10 = np.double(18393.199)\n",
        "\n",
        "  for i in range(npointsx):\n",
        "    x = np.double(i*grid_spacing + xbegin) \n",
        "\n",
        "    for j in range(npointsy):\n",
        "      y = np.double(j*grid_spacing + ybegin) \n",
        "\n",
        "      for k in range(npointsz):\n",
        "        z = np.double(k*grid_spacing + zbegin) \n",
        "\n",
        "        elec = np.double(0.0)\n",
        "        vdwA = np.double(0.0)\n",
        "        vdwB = np.double(0.0) \n",
        "        solv = np.double(0.0) \n",
        "        rec_solv = np.double(0.0) \n",
        "        hb_donor = np.double(0.0) \n",
        "        hb_acceptor = np.double(0.0) \n",
        "\n",
        "        for a in range(N):\n",
        "          \n",
        "          d2 = np.double(distance_squared(x, xyz[a][0], y, xyz[a][1], z, xyz[a][2]))\n",
        "          d6 = np.double(np.power(d2, 3))\n",
        "          \n",
        "          denom = np.double(0.0)\n",
        "            \n",
        "          if dielectric_model == \"constant\":\n",
        "            denom = np.power(d6 + deltaij_es6, 1/3)\n",
        "            elec += (332.0*charges[a])/(diel*denom)\n",
        "            solv += ((solvation_alpha * charges[a] * charges[a]) + solvation_beta) * np.exp((-denom/(2 * np.power(sigma, 2)))) / (np.power(sigma, 3))\n",
        "            rec_solv += (4/3) * np.pi * np.power(radii[a], 3) * np.exp((-denom/(2*np.power(sigma, 2)))) / (np.power(sigma, 3))\n",
        "\n",
        "          else:\n",
        "            denom = np.power(d6 + deltaij_es6, 1/3)\n",
        "            elec += (332.0*charges[a]/(diel*denom))\n",
        "            solv += ((solvation_alpha * np.power(charges[a], 2)) + solvation_beta) * np.exp((-denom/(2 * np.power(sigma, 2)))) / (np.power(sigma, 3))\n",
        "            rec_solv += (4/3) * np.pi * np.power(radii[a], 3) * np.exp((-denom/(2*np.power(sigma, 2)))) / (np.power(sigma, 3))\n",
        "          \n",
        "          denom = (d6 + deltaij6)\n",
        "          vdwA += (4096*epsilons_sqrt[a] * np.power(radii[a], 6)) / np.power(denom, 2)\n",
        "          vdwB += ( 128*epsilons_sqrt[a] * np.power(radii[a], 3)) / denom\n",
        "\n",
        "        for m in range(len(HBdonors)):\n",
        "          HBd0 = HBdonors[m][0]\n",
        "          HBd1 = HBdonors[m][1]\n",
        "          d2 = distance_squared(xyz[HBd1][0], x, xyz[HBd1][0], y, xyz[HBd1][0], z)\n",
        "          d10 = np.double(np.power(d2, 5))\n",
        "          ang = np.double(angle(xyz[HBdonors[m][0]][0], xyz[HBdonors[m][0]][1], xyz[HBdonors[m][0]][2], \n",
        "                          xyz[HBdonors[m][1]][0], xyz[HBdonors[m][1]][1], xyz[HBdonors[m][1]][2], x, y, z))\n",
        "          angle_term = np.double(np.power(np.cos(ang * np.pi / 180), 4))\n",
        "          hb_donor += ((HB_C12/(d10*d2)) - (HB_C10/d10)) * angle_term\n",
        "\n",
        "        for n in range(len(HBacceptors)):\n",
        "          d2 = distance_squared(xyz[HBacceptors[n]][0], x, xyz[HBacceptors[n]][1], y, xyz[HBacceptors[n]][2], z)\n",
        "          d10 = np.double(np.power(d2, 5))\n",
        "          hb_acceptor += ((HB_C12/(d10*d2)) - (HB_C10/d10))\n",
        "\n",
        "        out_elec_grid[i][j][k] = elec\n",
        "        out_vdwA_grid[i][j][k] = vdwA\n",
        "        out_vdwB_grid[i][j][k] = vdwB\n",
        "        out_solv_gauss[i][j][k] = solv\n",
        "        out_rec_solv_gauss[i][j][k] = rec_solv\n",
        "        out_hb_donor_grid[i][j][k] = hb_donor\n",
        "        out_hb_acceptor_grid[i][j][k] = hb_acceptor;\n",
        "\n",
        "  #grid.rec_si = 0.0\n",
        "  #for a in range(rec.N):\n",
        "  #  grid.rec_si += (input.solvation_alpha * np.power(rec.charges[a], 2)) + input.solvation_beta\n"
      ],
      "metadata": {
        "id": "PYHlIZPXtqSZ",
        "cellView": "form"
      },
      "execution_count": 53,
      "outputs": []
    },
    {
      "cell_type": "code",
      "source": [
        "#@title (Wrapper) compute_softcore_HB_omp_numba\n",
        "def compute_grid_softcore_HB_omp_numba(rec, grid, input):\n",
        "  \"\"\"Wrapper for calling the njit function\"\"\"\n",
        "\n",
        "  out_elec_grid = np.empty((grid.npointsx, grid.npointsy, grid.npointsz))\n",
        "  out_vdwA_grid = np.empty((grid.npointsx, grid.npointsy, grid.npointsz))\n",
        "  out_vdwB_grid = np.empty((grid.npointsx, grid.npointsy, grid.npointsz))\n",
        "  out_solv_gauss = np.empty((grid.npointsx, grid.npointsy, grid.npointsz))\n",
        "  out_rec_solv_gauss = np.empty((grid.npointsx, grid.npointsy, grid.npointsz))\n",
        "  out_hb_donor_grid = np.empty((grid.npointsx, grid.npointsy, grid.npointsz))\n",
        "  out_hb_acceptor_grid = np.empty((grid.npointsx, grid.npointsy, grid.npointsz))\n",
        "\n",
        "  HBdonors = np.array(rec.HBdonors)\n",
        "  if not np.size(HBdonors):\n",
        "    HBdonors = np.empty((0,0), dtype=np.int64)\n",
        "\n",
        "  _compute_grid_softcore_HB_omp_numba(grid.npointsx, grid.npointsy, grid.npointsz, \n",
        "                                  grid.grid_spacing,\n",
        "                                  grid.xbegin, grid.ybegin, grid.zbegin,\n",
        "                                  input.dielectric_model,\n",
        "                                  input.deltaij_es6, input.deltaij6,\n",
        "                                  input.solvation_alpha, input.solvation_beta,\n",
        "                                  input.sigma, input.diel,\n",
        "                                  rec.N,\n",
        "                                  np.array(rec.xyz),\n",
        "                                  np.array(rec.charges),\n",
        "                                  np.array(rec.radii),\n",
        "                                  np.array(rec.epsilons_sqrt),\n",
        "                                  HBdonors,\n",
        "                                  np.array(rec.HBacceptors, dtype=np.int64),\n",
        "                                  out_elec_grid,\n",
        "                                  out_vdwA_grid,\n",
        "                                  out_vdwB_grid,\n",
        "                                  out_solv_gauss,\n",
        "                                  out_rec_solv_gauss,\n",
        "                                  out_hb_donor_grid,\n",
        "                                  out_hb_acceptor_grid)\n",
        "  \n",
        "  # TODO: think about the best way of doing this copy operation\n",
        "  for i in range(grid.npointsx):\n",
        "    for j in range(grid.npointsy):\n",
        "      for k in range(grid.npointsz):\n",
        "        grid.elec_grid[i][j][k] = out_elec_grid[i][j][k]\n",
        "        grid.vdwA_grid[i][j][k] = out_vdwA_grid[i][j][k]\n",
        "        grid.vdwB_grid[i][j][k] = out_vdwB_grid[i][j][k]\n",
        "        grid.solv_gauss[i][j][k] = out_solv_gauss[i][j][k]\n",
        "        grid.rec_solv_gauss[i][j][k] = out_rec_solv_gauss[i][j][k]\n",
        "        grid.hb_donor_grid[i][j][k] = out_hb_donor_grid[i][j][k]\n",
        "        grid.hb_acceptor_grid[i][j][k] = out_hb_acceptor_grid[i][j][k]\n",
        "  \n",
        "\n"
      ],
      "metadata": {
        "cellView": "form",
        "id": "CexHa6R1sk_R"
      },
      "execution_count": 54,
      "outputs": []
    },
    {
      "cell_type": "code",
      "source": [
        "arr = np.array(rec.xyz)\n",
        "print(arr)"
      ],
      "metadata": {
        "id": "mC3lYW8_xHIQ"
      },
      "execution_count": null,
      "outputs": []
    },
    {
      "cell_type": "markdown",
      "source": [],
      "metadata": {
        "id": "GMxCCCQ0z6ip"
      }
    },
    {
      "cell_type": "code",
      "source": [
        "compute_grid_softcore_HB_omp(rec, grid, Input)"
      ],
      "metadata": {
        "colab": {
          "base_uri": "https://localhost:8080/"
        },
        "id": "P-BA9X6J62Mo",
        "outputId": "4e00c02a-509f-4b57-99b6-837f83db114b"
      },
      "execution_count": null,
      "outputs": [
        {
          "output_type": "stream",
          "name": "stderr",
          "text": [
            "100%|██████████| 8/8 [01:12<00:00,  9.01s/it]\n"
          ]
        }
      ]
    },
    {
      "cell_type": "code",
      "source": [
        "compute_grid_softcore_HB_numba(rec, grid, Input)"
      ],
      "metadata": {
        "id": "PX3v6p_y0Qqb"
      },
      "execution_count": null,
      "outputs": []
    },
    {
      "cell_type": "markdown",
      "source": [
        "#Print grids"
      ],
      "metadata": {
        "id": "YSoP87sAvpZ1"
      }
    },
    {
      "cell_type": "code",
      "source": [
        "for i in range(grid.npointsx):\n",
        "  print('\\n------------------------')\n",
        "  for j in range(grid.npointsy):\n",
        "    print('\\n')\n",
        "    for k in range(grid.npointsz):\n",
        "      print(f'{grid.elec_grid[i][j][k]:.2f}', end=' ')"
      ],
      "metadata": {
        "id": "IP_k8fY96gI2"
      },
      "execution_count": null,
      "outputs": []
    },
    {
      "cell_type": "code",
      "source": [
        "for i in range(grid.npointsx):\n",
        "  print('\\n------------------------')\n",
        "  for j in range(grid.npointsy):\n",
        "    print('\\n')\n",
        "    for k in range(grid.npointsz):\n",
        "      print(f'{refgrid.elec_grid[i][j][k]:.2f}', end=' ')"
      ],
      "metadata": {
        "id": "M1trdBBF1PSc"
      },
      "execution_count": null,
      "outputs": []
    },
    {
      "cell_type": "markdown",
      "source": [
        "#Benchmarking"
      ],
      "metadata": {
        "id": "25TgyqNmvgS6"
      }
    },
    {
      "cell_type": "code",
      "source": [
        "# search_box_x == search_box_y == search_box_z == 30.0\n",
        "# x_dim == y_dim == z_dim == 30.0 \n",
        "# grid_spacing == 1.0\n",
        "\n",
        "%timeit refgrid.compute_grid_hardcore_HB_omp(rec) # versão C++\n",
        "%timeit compute_grid_softcore_HB_omp(rec, py_grid, Input) # versão python usando objetos expostos pelo boost\n",
        "%timeit compute_grid_softcore_HB_omp_numba(rec, numba_grid, Input) # versão numba usando njit"
      ],
      "metadata": {
        "colab": {
          "base_uri": "https://localhost:8080/"
        },
        "id": "OyRjxipfwmLK",
        "outputId": "fa9742f9-c3be-4103-f04f-29097af56591"
      },
      "execution_count": null,
      "outputs": [
        {
          "output_type": "stream",
          "name": "stdout",
          "text": [
            "9.38 s ± 854 ms per loop (mean ± std. dev. of 7 runs, 1 loop each)\n"
          ]
        }
      ]
    },
    {
      "cell_type": "markdown",
      "source": [
        "# Misc"
      ],
      "metadata": {
        "id": "g95WpJOXv2BG"
      }
    },
    {
      "cell_type": "code",
      "source": [
        "@jit\n",
        "def foo(npointsx):\n",
        "  for i in range(npointsx):\n",
        "    n = i**2"
      ],
      "metadata": {
        "id": "orKr8vrdOkfw"
      },
      "execution_count": null,
      "outputs": []
    },
    {
      "cell_type": "code",
      "source": [
        "foo(grid.npointsx)\n",
        "foo.inspect_types()"
      ],
      "metadata": {
        "id": "ZGQdAcn9PBA3"
      },
      "execution_count": null,
      "outputs": []
    },
    {
      "cell_type": "code",
      "source": [
        "test_arr = np.size(np.array([1]))\n",
        "bool(test_arr)"
      ],
      "metadata": {
        "colab": {
          "base_uri": "https://localhost:8080/"
        },
        "id": "7DExm-khHBjr",
        "outputId": "cdcb658b-7f04-4eae-891a-6e0c11396af8"
      },
      "execution_count": 23,
      "outputs": [
        {
          "output_type": "execute_result",
          "data": {
            "text/plain": [
              "True"
            ]
          },
          "metadata": {},
          "execution_count": 23
        }
      ]
    }
  ]
}