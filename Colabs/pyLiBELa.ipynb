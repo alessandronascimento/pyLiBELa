{
  "nbformat": 4,
  "nbformat_minor": 0,
  "metadata": {
    "colab": {
      "provenance": [],
      "include_colab_link": true
    },
    "kernelspec": {
      "name": "python3",
      "display_name": "Python 3"
    },
    "language_info": {
      "name": "python"
    }
  },
  "cells": [
    {
      "cell_type": "markdown",
      "metadata": {
        "id": "view-in-github",
        "colab_type": "text"
      },
      "source": [
        "<a href=\"https://colab.research.google.com/github/alessandronascimento/pyLiBELa/blob/main/Colabs/pyLiBELa.ipynb\" target=\"_parent\"><img src=\"https://colab.research.google.com/assets/colab-badge.svg\" alt=\"Open In Colab\"/></a>"
      ]
    },
    {
      "cell_type": "code",
      "source": [
        "#@title Downloading and Installing pyLiBELa {display-mode: \"form\"}\n",
        "%%capture\n",
        "!pip3 install condacolab\n",
        "import condacolab\n",
        "condacolab.install()\n",
        "! apt-get install openbabel libopenbabel-dev python-dev-is-python3 zlib1g-dev libeigen3-dev libgsl-dev libnlopt-cxx-dev libgsl-dev\n",
        "! mamba install -c anaconda py-boost\n",
        "! git clone https://github.com/alessandronascimento/pyLiBELa.git\n",
        "! mv pyLiBELa/src src\n",
        "! rm -rf pyLiBELa\n",
        "! mkdir -p obj\n",
        "! rm -f Makefile*\n",
        "! wget https://raw.githubusercontent.com/alessandronascimento/pyLiBELa/main/Colabs/Makefile\n",
        "! make -j4 "
      ],
      "metadata": {
        "id": "0NP7rjKJLKWC"
      },
      "execution_count": 1,
      "outputs": []
    },
    {
      "cell_type": "code",
      "execution_count": 1,
      "metadata": {
        "id": "mmqpdtV1CU49"
      },
      "outputs": [],
      "source": [
        "#@title Importing libraries {display-mode: \"form\"}\n",
        "\n",
        "from pyPARSER import *\n",
        "from pyMol2 import *\n",
        "from pyWRITER import *\n",
        "from pyGrid import *\n",
        "from pyCOORD_MC import *\n",
        "from pyFindHB import * \n",
        "from pyEnergy2 import *\n",
        "from pyGaussian import *\n",
        "from pyConformer import *\n",
        "from pyRAND import *\n",
        "from pyMcEntropy import *\n",
        "from pySA import *\n",
        "from pyOptimizer import *\n",
        "from pyMC import *\n",
        "from pyFullSearch import *\n",
        "from pyDocker import *"
      ]
    },
    {
      "cell_type": "code",
      "source": [
        "#@title Getting SB2021 data {display-mode: \"form\"}\n",
        "\n",
        "\n",
        "%%capture\n",
        "from google.colab import drive\n",
        "drive.mount('/content/drive/')\n",
        "path = '/content/drive/MyDrive/Projects_Data/pyLiBELa/SB/' #@param {type:\"string\"}\n",
        "\n",
        "with open(path+'list.txt') as f:\n",
        "    pdb_codes_list = f.readlines()\n",
        "\n",
        "pdb_codes_list = [pdb_code[0:4] for pdb_code in pdb_codes_list]"
      ],
      "metadata": {
        "id": "3sA3hsz4uOWq"
      },
      "execution_count": 2,
      "outputs": []
    },
    {
      "cell_type": "code",
      "source": [
        "#@title Parameters for Grid Calculation {display-mode: \"form\"}\n",
        "\n",
        "import os\n",
        "import timeit\n",
        "import numpy as np\n",
        "\n",
        "num_pairs = 15\n",
        "\n",
        "grid_spacing_list = [0.4]\n",
        "length_input=len(grid_spacing_list)\n",
        "\n",
        "num_metrics = 5\n",
        "metrics_matrix=np.zeros((length_input*num_pairs,num_metrics+1))\n",
        "\n",
        "dim_grid = 30\n",
        "\n",
        "n_paralell_jobs = 2\n",
        "\n",
        "i=0\n",
        "\n",
        "\n",
        "metrics_name_list = ['PDB_code','Grid spacing','Original Energy','Time (s)','Time per atom(ms)','Grid Energy']\n",
        "\n",
        "\n",
        "for j in range(num_pairs):\n",
        "\n",
        "  pdb_code = pdb_codes_list[j]\n",
        "  lig_src =  path + pdb_code +'/' + pdb_code + '.lig.am1bcc.mol2.gz'\n",
        "  rec_src = path + pdb_code +'/' + pdb_code + '.rec.clean.mol2.gz'\n",
        "\n",
        "  for grid_spacing in grid_spacing_list:\n",
        "\n",
        "    print(pdb_code,grid_spacing)\n",
        "\n",
        "    #Parâmetros do Input\n",
        "    Input = PARSER()\n",
        "\n",
        "    scoring_function = \"0\" #@param [\"0\", \"1\", \"2\", \"3\"]\n",
        "    Input.dielectric_model = \"r\" #@param [\"r\", \"constant\"]\n",
        "    Input.scoring_function = int(scoring_function)\n",
        "    Input.solvation_alpha = 0.1 #@param {type:\"number\"}\n",
        "    Input.solvation_beta = -0.005 #@param {type:\"number\"}\n",
        "    if (Input.scoring_function < 3):\n",
        "      delta = 2.5 #@param {type:\"number\"}\n",
        "      Input.deltaij6 = (delta*delta*delta*delta*delta*delta)\n",
        "      delta_es = 2.5 #@param {type:\"number\"}\n",
        "      Input.deltaij_3 = (delta_es*delta_es*delta_es)\n",
        "      Input.deltaij_6 = Input.deltaij_3*Input.deltaij_3\n",
        "\n",
        "    Input.search_box_x, Input.search_box_y, Input.search_box_z = 30.0, 30.0, 30.0\n",
        "    Input.x_dim, Input.y_dim, Input.z_dim = dim_grid, dim_grid, dim_grid\n",
        "    Input.write_grids = True\n",
        "    Input.use_grids = True\n",
        "    \n",
        "    Input.grid_spacing = grid_spacing\n",
        "    Input.grid_prefix = \"McGrid_\"+pdb_code\n",
        "    Input.parallel_jobs = n_paralell_jobs\n",
        "\n",
        "    Input.output = \"teste %.d\"%(i) +pdb_code\n",
        "\n",
        "    Writer = WRITER(Input)\n",
        "    Coord = COORD_MC()\n",
        "    HB = FindHB()\n",
        "\n",
        "    lig = Mol2(Input, lig_src)\n",
        "    rec = Mol2(Input, rec_src)\n",
        "    ref_lig = Mol2(Input, lig_src)\n",
        "\n",
        "    Energy = Energy2(Input)\n",
        "\n",
        "    for k in range(len(list(rec.residue_pointer))-1):\n",
        "      HB.parse_residue(rec.residue_pointer[k]-1, rec.residue_pointer[k+1]-2, rec.resnames[k], rec, lig, 9.0)\n",
        "\n",
        "    HB.find_ligandHB(lig_src, lig)\n",
        "\n",
        "    com = Coord.compute_com(lig)\n",
        "\n",
        "    energy1 = Energy.compute_ene(rec, lig, lig.xyz)\n",
        "    print(\"Original energy: %7.3f\" % energy1)\n",
        "\n",
        "    start_time = timeit.default_timer()\n",
        "    Grids = Grid(Input, Writer, rec, com)\n",
        "    time = timeit.default_timer() - start_time\n",
        "    print('Time grids: %.2f' %time)\n",
        "\n",
        "    time_per_atom = time/rec.N\n",
        "    print('Time per atom: %.2f'%(time_per_atom))\n",
        "\n",
        "    print('Points: %d %d %d'%(Grids.npointsx,Grids.npointsy,Grids.npointsz))\n",
        "\n",
        "    Writer.write_box(com, Grids.xbegin, Grids.ybegin, Grids.zbegin, Grids.xend, Grids.yend, Grids.zend)\n",
        "\n",
        "    energy2 = Energy.compute_ene(Grids, lig, lig.xyz)\n",
        "    print(\"Grid Energy': %7.3f\" % energy2)\n",
        "\n",
        "    print(\"Energy error: %7.3f%%\" % (100.*(abs(energy2-energy1))/abs(energy1)))\n",
        "\n",
        "    folder = path + pdb_code\n",
        "    #!mv *.grid McLiBELa.log box.pdb $folder\n",
        "\n",
        "    print('')\n",
        "\n",
        "\n",
        "    #Guardando valores\n",
        "    metrics_list = np.zeros(num_metrics+1)\n",
        "    metrics_list[0] = j\n",
        "    metrics_list[1] = grid_spacing\n",
        "    metrics_list[2] = energy1\n",
        "    metrics_list[3] = time\n",
        "    metrics_list[4] = time_per_atom\n",
        "    metrics_list[5] = energy2\n",
        "\n",
        "\n",
        "\n",
        "\n",
        "    metrics_matrix[i] = metrics_list\n",
        "    i+=1\n"
      ],
      "metadata": {
        "colab": {
          "base_uri": "https://localhost:8080/",
          "height": 245
        },
        "id": "3V0xpV6F2i3q",
        "outputId": "031cb478-01c8-4f06-c303-b6d3bc7292c8"
      },
      "execution_count": 1,
      "outputs": [
        {
          "output_type": "error",
          "ename": "NameError",
          "evalue": "ignored",
          "traceback": [
            "\u001b[0;31m---------------------------------------------------------------------------\u001b[0m",
            "\u001b[0;31mNameError\u001b[0m                                 Traceback (most recent call last)",
            "\u001b[0;32m<ipython-input-1-01bd84dc9aa1>\u001b[0m in \u001b[0;36m<cell line: 25>\u001b[0;34m()\u001b[0m\n\u001b[1;32m     25\u001b[0m \u001b[0;32mfor\u001b[0m \u001b[0mj\u001b[0m \u001b[0;32min\u001b[0m \u001b[0mrange\u001b[0m\u001b[0;34m(\u001b[0m\u001b[0mnum_pairs\u001b[0m\u001b[0;34m)\u001b[0m\u001b[0;34m:\u001b[0m\u001b[0;34m\u001b[0m\u001b[0;34m\u001b[0m\u001b[0m\n\u001b[1;32m     26\u001b[0m \u001b[0;34m\u001b[0m\u001b[0m\n\u001b[0;32m---> 27\u001b[0;31m   \u001b[0mpdb_code\u001b[0m \u001b[0;34m=\u001b[0m \u001b[0mpdb_codes_list\u001b[0m\u001b[0;34m[\u001b[0m\u001b[0mj\u001b[0m\u001b[0;34m]\u001b[0m\u001b[0;34m\u001b[0m\u001b[0;34m\u001b[0m\u001b[0m\n\u001b[0m\u001b[1;32m     28\u001b[0m   \u001b[0mlig_src\u001b[0m \u001b[0;34m=\u001b[0m  \u001b[0mpath\u001b[0m \u001b[0;34m+\u001b[0m \u001b[0mpdb_code\u001b[0m \u001b[0;34m+\u001b[0m\u001b[0;34m'/'\u001b[0m \u001b[0;34m+\u001b[0m \u001b[0mpdb_code\u001b[0m \u001b[0;34m+\u001b[0m \u001b[0;34m'.lig.am1bcc.mol2.gz'\u001b[0m\u001b[0;34m\u001b[0m\u001b[0;34m\u001b[0m\u001b[0m\n\u001b[1;32m     29\u001b[0m   \u001b[0mrec_src\u001b[0m \u001b[0;34m=\u001b[0m \u001b[0mpath\u001b[0m \u001b[0;34m+\u001b[0m \u001b[0mpdb_code\u001b[0m \u001b[0;34m+\u001b[0m\u001b[0;34m'/'\u001b[0m \u001b[0;34m+\u001b[0m \u001b[0mpdb_code\u001b[0m \u001b[0;34m+\u001b[0m \u001b[0;34m'.rec.clean.mol2.gz'\u001b[0m\u001b[0;34m\u001b[0m\u001b[0;34m\u001b[0m\u001b[0m\n",
            "\u001b[0;31mNameError\u001b[0m: name 'pdb_codes_list' is not defined"
          ]
        }
      ]
    },
    {
      "cell_type": "code",
      "source": [
        "print(\"{:<10} {:<15} {:<17} {:<10} {:<19} {:<10}\".format('PDB_code','Grid spacing','Original Energy','Time (s)','Time per atom(ms)','Grid Energy'))\n",
        "for i in range(num_pairs*length_input):\n",
        "\n",
        "  metrics_line = metrics_matrix[i]\n",
        "  pdb_code_print = pdb_codes_list[int(metrics_line[0])]\n",
        "\n",
        "  print(\"{:<10} {:<15} {:<17} {:<10} {:<19} {:<10}\".format(pdb_code_print,metrics_line[1],'%7.3f'%metrics_line[2],'%.2f'%metrics_line[3],'%.2f'%(1000*metrics_line[4]),'%7.3f'%metrics_line[5])) \n",
        "\n"
      ],
      "metadata": {
        "id": "x7FGIj-19Md1",
        "outputId": "0bd307fb-e1e4-4ad5-82c7-61b60594c08a",
        "colab": {
          "base_uri": "https://localhost:8080/"
        }
      },
      "execution_count": null,
      "outputs": [
        {
          "output_type": "stream",
          "name": "stdout",
          "text": [
            "PDB_code   Grid spacing    Original Energy   Time (s)   Time per atom(ms)   Grid Energy\n",
            "121P       0.5             -237.910          100.90     38.51               -61.214   \n",
            "121P       0.4             -237.910          197.12     75.24               -223.350  \n"
          ]
        }
      ]
    },
    {
      "cell_type": "code",
      "source": [
        "#@title Escrevendo dados em arquivo .dat {display-mode: \"form\"}\n",
        "\n",
        "data_path = '/content/drive/MyDrive/pyLiBELa/'\n",
        "data_name = 'grid_spacing_test.dat'\n",
        "\n",
        "data = open(data_name,'w')\n",
        "\n",
        "variables='#'\n",
        "#variables+='\\t'.join(metrics_name_list)\n",
        "variables+=\"{:<10} {:<15} {:<17} {:<10} {:<19} {:<10}\".format('PDB_code','Grid spacing','Original Energy','Time (s)','Time per atom(ms)','Grid Energy')\n",
        "variables+='\\n'\n",
        "data.write(variables)\n",
        "data_line=''\n",
        "\n",
        "\n",
        "for i in range(num_pairs*length_input):\n",
        "  metrics_line = metrics_matrix[i]\n",
        "  pdb_code_print = pdb_codes_list[int(metrics_line[0])]\n",
        "\n",
        "  data_line+=\"{:<10} {:<15} {:<17} {:<10} {:<19} {:<10}\".format(pdb_code_print,metrics_line[1],'%7.3f'%metrics_line[2],'%.2f'%metrics_line[3],'%.2f'%(1000*metrics_line[4]),'%7.3f'%metrics_line[5])\n",
        "\n",
        "  data_line+='\\n'\n",
        "\n",
        "\n",
        "data.write(data_line)\n",
        "data.close()\n",
        "\n",
        "!mv $data_name $data_path"
      ],
      "metadata": {
        "id": "sfMnwblMpEgY"
      },
      "execution_count": null,
      "outputs": []
    },
    {
      "cell_type": "code",
      "source": [
        "data_loc = data_path + data_name\n",
        "!more $data_loc"
      ],
      "metadata": {
        "id": "68awt_QCwVFw",
        "outputId": "9d73c72c-1745-4c83-d885-6ba7f61fce4d",
        "colab": {
          "base_uri": "https://localhost:8080/"
        }
      },
      "execution_count": null,
      "outputs": [
        {
          "output_type": "stream",
          "name": "stdout",
          "text": [
            "#PDB_code   Grid spacing    Original Energy   Time (s)   Time per atom(ms)   Gri\n",
            "d Energy\n",
            "121P       0.5             -237.910          100.90     38.51               -61.\n",
            "214   \n",
            "121P       0.4             -237.910          197.12     75.24               -223\n",
            ".350  \n"
          ]
        }
      ]
    },
    {
      "cell_type": "code",
      "source": [
        "#@title Escrevendo dados em arquivo .csv {display-mode: \"form\"}\n",
        "import csv\n",
        "\n",
        "data_path = '/content/drive/MyDrive/pyLiBELa/'\n",
        "data_name_csv = 'grid_spacing_test.csv'\n",
        "metrics_name_list = ['PDB_code','Grid spacing','Original Energy','Time','Grid Energy']\n",
        "\n",
        "\n",
        "  with open(data_name_csv,'w', encoding='UTF8', newline='') as data:\n",
        "\n",
        "    writer = csv.writer(data)\n",
        "\n",
        "    writer.writerow(metrics_name_list)\n",
        "\n",
        "    for i in range(num_pairs*length_input):\n",
        "      metrics_line = metrics_matrix[i]\n",
        "      pdb_code_print = pdb_codes_list[int(metrics_line[0])]\n",
        "      row = [pdb_code_print,metrics_line[1],'%7.3f'%metrics_line[2],'%.2f'%metrics_line[3], '%7.3f'%metrics_line[4]]\n",
        "      writer.writerow(row)\n",
        "\n",
        "\n",
        "  !mv $data_name_csv $data_path"
      ],
      "metadata": {
        "id": "cJn42p6vz02T"
      },
      "execution_count": null,
      "outputs": []
    },
    {
      "cell_type": "code",
      "source": [
        "#@title Variando trabalhos em paralelo {display-mode: \"form\"}\n",
        "\n",
        "import os\n",
        "import timeit\n",
        "import numpy as np\n",
        "\n",
        "num_pairs = 1\n",
        "\n",
        "dim_grid = 30\n",
        "grid_spacing = 0.5\n",
        "\n",
        "\n",
        "paralell_jobs_list = [1,2,3,4]\n",
        "length_input=len(paralell_jobs_list)\n",
        "\n",
        "\n",
        "num_metrics = 5\n",
        "metrics_matrix=np.zeros((length_input*num_pairs,num_metrics+1))\n",
        "\n",
        "\n",
        "i=0\n",
        "for j in range(num_pairs):\n",
        "  pdb_code = pdb_codes_list[j]\n",
        "  lig_src =  path + pdb_code +'/' + pdb_code + '.lig.am1bcc.mol2.gz'\n",
        "  rec_src = path + pdb_code +'/' + pdb_code + '.rec.clean.mol2.gz'\n",
        "\n",
        "  for n_paralell_jobs in paralell_jobs_list:\n",
        "\n",
        "\n",
        "    print(pdb_code,n_paralell_jobs)\n",
        "\n",
        "    #Parâmetros do Input\n",
        "    Input = PARSER()\n",
        "\n",
        "    Input.search_box_x, Input.search_box_y, Input.search_box_z = 30.0, 30.0, 30.0\n",
        "    Input.x_dim, Input.y_dim, Input.z_dim = dim_grid, dim_grid, dim_grid\n",
        "    Input.write_grids = True\n",
        "    Input.use_grids = True\n",
        "    \n",
        "    Input.grid_spacing = grid_spacing\n",
        "    Input.grid_prefix = \"McGrid_\"+pdb_code\n",
        "    Input.parallel_jobs = n_paralell_jobs\n",
        "\n",
        "    Input.output = \"teste %.d\"%(i) +pdb_code\n",
        "\n",
        "\n",
        "    Writer = WRITER(Input)\n",
        "    Coord = COORD_MC()\n",
        "    HB = FindHB()\n",
        "\n",
        "    lig = Mol2(Input, lig_src)\n",
        "    rec = Mol2(Input, rec_src)\n",
        "    ref_lig = Mol2(Input, lig_src)\n",
        "\n",
        "    Energy = Energy2(Input)\n",
        "\n",
        "    for k in range(len(list(rec.residue_pointer))-1):\n",
        "      HB.parse_residue(rec.residue_pointer[k]-1, rec.residue_pointer[k+1]-2, rec.resnames[k], rec, lig, 9.0)\n",
        "\n",
        "    HB.find_ligandHB(lig_src, lig)\n",
        "\n",
        "    com = Coord.compute_com(lig)\n",
        "\n",
        "    energy1 = Energy.compute_ene(rec, lig, lig.xyz)\n",
        "    print(\"Original energy: %7.3f\" % energy1)\n",
        "\n",
        "\n",
        "    start_time = timeit.default_timer()\n",
        "    Grids = Grid(Input, Writer, rec, com)\n",
        "    time = timeit.default_timer() - start_time\n",
        "    print('Time grids: %.2f' %time)\n",
        "\n",
        "\n",
        "    time_per_atom = time/rec.N\n",
        "    print('Time per atoms: %.2f'%(time_per_atom))\n",
        "\n",
        "    print('Points: %d %d %d'%(Grids.npointsx,Grids.npointsy,Grids.npointsz))\n",
        "\n",
        "    Writer.write_box(com, Grids.xbegin, Grids.ybegin, Grids.zbegin, Grids.xend, Grids.yend, Grids.zend)\n",
        "\n",
        "    energy2 = Energy.compute_ene(Grids, lig, lig.xyz)\n",
        "    print(\"Grid Energy': %7.3f\" % energy2)\n",
        "\n",
        "    folder = path + pdb_code\n",
        "    !mv *.grid McLiBELa.log box.pdb teste* $folder\n",
        "\n",
        "    print('')\n",
        "\n",
        "\n",
        "    #Guardando valores\n",
        "    metrics_list = np.zeros(num_metrics+1)\n",
        "    metrics_list[0] = j\n",
        "    metrics_list[1] = n_paralell_jobs\n",
        "    metrics_list[2] = energy1\n",
        "    metrics_list[3] = time\n",
        "    metrics_list[4] = time_per_atom\n",
        "    metrics_list[5] = energy2\n",
        "\n",
        "    metrics_matrix[i] = metrics_list\n",
        "    i+=1"
      ],
      "metadata": {
        "colab": {
          "base_uri": "https://localhost:8080/"
        },
        "id": "FBvjSVSB18l5",
        "outputId": "18a165c5-1597-4742-a008-320f01a9a306"
      },
      "execution_count": null,
      "outputs": [
        {
          "output_type": "stream",
          "name": "stdout",
          "text": [
            "121P 1\n",
            "Original energy: -237.910\n",
            "Time grids: 102.79\n",
            "Time per atoms: 0.04\n",
            "Points: 60 60 60\n",
            "Grid Energy': -61.214\n",
            "mv: cannot stat 'McLiBELa.log': No such file or directory\n",
            "\n",
            "121P 2\n",
            "Original energy: -237.910\n",
            "Time grids: 86.68\n",
            "Time per atoms: 0.03\n",
            "Points: 60 60 60\n",
            "Grid Energy': -61.214\n",
            "mv: cannot stat 'McLiBELa.log': No such file or directory\n",
            "\n",
            "121P 3\n",
            "Original energy: -237.910\n",
            "Time grids: 83.04\n",
            "Time per atoms: 0.03\n",
            "Points: 60 60 60\n",
            "Grid Energy': -61.214\n",
            "mv: cannot stat 'McLiBELa.log': No such file or directory\n",
            "\n",
            "121P 4\n",
            "Original energy: -237.910\n",
            "Time grids: 85.46\n",
            "Time per atoms: 0.03\n",
            "Points: 60 60 60\n",
            "Grid Energy': -61.214\n",
            "mv: cannot stat 'McLiBELa.log': No such file or directory\n",
            "\n"
          ]
        }
      ]
    },
    {
      "cell_type": "code",
      "source": [
        "#print(\"{:<10} {:<25} {:<20} {:<10} {:<19} {:<10}\".format('PDB_code','Trabalhos em paralelo','Original Energy','Time (s)','Time per atom(ms)','Grid Energy'))\n",
        "print(\"{}\\t{}\\t{}\\t{}\\t{}\\t{}\".format('PDB_code','Trabalhos em paralelo','Original Energy','Time (s)','Time per atom(ms)','Grid Energy'))\n",
        "for i in range(num_pairs*length_input):\n",
        "\n",
        "  metrics_line = metrics_matrix[i]\n",
        "  pdb_code_print = pdb_codes_list[int(metrics_line[0])]\n",
        "\n",
        "#  print(\"{:<10} {:<25} {:<20} {:<10} {:<19} {:<10}\".format(pdb_code_print,metrics_line[1],'%7.3f'%metrics_line[2],'%.2f'%metrics_line[3],'%.2f'%(1000*metrics_line[4]),'%7.3f'%metrics_line[5])) \n",
        "  print(\"{}\\t{}\\t{}\\t{}\\t{}\\t{}\".format(pdb_code_print,metrics_line[1],'%7.3f'%metrics_line[2],'%.2f'%metrics_line[3],'%.2f'%(1000*metrics_line[4]),'%7.3f'%metrics_line[5])) \n"
      ],
      "metadata": {
        "id": "tUw9ZrSR4ZmE",
        "colab": {
          "base_uri": "https://localhost:8080/"
        },
        "outputId": "180aa685-a449-454e-8133-bc991d837d3f"
      },
      "execution_count": null,
      "outputs": [
        {
          "output_type": "stream",
          "name": "stdout",
          "text": [
            "PDB_code\tTrabalhos em paralelo\tOriginal Energy\tTime (s)\tTime per atom(ms)\tGrid Energy\n",
            "121P\t1.0\t-237.910\t102.79\t39.23\t-61.214\n",
            "121P\t2.0\t-237.910\t86.68\t33.08\t-61.214\n",
            "121P\t3.0\t-237.910\t83.04\t31.69\t-61.214\n",
            "121P\t4.0\t-237.910\t85.46\t32.62\t-61.214\n"
          ]
        }
      ]
    },
    {
      "cell_type": "code",
      "source": [
        "!python --version"
      ],
      "metadata": {
        "colab": {
          "base_uri": "https://localhost:8080/"
        },
        "id": "9n8DtedTm1lh",
        "outputId": "29de539f-ef3e-41c7-ee07-9abb5811c27e"
      },
      "execution_count": null,
      "outputs": [
        {
          "output_type": "stream",
          "name": "stdout",
          "text": [
            "Python 3.10.10\n"
          ]
        }
      ]
    }
  ]
}