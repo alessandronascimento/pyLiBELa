{
  "nbformat": 4,
  "nbformat_minor": 0,
  "metadata": {
    "colab": {
      "provenance": [],
      "include_colab_link": true
    },
    "kernelspec": {
      "name": "python3",
      "display_name": "Python 3"
    },
    "language_info": {
      "name": "python"
    }
  },
  "cells": [
    {
      "cell_type": "markdown",
      "metadata": {
        "id": "view-in-github",
        "colab_type": "text"
      },
      "source": [
        "<a href=\"https://colab.research.google.com/github/alessandronascimento/pyLiBELa/blob/main/Colabs/pyLiBELa.ipynb\" target=\"_parent\"><img src=\"https://colab.research.google.com/assets/colab-badge.svg\" alt=\"Open In Colab\"/></a>"
      ]
    },
    {
      "cell_type": "code",
      "source": [
        "#@title Downloading and Installing pyLiBELa {display-mode: \"form\"}\n",
        "%%capture\n",
        "!pip3 install condacolab\n",
        "import condacolab\n",
        "condacolab.install()\n",
        "! apt-get install openbabel libopenbabel-dev python-dev-is-python3 zlib1g-dev libeigen3-dev libgsl-dev libnlopt-cxx-dev libgsl-dev\n",
        "! mamba install -c anaconda py-boost\n",
        "! git clone https://github.com/alessandronascimento/pyLiBELa.git\n",
        "! mv pyLiBELa/src src\n",
        "! rm -rf pyLiBELa\n",
        "! mkdir -p obj\n",
        "! rm -f Makefile*\n",
        "! wget https://raw.githubusercontent.com/alessandronascimento/pyLiBELa/main/Colabs/Makefile\n",
        "! make -j4"
      ],
      "metadata": {
        "id": "0NP7rjKJLKWC"
      },
      "execution_count": 1,
      "outputs": []
    },
    {
      "cell_type": "code",
      "execution_count": 27,
      "metadata": {
        "id": "mmqpdtV1CU49",
        "colab": {
          "base_uri": "https://localhost:8080/"
        },
        "outputId": "0b2eb2ce-6077-4b35-d501-82365dcf73af"
      },
      "outputs": [
        {
          "output_type": "stream",
          "name": "stdout",
          "text": [
            "pyLiBELa is imported!\n"
          ]
        }
      ],
      "source": [
        "#@title Importing libraries {display-mode: \"form\"}\n",
        "try:\n",
        "  from pyPARSER import *\n",
        "  from pyMol2 import *\n",
        "  from pyWRITER import *\n",
        "  from pyGrid import *\n",
        "  from pyCOORD_MC import *\n",
        "  from pyFindHB import *\n",
        "  from pyEnergy2 import *\n",
        "  from pyGaussian import *\n",
        "  from pyConformer import *\n",
        "  from pyRAND import *\n",
        "  from pyMcEntropy import *\n",
        "  from pySA import *\n",
        "  from pyOptimizer import *\n",
        "  from pyMC import *\n",
        "  from pyFullSearch import *\n",
        "  from pyDocker import *\n",
        "  print('pyLiBELa is imported!')\n",
        "except ImportError:\n",
        "  print('An ImportError occurred, try running this cell again!')"
      ]
    },
    {
      "cell_type": "code",
      "source": [
        "#@title Getting SB2021 and FDA database {display-mode: \"form\"}\n",
        "\n",
        "%%capture\n",
        "from google.colab import drive\n",
        "drive.mount('/content/drive/')\n",
        "path = '/content/drive/MyDrive/pyLiBELa/SB/' #@param {type:\"string\"}\n",
        "\n",
        "with open(path+'list.txt') as f:\n",
        "    pdb_codes_list = f.readlines()\n",
        "\n",
        "pdb_codes_list = [pdb_code[0:4] for pdb_code in pdb_codes_list]\n",
        "\n",
        "pdb_code = '121P' #@param {type:\"string\"}\n",
        "\n",
        "\n",
        "#Ligand list\n",
        "!rm -rf dbfda.src.txt\n",
        "source_ligands_file = \"http://files.docking.org/catalogs/source/dbfda.src.txt\" #@param {type:\"string\"}\n",
        "!wget $source_ligands_file\n",
        "\n",
        "\n",
        "source_ligands = open(r'dbfda.src.txt','r')\n",
        "\n",
        "ligand_smiles_list = [line.split('\\t')[0] for line in source_ligands.readlines()]\n",
        "\n",
        "source_ligands.close()"
      ],
      "metadata": {
        "id": "3sA3hsz4uOWq"
      },
      "execution_count": 2,
      "outputs": []
    },
    {
      "cell_type": "code",
      "source": [
        "#@title Reading molecular files {display-mode: \"form\"}\n",
        "\n",
        "#Reading Ligand SMILES\n",
        "Input = PARSER()\n",
        "\n",
        "Input.atom_limit = 60 #@param {type:\"number\"}\n",
        "    #atom limit not counting H\n",
        "\n",
        "ligand_smiles = \"N[C@@H](CS)C(O)=O\" #@param {type:\"string\"}\n",
        "print(ligand_smiles)\n",
        "\n",
        "\n",
        "Lig2 = Mol2()\n",
        "if Mol2.parse_smiles(Lig2, Input, ligand_smiles, 'Lig2'):\n",
        "   print('Ligand parsed successfully!')\n",
        "\n",
        "else:\n",
        "  print('Oops, something wrong with you ligand... \\nIt may be way too big or have an unknown atom.')\n",
        "\n",
        "#Reading reference ligand and receptor from source\n",
        "\n",
        "lig_src =  path + pdb_code +'/' + pdb_code + '.lig.am1bcc.mol2.gz'\n",
        "rec_src = path + pdb_code +'/' + pdb_code + '.rec.clean.mol2.gz'\n",
        "\n",
        "REC = Mol2(Input, rec_src)\n",
        "RefLig = Mol2(Input, lig_src)\n",
        "\n"
      ],
      "metadata": {
        "colab": {
          "base_uri": "https://localhost:8080/"
        },
        "id": "kcpNV5E1yKWB",
        "outputId": "43cdc60d-628d-4287-ae4e-cbca6060a53d"
      },
      "execution_count": 16,
      "outputs": [
        {
          "output_type": "stream",
          "name": "stdout",
          "text": [
            "N[C@@H](CS)C(O)=O\n",
            "Ligand parsed successfully!\n"
          ]
        }
      ]
    },
    {
      "cell_type": "code",
      "source": [
        "print(Lig2.N,REC.N,RefLig.N)"
      ],
      "metadata": {
        "id": "Jjy2sn3Y4xb-",
        "outputId": "f883dec7-f21c-4dbc-a6d8-d84c659b31f4",
        "colab": {
          "base_uri": "https://localhost:8080/"
        }
      },
      "execution_count": 4,
      "outputs": [
        {
          "output_type": "stream",
          "name": "stdout",
          "text": [
            "14 2620 46\n"
          ]
        }
      ]
    },
    {
      "cell_type": "code",
      "source": [
        "#@title Docking parameters {display-mode: \"form\"}\n",
        "\n",
        "import os\n",
        "import timeit\n",
        "import numpy as np\n",
        "\n",
        "grid_spacing = 0.5\n",
        "dim_grid = 30\n",
        "n_paralell_jobs = 2\n",
        "\n",
        "\n",
        "scoring_function = \"0\" #@param [\"0\", \"1\", \"2\", \"3\"]\n",
        "Input.dielectric_model = \"r\" #@param [\"r\", \"constant\"]\n",
        "Input.scoring_function = int(scoring_function)\n",
        "Input.solvation_alpha = 0.1 #@param {type:\"number\"}\n",
        "Input.solvation_beta = -0.005 #@param {type:\"number\"}\n",
        "if (Input.scoring_function < 3):\n",
        "  delta = 2.5 #@param {type:\"number\"}\n",
        "  Input.deltaij6 = (delta*delta*delta*delta*delta*delta)\n",
        "  delta_es = 2.5 #@param {type:\"number\"}\n",
        "  Input.deltaij_3 = (delta_es*delta_es*delta_es)\n",
        "  Input.deltaij_6 = Input.deltaij_3*Input.deltaij_3\n",
        "\n",
        "Input.search_box_x, Input.search_box_y, Input.search_box_z = 30.0, 30.0, 30.0\n",
        "Input.x_dim, Input.y_dim, Input.z_dim = dim_grid, dim_grid, dim_grid\n",
        "Input.write_grids = True\n",
        "Input.use_grids = True\n",
        "\n",
        "Input.grid_spacing = grid_spacing\n",
        "Input.grid_prefix = \"McGrid_\"+pdb_code\n",
        "Input.parallel_jobs = n_paralell_jobs\n",
        "\n",
        "Input.output = \"test_\" +pdb_code\n"
      ],
      "metadata": {
        "id": "bBiFwd-WIDdw"
      },
      "execution_count": 44,
      "outputs": []
    },
    {
      "cell_type": "code",
      "source": [
        "Writer = WRITER(Input)\n",
        "Coord = COORD_MC()\n",
        "HB = FindHB( )\n",
        "Dock = Docker(Writer)\n",
        "center = Coord.compute_com(RefLig)\n",
        "\n",
        "Grids = Grid(Input, Writer)\n",
        "\n",
        "\n",
        "Dock.run(REC, Lig2, RefLig, center, Input, Grids, 0)\n",
        "\n",
        "\n"
      ],
      "metadata": {
        "id": "3V0xpV6F2i3q"
      },
      "execution_count": 45,
      "outputs": []
    },
    {
      "cell_type": "code",
      "source": [
        "Writer.write_pdb(Lig2.xyz, Lig2.N, Lig2.atomnames, Lig2.energy, Lig2.rmsd, 'Lig2')\n",
        "out_pdb_gz = Input.output+'.pdb.gz'\n",
        "!rm -rf $out_pdb_gz\n",
        "!gzip -d $out_pdb_gz\n",
        "\n",
        "out_pdb = Input.output+'.pdb'\n",
        "!mv  $out_pdb Lig2.pdb\n",
        "#Writer.write_pdb(REC.xyz, REC.N, REC.atomnames, REC.energy, REC.rmsd, 'REC')\n",
        "#Writer.write_pdb(RefLig.xyz, RefLig.N, RefLig.atomnames, RefLig.energy, RefLig.rmsd, 'RefLig')"
      ],
      "metadata": {
        "id": "0glG4_s62CpE",
        "colab": {
          "base_uri": "https://localhost:8080/"
        },
        "outputId": "d3c2b545-6ebb-4a32-d000-9b0274ee5be7"
      },
      "execution_count": 51,
      "outputs": [
        {
          "output_type": "stream",
          "name": "stdout",
          "text": [
            "gzip: test_121P.pdb.gz: No such file or directory\n"
          ]
        }
      ]
    },
    {
      "cell_type": "code",
      "source": [
        "\n",
        "\n",
        "\n",
        "\n",
        "\n",
        "\n",
        "\n",
        "\n",
        "\n",
        "#convertendo de mol2 pra pdb\n",
        "rec_pdb = pdb_code+'_rec.pdb'\n",
        "\n",
        "!obabel -imol2 $rec_src -opdb -O $rec_pdb\n",
        "\n",
        "lig_pdb = pdb_code+'_lig.pdb'\n",
        "\n",
        "!obabel -imol2 $lig_src -opdb -O $lig_pdb\n",
        "\n",
        "!sed -i '/END\\|CONECT/d' $rec_pdb #tira o end e o conect do arquivo do receptor\n",
        "\n",
        "!sed -i 's/A  /B  /g' $lig_pdb #troca a cadeia A por B no arquivo do ligante\n",
        "\n",
        "!sed -i '/CONECT/d' $lig_pdb #tira o conect do arquivo do ligante\n",
        "\n",
        "complex_pdb = pdb_code + '.pdb'\n",
        "!cat $rec_pdb $lig_pdb > $complex_pdb #concatena os arquivos\n"
      ],
      "metadata": {
        "id": "Xjg31R961OVd"
      },
      "execution_count": null,
      "outputs": []
    },
    {
      "cell_type": "code",
      "source": [
        "#@title Setting view\n",
        "%%capture\n",
        "try:\n",
        "  import py3Dmol\n",
        "except:\n",
        "  !pip install py3Dmol\n",
        "  import py3Dmol\n",
        "\n",
        "\n",
        "\n",
        "view = py3Dmol.view(width=1200,height=800)\n",
        "\n",
        "#Adding models\n",
        "view.addModel(open(complex_pdb, 'r').read(),'pdb')\n",
        "\n",
        "\n",
        "#view.addModel(open('box.pdb', 'r').read(),'pdb')\n",
        "\n",
        "\n",
        "#Adjusting\n",
        "#view.setStyle({'chain':\"B\"},{'stick': {'colorscheme':'yellowCarbon'}})\n",
        "\n",
        "view.setStyle({'chain':'A'},  {\"cartoon\":{'arrows':True,'colorscheme':'ssPymol','opacity':0.7}})\n",
        "\n",
        "aminoacids = ['MET', 'THR', 'ASN', 'LYS', 'SER', 'ARG', 'VAL', 'ALA', 'ASP', 'GLU', 'GLY', 'PHE', 'LEU', 'TYR', 'CYS', 'TRP', 'PRO', 'HIS', 'GLN', 'ILE', 'ASH', 'CYX', 'GLH', 'HIE', 'HID', 'HIP']\n",
        "\n",
        "view.setStyle({ 'chain':'A', 'not':{'resn':aminoacids}}, {'sphere':{}})\n",
        "\n",
        "#view.addStyle({'chain':'A','within':{'distance':'5', 'sel':{'chain':'B'}},'byres':True}, {'stick': {'colorscheme':'skyblueCarbon'}})\n",
        "\n",
        "\n",
        "\n",
        "\n",
        "view.setBackgroundColor('white')\n",
        "view.zoomTo({\"model\":0})\n",
        "view.show()"
      ],
      "metadata": {
        "id": "cXTwPuTHFceG",
        "outputId": "476ff480-4fd4-43d2-88eb-aed47b609f04",
        "colab": {
          "base_uri": "https://localhost:8080/",
          "height": 245
        }
      },
      "execution_count": 47,
      "outputs": [
        {
          "output_type": "error",
          "ename": "NameError",
          "evalue": "ignored",
          "traceback": [
            "\u001b[0;31m---------------------------------------------------------------------------\u001b[0m",
            "\u001b[0;31mNameError\u001b[0m                                 Traceback (most recent call last)",
            "\u001b[0;32m<ipython-input-47-7fdf9e6bdbde>\u001b[0m in \u001b[0;36m<cell line: 12>\u001b[0;34m()\u001b[0m\n\u001b[1;32m     10\u001b[0m \u001b[0;34m\u001b[0m\u001b[0m\n\u001b[1;32m     11\u001b[0m \u001b[0;31m#Adding models\u001b[0m\u001b[0;34m\u001b[0m\u001b[0;34m\u001b[0m\u001b[0m\n\u001b[0;32m---> 12\u001b[0;31m \u001b[0mview\u001b[0m\u001b[0;34m.\u001b[0m\u001b[0maddModel\u001b[0m\u001b[0;34m(\u001b[0m\u001b[0mopen\u001b[0m\u001b[0;34m(\u001b[0m\u001b[0mcomplex_pdb\u001b[0m\u001b[0;34m,\u001b[0m \u001b[0;34m'r'\u001b[0m\u001b[0;34m)\u001b[0m\u001b[0;34m.\u001b[0m\u001b[0mread\u001b[0m\u001b[0;34m(\u001b[0m\u001b[0;34m)\u001b[0m\u001b[0;34m,\u001b[0m\u001b[0;34m'pdb'\u001b[0m\u001b[0;34m)\u001b[0m\u001b[0;34m\u001b[0m\u001b[0;34m\u001b[0m\u001b[0m\n\u001b[0m\u001b[1;32m     13\u001b[0m \u001b[0;34m\u001b[0m\u001b[0m\n\u001b[1;32m     14\u001b[0m \u001b[0;34m\u001b[0m\u001b[0m\n",
            "\u001b[0;31mNameError\u001b[0m: name 'complex_pdb' is not defined"
          ]
        }
      ]
    },
    {
      "cell_type": "code",
      "source": [
        "#@title Analysing ligands in SMILES format.\n",
        "\n",
        "try:\n",
        "  import py3Dmol\n",
        "except:\n",
        "  !pip install py3Dmol\n",
        "  import py3Dmol\n",
        "\n",
        "\n",
        "view = py3Dmol.view()\n",
        "\n",
        "view.addModel(open('Lig2.pdb', 'r').read())\n",
        "\n",
        "view.setStyle({'model':0},{'stick': {'colorscheme':'cyanCarbon'}})\n",
        "\n",
        "\n",
        "view.zoomTo({\"model\":0})\n",
        "view.show()"
      ],
      "metadata": {
        "id": "cZeXn1BzVppe"
      },
      "execution_count": null,
      "outputs": []
    }
  ]
}