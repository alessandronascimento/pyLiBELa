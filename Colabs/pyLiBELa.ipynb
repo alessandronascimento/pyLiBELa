{
  "nbformat": 4,
  "nbformat_minor": 0,
  "metadata": {
    "colab": {
      "provenance": [],
      "include_colab_link": true
    },
    "kernelspec": {
      "name": "python3",
      "display_name": "Python 3"
    },
    "language_info": {
      "name": "python"
    }
  },
  "cells": [
    {
      "cell_type": "markdown",
      "metadata": {
        "id": "view-in-github",
        "colab_type": "text"
      },
      "source": [
        "<a href=\"https://colab.research.google.com/github/alessandronascimento/pyLiBELa/blob/main/Colabs/pyLiBELa.ipynb\" target=\"_parent\"><img src=\"https://colab.research.google.com/assets/colab-badge.svg\" alt=\"Open In Colab\"/></a>"
      ]
    },
    {
      "cell_type": "code",
      "source": [
        "#@title Baixando pyLiBELa {display-mode: \"form\"}\n",
        "%%capture\n",
        "!pip3 install condacolab\n",
        "import condacolab\n",
        "condacolab.install()\n",
        "! apt-get install openbabel libopenbabel-dev python-dev-is-python3 zlib1g-dev libeigen3-dev libgsl-dev libnlopt-cxx-dev libgsl-dev\n",
        "! mamba install -c anaconda py-boost\n",
        "! git clone https://github.com/alessandronascimento/pyLiBELa.git\n",
        "! mv pyLiBELa/src src\n",
        "! rm -rf pyLiBELa\n",
        "! mkdir -p obj\n",
        "! rm -f Makefile*\n",
        "!wget https://raw.githubusercontent.com/alessandronascimento/pyLiBELa/main/Colabs/Makefile\n",
        "!make -j4 "
      ],
      "metadata": {
        "id": "0NP7rjKJLKWC"
      },
      "execution_count": 1,
      "outputs": []
    },
    {
      "cell_type": "code",
      "execution_count": 2,
      "metadata": {
        "id": "mmqpdtV1CU49"
      },
      "outputs": [],
      "source": [
        "#@title Importando bibliotecas {display-mode: \"form\"}\n",
        "\n",
        "from pyPARSER import *\n",
        "from pyMol2 import *\n",
        "from pyWRITER import *\n",
        "from pyGrid import *\n",
        "from pyCOORD_MC import *\n",
        "from pyFindHB import * \n",
        "from pyEnergy2 import *\n",
        "from pyGaussian import *\n",
        "from pyConformer import *\n",
        "from pyRAND import *\n",
        "from pyMcEntropy import *\n",
        "from pySA import *\n",
        "from pyOptimizer import *\n",
        "from pyMC import *\n",
        "from pyFullSearch import *\n",
        "from pyDocker import *"
      ]
    },
    {
      "cell_type": "code",
      "source": [
        "#@title Baixando base de dados proteína ligante {display-mode: \"form\"}\n",
        "\n",
        "from google.colab import drive\n",
        "drive.mount('/content/drive/')\n",
        "path = '/content/drive/MyDrive/pyLiBELa/SB/'\n",
        "\n",
        "with open(path+'list.txt') as f:\n",
        "    pdb_codes_list = f.readlines()\n",
        "\n",
        "pdb_codes_list = [pdb_code[0:4] for pdb_code in pdb_codes_list]"
      ],
      "metadata": {
        "id": "3sA3hsz4uOWq",
        "outputId": "42d7ff29-6d36-4260-83a6-c4dfbcdd2790",
        "colab": {
          "base_uri": "https://localhost:8080/"
        }
      },
      "execution_count": 1,
      "outputs": [
        {
          "output_type": "stream",
          "name": "stdout",
          "text": [
            "Drive already mounted at /content/drive/; to attempt to forcibly remount, call drive.mount(\"/content/drive/\", force_remount=True).\n"
          ]
        }
      ]
    },
    {
      "cell_type": "code",
      "source": [
        "Input = PARSER()\n",
        "Input.output = \"teste\" #@param {type:\"string\"}\n",
        "Input.scoring_function = 0 #@param {type:\"integer\"}\n",
        "Input.use_grids = True #@param {type:\"boolean\"}\n",
        "Input.grid_prefix = \"McGrid\" #@param {type:\"string\"}\n",
        "Input.search_box_x = 30.0 #@param {type:\"number\"}\n",
        "Input.search_box_y = 30.0 #@param {type:\"number\"}\n",
        "Input.search_box_z = 30.0 #@param {type:\"number\"}\n",
        "Input.grid_spacing = 0.3 #@param {type:\"number\"}\n",
        "Input.x_dim = 5.0 #@param {type:\"number\"}\n",
        "Input.y_dim = 5.0 #@param {type:\"number\"}\n",
        "Input.z_dim = 5.0 #@param {type:\"number\"}\n",
        "Input.write_grids = True;"
      ],
      "metadata": {
        "id": "Re435xPCR3P-"
      },
      "execution_count": 3,
      "outputs": []
    },
    {
      "cell_type": "code",
      "source": [
        "import os\n",
        "pdb_code = pdb_codes_list[0]\n",
        "for pdb_code in pdb_codes_list[0:2]:\n",
        "  print(pdb_code)\n",
        "\n",
        "\n",
        "  Input = PARSER()\n",
        "  Writer = WRITER(Input)\n",
        "  Coord = COORD_MC()\n",
        "  HB = FindHB()\n",
        "  Input.grid_prefix = \"McGrid_\"+pdb_code\n",
        "\n",
        "  lig_src =  path + pdb_code +'/' + pdb_code + '.lig.am1bcc.mol2.gz'\n",
        "  rec_src = path + pdb_code +'/' + pdb_code + '.rec.clean.mol2.gz'\n",
        "\n",
        "  lig = Mol2(Input, lig_src)\n",
        "  rec = Mol2(Input, rec_src)\n",
        "  ref_lig = Mol2(Input, lig_src)\n",
        "\n",
        "  for i in range(len(list(rec.residue_pointer))-1):\n",
        "    HB.parse_residue(rec.residue_pointer[i]-1, rec.residue_pointer[i+1]-2, rec.resnames[i], rec, lig, 9.0)\n",
        "\n",
        "  HB.find_ligandHB(lig_src, lig)\n",
        "\n",
        "  com = Coord.compute_com(lig)\n",
        "\n",
        "  %time Grids = Grid(Input, Writer, rec, com)\n",
        "\n",
        "  Energy = Energy2(Input)\n",
        "  energy1 = Energy.compute_ene(rec, lig, lig.xyz)\n",
        "  print(\"Original energy: %7.3f\" % energy1)\n",
        "\n",
        "  energy2 = Energy.compute_ene(Grids, lig, lig.xyz)\n",
        "  print(\"Grid energy: %7.3f\" % energy2)\n",
        "  \n",
        "\n",
        "#  !mv *.grid $folder"
      ],
      "metadata": {
        "id": "J5eUelNeR6ok",
        "outputId": "15147231-7ef5-44ca-ebe2-522d9d1c2417",
        "colab": {
          "base_uri": "https://localhost:8080/"
        }
      },
      "execution_count": 4,
      "outputs": [
        {
          "output_type": "stream",
          "name": "stdout",
          "text": [
            "121P\n",
            "CPU times: user 26.7 s, sys: 189 ms, total: 26.8 s\n",
            "Wall time: 27 s\n",
            "Original energy: -237.910\n",
            "Grid energy: 2999795.409\n",
            "181L\n",
            "CPU times: user 24.9 s, sys: 134 ms, total: 25 s\n",
            "Wall time: 25.3 s\n",
            "Original energy: -12.322\n",
            "Grid energy: -12.179\n"
          ]
        }
      ]
    },
    {
      "cell_type": "code",
      "source": [
        "for pdb_code in pdb_codes_list[0:4]:\n",
        "  folder = path+pdb_code+'/'\n",
        "  !ls $folder"
      ],
      "metadata": {
        "id": "OpINbnExAW4s",
        "outputId": "7defd963-c66c-494f-f428-2d65f6ebcc96",
        "colab": {
          "base_uri": "https://localhost:8080/"
        }
      },
      "execution_count": 39,
      "outputs": [
        {
          "output_type": "stream",
          "name": "stdout",
          "text": [
            "121P.lig.am1bcc.mol2.gz  121P.rec.clean.mol2.gz  McGrid_121P.grid  McLiBELa.log\n",
            "181L.lig.am1bcc.mol2.gz  181L.rec.clean.mol2.gz  McLiBELa.log\n",
            "182L.lig.am1bcc.mol2.gz  182L.rec.clean.mol2.gz  McLiBELa.log\n",
            "183L.lig.am1bcc.mol2.gz  183L.rec.clean.mol2.gz  McLiBELa.log\n"
          ]
        }
      ]
    }
  ]
}