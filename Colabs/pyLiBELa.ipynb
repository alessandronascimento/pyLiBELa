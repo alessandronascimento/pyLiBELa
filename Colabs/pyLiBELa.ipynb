{
  "nbformat": 4,
  "nbformat_minor": 0,
  "metadata": {
    "colab": {
      "provenance": [],
      "include_colab_link": true
    },
    "kernelspec": {
      "name": "python3",
      "display_name": "Python 3"
    },
    "language_info": {
      "name": "python"
    }
  },
  "cells": [
    {
      "cell_type": "markdown",
      "metadata": {
        "id": "view-in-github",
        "colab_type": "text"
      },
      "source": [
        "<a href=\"https://colab.research.google.com/github/alessandronascimento/pyLiBELa/blob/main/Colabs/pyLiBELa.ipynb\" target=\"_parent\"><img src=\"https://colab.research.google.com/assets/colab-badge.svg\" alt=\"Open In Colab\"/></a>"
      ]
    },
    {
      "cell_type": "code",
      "source": [
        "#@title Baixando pyLiBELa, demora uns 3 minutos. {display-mode: \"form\"}\n",
        "%%capture\n",
        "!pip3 install condacolab\n",
        "import condacolab\n",
        "condacolab.install()\n",
        "! apt-get install openbabel libopenbabel-dev python-dev-is-python3 zlib1g-dev libeigen3-dev libgsl-dev libnlopt-cxx-dev libgsl-dev\n",
        "! mamba install -c anaconda py-boost\n",
        "! git clone https://github.com/alessandronascimento/pyLiBELa.git\n",
        "! mv pyLiBELa/src src\n",
        "! rm -rf pyLiBELa\n",
        "! mkdir -p obj\n",
        "! rm -f Makefile*\n",
        "!wget https://raw.githubusercontent.com/alessandronascimento/pyLiBELa/main/Colabs/Makefile\n",
        "!make -j4 "
      ],
      "metadata": {
        "id": "0NP7rjKJLKWC"
      },
      "execution_count": null,
      "outputs": []
    },
    {
      "cell_type": "code",
      "execution_count": null,
      "metadata": {
        "id": "mmqpdtV1CU49"
      },
      "outputs": [],
      "source": [
        "#@title Importando bibliotecas {display-mode: \"form\"}\n",
        "\n",
        "from pyPARSER import *\n",
        "from pyMol2 import *\n",
        "from pyWRITER import *\n",
        "from pyGrid import *\n",
        "from pyCOORD_MC import *\n",
        "from pyFindHB import * \n",
        "from pyEnergy2 import *\n",
        "from pyGaussian import *\n",
        "from pyConformer import *\n",
        "from pyRAND import *\n",
        "from pyMcEntropy import *\n",
        "from pySA import *\n",
        "from pyOptimizer import *\n",
        "from pyMC import *\n",
        "from pyFullSearch import *\n",
        "from pyDocker import *"
      ]
    },
    {
      "cell_type": "code",
      "source": [
        "Input = PARSER()\n",
        "Input.output = \"teste\" #@param {type:\"string\"}\n",
        "Input.scoring_function = 0 #@param {type:\"integer\"}\n",
        "Input.use_grids = True #@param {type:\"boolean\"}\n",
        "Input.grid_prefix = \"McGrid\" #@param {type:\"string\"}\n",
        "Input.search_box_x = 30.0 #@param {type:\"number\"}\n",
        "Input.search_box_y = 30.0 #@param {type:\"number\"}\n",
        "Input.search_box_z = 30.0 #@param {type:\"number\"}\n",
        "Input.grid_spacing = 0.3 #@param {type:\"number\"}\n",
        "Input.x_dim = 8.0 #@param {type:\"number\"}\n",
        "Input.y_dim = 8.0 #@param {type:\"number\"}\n",
        "Input.z_dim = 8.0 #@param {type:\"number\"}\n",
        "Input.write_grids = True;"
      ],
      "metadata": {
        "cellView": "form",
        "id": "Re435xPCR3P-"
      },
      "execution_count": null,
      "outputs": []
    },
    {
      "cell_type": "code",
      "source": [
        "Writer = WRITER(Input)\n",
        "Coord = COORD_MC()\n",
        "HB = FindHB()\n",
        "lig = Mol2(Input, \"test/lig.mol2.gz\")\n",
        "rec = Mol2(Input, \"test/rec.mol2.gz\")\n",
        "Energy = Energy2(Input)\n",
        "\n",
        "for i in range(len(list(rec.residue_pointer))-1):\n",
        "  HB.parse_residue(rec.residue_pointer[i]-1, rec.residue_pointer[i+1]-2, rec.resnames[i], rec, lig, 9.0)\n",
        "\n",
        "HB.find_ligandHB(\"test/lig.mol2.gz\", lig)\n",
        "\n",
        "com = Coord.compute_com(lig)\n",
        "\n",
        "energy1 = Energy.compute_ene(rec, lig, lig.xyz)\n",
        "print(\"Original energy: %7.3f\" % energy1)\n",
        "\n",
        "Input.write_grids = True;\n",
        "\n",
        "%time Grids = Grid(Input, Writer, rec, com)\n",
        "\n",
        "energy2 = Energy.compute_ene(Grids, lig, lig.xyz)\n",
        "print(\"Grid energy: %7.3f\" % energy2)\n",
        "     "
      ],
      "metadata": {
        "id": "J5eUelNeR6ok"
      },
      "execution_count": null,
      "outputs": []
    }
  ]
}