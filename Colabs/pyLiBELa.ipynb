{
  "nbformat": 4,
  "nbformat_minor": 0,
  "metadata": {
    "colab": {
      "provenance": [],
      "include_colab_link": true
    },
    "kernelspec": {
      "name": "python3",
      "display_name": "Python 3"
    },
    "language_info": {
      "name": "python"
    }
  },
  "cells": [
    {
      "cell_type": "markdown",
      "metadata": {
        "id": "view-in-github",
        "colab_type": "text"
      },
      "source": [
        "<a href=\"https://colab.research.google.com/github/alessandronascimento/pyLiBELa/blob/main/Colabs/pyLiBELa.ipynb\" target=\"_parent\"><img src=\"https://colab.research.google.com/assets/colab-badge.svg\" alt=\"Open In Colab\"/></a>"
      ]
    },
    {
      "cell_type": "code",
      "source": [
        "#@title Downloading and Installing pyLiBELa {display-mode: \"form\"}\n",
        "%%capture\n",
        "!pip3 install condacolab\n",
        "import condacolab\n",
        "condacolab.install()\n",
        "! apt-get install openbabel libopenbabel-dev python-dev-is-python3 zlib1g-dev libeigen3-dev libgsl-dev libnlopt-cxx-dev libgsl-dev\n",
        "! mamba install -c anaconda py-boost\n",
        "! git clone https://github.com/alessandronascimento/pyLiBELa.git\n",
        "! mv pyLiBELa/src src\n",
        "! rm -rf pyLiBELa\n",
        "! mkdir -p obj\n",
        "! rm -f Makefile*\n",
        "! wget https://raw.githubusercontent.com/alessandronascimento/pyLiBELa/main/Colabs/Makefile\n",
        "! make -j4"
      ],
      "metadata": {
        "id": "0NP7rjKJLKWC"
      },
      "execution_count": 1,
      "outputs": []
    },
    {
      "cell_type": "code",
      "execution_count": 1,
      "metadata": {
        "id": "mmqpdtV1CU49",
        "colab": {
          "base_uri": "https://localhost:8080/"
        },
        "outputId": "17c64fa3-b8ba-40ce-f310-9e6f474568ed"
      },
      "outputs": [
        {
          "output_type": "stream",
          "name": "stdout",
          "text": [
            "pyLiBELa is imported!\n"
          ]
        }
      ],
      "source": [
        "#@title Importing libraries {display-mode: \"form\"}\n",
        "try:\n",
        "  from pyPARSER import *\n",
        "  from pyMol2 import *\n",
        "  from pyWRITER import *\n",
        "  from pyGrid import *\n",
        "  from pyCOORD_MC import *\n",
        "  from pyFindHB import *\n",
        "  from pyEnergy2 import *\n",
        "  from pyGaussian import *\n",
        "  from pyConformer import *\n",
        "  from pyRAND import *\n",
        "  from pyMcEntropy import *\n",
        "  from pySA import *\n",
        "  from pyOptimizer import *\n",
        "  from pyMC import *\n",
        "  from pyFullSearch import *\n",
        "  from pyDocker import *\n",
        "  print('pyLiBELa is imported!')\n",
        "except ImportError:\n",
        "  print('An ImportError occurred, try running this cell again!')"
      ]
    },
    {
      "cell_type": "code",
      "source": [
        "#@title Getting FDA database {display-mode: \"form\"}\n",
        "\n",
        "%%capture\n",
        "#Ligand list\n",
        "!rm -rf dbfda.src.txt\n",
        "source_ligands_file = \"http://files.docking.org/catalogs/source/dbfda.src.txt\" #@param {type:\"string\"}\n",
        "!wget $source_ligands_file\n",
        "\n",
        "\n",
        "source_ligands = open(r'dbfda.src.txt','r')\n",
        "\n",
        "ligand_smiles_list = [line.split('\\t')[0] for line in source_ligands.readlines()]\n",
        "\n",
        "source_ligands.close()\n",
        "\n",
        "!mkdir output"
      ],
      "metadata": {
        "id": "3sA3hsz4uOWq"
      },
      "execution_count": 2,
      "outputs": []
    },
    {
      "cell_type": "code",
      "source": [
        "#@title Docking parameters {display-mode: \"form\"}\n",
        "\n",
        "import os\n",
        "import timeit\n",
        "import numpy as np\n",
        "\n",
        "Input = PARSER()\n",
        "\n",
        "# Some default options:\n",
        "# 1. We are using two processors for Grid calculations;\n",
        "#\n",
        "\n",
        "Input.generate_conformers = True;\n",
        "Input.dock_parallel = True;\n",
        "Input.parallel_jobs = 2;\n",
        "Input.write_grids = True\n",
        "Input.use_grids = True\n",
        "Input.write_mol2 = True\n",
        "Input.atom_limit = 60 #@param {type:\"number\"}\n",
        "    #atom limit not counting H\n",
        "\n",
        "# Energy Calculation Parameters:\n",
        "scoring_function = \"0\" #@param [\"0\", \"1\", \"2\", \"3\"]\n",
        "Input.dielectric_model = \"r\" #@param [\"r\", \"constant\"]\n",
        "Input.scoring_function = int(scoring_function)\n",
        "grid_dimension = 30.0 #@param {type:\"number\"}\n",
        "Input.grid_spacing = 0.5 #@param {type:\"number\"}\n",
        "Input.solvation_alpha = 0.1 #@param {type:\"number\"}\n",
        "Input.solvation_beta = -0.005 #@param {type:\"number\"}\n",
        "\n",
        "# Optimization parameter:\n",
        "Input.min_tol = 1E-10;\n",
        "Input.min_delta = 1E-5;\n",
        "Input.dock_min_tol = 1E-10;\n",
        "search_box = 20.0 #@param {type:\"number\"}\n",
        "Input.timeout = 30 #@param {type:\"number\"}\n",
        "Input.min_timeout = 30 #@param {type:\"number\"}\n",
        "Input.overlay_optimizer = \"ln_auglag\" #@param [\"mma\", \"ln_auglag\", \"subplex\", \"none\"]\n",
        "Input.energy_optimizer = \"direct\" #@param [\"direct\", \"isres\", \"crs\", \"esch\", \"stogo\", \"mma\", \"simplex\", \"none\"]\n",
        "if (Input.scoring_function < 3):\n",
        "  delta = 2.5 #@param {type:\"number\"}\n",
        "  Input.deltaij6 = (delta*delta*delta*delta*delta*delta)\n",
        "  delta_es = 2.5 #@param {type:\"number\"}\n",
        "  Input.deltaij_es6 = pow(delta_es, 6);\n",
        "  Input.deltaij_es3 = (delta_es*delta_es*delta_es)\n",
        "\n",
        "Input.search_box_x, Input.search_box_y, Input.search_box_z = search_box, search_box, search_box;\n",
        "Input.x_dim, Input.y_dim, Input.z_dim = grid_dimension, grid_dimension, grid_dimension;"
      ],
      "metadata": {
        "id": "bBiFwd-WIDdw"
      },
      "execution_count": 36,
      "outputs": []
    },
    {
      "cell_type": "code",
      "source": [
        "#@title Reading molecular files {display-mode: \"form\"}\n",
        "\n",
        "#Reading Ligand SMILES\n",
        "\n",
        "\n",
        "ligand_smiles = \"o1ccc2ccccc12\" #@param {type:\"string\"}\n",
        "#print(ligand_smiles)\n",
        "\n",
        "\n",
        "Lig2 = Mol2()\n",
        "if Mol2.parse_smiles(Lig2, Input, ligand_smiles, 'Lig2'):\n",
        "   print('Ligand SMILES parsed successfully!')\n",
        "\n",
        "else:\n",
        "  print('Oops, something wrong with you ligand... \\nIt may be way too big or have an unknown atom.')\n",
        "\n",
        "#Reading reference ligand and receptor from source\n",
        "\n",
        "lig_src =  'test/lig.mol2.gz' #@param {type:\"string\"}\n",
        "rec_src = 'test/rec.mol2.gz' #@param {type:\"string\"}\n",
        "\n",
        "REC = Mol2(Input, rec_src)\n",
        "RefLig = Mol2(Input, lig_src)\n",
        "\n",
        "print('Receptor and reference ligand parsed successfully!')\n",
        "print(\"Receptor has %4d atoms.\" % REC.N)\n",
        "print('Reference Ligand has %4d atoms' % RefLig.N)\n",
        "print('Search ligand has %4d atoms' % Lig2.N)\n"
      ],
      "metadata": {
        "id": "kcpNV5E1yKWB"
      },
      "execution_count": null,
      "outputs": []
    },
    {
      "cell_type": "code",
      "source": [
        "#@title Grid Generation and Docking calculation\n",
        "Writer = WRITER(Input)\n",
        "Coord = COORD_MC()\n",
        "HB = FindHB()\n",
        "Ene  = Energy2(Input)\n",
        "\n",
        "for i in range(len(REC.residue_pointer)-1):\n",
        "  HB.parse_residue(REC.residue_pointer[i]-1, REC.residue_pointer[i+1]-2, REC.resnames[i], REC, RefLig, 9.0);\n",
        "HB.find_ligandHB(lig_src, RefLig);\n",
        "print('The receptor has %5d / %5d HB donors/acceptors around the active site.' % (len(REC.HBdonors), len(REC.HBacceptors)));\n",
        "\n",
        "Dock = Docker(Writer)\n",
        "center = Coord.compute_com(RefLig)\n",
        "\n",
        "print()\n",
        "start_energy = Ene.compute_ene(REC, RefLig, RefLig.xyz);\n",
        "print('Starting energy: %7.3f kcal/mol' % start_energy);\n",
        "print()\n",
        "print('Generating grids. This may take a while..')\n",
        "Grids = Grid(Input, Writer, REC, center)\n",
        "print('Grids computed!')\n",
        "grid_energy = Ene.compute_ene(Grids, RefLig, RefLig.xyz);\n",
        "print('Grid original energy: %7.3f kcal/mol' % grid_energy);\n",
        "print('Grid error: %7.3f %%', abs(100.*(start_energy-grid_energy)/start_energy));\n",
        "print()\n",
        "print()\n",
        "print('Starting docking calculation...')\n",
        "Dock.run(REC, Lig2, RefLig, center, Input, Grids, 0)\n",
        "print('Docking calculation finished!')\n",
        "\n",
        "Writer.write_box(center, Grids.xbegin, Grids.ybegin, Grids.zbegin, Grids.xend, Grids.yend, Grids.zend)\n",
        "\n",
        "#colocar pra aparecer energia\n",
        "#    ultima linha .log\n",
        "#colocar timeit\n",
        "\n",
        "#calcular rmsd em relação ao original para todos do SB 2021, em outro Colab\n",
        "#   aparecer só uns específicos"
      ],
      "metadata": {
        "id": "3V0xpV6F2i3q",
        "cellView": "form"
      },
      "execution_count": null,
      "outputs": []
    },
    {
      "cell_type": "code",
      "source": [
        "#@title Preparing Output Files\n",
        "!obabel -imol2 McLiBELa_dock.mol2.gz -opdb -O lig2.pdb\n",
        "!obabel -imol2 test/lig.mol2.gz -opdb -O lig_ref.pdb\n",
        "!obabel -imol2 test/rec.mol2.gz -opdb -O rec.pdb\n",
        "\n",
        "lig2_pdb = open('lig2.pdb', 'r').read()\n",
        "lig_ref_pdb = open('lig_ref.pdb', 'r').read()\n",
        "rec_pdb = open('rec.pdb','r').read()\n",
        "\n",
        "box_pdb = open('box.pdb','r').read()\n",
        "\n",
        "def join_pdb(name_file_rec,name_file_lig,name_file_merge):\n",
        "  !cp $name_file_rec temp_rec.pdb\n",
        "  !cp $name_file_lig temp_lig.pdb\n",
        "\n",
        "  !sed -i '/END\\|CONECT/d' temp_rec.pdb #tira o end e o conect do arquivo do receptor\n",
        "\n",
        "  !sed -i 's/A  /B  /g' temp_lig.pdb #troca a cadeia A por B no arquivo do ligante\n",
        "\n",
        "  !sed -i '/CONECT/d' temp_lig.pdb #tira o conect do arquivo do ligante\n",
        "\n",
        "  !cat temp_rec.pdb temp_lig.pdb > $name_file_merge #concatena os arquivos\n",
        "\n",
        "  !rm -rf temp_rec.pdb temp_lig.pdb\n",
        "\n",
        "\n",
        "join_pdb('rec.pdb','lig_ref.pdb','complex1.pdb')\n",
        "complex1_pdb = open('complex1.pdb','r').read()\n",
        "\n",
        "join_pdb('rec.pdb','lig2.pdb','complex2.pdb')\n",
        "complex2_pdb = open('complex2.pdb','r').read()\n"
      ],
      "metadata": {
        "id": "GfSEvBRyASyr",
        "cellView": "form"
      },
      "execution_count": 43,
      "outputs": []
    },
    {
      "cell_type": "code",
      "source": [
        "#@title Setting view\n",
        "%%capture\n",
        "try:\n",
        "  import py3Dmol\n",
        "except:\n",
        "  !pip install py3Dmol\n",
        "  import py3Dmol\n",
        "aminoacids = ['MET', 'THR', 'ASN', 'LYS', 'SER', 'ARG', 'VAL', 'ALA', 'ASP', 'GLU', 'GLY', 'PHE', 'LEU', 'TYR', 'CYS', 'TRP', 'PRO', 'HIS', 'GLN', 'ILE', 'ASH', 'CYX', 'GLH', 'HIE', 'HID', 'HIP','HOH']\n"
      ],
      "metadata": {
        "id": "cXTwPuTHFceG"
      },
      "execution_count": 45,
      "outputs": []
    },
    {
      "cell_type": "code",
      "source": [
        "#@title Ligands\n",
        "view = py3Dmol.view()\n",
        "\n",
        "#Adding models\n",
        "view.addModel(lig2_pdb,'pdb') #model 0\n",
        "view.addModel(lig_ref_pdb,'pdb') #model 1\n",
        "#view.addModel(box_pdb,'pdb') #something wrong with it\n",
        "\n",
        "view.setStyle({'model':0},{'stick': {'colorscheme':'yellowCarbon'}})\n",
        "view.setStyle({'model':1},{'stick': {'colorscheme':'greenCarbon'}})\n",
        "\n",
        "\n",
        "view.setBackgroundColor('white')\n",
        "view.zoomTo()\n",
        "view.show()"
      ],
      "metadata": {
        "cellView": "form",
        "id": "LQ0t4AEo22mN"
      },
      "execution_count": null,
      "outputs": []
    },
    {
      "cell_type": "code",
      "source": [
        "#@title Original complex\n",
        "view = py3Dmol.view(width=1200,height=800)\n",
        "\n",
        "#Adding models\n",
        "view.addModel(complex1_pdb,'pdb') #model 0\n",
        "view.addModel(rec_pdb,'pdb') #model 1\n",
        "\n",
        "\n",
        "view.setStyle({'chain':'B'},{'stick': {'colorscheme':'greenCarbon'}})\n",
        "\n",
        "view.setStyle({'chain':'A'},  {\"cartoon\":{'arrows':True,'colorscheme':'rasmol','opacity':0.7}})\n",
        "view.setStyle({ 'chain':'A', 'not':{'resn':aminoacids}}, {'sphere':{}})\n",
        "view.addStyle({'chain':'A','within':{'distance':'5', 'sel':{'chain':'B'}},'byres':True}, {'stick': {'colorscheme':'skyblueCarbon'}})\n",
        "\n",
        "\n",
        "view.setBackgroundColor('white')\n",
        "view.zoomTo({'chain':'B'})\n",
        "view.show()"
      ],
      "metadata": {
        "id": "sAGIFCrW8zIQ"
      },
      "execution_count": null,
      "outputs": []
    },
    {
      "cell_type": "code",
      "source": [
        "#@title Docking complex\n",
        "view = py3Dmol.view(width=1200,height=800)\n",
        "\n",
        "#Adding models\n",
        "view.addModel(complex2_pdb,'pdb')\n",
        "\n",
        "view.setStyle({'chain':'B'},{'stick': {'colorscheme':'yellowCarbon'}})\n",
        "\n",
        "view.setStyle({'chain':'A'},  {\"cartoon\":{'arrows':True,'colorscheme':'ssPymol','opacity':0.7}})\n",
        "view.setStyle({ 'chain':'A', 'not':{'resn':aminoacids}}, {'sphere':{}})\n",
        "view.addStyle({'chain':'A','within':{'distance':'5', 'sel':{'chain':'B'}},'byres':True}, {'stick': {'colorscheme':'skyblueCarbon'}})\n",
        "\n",
        "\n",
        "view.setBackgroundColor('white')\n",
        "view.zoomTo({'chain':'B'})\n",
        "view.show()"
      ],
      "metadata": {
        "id": "JqvU5pQD_X-d"
      },
      "execution_count": null,
      "outputs": []
    },
    {
      "cell_type": "code",
      "source": [
        "#talvez seja bom colocar algo assim no futuro\n",
        "view = py3Dmol.view(query='pdb:1dc9',linked=False,viewergrid=(2,2))\n",
        "\n",
        "view.removeAllModels(viewer=(0,0))\n",
        "view.addModel(lig2_pdb,viewer=(0,0))\n",
        "view.setStyle({'model':0},{'stick':{'colorscheme':'greenCarbon'}},viewer=(0,0))\n",
        "\n",
        "\n",
        "view.zoomto()\n",
        "view.show()"
      ],
      "metadata": {
        "colab": {
          "base_uri": "https://localhost:8080/",
          "height": 497
        },
        "id": "j8TQU39I5deW",
        "outputId": "2b675f40-50a7-4713-b9fe-0db76fdc57f9"
      },
      "execution_count": 49,
      "outputs": [
        {
          "output_type": "display_data",
          "data": {
            "application/3dmoljs_load.v0": "<div id=\"3dmolviewer_16890861668453243\"  style=\"position: relative; width: 640px; height: 480px;\">\n        <p id=\"3dmolwarning_16890861668453243\" style=\"background-color:#ffcccc;color:black\">You appear to be running in JupyterLab (or JavaScript failed to load for some other reason).  You need to install the 3dmol extension: <br>\n        <tt>jupyter labextension install jupyterlab_3dmol</tt></p>\n        </div>\n<script>\n\nvar loadScriptAsync = function(uri){\n  return new Promise((resolve, reject) => {\n    //this is to ignore the existence of requirejs amd\n    var savedexports, savedmodule;\n    if (typeof exports !== 'undefined') savedexports = exports;\n    else exports = {}\n    if (typeof module !== 'undefined') savedmodule = module;\n    else module = {}\n\n    var tag = document.createElement('script');\n    tag.src = uri;\n    tag.async = true;\n    tag.onload = () => {\n        exports = savedexports;\n        module = savedmodule;\n        resolve();\n    };\n  var firstScriptTag = document.getElementsByTagName('script')[0];\n  firstScriptTag.parentNode.insertBefore(tag, firstScriptTag);\n});\n};\n\nif(typeof $3Dmolpromise === 'undefined') {\n$3Dmolpromise = null;\n  $3Dmolpromise = loadScriptAsync('https://cdnjs.cloudflare.com/ajax/libs/3Dmol/2.0.3/3Dmol-min.js');\n}\n\nvar viewer_16890861668453243 = null;\nvar warn = document.getElementById(\"3dmolwarning_16890861668453243\");\nif(warn) {\n    warn.parentNode.removeChild(warn);\n}\n$3Dmolpromise.then(function() {\nvar viewergrid_16890861668453243 = null;\nviewergrid_16890861668453243 = $3Dmol.createViewerGrid(document.getElementById(\"3dmolviewer_16890861668453243\"),{rows: 2, cols: 2, control_all: false},{backgroundColor:\"white\"});\nviewer_16890861668453243 = viewergrid_16890861668453243[0][0];\n$3Dmol.download(\"pdb:1dc9\", viewergrid_16890861668453243[0][0], {}, function() {\n$3Dmol.download(\"pdb:1dc9\", viewergrid_16890861668453243[0][1], {}, function() {\n$3Dmol.download(\"pdb:1dc9\", viewergrid_16890861668453243[1][0], {}, function() {\n$3Dmol.download(\"pdb:1dc9\", viewergrid_16890861668453243[1][1], {}, function() {\nviewergrid_16890861668453243[0][0].zoomTo();viewergrid_16890861668453243[0][1].zoomTo();viewergrid_16890861668453243[1][0].zoomTo();viewergrid_16890861668453243[1][1].zoomTo();\tviewergrid_16890861668453243[0][0].removeAllModels();\n\tviewergrid_16890861668453243[0][0].addModel(\"COMPND    Lig2 \\nAUTHOR    GENERATED BY OPEN BABEL 3.0.0\\nATOM      1  O1  LIG A   1      25.790   5.785   6.561  1.00  0.00           O  \\nATOM      2  C2  LIG A   1      25.093   4.873   5.834  1.00  0.00           C  \\nATOM      3  C3  LIG A   1      25.514   4.873   4.523  1.00  0.00           C  \\nATOM      4  C4  LIG A   1      26.536   5.855   4.430  1.00  0.00           C  \\nATOM      5  C5  LIG A   1      27.361   6.355   3.407  1.00  0.00           C  \\nATOM      6  C6  LIG A   1      28.275   7.373   3.718  1.00  0.00           C  \\nATOM      7  C7  LIG A   1      28.375   7.881   5.016  1.00  0.00           C  \\nATOM      8  C8  LIG A   1      27.568   7.391   6.049  1.00  0.00           C  \\nATOM      9  C9  LIG A   1      26.666   6.386   5.708  1.00  0.00           C  \\nATOM     10  H10 LIG A   1      24.347   4.314   6.380  1.00  0.00           H  \\nATOM     11  H11 LIG A   1      25.130   4.247   3.731  1.00  0.00           H  \\nATOM     12  H12 LIG A   1      27.292   5.968   2.396  1.00  0.00           H  \\nATOM     13  H13 LIG A   1      28.915   7.773   2.934  1.00  0.00           H  \\nATOM     14  H14 LIG A   1      29.091   8.672   5.229  1.00  0.00           H  \\nATOM     15  H15 LIG A   1      27.632   7.771   7.061  1.00  0.00           H  \\nMASTER        0    0    0    0    0    0    0    0   15    0   15    0\\nEND\\n\");\n\tviewergrid_16890861668453243[0][0].setStyle({\"model\": 0},{\"stick\": {\"colorscheme\": \"greenCarbon\"}});\n\tviewergrid_16890861668453243[0][0].zoomto();\n\tviewergrid_16890861668453243[0][1].zoomto();\n\tviewergrid_16890861668453243[1][0].zoomto();\n\tviewergrid_16890861668453243[1][1].zoomto();\nviewergrid_16890861668453243[1][1].render();\nviewergrid_16890861668453243[1][0].render();\nviewergrid_16890861668453243[0][1].render();\nviewergrid_16890861668453243[0][0].render();\n})\n})\n})\n})\n});\n</script>",
            "text/html": [
              "<div id=\"3dmolviewer_16890861668453243\"  style=\"position: relative; width: 640px; height: 480px;\">\n",
              "        <p id=\"3dmolwarning_16890861668453243\" style=\"background-color:#ffcccc;color:black\">You appear to be running in JupyterLab (or JavaScript failed to load for some other reason).  You need to install the 3dmol extension: <br>\n",
              "        <tt>jupyter labextension install jupyterlab_3dmol</tt></p>\n",
              "        </div>\n",
              "<script>\n",
              "\n",
              "var loadScriptAsync = function(uri){\n",
              "  return new Promise((resolve, reject) => {\n",
              "    //this is to ignore the existence of requirejs amd\n",
              "    var savedexports, savedmodule;\n",
              "    if (typeof exports !== 'undefined') savedexports = exports;\n",
              "    else exports = {}\n",
              "    if (typeof module !== 'undefined') savedmodule = module;\n",
              "    else module = {}\n",
              "\n",
              "    var tag = document.createElement('script');\n",
              "    tag.src = uri;\n",
              "    tag.async = true;\n",
              "    tag.onload = () => {\n",
              "        exports = savedexports;\n",
              "        module = savedmodule;\n",
              "        resolve();\n",
              "    };\n",
              "  var firstScriptTag = document.getElementsByTagName('script')[0];\n",
              "  firstScriptTag.parentNode.insertBefore(tag, firstScriptTag);\n",
              "});\n",
              "};\n",
              "\n",
              "if(typeof $3Dmolpromise === 'undefined') {\n",
              "$3Dmolpromise = null;\n",
              "  $3Dmolpromise = loadScriptAsync('https://cdnjs.cloudflare.com/ajax/libs/3Dmol/2.0.3/3Dmol-min.js');\n",
              "}\n",
              "\n",
              "var viewer_16890861668453243 = null;\n",
              "var warn = document.getElementById(\"3dmolwarning_16890861668453243\");\n",
              "if(warn) {\n",
              "    warn.parentNode.removeChild(warn);\n",
              "}\n",
              "$3Dmolpromise.then(function() {\n",
              "var viewergrid_16890861668453243 = null;\n",
              "viewergrid_16890861668453243 = $3Dmol.createViewerGrid(document.getElementById(\"3dmolviewer_16890861668453243\"),{rows: 2, cols: 2, control_all: false},{backgroundColor:\"white\"});\n",
              "viewer_16890861668453243 = viewergrid_16890861668453243[0][0];\n",
              "$3Dmol.download(\"pdb:1dc9\", viewergrid_16890861668453243[0][0], {}, function() {\n",
              "$3Dmol.download(\"pdb:1dc9\", viewergrid_16890861668453243[0][1], {}, function() {\n",
              "$3Dmol.download(\"pdb:1dc9\", viewergrid_16890861668453243[1][0], {}, function() {\n",
              "$3Dmol.download(\"pdb:1dc9\", viewergrid_16890861668453243[1][1], {}, function() {\n",
              "viewergrid_16890861668453243[0][0].zoomTo();viewergrid_16890861668453243[0][1].zoomTo();viewergrid_16890861668453243[1][0].zoomTo();viewergrid_16890861668453243[1][1].zoomTo();\tviewergrid_16890861668453243[0][0].removeAllModels();\n",
              "\tviewergrid_16890861668453243[0][0].addModel(\"COMPND    Lig2 \\nAUTHOR    GENERATED BY OPEN BABEL 3.0.0\\nATOM      1  O1  LIG A   1      25.790   5.785   6.561  1.00  0.00           O  \\nATOM      2  C2  LIG A   1      25.093   4.873   5.834  1.00  0.00           C  \\nATOM      3  C3  LIG A   1      25.514   4.873   4.523  1.00  0.00           C  \\nATOM      4  C4  LIG A   1      26.536   5.855   4.430  1.00  0.00           C  \\nATOM      5  C5  LIG A   1      27.361   6.355   3.407  1.00  0.00           C  \\nATOM      6  C6  LIG A   1      28.275   7.373   3.718  1.00  0.00           C  \\nATOM      7  C7  LIG A   1      28.375   7.881   5.016  1.00  0.00           C  \\nATOM      8  C8  LIG A   1      27.568   7.391   6.049  1.00  0.00           C  \\nATOM      9  C9  LIG A   1      26.666   6.386   5.708  1.00  0.00           C  \\nATOM     10  H10 LIG A   1      24.347   4.314   6.380  1.00  0.00           H  \\nATOM     11  H11 LIG A   1      25.130   4.247   3.731  1.00  0.00           H  \\nATOM     12  H12 LIG A   1      27.292   5.968   2.396  1.00  0.00           H  \\nATOM     13  H13 LIG A   1      28.915   7.773   2.934  1.00  0.00           H  \\nATOM     14  H14 LIG A   1      29.091   8.672   5.229  1.00  0.00           H  \\nATOM     15  H15 LIG A   1      27.632   7.771   7.061  1.00  0.00           H  \\nMASTER        0    0    0    0    0    0    0    0   15    0   15    0\\nEND\\n\");\n",
              "\tviewergrid_16890861668453243[0][0].setStyle({\"model\": 0},{\"stick\": {\"colorscheme\": \"greenCarbon\"}});\n",
              "\tviewergrid_16890861668453243[0][0].zoomto();\n",
              "\tviewergrid_16890861668453243[0][1].zoomto();\n",
              "\tviewergrid_16890861668453243[1][0].zoomto();\n",
              "\tviewergrid_16890861668453243[1][1].zoomto();\n",
              "viewergrid_16890861668453243[1][1].render();\n",
              "viewergrid_16890861668453243[1][0].render();\n",
              "viewergrid_16890861668453243[0][1].render();\n",
              "viewergrid_16890861668453243[0][0].render();\n",
              "})\n",
              "})\n",
              "})\n",
              "})\n",
              "});\n",
              "</script>"
            ]
          },
          "metadata": {}
        }
      ]
    }
  ]
}