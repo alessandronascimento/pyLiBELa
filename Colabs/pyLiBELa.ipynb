{
  "nbformat": 4,
  "nbformat_minor": 0,
  "metadata": {
    "colab": {
      "provenance": [],
      "include_colab_link": true
    },
    "kernelspec": {
      "name": "python3",
      "display_name": "Python 3"
    },
    "language_info": {
      "name": "python"
    }
  },
  "cells": [
    {
      "cell_type": "markdown",
      "metadata": {
        "id": "view-in-github",
        "colab_type": "text"
      },
      "source": [
        "<a href=\"https://colab.research.google.com/github/alessandronascimento/pyLiBELa/blob/main/Colabs/pyLiBELa.ipynb\" target=\"_parent\"><img src=\"https://colab.research.google.com/assets/colab-badge.svg\" alt=\"Open In Colab\"/></a>"
      ]
    },
    {
      "cell_type": "code",
      "source": [
        "#@title Baixando pyLiBELa {display-mode: \"form\"}\n",
        "%%capture\n",
        "!pip3 install condacolab\n",
        "import condacolab\n",
        "condacolab.install()\n",
        "! apt-get install openbabel libopenbabel-dev python-dev-is-python3 zlib1g-dev libeigen3-dev libgsl-dev libnlopt-cxx-dev libgsl-dev\n",
        "! mamba install -c anaconda py-boost\n",
        "! git clone https://github.com/alessandronascimento/pyLiBELa.git\n",
        "! mv pyLiBELa/src src\n",
        "! rm -rf pyLiBELa\n",
        "! mkdir -p obj\n",
        "! rm -f Makefile*\n",
        "! wget https://raw.githubusercontent.com/alessandronascimento/pyLiBELa/main/Colabs/Makefile\n",
        "! make -j4 "
      ],
      "metadata": {
        "id": "0NP7rjKJLKWC"
      },
      "execution_count": 1,
      "outputs": []
    },
    {
      "cell_type": "code",
      "execution_count": 2,
      "metadata": {
        "id": "mmqpdtV1CU49"
      },
      "outputs": [],
      "source": [
        "#@title Importando bibliotecas {display-mode: \"form\"}\n",
        "\n",
        "from pyPARSER import *\n",
        "from pyMol2 import *\n",
        "from pyWRITER import *\n",
        "from pyGrid import *\n",
        "from pyCOORD_MC import *\n",
        "from pyFindHB import * \n",
        "from pyEnergy2 import *\n",
        "from pyGaussian import *\n",
        "from pyConformer import *\n",
        "from pyRAND import *\n",
        "from pyMcEntropy import *\n",
        "from pySA import *\n",
        "from pyOptimizer import *\n",
        "from pyMC import *\n",
        "from pyFullSearch import *\n",
        "from pyDocker import *"
      ]
    },
    {
      "cell_type": "code",
      "source": [
        "#@title Baixando base de dados proteína ligante {display-mode: \"form\"}\n",
        "\n",
        "%%capture\n",
        "from google.colab import drive\n",
        "drive.mount('/content/drive/')\n",
        "path = '/content/drive/MyDrive/pyLiBELa/SB/'\n",
        "\n",
        "with open(path+'list.txt') as f:\n",
        "    pdb_codes_list = f.readlines()\n",
        "\n",
        "pdb_codes_list = [pdb_code[0:4] for pdb_code in pdb_codes_list]"
      ],
      "metadata": {
        "id": "3sA3hsz4uOWq"
      },
      "execution_count": 3,
      "outputs": []
    },
    {
      "cell_type": "code",
      "source": [
        "Input = PARSER()\n",
        "Input.output = \"teste\" #@param {type:\"string\"}\n",
        "Input.scoring_function = 0 #@param {type:\"integer\"}\n",
        "Input.use_grids = True #@param {type:\"boolean\"}\n",
        "Input.grid_prefix = \"McGrid\" #@param {type:\"string\"}\n",
        "Input.search_box_x = 30.0 #@param {type:\"number\"}\n",
        "Input.search_box_y = 30.0 #@param {type:\"number\"}\n",
        "Input.search_box_z = 30.0 #@param {type:\"number\"}\n",
        "Input.grid_spacing = 0.3 #@param {type:\"number\"}\n",
        "Input.x_dim = 5.0 #@param {type:\"number\"}\n",
        "Input.y_dim = 5.0 #@param {type:\"number\"}\n",
        "Input.z_dim = 5.0 #@param {type:\"number\"}\n",
        "Input.write_grids = True #@param {type:\"boolean\"}\n",
        "Input.dock_parallel = True #@param {type:\"boolean\"}\n",
        "Input.parallel_jobs = 4 #@param {type:\"integer\"}\n",
        "Input.write_mol2 = True #@param {type:\"boolean\"};"
      ],
      "metadata": {
        "id": "Re435xPCR3P-",
        "cellView": "form"
      },
      "execution_count": 4,
      "outputs": []
    },
    {
      "cell_type": "code",
      "source": [
        "import os\n",
        "import timeit\n",
        "import numpy as np\n",
        "\n",
        "num_pairs = 2\n",
        "num_metrics = 4\n",
        "\n",
        "spacing_grid_list = [0.1,0.3]\n",
        "length_input=len(spacing_grid_list)\n",
        "\n",
        "\n",
        "metrics_matrix=np.zeros((length_input*num_pairs,num_metrics+1))\n",
        "\n",
        "dim_grid = 3\n",
        "\n",
        "i=0\n",
        "for j in range(num_pairs):\n",
        "  for spacing_grid in spacing_grid_list:\n",
        "    pdb_code = pdb_codes_list[j]\n",
        "\n",
        "    print(pdb_code,spacing_grid)\n",
        "\n",
        "    Input.x_dim, Input.y_dim, Input.z_dim = dim_grid, dim_grid, dim_grid\n",
        "\n",
        "\n",
        "    metrics_list = np.zeros(num_metrics+1)\n",
        "\n",
        "    metrics_list[0] = j\n",
        "    \n",
        "    metrics_list[1] = spacing_grid\n",
        "\n",
        "    Input = PARSER()\n",
        "    Input.grid_prefix = \"McGrid_\"+pdb_code\n",
        "\n",
        "    Writer = WRITER(Input)\n",
        "    Coord = COORD_MC()\n",
        "    HB = FindHB()\n",
        "\n",
        "    lig_src =  path + pdb_code +'/' + pdb_code + '.lig.am1bcc.mol2.gz'\n",
        "    rec_src = path + pdb_code +'/' + pdb_code + '.rec.clean.mol2.gz'\n",
        "\n",
        "    lig = Mol2(Input, lig_src)\n",
        "    rec = Mol2(Input, rec_src)\n",
        "    ref_lig = Mol2(Input, lig_src)\n",
        "\n",
        "    Energy = Energy2(Input)\n",
        "\n",
        "    for k in range(len(list(rec.residue_pointer))-1):\n",
        "      HB.parse_residue(rec.residue_pointer[k]-1, rec.residue_pointer[k+1]-2, rec.resnames[k], rec, lig, 9.0)\n",
        "\n",
        "    HB.find_ligandHB(lig_src, lig)\n",
        "\n",
        "    com = Coord.compute_com(lig)\n",
        "\n",
        "    energy1 = Energy.compute_ene(rec, lig, lig.xyz)\n",
        "    print(\"Original energy: %7.3f\" % energy1)\n",
        "    metrics_list[2] = energy1\n",
        "\n",
        "    Input.write_grids = True\n",
        "\n",
        "    start_time = timeit.default_timer()\n",
        "    Grids = Grid(Input, Writer, rec, com)\n",
        "    time = timeit.default_timer() - start_time\n",
        "    print('Timeit: %.2f' %time)\n",
        "    metrics_list[3] = time\n",
        "\n",
        "    Writer.write_box(com, Grids.xbegin, Grids.ybegin, Grids.zbegin, Grids.xend, Grids.yend, Grids.zend)\n",
        "\n",
        "    energy2 = Energy.compute_ene(Grids, lig, lig.xyz)\n",
        "    print(\"Grid energy: %7.3f\" % energy2)\n",
        "    metrics_list[4] = energy2\n",
        "\n",
        "    folder = path + pdb_code\n",
        "    !mv *.grid McLiBELa.log box.pdb $folder\n",
        "\n",
        "    #print(metrics_list)\n",
        "    print('')\n",
        "\n",
        "    metrics_matrix[i] = metrics_list\n",
        "    i+=1\n"
      ],
      "metadata": {
        "id": "J5eUelNeR6ok",
        "outputId": "e11d8a70-c926-41e1-b863-4049e180ee74",
        "colab": {
          "base_uri": "https://localhost:8080/"
        }
      },
      "execution_count": 8,
      "outputs": [
        {
          "output_type": "stream",
          "name": "stdout",
          "text": [
            "121P 0.1\n",
            "Original energy: -237.910\n",
            "Timeit: 28.08\n",
            "Grid energy: 2999795.409\n",
            "\n",
            "181L 0.1\n",
            "Original energy: -12.322\n",
            "Timeit: 24.40\n",
            "Grid energy: -12.179\n",
            "\n",
            "121P 0.3\n",
            "Original energy: -237.910\n",
            "Timeit: 25.77\n",
            "Grid energy: 2999795.409\n",
            "\n",
            "181L 0.3\n",
            "Original energy: -12.322\n",
            "Timeit: 26.35\n",
            "Grid energy: -12.179\n",
            "\n"
          ]
        }
      ]
    },
    {
      "cell_type": "code",
      "source": [
        "print(\"{:<10} {:<15} {:<17} {:<10} {:<10}\".format('PDB_code','Grid spacing','Original Energy','Time','Grid Energy'))\n",
        "for i in range(num_pairs+length_input):\n",
        "  metrics_line = metrics_matrix[i]\n",
        "  pdb_code_print = pdb_codes_list[int(metrics_line[0])]\n",
        "\n",
        "  print(\"{:<10} {:<15} {:<17} {:<10} {:<10}\".format(pdb_code_print,metrics_line[1],'%7.3f'%metrics_line[2],'%.2f'%metrics_line[3], '%7.3f'%metrics_line[4])) \n",
        "\n"
      ],
      "metadata": {
        "id": "x7FGIj-19Md1",
        "outputId": "df20e5aa-3227-4393-f894-22deda50b8e5",
        "colab": {
          "base_uri": "https://localhost:8080/"
        }
      },
      "execution_count": 32,
      "outputs": [
        {
          "output_type": "stream",
          "name": "stdout",
          "text": [
            "PDB_code   Grid spacing    Original Energy   Time       Grid Energy\n",
            "121P       0.1             -237.910          28.08      2999795.409\n",
            "181L       0.1             -12.322           24.40      -12.179   \n",
            "121P       0.3             -237.910          25.77      2999795.409\n",
            "181L       0.3             -12.322           26.35      -12.179   \n"
          ]
        }
      ]
    },
    {
      "cell_type": "code",
      "source": [
        "#Writing data\n",
        "\n",
        "data_path = '/content/drive/MyDrive/pyLiBELa/'\n",
        "data_name = 'grid_spacing_test.dat'\n",
        "\n",
        "data = open(data_name,'w')\n",
        "\n",
        "variables='#'\n",
        "#variables+='\\t'.join(metrics_name_list)\n",
        "variables+=\"{:<10} {:<15} {:<17} {:<10} {:<10}\".format('PDB_code','Grid spacing','Original Energy','Time','Grid Energy')\n",
        "variables+='\\n'\n",
        "data.write(variables)\n",
        "data_line=''\n",
        "\n",
        "\n",
        "for i in range(num_pairs+length_input):\n",
        "  metrics_line = metrics_matrix[i]\n",
        "  pdb_code_print = pdb_codes_list[int(metrics_line[0])]\n",
        "\n",
        "  data_line+=\"{:<10} {:<15} {:<17} {:<10} {:<10}\".format(pdb_code_print,metrics_line[1],'%7.3f'%metrics_line[2],'%.2f'%metrics_line[3], '%7.3f'%metrics_line[4]) \n",
        "\n",
        "  data_line+='\\n'\n",
        "\n",
        "  #data_line+=\"{}\\t{}\\t{}\\t{}\\t{}\".format(pdb_code_print,metrics_line[1],'%7.3f'%metrics_line[2],'%.2f'%metrics_line[3], '%7.3f'%metrics_line[4]) \n",
        "  #data_line+= '\\t'\n",
        "\n",
        "data.write(data_line)\n",
        "data.close()\n",
        "\n",
        "!mv $data_name $data_path"
      ],
      "metadata": {
        "id": "sfMnwblMpEgY"
      },
      "execution_count": 42,
      "outputs": []
    },
    {
      "cell_type": "code",
      "source": [
        "data_loc = data_path + data_name\n",
        "!more $data_loc"
      ],
      "metadata": {
        "id": "68awt_QCwVFw",
        "outputId": "b952fabc-b789-4e74-fec7-b7fa731af4cf",
        "colab": {
          "base_uri": "https://localhost:8080/"
        }
      },
      "execution_count": 41,
      "outputs": [
        {
          "output_type": "stream",
          "name": "stdout",
          "text": [
            "#PDB_code   Grid spacing    Original Energy   Time       Grid Energy\n",
            "121P       0.1             -237.910          28.08      2999795.409\n",
            "181L       0.1             -12.322           24.40      -12.179   \n",
            "121P       0.3             -237.910          25.77      2999795.409\n",
            "181L       0.3             -12.322           26.35      -12.179   \n"
          ]
        }
      ]
    },
    {
      "cell_type": "code",
      "source": [
        "#Writing data in csv\n",
        "import csv\n",
        "\n",
        "data_path = '/content/drive/MyDrive/pyLiBELa/'\n",
        "data_name_csv = 'grid_spacing_test.csv'\n",
        "\n",
        "\n",
        "metrics_name_list = ['PDB_code','Grid spacing','Original Energy','Time','Grid Energy']\n",
        "with open(data_name_csv,'w', encoding='UTF8', newline='') as data:\n",
        "\n",
        "  writer = csv.writer(data)\n",
        "\n",
        "  writer.writerow(metrics_name_list)\n",
        "\n",
        "  for i in range(num_pairs+length_input):\n",
        "    metrics_line = metrics_matrix[i]\n",
        "    pdb_code_print = pdb_codes_list[int(metrics_line[0])]\n",
        "    row = [pdb_code_print,metrics_line[1],'%7.3f'%metrics_line[2],'%.2f'%metrics_line[3], '%7.3f'%metrics_line[4]]\n",
        "    writer.writerow(row)\n",
        "\n",
        "\n",
        "!mv $data_name_csv $data_path"
      ],
      "metadata": {
        "id": "cJn42p6vz02T"
      },
      "execution_count": 43,
      "outputs": []
    }
  ]
}