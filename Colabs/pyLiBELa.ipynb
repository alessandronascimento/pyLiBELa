{
  "nbformat": 4,
  "nbformat_minor": 0,
  "metadata": {
    "colab": {
      "provenance": [],
      "include_colab_link": true
    },
    "kernelspec": {
      "name": "python3",
      "display_name": "Python 3"
    },
    "language_info": {
      "name": "python"
    }
  },
  "cells": [
    {
      "cell_type": "markdown",
      "metadata": {
        "id": "view-in-github",
        "colab_type": "text"
      },
      "source": [
        "<a href=\"https://colab.research.google.com/github/alessandronascimento/pyLiBELa/blob/main/Colabs/pyLiBELa.ipynb\" target=\"_parent\"><img src=\"https://colab.research.google.com/assets/colab-badge.svg\" alt=\"Open In Colab\"/></a>"
      ]
    },
    {
      "cell_type": "code",
      "source": [
        "#@title Baixando pyLiBELa {display-mode: \"form\"}\n",
        "%%capture\n",
        "!pip3 install condacolab\n",
        "import condacolab\n",
        "condacolab.install()\n",
        "! apt-get install openbabel libopenbabel-dev python-dev-is-python3 zlib1g-dev libeigen3-dev libgsl-dev libnlopt-cxx-dev libgsl-dev\n",
        "! mamba install -c anaconda py-boost\n",
        "! git clone https://github.com/alessandronascimento/pyLiBELa.git\n",
        "! mv pyLiBELa/src src\n",
        "! rm -rf pyLiBELa\n",
        "! mkdir -p obj\n",
        "! rm -f Makefile*\n",
        "!wget https://raw.githubusercontent.com/alessandronascimento/pyLiBELa/main/Colabs/Makefile\n",
        "!make -j4 "
      ],
      "metadata": {
        "id": "0NP7rjKJLKWC"
      },
      "execution_count": 1,
      "outputs": []
    },
    {
      "cell_type": "code",
      "execution_count": 1,
      "metadata": {
        "id": "mmqpdtV1CU49"
      },
      "outputs": [],
      "source": [
        "#@title Importando bibliotecas {display-mode: \"form\"}\n",
        "\n",
        "from pyPARSER import *\n",
        "from pyMol2 import *\n",
        "from pyWRITER import *\n",
        "from pyGrid import *\n",
        "from pyCOORD_MC import *\n",
        "from pyFindHB import * \n",
        "from pyEnergy2 import *\n",
        "from pyGaussian import *\n",
        "from pyConformer import *\n",
        "from pyRAND import *\n",
        "from pyMcEntropy import *\n",
        "from pySA import *\n",
        "from pyOptimizer import *\n",
        "from pyMC import *\n",
        "from pyFullSearch import *\n",
        "from pyDocker import *"
      ]
    },
    {
      "cell_type": "code",
      "source": [
        "#@title Baixando base de dados proteína ligante {display-mode: \"form\"}\n",
        "\n",
        "%%capture\n",
        "from google.colab import drive\n",
        "drive.mount('/content/drive/')\n",
        "path = '/content/drive/MyDrive/pyLiBELa/SB/'\n",
        "\n",
        "with open(path+'list.txt') as f:\n",
        "    pdb_codes_list = f.readlines()\n",
        "\n",
        "pdb_codes_list = [pdb_code[0:4] for pdb_code in pdb_codes_list]"
      ],
      "metadata": {
        "id": "3sA3hsz4uOWq"
      },
      "execution_count": 2,
      "outputs": []
    },
    {
      "cell_type": "code",
      "source": [
        "Input = PARSER()\n",
        "Input.output = \"teste\" #@param {type:\"string\"}\n",
        "Input.scoring_function = 0 #@param {type:\"integer\"}\n",
        "Input.use_grids = True #@param {type:\"boolean\"}\n",
        "Input.grid_prefix = \"McGrid\" #@param {type:\"string\"}\n",
        "Input.search_box_x = 30.0 #@param {type:\"number\"}\n",
        "Input.search_box_y = 30.0 #@param {type:\"number\"}\n",
        "Input.search_box_z = 30.0 #@param {type:\"number\"}\n",
        "Input.grid_spacing = 0.3 #@param {type:\"number\"}\n",
        "Input.x_dim = 5.0 #@param {type:\"number\"}\n",
        "Input.y_dim = 5.0 #@param {type:\"number\"}\n",
        "Input.z_dim = 5.0 #@param {type:\"number\"}\n",
        "Input.write_grids = True;"
      ],
      "metadata": {
        "id": "Re435xPCR3P-",
        "cellView": "form"
      },
      "execution_count": 3,
      "outputs": []
    },
    {
      "cell_type": "code",
      "source": [
        "import os\n",
        "import timeit\n",
        "import numpy as np\n",
        "\n",
        "num_pairs = 3\n",
        "num_metrics = 4\n",
        "\n",
        "dim_grid_list = [5,5,5]\n",
        "\n",
        "metrics_matrix=np.zeros((num_pairs,num_metrics+1))\n",
        "\n",
        "\n",
        "for j in range(num_pairs):\n",
        "\n",
        "  pdb_code = pdb_codes_list[j]\n",
        "  dim_grid = dim_grid_list[j]\n",
        "\n",
        "  print(pdb_code,dim_grid)\n",
        "\n",
        "  Input.x_dim, Input.y_dim, Input.z_dim = dim_grid, dim_grid, dim_grid\n",
        "\n",
        "\n",
        "  metrics_list = np.zeros(num_metrics+1)\n",
        "\n",
        "  metrics_list[0] = j\n",
        "  \n",
        "  metrics_list[1] = dim_grid\n",
        "\n",
        "  Input = PARSER()\n",
        "  Input.grid_prefix = \"McGrid_\"+pdb_code\n",
        "\n",
        "  Writer = WRITER(Input)\n",
        "  Coord = COORD_MC()\n",
        "  HB = FindHB()\n",
        "\n",
        "  lig_src =  path + pdb_code +'/' + pdb_code + '.lig.am1bcc.mol2.gz'\n",
        "  rec_src = path + pdb_code +'/' + pdb_code + '.rec.clean.mol2.gz'\n",
        "\n",
        "  lig = Mol2(Input, lig_src)\n",
        "  rec = Mol2(Input, rec_src)\n",
        "  ref_lig = Mol2(Input, lig_src)\n",
        "\n",
        "  Energy = Energy2(Input)\n",
        "\n",
        "  for k in range(len(list(rec.residue_pointer))-1):\n",
        "    HB.parse_residue(rec.residue_pointer[k]-1, rec.residue_pointer[k+1]-2, rec.resnames[k], rec, lig, 9.0)\n",
        "\n",
        "  HB.find_ligandHB(lig_src, lig)\n",
        "\n",
        "  com = Coord.compute_com(lig)\n",
        "\n",
        "  energy1 = Energy.compute_ene(rec, lig, lig.xyz)\n",
        "  print(\"Original energy: %7.3f\" % energy1)\n",
        "  metrics_list[2] = energy1\n",
        "\n",
        "  Input.write_grids = True\n",
        "\n",
        "  start_time = timeit.default_timer()\n",
        "  Grids = Grid(Input, Writer, rec, com)\n",
        "  time = timeit.default_timer() - start_time\n",
        "  print('Timeit: %.2f' %time)\n",
        "  metrics_list[3] = time\n",
        "\n",
        "  energy2 = Energy.compute_ene(Grids, lig, lig.xyz)\n",
        "  print(\"Grid energy: %7.3f\" % energy2)\n",
        "  metrics_list[4] = energy2\n",
        "\n",
        "\n",
        "  !ls *.grid\n",
        "\n",
        "  folder = path + pdb_code\n",
        "  !mv *.grid McLiBELa.log $folder\n",
        "\n",
        "  print(metrics_list)\n",
        "  print('')\n",
        "\n",
        "  metrics_matrix[j] = metrics_list"
      ],
      "metadata": {
        "id": "J5eUelNeR6ok",
        "outputId": "53a55197-923e-4df0-dd62-9fff707fc8cb",
        "colab": {
          "base_uri": "https://localhost:8080/"
        }
      },
      "execution_count": 5,
      "outputs": [
        {
          "output_type": "stream",
          "name": "stdout",
          "text": [
            "121P 5\n",
            "Original energy: -237.910\n",
            "Timeit: 26.58\n",
            "Grid energy: 2999795.409\n",
            "McGrid_121P.grid\n",
            "[ 0.00000000e+00  5.00000000e+00 -2.37910282e+02  2.65792063e+01\n",
            "  2.99979541e+06]\n",
            "\n",
            "181L 5\n",
            "Original energy: -12.322\n",
            "Timeit: 24.98\n",
            "Grid energy: -12.179\n",
            "McGrid_181L.grid\n",
            "[  1.           5.         -12.32202051  24.98435135 -12.17868326]\n",
            "\n",
            "182L 5\n",
            "Original energy: -17.820\n",
            "Timeit: 27.82\n",
            "Grid energy: -17.608\n",
            "McGrid_182L.grid\n",
            "[  2.           5.         -17.81983535  27.82236368 -17.6084697 ]\n",
            "\n"
          ]
        }
      ]
    },
    {
      "cell_type": "code",
      "source": [
        "#conferindo nas pastas\n",
        "for pdb_code in pdb_codes_list[:num_pairs]:\n",
        "  folder = path+pdb_code+'/'\n",
        "  !ls $folder"
      ],
      "metadata": {
        "id": "OpINbnExAW4s",
        "outputId": "074e7256-4aff-42cf-aba4-1cb450470903",
        "colab": {
          "base_uri": "https://localhost:8080/"
        }
      },
      "execution_count": 6,
      "outputs": [
        {
          "output_type": "stream",
          "name": "stdout",
          "text": [
            "121P.lig.am1bcc.mol2.gz  121P.rec.clean.mol2.gz  McGrid_121P.grid  McLiBELa.log\n",
            "181L.lig.am1bcc.mol2.gz  181L.rec.clean.mol2.gz  McGrid_181L.grid  McLiBELa.log\n",
            "182L.lig.am1bcc.mol2.gz  182L.rec.clean.mol2.gz  McGrid_182L.grid  McLiBELa.log\n"
          ]
        }
      ]
    },
    {
      "cell_type": "code",
      "source": [
        "print(\"{:<10} {:<10} {:<17} {:<10} {:<10}\".format('PDB_code','Grid size','Original Energy','Time','Grid Energy'))\n",
        "for i in range(num_pairs):\n",
        "  data_line = metrics_matrix[i]\n",
        "  pdb_code_print = pdb_codes_list[int(data_line[0])]\n",
        "\n",
        " #line = pdb_codes_list[int(data_line[0])]+'\\t%7.3f\\t\\t%.2f\\t%7.3f'%(data_line[1],data_line[2],data_line[3])\n",
        "  print(\"{:<10} {:<10} {:<17} {:<10} {:<10}\".format(pdb_code_print,data_line[1],'%7.3f'%data_line[2],'%.2f'%data_line[3], '%7.3f'%data_line[4]) )"
      ],
      "metadata": {
        "id": "x7FGIj-19Md1",
        "outputId": "030fde27-264f-4fb8-aafa-fe8cfaa726ff",
        "colab": {
          "base_uri": "https://localhost:8080/"
        }
      },
      "execution_count": 10,
      "outputs": [
        {
          "output_type": "stream",
          "name": "stdout",
          "text": [
            "PDB_code   Grid size  Original Energy   Time       Grid Energy\n",
            "121P       5.0        -237.910          26.58      2999795.409\n",
            "181L       5.0        -12.322           24.98      -12.179   \n",
            "182L       5.0        -17.820           27.82      -17.608   \n"
          ]
        }
      ]
    }
  ]
}