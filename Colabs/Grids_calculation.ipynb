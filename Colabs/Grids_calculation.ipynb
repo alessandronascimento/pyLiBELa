{
  "nbformat": 4,
  "nbformat_minor": 0,
  "metadata": {
    "colab": {
      "provenance": [],
      "gpuType": "T4",
      "authorship_tag": "ABX9TyOxF2kNpYDwuhAgUZcUsIzr",
      "include_colab_link": true
    },
    "kernelspec": {
      "name": "python3",
      "display_name": "Python 3"
    },
    "language_info": {
      "name": "python"
    },
    "accelerator": "GPU"
  },
  "cells": [
    {
      "cell_type": "markdown",
      "metadata": {
        "id": "view-in-github",
        "colab_type": "text"
      },
      "source": [
        "<a href=\"https://colab.research.google.com/github/alessandronascimento/pyLiBELa/blob/alex-works/Colabs/Grids_calculation.ipynb\" target=\"_parent\"><img src=\"https://colab.research.google.com/assets/colab-badge.svg\" alt=\"Open In Colab\"/></a>"
      ]
    },
    {
      "cell_type": "code",
      "execution_count": 1,
      "metadata": {
        "colab": {
          "base_uri": "https://localhost:8080/"
        },
        "id": "v4KPw2z-St2_",
        "outputId": "60bd115a-822d-4199-bda7-33fbf158e084"
      },
      "outputs": [
        {
          "output_type": "stream",
          "name": "stdout",
          "text": [
            "time: 46.3 s (started: 2023-10-03 15:39:19 +00:00)\n"
          ]
        }
      ],
      "source": [
        "\n",
        "%%capture\n",
        "! apt-get install python-dev-is-python3 zlib1g-dev libeigen3-dev libgsl-dev libnlopt-cxx-dev libgsl-dev\n",
        "!pip install ipython-autotime\n",
        "%load_ext autotime\n",
        "!pip3 install condacolab\n",
        "import condacolab\n",
        "condacolab.install()\n",
        "!mamba install openbabel\n"
      ]
    },
    {
      "cell_type": "code",
      "source": [
        "\n",
        "%%capture\n",
        "! git clone https://github.com/alessandronascimento/pyLiBELa.git\n",
        "! ( cd pyLiBELa && git checkout alex-works)\n",
        "! mv pyLiBELa/src src\n",
        "! rm -rf pyLiBELa\n",
        "! mkdir -p obj\n",
        "! rm -f Makefile*\n",
        "! wget https://raw.githubusercontent.com/alessandronascimento/pyLiBELa/alex-works/Colabs/Makefile\n",
        "! sed -i 's+-I/usr/include/openbabel3+-I/usr/local/include/openbabel3+g' Makefile\n",
        "! make -j2\n"
      ],
      "metadata": {
        "colab": {
          "base_uri": "https://localhost:8080/"
        },
        "id": "bGaLd2s_Uga0",
        "outputId": "efa66212-9d26-43c1-97d7-26807808592f"
      },
      "execution_count": 2,
      "outputs": [
        {
          "output_type": "stream",
          "name": "stdout",
          "text": [
            "time: 2min 13s (started: 2023-10-03 15:40:05 +00:00)\n"
          ]
        }
      ]
    },
    {
      "cell_type": "code",
      "source": [
        "try:\n",
        "  from pyPARSER import *\n",
        "  from pyMol2 import *\n",
        "  from pyWRITER import *\n",
        "  from pyGrid import *\n",
        "  from pyCOORD_MC import *\n",
        "  from pyFindHB import *\n",
        "  from pyEnergy2 import *\n",
        "  from pyGaussian import *\n",
        "  from pyConformer import *\n",
        "  from pyRAND import *\n",
        "  from pyMcEntropy import *\n",
        "  from pySA import *\n",
        "  from pyOptimizer import *\n",
        "  from pyMC import *\n",
        "  from pyFullSearch import *\n",
        "  from pyDocker import *\n",
        "  print('pyLiBELa is imported!')\n",
        "except ImportError:\n",
        "  print('An ImportError occurred, try running this cell again!')"
      ],
      "metadata": {
        "colab": {
          "base_uri": "https://localhost:8080/"
        },
        "id": "67cHQNPcUk32",
        "outputId": "da0d619c-2834-4b1b-84e4-cbdce37eaa2b"
      },
      "execution_count": 1,
      "outputs": [
        {
          "output_type": "stream",
          "name": "stdout",
          "text": [
            "pyLiBELa is imported!\n"
          ]
        }
      ]
    },
    {
      "cell_type": "code",
      "source": [
        "from google.colab import drive\n",
        "import os\n",
        "from tqdm import tqdm\n",
        "drive.mount(\"/content/drive\")"
      ],
      "metadata": {
        "colab": {
          "base_uri": "https://localhost:8080/"
        },
        "id": "mCNxaZlGU5Ju",
        "outputId": "7d53824b-e71a-4298-fe52-c3bac4eed08b"
      },
      "execution_count": 2,
      "outputs": [
        {
          "output_type": "stream",
          "name": "stdout",
          "text": [
            "Drive already mounted at /content/drive; to attempt to forcibly remount, call drive.mount(\"/content/drive\", force_remount=True).\n"
          ]
        }
      ]
    },
    {
      "cell_type": "code",
      "source": [
        "#@title Docking parameters {display-mode: \"form\"}\n",
        "\n",
        "import os\n",
        "import timeit\n",
        "import numpy as np\n",
        "\n",
        "Input = PARSER()\n",
        "\n",
        "# Some default options:\n",
        "# 1. We are using two processors for Grid calculations;\n",
        "#\n",
        "\n",
        "Input.generate_conformers = True;\n",
        "Input.dock_parallel = True;\n",
        "Input.parallel_jobs = 2;\n",
        "Input.write_grids = True\n",
        "Input.use_grids = True\n",
        "Input.write_mol2 = True\n",
        "Input.atom_limit = 60 #@param {type:\"number\"}\n",
        "    #atom limit not counting H\n",
        "\n",
        "# Energy Calculation Parameters:\n",
        "scoring_function = \"0\" #@param [\"0\", \"1\", \"2\", \"3\"]\n",
        "Input.dielectric_model = \"r\" #@param [\"r\", \"constant\"]\n",
        "Input.scoring_function = int(scoring_function)\n",
        "grid_dimension = 30.0 #@param {type:\"number\"}\n",
        "Input.grid_spacing = 0.5 #@param {type:\"number\"}\n",
        "Input.solvation_alpha = 0.1 #@param {type:\"number\"}\n",
        "Input.solvation_beta = -0.005 #@param {type:\"number\"}\n",
        "\n",
        "# Optimization parameter:\n",
        "Input.min_tol = 1E-10;\n",
        "Input.min_delta = 1E-5;\n",
        "Input.dock_min_tol = 1E-10;\n",
        "search_box = 20.0 #@param {type:\"number\"}\n",
        "Input.timeout = 30 #@param {type:\"number\"}\n",
        "Input.min_timeout = 30 #@param {type:\"number\"}\n",
        "Input.overlay_optimizer = \"mma\" #@param [\"mma\", \"ln_auglag\", \"subplex\", \"none\"]\n",
        "Input.energy_optimizer = \"mma\" #@param [\"direct\", \"isres\", \"crs\", \"esch\", \"stogo\", \"mma\", \"simplex\", \"none\"]\n",
        "if (Input.scoring_function < 3):\n",
        "  delta = 2.5 #@param {type:\"number\"}\n",
        "  Input.deltaij6 = (delta*delta*delta*delta*delta*delta)\n",
        "  delta_es = 2.5 #@param {type:\"number\"}\n",
        "  Input.deltaij_es6 = pow(delta_es, 6);\n",
        "  Input.deltaij_es3 = (delta_es*delta_es*delta_es)\n",
        "\n",
        "Input.search_box_x, Input.search_box_y, Input.search_box_z = search_box, search_box, search_box;\n",
        "Input.x_dim, Input.y_dim, Input.z_dim = grid_dimension, grid_dimension, grid_dimension;"
      ],
      "metadata": {
        "id": "bBiFwd-WIDdw"
      },
      "execution_count": 3,
      "outputs": []
    },
    {
      "cell_type": "code",
      "source": [
        "src_path = 'drive/MyDrive/WorkingProj/PDBbind_v2020/targets_refined_set' #@param {type:\"string\"}\n",
        "out_path = 'drive/MyDrive/WorkingProj/PDBbind_v2020/grids'"
      ],
      "metadata": {
        "id": "dKcgUncCbCUF"
      },
      "execution_count": 4,
      "outputs": []
    },
    {
      "cell_type": "code",
      "source": [
        "def calculate_grid(lig_src, rec_src, input, writer, out_prefix, log_path):\n",
        "  try:\n",
        "    rec = Mol2(input, rec_src)\n",
        "    lig = Mol2(input, lig_src)\n",
        "\n",
        "    coord = COORD_MC()\n",
        "    hb = FindHB()\n",
        "\n",
        "    for i in range(len(rec.residue_pointer)-1):\n",
        "      hb.parse_residue(rec.residue_pointer[i]-1, rec.residue_pointer[i+1]-2, rec.resnames[i], rec, lig, 9.0)\n",
        "      hb.find_ligandHB(lig_src, lig)\n",
        "\n",
        "    center = coord.compute_com(lig)\n",
        "\n",
        "    input.grid_prefix = out_prefix\n",
        "\n",
        "    grid = Grid(input, writer, rec, center)\n",
        "    grid.write_grids_to_file()\n",
        "\n",
        "  except Exception as err:\n",
        "    with open(f'{log_path}/error_log.txt', 'a') as f:\n",
        "      f.write(f'ligand/receptor failed at {lig_src.split(\"/\")[-2]} with error: {err}\\n')\n"
      ],
      "metadata": {
        "id": "aX1NjyNxwiwI"
      },
      "execution_count": 5,
      "outputs": []
    },
    {
      "cell_type": "code",
      "source": [
        "writer = WRITER(Input)\n",
        "\n",
        "done = [name.split('.')[0] for name in os.listdir(out_path)]\n",
        "print(done)\n",
        "\n",
        "for i in tqdm(os.listdir(src_path)):\n",
        "  if i in done: continue\n",
        "  calculate_grid(f'{src_path}/{i}/{i}_ligand.mol2.gz', f'{src_path}/{i}/{i}_rec.mol2.gz', Input, writer, f'{out_path}/{i}', out_path)"
      ],
      "metadata": {
        "colab": {
          "base_uri": "https://localhost:8080/"
        },
        "id": "n-GIdWA0zFwS",
        "outputId": "fe8ce613-ea75-4f80-9b40-5de1c79de30f"
      },
      "execution_count": null,
      "outputs": [
        {
          "output_type": "stream",
          "name": "stdout",
          "text": [
            "['3ng4', '3e5a', '1m5w', '5vcv', '6exs', '2wq5', '5ehr', '5nn5', '2w47', '5kz0', '4xu2', '4gj3', '4gih', '4a6l', '4qb3', '1szd', 'error_log', '5jsg', '3ejp', '6aox', '4bf6', '6ets', '2e9u', '3r88', '5vc4', '5zc5', '4w9k', '2v8w', '6i67', '5u0z', '6ugz', '1det', '3tfn', '2haw', '3b4p', '1w7g', '2cn0', '4zba', '1rbp', '4xiq', '4rlw', '1e1v', '5o9p', '4dv8', '6oe0', '4xtw', '4xit', '3uew', '4w9p', '3m40', '1aaq', '2jkh', '5f5z', '5l8a', '4q6e', '3ai8', '1oif', '2a14', '5egu', '5lvl', '3dx3', '3i7e', '2pcp', '4mo4', '3kmc', '4cr9', '4ahs', '2hmv', '2q5k', '6if0', '4xmr', '6gnp', '1lbf', '3f78', '2zx8', '5om7', '4ap7', '6ior', '1qk3', '1hp5', '4gg7', '3ehy', '2zym', '1gfy', '3mzc', '4yha', '5j8z', '6el5', '6g7a', '5j86', '1m48', '5u8c', '4bck', '1c5t', '6jof', '5cqt', '6nfy', '5ia0', '2b1g', '3su6', '6eq7', '5nk3', '5m7s', '1jet', '6b97', '5fut', '4hwp', '6r13', '2vl4', '4m2v', '2hs1', '2pvm', '5nyh', '1dgm', '6e7r', '4en4', '4euo', '1fjs', '4io5', '4r06', '1lyb', '4rd6', '6aqs', '4qlk', '5u0y', '4zzz', '1lgw', '2vsl', '3ebl', '1z1h', '3m37', '1i1e', '2uwd', '3u90', '6hgg', '1str', '5op5', '3gc4', '2ces', '5eqe', '5a2i', '4nnr', '5osl', '6i18', '5uk8', '2wgj', '5d25', '5fyx', '1bgq', '5sz1', '3a6t', '3td4', '2xhm', '6j1l', '6cvv', '3nu4', '6dh1', '2b4l', '5een', '2qhy', '4bcp', '1igb', '2i3i', '3huc', '1g3d', '4cpt', '3zdh', '4fs4', '4ll3', '1l8g', '1hmt', '6r8l', '6dsp', '3dzt', '2hkf', '6qr9', '1oba', '1cgl', '3su0', '3d50', '4pg9', '3oil', '4rpo', '6mu3']\n"
          ]
        },
        {
          "output_type": "stream",
          "name": "stderr",
          "text": [
            "  6%|▌         | 294/5316 [16:38<17:35:27, 12.61s/it]"
          ]
        }
      ]
    }
  ]
}