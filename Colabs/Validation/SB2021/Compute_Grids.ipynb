{
  "nbformat": 4,
  "nbformat_minor": 0,
  "metadata": {
    "colab": {
      "provenance": [],
      "gpuType": "T4",
      "authorship_tag": "ABX9TyMCU/tfYJ5kWxjZSsdz/HM2",
      "include_colab_link": true
    },
    "kernelspec": {
      "name": "python3",
      "display_name": "Python 3"
    },
    "language_info": {
      "name": "python"
    },
    "accelerator": "GPU"
  },
  "cells": [
    {
      "cell_type": "markdown",
      "metadata": {
        "id": "view-in-github",
        "colab_type": "text"
      },
      "source": [
        "<a href=\"https://colab.research.google.com/github/alessandronascimento/pyLiBELa/blob/main/Colabs/Validation/SB2021/Compute_Grids.ipynb\" target=\"_parent\"><img src=\"https://colab.research.google.com/assets/colab-badge.svg\" alt=\"Open In Colab\"/></a>"
      ]
    },
    {
      "cell_type": "code",
      "execution_count": 1,
      "metadata": {
        "colab": {
          "base_uri": "https://localhost:8080/"
        },
        "id": "xlnEUvJ4D_f_",
        "outputId": "52bc0bfd-66f6-4a97-b9bb-4d8e206675e4"
      },
      "outputs": [
        {
          "output_type": "stream",
          "name": "stdout",
          "text": [
            "time: 3.12 s (started: 2023-10-23 20:32:34 +00:00)\n"
          ]
        }
      ],
      "source": [
        "#@title Downloading dependencies {display-mode: \"form\"}\n",
        "\n",
        "%%capture\n",
        "! apt-get install python-dev-is-python3 zlib1g-dev libeigen3-dev libgsl-dev libnlopt-cxx-dev\n",
        "!pip install ipython-autotime\n",
        "%load_ext autotime\n",
        "!pip3 install condacolab\n",
        "import condacolab\n",
        "condacolab.install()\n",
        "!mamba install openbabel"
      ]
    },
    {
      "cell_type": "code",
      "source": [
        "#@title Installing pyLiBELa {display-mode: \"form\"}\n",
        "\n",
        "%%capture\n",
        "\n",
        "! rm -f Makefile*\n",
        "! rm -rf obj src test\n",
        "! rmdir obj src\n",
        "! git clone --branch alex-works https://github.com/alessandronascimento/pyLiBELa.git\n",
        "! wget https://raw.githubusercontent.com/alessandronascimento/pyLiBELa/alex-works/Colabs/Makefile\n",
        "! mv pyLiBELa/src src\n",
        "! mv pyLiBELa/test test\n",
        "! rm -rf pyLiBELa\n",
        "! mkdir -p obj\n",
        "! sed -i 's+-I/usr/include/openbabel3+-I/usr/local/include/openbabel3+g' Makefile\n",
        "! make -j2"
      ],
      "metadata": {
        "colab": {
          "base_uri": "https://localhost:8080/"
        },
        "id": "ocCCfpEMEFIn",
        "outputId": "196d57b1-a6ae-4b70-e29e-bf020e24bb10"
      },
      "execution_count": 2,
      "outputs": [
        {
          "output_type": "stream",
          "name": "stdout",
          "text": [
            "time: 2min 13s (started: 2023-10-23 20:32:37 +00:00)\n"
          ]
        }
      ]
    },
    {
      "cell_type": "code",
      "source": [
        "#@title Importing pyLiBELa {display-mode: \"form\"}\n",
        "\n",
        "import random\n",
        "from google.colab import drive\n",
        "\n",
        "try:\n",
        "  from pyPARSER import *\n",
        "  from pyMol2 import *\n",
        "  from pyWRITER import *\n",
        "  from pyGrid import *\n",
        "  from pyCOORD_MC import *\n",
        "  from pyFindHB import *\n",
        "  from pyEnergy2 import *\n",
        "  from pyGaussian import *\n",
        "  from pyConformer import *\n",
        "  from pyRAND import *\n",
        "  from pyMcEntropy import *\n",
        "  from pySA import *\n",
        "  from pyOptimizer import *\n",
        "  from pyMC import *\n",
        "  from pyFullSearch import *\n",
        "  from pyDocker import *\n",
        "  print('pyLiBELa is imported!')\n",
        "except ImportError:\n",
        "  print('An ImportError occurred, try running this cell again!')"
      ],
      "metadata": {
        "colab": {
          "base_uri": "https://localhost:8080/"
        },
        "id": "zGdgITLtENPC",
        "outputId": "4e604d6f-9136-4118-b9bc-669a25e6715d"
      },
      "execution_count": 1,
      "outputs": [
        {
          "output_type": "stream",
          "name": "stdout",
          "text": [
            "pyLiBELa is imported!\n"
          ]
        }
      ]
    },
    {
      "cell_type": "code",
      "source": [
        "#@title Getting SB2021 data from Google Drive {display-mode: \"form\"}\n",
        "\n",
        "%%capture\n",
        "drive.mount('/content/drive/')\n",
        "sb_folder = '/content/drive/MyDrive/Projects_Data/pyLiBELa/SB/' #@param {type:\"string\"}\n",
        "\n",
        "%cd $sb_folder\n",
        "targets=[]\n",
        "targets_file = open('list', 'r');\n",
        "for line in targets_file:\n",
        "  targets.append(line.strip())\n",
        "targets_file.close()\n",
        "targets = targets[:-2] #os últimos 2 são list e list.txt, só quero os pdb\n",
        ""
      ],
      "metadata": {
        "id": "vgot7IR6ESTr"
      },
      "execution_count": 2,
      "outputs": []
    },
    {
      "cell_type": "code",
      "source": [
        "#@title Set Parameters for Grid Computation {display-mode: \"form\"}\n",
        "\n",
        "Input = PARSER()\n",
        "\n",
        "Input.generate_conformers = True;\n",
        "Input.dock_parallel = False;\n",
        "Input.parallel_jobs = 1;\n",
        "Input.write_grids = True;\n",
        "Input.load_grid_from_file = True;\n",
        "Input.use_grids = True\n",
        "Input.write_mol2 = True\n",
        "Input.atom_limit = 10000 #@param {type:\"number\"}\n",
        "\n",
        "scoring_function = \"0\" #@param [\"0\", \"1\", \"2\", \"3\"]\n",
        "Input.dielectric_model = \"r\" #@param [\"r\", \"constant\"]\n",
        "Input.scoring_function = int(scoring_function)\n",
        "grid_dimension = 30.0 #@param {type:\"number\"}\n",
        "Input.grid_prefix = 'McGrid_SF0'\n",
        "Input.grid_spacing = 0.4 #@param {type:\"number\"}\n",
        "Input.solvation_alpha = 0.1 #@param {type:\"number\"}\n",
        "Input.solvation_beta = -0.005 #@param {type:\"number\"}\n",
        "\n",
        "# Optimization parameter:\n",
        "Input.min_tol = 1E-4;\n",
        "Input.min_delta = 1E-4;\n",
        "Input.dock_min_tol = 1E-4;\n",
        "search_box = 8.0 #@param {type:\"number\"}\n",
        "Input.timeout = 20 #@param {type:\"number\"}\n",
        "Input.min_timeout = 30 #@param {type:\"number\"}\n",
        "Input.overlay_optimizer = \"mma\" #@param [\"mma\", \"ln_auglag\", \"subplex\", \"none\"]\n",
        "Input.energy_optimizer = \"mma\" #@param [\"direct\", \"isres\", \"crs\", \"esch\", \"stogo\", \"mma\", \"simplex\", \"none\"]\n",
        "if (Input.scoring_function < 3):\n",
        "    delta = 2.5 #@param {type:\"number\"}\n",
        "    Input.deltaij6 = (delta*delta*delta*delta*delta*delta)\n",
        "    delta_es = 2.5 #@param {type:\"number\"}\n",
        "    Input.deltaij_es6 = pow(delta_es, 6);\n",
        "    Input.deltaij_es3 = (delta_es*delta_es*delta_es)\n",
        "\n",
        "Input.conf_search_trials = 10000;\n",
        "Input.conformers_to_evaluate = 2;\n",
        "Input.lig_conformers = 10;\n",
        "\n",
        "Input.search_box_x, Input.search_box_y, Input.search_box_z = search_box, search_box, search_box;\n",
        "Input.x_dim, Input.y_dim, Input.z_dim = grid_dimension, grid_dimension, grid_dimension;"
      ],
      "metadata": {
        "id": "g0eH0Wa8Eg_G"
      },
      "execution_count": 3,
      "outputs": []
    },
    {
      "cell_type": "code",
      "source": [
        "#@title Grid Computation {display-mode: \"form\"}\n",
        "for target in targets:\n",
        "  target_folder = sb_folder + target\n",
        "  %cd $target_folder\n",
        "  !mkdir -p grids\n",
        "  %cd grids\n",
        "  try:\n",
        "    REC = Mol2(Input, '../rec.mol2.gz')\n",
        "    RefLig = Mol2(Input, '../lig.mol2.gz')\n",
        "    Lig2 = Mol2(Input, 'lig.mol2.gz')\n",
        "    Writer = WRITER(Input)\n",
        "    Coord = COORD_MC()\n",
        "    HB = FindHB()\n",
        "    Ene  = Energy2(Input)\n",
        "    for i in range(len(REC.residue_pointer)-1):\n",
        "      HB.parse_residue(REC.residue_pointer[i]-1, REC.residue_pointer[i+1]-2, REC.resnames[i], REC, RefLig, 9.0);\n",
        "    HB.find_ligandHB('../lig.mol2.gz', RefLig);\n",
        "    HB.find_ligandHB('../lig.mol2.gz', Lig2);\n",
        "    print('The receptor has %5d / %5d HB donors/acceptors around the active site.' % (len(REC.HBdonors), len(REC.HBacceptors)));\n",
        "    center = Coord.compute_com(RefLig)\n",
        "\n",
        "    print()\n",
        "    start_energy = Ene.compute_ene(REC, RefLig, RefLig.xyz);\n",
        "    print('Starting energy: %7.3f kcal/mol' % start_energy);\n",
        "    print()\n",
        "    print('Generating grids. This may take a while..')\n",
        "    Grids = Grid(Input, Writer, REC, center)\n",
        "    print('Grids computed!')\n",
        "    grid_energy = Ene.compute_ene(Grids, RefLig, RefLig.xyz);\n",
        "    print('Grid original energy: %7.3f kcal/mol' % grid_energy);\n",
        "    print('Grid error: %7.3f %%' % abs(100.*(start_energy-grid_energy)/start_energy));\n",
        "\n",
        "  except:\n",
        "    print('Could not compute grids for target %s.' % target)\n",
        "\n",
        "\n",
        "\n",
        "\n"
      ],
      "metadata": {
        "colab": {
          "base_uri": "https://localhost:8080/"
        },
        "id": "jcKEkpxTEwGf",
        "outputId": "e6666862-5d08-4712-ea0e-94dd3233d5d0"
      },
      "execution_count": null,
      "outputs": [
        {
          "output_type": "stream",
          "name": "stdout",
          "text": [
            "/content/drive/.shortcut-targets-by-id/1iX13EV9pFTj4bafAE1ugNFli9exvXFbC/pyLiBELa/SB/121P\n",
            "/content/drive/.shortcut-targets-by-id/1iX13EV9pFTj4bafAE1ugNFli9exvXFbC/pyLiBELa/SB/121P/grids\n",
            "The receptor has    24 /    25 HB donors/acceptors around the active site.\n",
            "\n",
            "Starting energy: -144.121 kcal/mol\n",
            "\n",
            "Generating grids. This may take a while..\n",
            "Grids computed!\n",
            "Grid original energy: -133.592 kcal/mol\n",
            "Grid error:   7.306 %\n",
            "/content/drive/.shortcut-targets-by-id/1iX13EV9pFTj4bafAE1ugNFli9exvXFbC/pyLiBELa/SB/181L\n",
            "/content/drive/.shortcut-targets-by-id/1iX13EV9pFTj4bafAE1ugNFli9exvXFbC/pyLiBELa/SB/181L/grids\n",
            "The receptor has    38 /    26 HB donors/acceptors around the active site.\n",
            "\n",
            "Starting energy: -12.525 kcal/mol\n",
            "\n",
            "Generating grids. This may take a while..\n",
            "Grids computed!\n",
            "Grid original energy: -12.457 kcal/mol\n",
            "Grid error:   0.540 %\n",
            "/content/drive/.shortcut-targets-by-id/1iX13EV9pFTj4bafAE1ugNFli9exvXFbC/pyLiBELa/SB/182L\n",
            "/content/drive/.shortcut-targets-by-id/1iX13EV9pFTj4bafAE1ugNFli9exvXFbC/pyLiBELa/SB/182L/grids\n",
            "The receptor has    35 /    25 HB donors/acceptors around the active site.\n",
            "\n",
            "Starting energy: -17.806 kcal/mol\n",
            "\n",
            "Generating grids. This may take a while..\n",
            "Grids computed!\n",
            "Grid original energy: -17.728 kcal/mol\n",
            "Grid error:   0.439 %\n",
            "/content/drive/.shortcut-targets-by-id/1iX13EV9pFTj4bafAE1ugNFli9exvXFbC/pyLiBELa/SB/183L\n",
            "/content/drive/.shortcut-targets-by-id/1iX13EV9pFTj4bafAE1ugNFli9exvXFbC/pyLiBELa/SB/183L/grids\n",
            "The receptor has    38 /    25 HB donors/acceptors around the active site.\n",
            "\n",
            "Starting energy: -18.047 kcal/mol\n",
            "\n",
            "Generating grids. This may take a while..\n",
            "Grids computed!\n",
            "Grid original energy: -17.980 kcal/mol\n",
            "Grid error:   0.372 %\n",
            "/content/drive/.shortcut-targets-by-id/1iX13EV9pFTj4bafAE1ugNFli9exvXFbC/pyLiBELa/SB/184L\n",
            "/content/drive/.shortcut-targets-by-id/1iX13EV9pFTj4bafAE1ugNFli9exvXFbC/pyLiBELa/SB/184L/grids\n",
            "The receptor has    32 /    24 HB donors/acceptors around the active site.\n",
            "\n",
            "Starting energy: -20.221 kcal/mol\n",
            "\n",
            "Generating grids. This may take a while..\n",
            "Grids computed!\n",
            "Grid original energy: -20.172 kcal/mol\n",
            "Grid error:   0.243 %\n",
            "/content/drive/.shortcut-targets-by-id/1iX13EV9pFTj4bafAE1ugNFli9exvXFbC/pyLiBELa/SB/185L\n",
            "/content/drive/.shortcut-targets-by-id/1iX13EV9pFTj4bafAE1ugNFli9exvXFbC/pyLiBELa/SB/185L/grids\n",
            "The receptor has    36 /    26 HB donors/acceptors around the active site.\n",
            "\n",
            "Starting energy: -19.014 kcal/mol\n",
            "\n",
            "Generating grids. This may take a while..\n",
            "Grids computed!\n",
            "Grid original energy: -18.882 kcal/mol\n",
            "Grid error:   0.695 %\n",
            "/content/drive/.shortcut-targets-by-id/1iX13EV9pFTj4bafAE1ugNFli9exvXFbC/pyLiBELa/SB/186L\n",
            "/content/drive/.shortcut-targets-by-id/1iX13EV9pFTj4bafAE1ugNFli9exvXFbC/pyLiBELa/SB/186L/grids\n",
            "The receptor has    34 /    25 HB donors/acceptors around the active site.\n",
            "\n",
            "Starting energy: -20.919 kcal/mol\n",
            "\n",
            "Generating grids. This may take a while..\n",
            "Grids computed!\n",
            "Grid original energy: -20.730 kcal/mol\n",
            "Grid error:   0.903 %\n",
            "/content/drive/.shortcut-targets-by-id/1iX13EV9pFTj4bafAE1ugNFli9exvXFbC/pyLiBELa/SB/187L\n",
            "/content/drive/.shortcut-targets-by-id/1iX13EV9pFTj4bafAE1ugNFli9exvXFbC/pyLiBELa/SB/187L/grids\n",
            "The receptor has    34 /    25 HB donors/acceptors around the active site.\n",
            "\n",
            "Starting energy: -15.433 kcal/mol\n",
            "\n",
            "Generating grids. This may take a while..\n",
            "Grids computed!\n",
            "Grid original energy: -15.374 kcal/mol\n",
            "Grid error:   0.382 %\n",
            "/content/drive/.shortcut-targets-by-id/1iX13EV9pFTj4bafAE1ugNFli9exvXFbC/pyLiBELa/SB/188L\n",
            "/content/drive/.shortcut-targets-by-id/1iX13EV9pFTj4bafAE1ugNFli9exvXFbC/pyLiBELa/SB/188L/grids\n",
            "The receptor has    34 /    24 HB donors/acceptors around the active site.\n",
            "\n",
            "Starting energy: -15.570 kcal/mol\n",
            "\n",
            "Generating grids. This may take a while..\n",
            "Grids computed!\n",
            "Grid original energy: -15.525 kcal/mol\n",
            "Grid error:   0.285 %\n",
            "/content/drive/.shortcut-targets-by-id/1iX13EV9pFTj4bafAE1ugNFli9exvXFbC/pyLiBELa/SB/1A28\n",
            "/content/drive/.shortcut-targets-by-id/1iX13EV9pFTj4bafAE1ugNFli9exvXFbC/pyLiBELa/SB/1A28/grids\n",
            "The receptor has    13 /    12 HB donors/acceptors around the active site.\n",
            "\n",
            "Starting energy: -40.419 kcal/mol\n",
            "\n",
            "Generating grids. This may take a while..\n",
            "Grids computed!\n",
            "Grid original energy: -40.121 kcal/mol\n",
            "Grid error:   0.738 %\n",
            "/content/drive/.shortcut-targets-by-id/1iX13EV9pFTj4bafAE1ugNFli9exvXFbC/pyLiBELa/SB/1A30\n"
          ]
        }
      ]
    }
  ]
}