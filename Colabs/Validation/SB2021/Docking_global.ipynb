{
  "nbformat": 4,
  "nbformat_minor": 0,
  "metadata": {
    "colab": {
      "provenance": [],
      "include_colab_link": true
    },
    "kernelspec": {
      "name": "python3",
      "display_name": "Python 3"
    },
    "language_info": {
      "name": "python"
    }
  },
  "cells": [
    {
      "cell_type": "markdown",
      "metadata": {
        "id": "view-in-github",
        "colab_type": "text"
      },
      "source": [
        "<a href=\"https://colab.research.google.com/github/alessandronascimento/pyLiBELa/blob/main/Colabs/Validation/SB2021/Docking_global.ipynb\" target=\"_parent\"><img src=\"https://colab.research.google.com/assets/colab-badge.svg\" alt=\"Open In Colab\"/></a>"
      ]
    },
    {
      "cell_type": "code",
      "source": [
        "#@title Downloading dependencies {display-mode: \"form\"}\n",
        "\n",
        "%%capture\n",
        "! apt-get install python-dev-is-python3 zlib1g-dev libeigen3-dev libgsl-dev libnlopt-cxx-dev libgsl-dev\n",
        "!pip install ipython-autotime\n",
        "%load_ext autotime\n",
        "!pip3 install condacolab\n",
        "import condacolab\n",
        "import timeit\n",
        "import os\n",
        "import timeit\n",
        "import numpy as np\n",
        "from google.colab import drive\n",
        "import matplotlib.pyplot as plt\n",
        "import multiprocessing\n",
        "from joblib import Parallel, delayed\n",
        "condacolab.install()\n",
        "!mamba install openbabel"
      ],
      "metadata": {
        "id": "0NP7rjKJLKWC",
        "colab": {
          "base_uri": "https://localhost:8080/"
        },
        "outputId": "fd05af73-221f-4aac-a399-40c0f9cd75bd"
      },
      "execution_count": 2,
      "outputs": [
        {
          "output_type": "stream",
          "name": "stdout",
          "text": [
            "time: 4.65 s (started: 2023-10-24 12:44:48 +00:00)\n"
          ]
        }
      ]
    },
    {
      "cell_type": "code",
      "source": [
        "#@title Installing pyLiBELa {display-mode: \"form\"}\n",
        "\n",
        "%%capture\n",
        "! git clone https://github.com/alessandronascimento/pyLiBELa.git\n",
        "! mv pyLiBELa/src src\n",
        "! mv pyLiBELa/test test\n",
        "! rm -rf pyLiBELa\n",
        "! mkdir -p obj\n",
        "! rm -f Makefile*\n",
        "! wget https://raw.githubusercontent.com/alessandronascimento/pyLiBELa/main/Colabs/Makefile\n",
        "! make -j2"
      ],
      "metadata": {
        "id": "ofZ9ZY0uvuDM",
        "outputId": "5a0eea22-64f9-4592-a0c0-e17e0887fc5c",
        "colab": {
          "base_uri": "https://localhost:8080/"
        }
      },
      "execution_count": 3,
      "outputs": [
        {
          "output_type": "stream",
          "name": "stdout",
          "text": [
            "time: 12.4 s (started: 2023-10-24 12:44:53 +00:00)\n"
          ]
        }
      ]
    },
    {
      "cell_type": "code",
      "execution_count": 4,
      "metadata": {
        "id": "mmqpdtV1CU49",
        "colab": {
          "base_uri": "https://localhost:8080/"
        },
        "outputId": "eeb8e1b6-2ba4-4098-d4e5-12a31685b1ac"
      },
      "outputs": [
        {
          "output_type": "stream",
          "name": "stdout",
          "text": [
            "pyLiBELa is imported!\n",
            "time: 58 ms (started: 2023-10-24 12:45:05 +00:00)\n"
          ]
        }
      ],
      "source": [
        "#@title Importing pyLiBELa {display-mode: \"form\"}\n",
        "try:\n",
        "  from pyPARSER import *\n",
        "  from pyMol2 import *\n",
        "  from pyWRITER import *\n",
        "  from pyGrid import *\n",
        "  from pyCOORD_MC import *\n",
        "  from pyFindHB import *\n",
        "  from pyEnergy2 import *\n",
        "  from pyGaussian import *\n",
        "  from pyConformer import *\n",
        "  from pyRAND import *\n",
        "  from pyMcEntropy import *\n",
        "  from pySA import *\n",
        "  from pyOptimizer import *\n",
        "  from pyMC import *\n",
        "  from pyFullSearch import *\n",
        "  from pyDocker import *\n",
        "  print('pyLiBELa is imported!')\n",
        "except ImportError:\n",
        "  print('An ImportError occurred, try running this cell again!')"
      ]
    },
    {
      "cell_type": "code",
      "source": [
        "#@title Auxiliary functions {display-mode: \"form\"}\n",
        "def dock_mol (mol, Dock, Input, count):\n",
        "  Lig2 = Mol2();\n",
        "  if Lig2.parse_smiles(Input, mol, 'Lig'):\n",
        "    Dock.run(REC, Lig2, RefLig, center, Input, Grids, count);\n",
        "\n",
        "def dock_target(target, Input):\n",
        "  target_folder = sb_folder + target\n",
        "  %cd $target_folder\n",
        "  !mkdir -p {Input.energy_optimizer}_SF{scoring_function}\n",
        "  %cd {Input.energy_optimizer}_SF{scoring_function}\n",
        "#  !rm -f *\n",
        "  if (os.path.exists('../grids/McGrid_SF0') and not os.path.exists('McLiBELa_dock.mol2.gz')):\n",
        "\n",
        "    REC = Mol2(Input, '../rec.mol2.gz');\n",
        "    RefLig = Mol2(Input, '../lig.mol2.gz');\n",
        "    Lig2 = Mol2();\n",
        "\n",
        "    Writer = WRITER(Input);\n",
        "    Coord = COORD_MC();\n",
        "    HB = FindHB();\n",
        "    Ene  = Energy2(Input);\n",
        "\n",
        "    for i in range(len(REC.residue_pointer)-1):\n",
        "      HB.parse_residue(REC.residue_pointer[i]-1, REC.residue_pointer[i+1]-2, REC.resnames[i], REC, RefLig, 9.0);\n",
        "    HB.find_ligandHB('../lig.mol2.gz', RefLig);\n",
        "    print('The receptor has %5d / %5d HB donors/acceptors around the active site.' % (len(REC.HBdonors), len(REC.HBacceptors)));\n",
        "\n",
        "    insmiles = open('../lig2.smi', 'r');\n",
        "    line=insmiles.readline().strip()\n",
        "    line2 = line.split()\n",
        "    ligand_smiles = line2[0]\n",
        "    insmiles.close();\n",
        "\n",
        "    if (Lig2.parse_smiles(Input, ligand_smiles, 'LIG')):\n",
        "\n",
        "      Dock = Docker(Writer)\n",
        "      center = Coord.compute_com(RefLig)\n",
        "\n",
        "      print()\n",
        "      start_energy = Ene.compute_ene(REC, RefLig, RefLig.xyz);\n",
        "      print('Starting energy: %7.3f kcal/mol' % start_energy);\n",
        "      print('Loading grids...')\n",
        "      Grids = Grid(Input, Writer)\n",
        "      Grids.load_grids_from_file();\n",
        "      print('Grids loaded.')\n",
        "      grid_energy = Ene.compute_ene(Grids, RefLig, RefLig.xyz);\n",
        "      print('Grid original energy: %7.3f kcal/mol' % grid_energy);\n",
        "      print('Grid error: %7.3f %%' % abs(100.*(start_energy-grid_energy)/start_energy));\n",
        "\n",
        "      print('Starting docking calculation...')\n",
        "      Dock.run(REC, Lig2, RefLig, center, Input, Grids, 0)\n",
        "      print('Docking calculation finished!')"
      ],
      "metadata": {
        "id": "4RK7stKl36Qc",
        "outputId": "579dbf66-19e8-43a2-e230-526feeff70f7",
        "colab": {
          "base_uri": "https://localhost:8080/"
        }
      },
      "execution_count": 14,
      "outputs": [
        {
          "output_type": "stream",
          "name": "stdout",
          "text": [
            "time: 1.37 ms (started: 2023-10-24 13:09:01 +00:00)\n"
          ]
        }
      ]
    },
    {
      "cell_type": "code",
      "source": [
        "#@title Getting SB2021 data from Google Drive {display-mode: \"form\"}\n",
        "\n",
        "%%capture\n",
        "drive.mount('/content/drive/')\n",
        "sb_folder = '/content/drive/MyDrive/Projects_Data/pyLiBELa/SB/' #@param {type:\"string\"}\n",
        "\n",
        "%cd $sb_folder\n",
        "targets=[]\n",
        "targets_file = open('list', 'r');\n",
        "for line in targets_file:\n",
        "  targets.append(line.strip())\n",
        "targets_file.close()\n",
        "targets = targets[:-2] #os últimos 2 são list e list.txt, só quero os pdb"
      ],
      "metadata": {
        "colab": {
          "base_uri": "https://localhost:8080/"
        },
        "id": "vCjLETjxXuRA",
        "outputId": "0fbfffd7-d93d-4ab2-c3ab-97517327a28c"
      },
      "execution_count": 6,
      "outputs": [
        {
          "output_type": "stream",
          "name": "stdout",
          "text": [
            "time: 1.95 s (started: 2023-10-24 12:45:05 +00:00)\n"
          ]
        }
      ]
    },
    {
      "cell_type": "code",
      "source": [
        "#@title Set Parameters for Grid Computation {display-mode: \"form\"}\n",
        "\n",
        "Input = PARSER()\n",
        "\n",
        "Input.generate_conformers = True;\n",
        "Input.dock_parallel = False;\n",
        "Input.parallel_jobs = 1;\n",
        "Input.write_grids = False;\n",
        "Input.load_grid_from_file = True;\n",
        "Input.use_grids = True\n",
        "Input.write_mol2 = True\n",
        "Input.atom_limit = 10000 #@param {type:\"number\"}\n",
        "\n",
        "scoring_function = \"0\" #@param [\"0\", \"1\", \"2\", \"3\"]\n",
        "Input.dielectric_model = \"r\" #@param [\"r\", \"constant\"]\n",
        "Input.scoring_function = int(scoring_function)\n",
        "grid_dimension = 30.0 #@param {type:\"number\"}\n",
        "Input.grid_prefix = '../grids/McGrid_SF0'\n",
        "Input.grid_spacing = 0.4 #@param {type:\"number\"}\n",
        "Input.solvation_alpha = 0.1 #@param {type:\"number\"}\n",
        "Input.solvation_beta = -0.005 #@param {type:\"number\"}\n",
        "\n",
        "# Optimization parameter:\n",
        "Input.min_tol = 1E-4;\n",
        "Input.min_delta = 1E-4;\n",
        "Input.dock_min_tol = 1E-4;\n",
        "search_box = 8.0 #@param {type:\"number\"}\n",
        "Input.timeout = 20 #@param {type:\"number\"}\n",
        "Input.min_timeout = 30 #@param {type:\"number\"}\n",
        "Input.overlay_optimizer = \"mma\" #@param [\"mma\", \"ln_auglag\", \"subplex\", \"none\"]\n",
        "Input.energy_optimizer = \"direct_only\" #@param [\"direct_only\", \"isres\", \"crs\", \"esch\", \"stogo\", \"mma\", \"simplex\", \"none\"]\n",
        "if (Input.scoring_function < 3):\n",
        "    delta = 2.5 #@param {type:\"number\"}\n",
        "    Input.deltaij6 = (delta*delta*delta*delta*delta*delta)\n",
        "    delta_es = 2.5 #@param {type:\"number\"}\n",
        "    Input.deltaij_es6 = pow(delta_es, 6);\n",
        "    Input.deltaij_es3 = (delta_es*delta_es*delta_es)\n",
        "\n",
        "Input.conf_search_trials = 10000;\n",
        "Input.conformers_to_evaluate = 2;\n",
        "Input.lig_conformers = 10;\n",
        "\n",
        "Input.search_box_x, Input.search_box_y, Input.search_box_z = search_box, search_box, search_box;\n",
        "Input.x_dim, Input.y_dim, Input.z_dim = grid_dimension, grid_dimension, grid_dimension;\n",
        "\n",
        "#Input.use_overlay_cutoff = True # @param {type:\"boolean\"}\n",
        "#Input.overlay_cutoff = 0.6 #@param {type:\"number\"}\n",
        "Input.use_smiles = True;"
      ],
      "metadata": {
        "id": "bBiFwd-WIDdw",
        "colab": {
          "base_uri": "https://localhost:8080/"
        },
        "outputId": "0d596857-1cfe-4f65-ac4a-63f57b50bf7b"
      },
      "execution_count": 15,
      "outputs": [
        {
          "output_type": "stream",
          "name": "stdout",
          "text": [
            "time: 3.71 ms (started: 2023-10-24 13:09:04 +00:00)\n"
          ]
        }
      ]
    },
    {
      "cell_type": "code",
      "source": [
        "\n",
        "#@title Reading molecular files and Docking {display-mode: \"form\"}\n",
        "\n",
        "ncores = multiprocessing.cpu_count()\n",
        "\n",
        "print('Runing docking with %d threads.' % ncores)\n",
        "\n",
        "subset = targets[:10]\n",
        "\n",
        "parallel_docking = Parallel(backend='threading', n_jobs=1)(delayed(dock_target)(target, Input) for target in targets)"
      ],
      "metadata": {
        "id": "UwJdna1V2f96",
        "colab": {
          "base_uri": "https://localhost:8080/"
        },
        "outputId": "43c3e6c5-083a-4c33-f23f-138c2157c635"
      },
      "execution_count": null,
      "outputs": [
        {
          "output_type": "stream",
          "name": "stdout",
          "text": [
            "Runing docking with 2 threads.\n",
            "/content/drive/.shortcut-targets-by-id/1iX13EV9pFTj4bafAE1ugNFli9exvXFbC/pyLiBELa/SB/121P\n",
            "/content/drive/.shortcut-targets-by-id/1iX13EV9pFTj4bafAE1ugNFli9exvXFbC/pyLiBELa/SB/121P/direct_only_SF0\n",
            "/content/drive/.shortcut-targets-by-id/1iX13EV9pFTj4bafAE1ugNFli9exvXFbC/pyLiBELa/SB/181L\n",
            "/content/drive/.shortcut-targets-by-id/1iX13EV9pFTj4bafAE1ugNFli9exvXFbC/pyLiBELa/SB/181L/direct_only_SF0\n",
            "/content/drive/.shortcut-targets-by-id/1iX13EV9pFTj4bafAE1ugNFli9exvXFbC/pyLiBELa/SB/182L\n",
            "/content/drive/.shortcut-targets-by-id/1iX13EV9pFTj4bafAE1ugNFli9exvXFbC/pyLiBELa/SB/182L/direct_only_SF0\n",
            "/content/drive/.shortcut-targets-by-id/1iX13EV9pFTj4bafAE1ugNFli9exvXFbC/pyLiBELa/SB/183L\n",
            "/content/drive/.shortcut-targets-by-id/1iX13EV9pFTj4bafAE1ugNFli9exvXFbC/pyLiBELa/SB/183L/direct_only_SF0\n",
            "/content/drive/.shortcut-targets-by-id/1iX13EV9pFTj4bafAE1ugNFli9exvXFbC/pyLiBELa/SB/184L\n",
            "/content/drive/.shortcut-targets-by-id/1iX13EV9pFTj4bafAE1ugNFli9exvXFbC/pyLiBELa/SB/184L/direct_only_SF0\n",
            "/content/drive/.shortcut-targets-by-id/1iX13EV9pFTj4bafAE1ugNFli9exvXFbC/pyLiBELa/SB/185L\n",
            "/content/drive/.shortcut-targets-by-id/1iX13EV9pFTj4bafAE1ugNFli9exvXFbC/pyLiBELa/SB/185L/direct_only_SF0\n",
            "/content/drive/.shortcut-targets-by-id/1iX13EV9pFTj4bafAE1ugNFli9exvXFbC/pyLiBELa/SB/186L\n",
            "/content/drive/.shortcut-targets-by-id/1iX13EV9pFTj4bafAE1ugNFli9exvXFbC/pyLiBELa/SB/186L/direct_only_SF0\n",
            "/content/drive/.shortcut-targets-by-id/1iX13EV9pFTj4bafAE1ugNFli9exvXFbC/pyLiBELa/SB/187L\n",
            "/content/drive/.shortcut-targets-by-id/1iX13EV9pFTj4bafAE1ugNFli9exvXFbC/pyLiBELa/SB/187L/direct_only_SF0\n",
            "/content/drive/.shortcut-targets-by-id/1iX13EV9pFTj4bafAE1ugNFli9exvXFbC/pyLiBELa/SB/188L\n",
            "/content/drive/.shortcut-targets-by-id/1iX13EV9pFTj4bafAE1ugNFli9exvXFbC/pyLiBELa/SB/188L/direct_only_SF0\n",
            "/content/drive/.shortcut-targets-by-id/1iX13EV9pFTj4bafAE1ugNFli9exvXFbC/pyLiBELa/SB/1A28\n",
            "/content/drive/.shortcut-targets-by-id/1iX13EV9pFTj4bafAE1ugNFli9exvXFbC/pyLiBELa/SB/1A28/direct_only_SF0\n",
            "/content/drive/.shortcut-targets-by-id/1iX13EV9pFTj4bafAE1ugNFli9exvXFbC/pyLiBELa/SB/1A30\n",
            "/content/drive/.shortcut-targets-by-id/1iX13EV9pFTj4bafAE1ugNFli9exvXFbC/pyLiBELa/SB/1A30/direct_only_SF0\n",
            "/content/drive/.shortcut-targets-by-id/1iX13EV9pFTj4bafAE1ugNFli9exvXFbC/pyLiBELa/SB/1A4G\n",
            "/content/drive/.shortcut-targets-by-id/1iX13EV9pFTj4bafAE1ugNFli9exvXFbC/pyLiBELa/SB/1A4G/direct_only_SF0\n",
            "/content/drive/.shortcut-targets-by-id/1iX13EV9pFTj4bafAE1ugNFli9exvXFbC/pyLiBELa/SB/1A4Q\n",
            "/content/drive/.shortcut-targets-by-id/1iX13EV9pFTj4bafAE1ugNFli9exvXFbC/pyLiBELa/SB/1A4Q/direct_only_SF0\n",
            "/content/drive/.shortcut-targets-by-id/1iX13EV9pFTj4bafAE1ugNFli9exvXFbC/pyLiBELa/SB/1A52\n",
            "/content/drive/.shortcut-targets-by-id/1iX13EV9pFTj4bafAE1ugNFli9exvXFbC/pyLiBELa/SB/1A52/direct_only_SF0\n",
            "/content/drive/.shortcut-targets-by-id/1iX13EV9pFTj4bafAE1ugNFli9exvXFbC/pyLiBELa/SB/1A5S\n",
            "/content/drive/.shortcut-targets-by-id/1iX13EV9pFTj4bafAE1ugNFli9exvXFbC/pyLiBELa/SB/1A5S/direct_only_SF0\n",
            "/content/drive/.shortcut-targets-by-id/1iX13EV9pFTj4bafAE1ugNFli9exvXFbC/pyLiBELa/SB/1A7A\n",
            "/content/drive/.shortcut-targets-by-id/1iX13EV9pFTj4bafAE1ugNFli9exvXFbC/pyLiBELa/SB/1A7A/direct_only_SF0\n",
            "/content/drive/.shortcut-targets-by-id/1iX13EV9pFTj4bafAE1ugNFli9exvXFbC/pyLiBELa/SB/1A8G\n",
            "/content/drive/.shortcut-targets-by-id/1iX13EV9pFTj4bafAE1ugNFli9exvXFbC/pyLiBELa/SB/1A8G/direct_only_SF0\n",
            "/content/drive/.shortcut-targets-by-id/1iX13EV9pFTj4bafAE1ugNFli9exvXFbC/pyLiBELa/SB/1A8I\n",
            "/content/drive/.shortcut-targets-by-id/1iX13EV9pFTj4bafAE1ugNFli9exvXFbC/pyLiBELa/SB/1A8I/direct_only_SF0\n",
            "/content/drive/.shortcut-targets-by-id/1iX13EV9pFTj4bafAE1ugNFli9exvXFbC/pyLiBELa/SB/1A8K\n",
            "/content/drive/.shortcut-targets-by-id/1iX13EV9pFTj4bafAE1ugNFli9exvXFbC/pyLiBELa/SB/1A8K/direct_only_SF0\n",
            "/content/drive/.shortcut-targets-by-id/1iX13EV9pFTj4bafAE1ugNFli9exvXFbC/pyLiBELa/SB/1A9M\n",
            "/content/drive/.shortcut-targets-by-id/1iX13EV9pFTj4bafAE1ugNFli9exvXFbC/pyLiBELa/SB/1A9M/direct_only_SF0\n",
            "/content/drive/.shortcut-targets-by-id/1iX13EV9pFTj4bafAE1ugNFli9exvXFbC/pyLiBELa/SB/1A9U\n",
            "/content/drive/.shortcut-targets-by-id/1iX13EV9pFTj4bafAE1ugNFli9exvXFbC/pyLiBELa/SB/1A9U/direct_only_SF0\n",
            "/content/drive/.shortcut-targets-by-id/1iX13EV9pFTj4bafAE1ugNFli9exvXFbC/pyLiBELa/SB/1AAQ\n",
            "/content/drive/.shortcut-targets-by-id/1iX13EV9pFTj4bafAE1ugNFli9exvXFbC/pyLiBELa/SB/1AAQ/direct_only_SF0\n",
            "/content/drive/.shortcut-targets-by-id/1iX13EV9pFTj4bafAE1ugNFli9exvXFbC/pyLiBELa/SB/1ABE\n",
            "/content/drive/.shortcut-targets-by-id/1iX13EV9pFTj4bafAE1ugNFli9exvXFbC/pyLiBELa/SB/1ABE/direct_only_SF0\n",
            "/content/drive/.shortcut-targets-by-id/1iX13EV9pFTj4bafAE1ugNFli9exvXFbC/pyLiBELa/SB/1ABF\n",
            "/content/drive/.shortcut-targets-by-id/1iX13EV9pFTj4bafAE1ugNFli9exvXFbC/pyLiBELa/SB/1ABF/direct_only_SF0\n",
            "/content/drive/.shortcut-targets-by-id/1iX13EV9pFTj4bafAE1ugNFli9exvXFbC/pyLiBELa/SB/1ACJ\n",
            "/content/drive/.shortcut-targets-by-id/1iX13EV9pFTj4bafAE1ugNFli9exvXFbC/pyLiBELa/SB/1ACJ/direct_only_SF0\n",
            "/content/drive/.shortcut-targets-by-id/1iX13EV9pFTj4bafAE1ugNFli9exvXFbC/pyLiBELa/SB/1ACM\n",
            "/content/drive/.shortcut-targets-by-id/1iX13EV9pFTj4bafAE1ugNFli9exvXFbC/pyLiBELa/SB/1ACM/direct_only_SF0\n",
            "/content/drive/.shortcut-targets-by-id/1iX13EV9pFTj4bafAE1ugNFli9exvXFbC/pyLiBELa/SB/1ADD\n",
            "/content/drive/.shortcut-targets-by-id/1iX13EV9pFTj4bafAE1ugNFli9exvXFbC/pyLiBELa/SB/1ADD/direct_only_SF0\n",
            "/content/drive/.shortcut-targets-by-id/1iX13EV9pFTj4bafAE1ugNFli9exvXFbC/pyLiBELa/SB/1AFK\n",
            "/content/drive/.shortcut-targets-by-id/1iX13EV9pFTj4bafAE1ugNFli9exvXFbC/pyLiBELa/SB/1AFK/direct_only_SF0\n",
            "/content/drive/.shortcut-targets-by-id/1iX13EV9pFTj4bafAE1ugNFli9exvXFbC/pyLiBELa/SB/1AGM\n",
            "/content/drive/.shortcut-targets-by-id/1iX13EV9pFTj4bafAE1ugNFli9exvXFbC/pyLiBELa/SB/1AGM/direct_only_SF0\n",
            "/content/drive/.shortcut-targets-by-id/1iX13EV9pFTj4bafAE1ugNFli9exvXFbC/pyLiBELa/SB/1AGW\n",
            "/content/drive/.shortcut-targets-by-id/1iX13EV9pFTj4bafAE1ugNFli9exvXFbC/pyLiBELa/SB/1AGW/direct_only_SF0\n",
            "/content/drive/.shortcut-targets-by-id/1iX13EV9pFTj4bafAE1ugNFli9exvXFbC/pyLiBELa/SB/1AI5\n",
            "/content/drive/.shortcut-targets-by-id/1iX13EV9pFTj4bafAE1ugNFli9exvXFbC/pyLiBELa/SB/1AI5/direct_only_SF0\n",
            "/content/drive/.shortcut-targets-by-id/1iX13EV9pFTj4bafAE1ugNFli9exvXFbC/pyLiBELa/SB/1AID\n",
            "/content/drive/.shortcut-targets-by-id/1iX13EV9pFTj4bafAE1ugNFli9exvXFbC/pyLiBELa/SB/1AID/direct_only_SF0\n",
            "/content/drive/.shortcut-targets-by-id/1iX13EV9pFTj4bafAE1ugNFli9exvXFbC/pyLiBELa/SB/1AJV\n",
            "/content/drive/.shortcut-targets-by-id/1iX13EV9pFTj4bafAE1ugNFli9exvXFbC/pyLiBELa/SB/1AJV/direct_only_SF0\n",
            "/content/drive/.shortcut-targets-by-id/1iX13EV9pFTj4bafAE1ugNFli9exvXFbC/pyLiBELa/SB/1AZM\n",
            "/content/drive/.shortcut-targets-by-id/1iX13EV9pFTj4bafAE1ugNFli9exvXFbC/pyLiBELa/SB/1AZM/direct_only_SF0\n",
            "/content/drive/.shortcut-targets-by-id/1iX13EV9pFTj4bafAE1ugNFli9exvXFbC/pyLiBELa/SB/1B8O\n",
            "/content/drive/.shortcut-targets-by-id/1iX13EV9pFTj4bafAE1ugNFli9exvXFbC/pyLiBELa/SB/1B8O/direct_only_SF0\n",
            "/content/drive/.shortcut-targets-by-id/1iX13EV9pFTj4bafAE1ugNFli9exvXFbC/pyLiBELa/SB/1B9T\n",
            "/content/drive/.shortcut-targets-by-id/1iX13EV9pFTj4bafAE1ugNFli9exvXFbC/pyLiBELa/SB/1B9T/direct_only_SF0\n",
            "/content/drive/.shortcut-targets-by-id/1iX13EV9pFTj4bafAE1ugNFli9exvXFbC/pyLiBELa/SB/1B9V\n",
            "/content/drive/.shortcut-targets-by-id/1iX13EV9pFTj4bafAE1ugNFli9exvXFbC/pyLiBELa/SB/1B9V/direct_only_SF0\n",
            "/content/drive/.shortcut-targets-by-id/1iX13EV9pFTj4bafAE1ugNFli9exvXFbC/pyLiBELa/SB/1BA8\n",
            "/content/drive/.shortcut-targets-by-id/1iX13EV9pFTj4bafAE1ugNFli9exvXFbC/pyLiBELa/SB/1BA8/direct_only_SF0\n",
            "/content/drive/.shortcut-targets-by-id/1iX13EV9pFTj4bafAE1ugNFli9exvXFbC/pyLiBELa/SB/1BAP\n",
            "/content/drive/.shortcut-targets-by-id/1iX13EV9pFTj4bafAE1ugNFli9exvXFbC/pyLiBELa/SB/1BAP/direct_only_SF0\n",
            "/content/drive/.shortcut-targets-by-id/1iX13EV9pFTj4bafAE1ugNFli9exvXFbC/pyLiBELa/SB/1BB5\n",
            "/content/drive/.shortcut-targets-by-id/1iX13EV9pFTj4bafAE1ugNFli9exvXFbC/pyLiBELa/SB/1BB5/direct_only_SF0\n",
            "/content/drive/.shortcut-targets-by-id/1iX13EV9pFTj4bafAE1ugNFli9exvXFbC/pyLiBELa/SB/1BB6\n",
            "/content/drive/.shortcut-targets-by-id/1iX13EV9pFTj4bafAE1ugNFli9exvXFbC/pyLiBELa/SB/1BB6/direct_only_SF0\n",
            "/content/drive/.shortcut-targets-by-id/1iX13EV9pFTj4bafAE1ugNFli9exvXFbC/pyLiBELa/SB/1BB7\n",
            "/content/drive/.shortcut-targets-by-id/1iX13EV9pFTj4bafAE1ugNFli9exvXFbC/pyLiBELa/SB/1BB7/direct_only_SF0\n",
            "/content/drive/.shortcut-targets-by-id/1iX13EV9pFTj4bafAE1ugNFli9exvXFbC/pyLiBELa/SB/1BCD\n",
            "/content/drive/.shortcut-targets-by-id/1iX13EV9pFTj4bafAE1ugNFli9exvXFbC/pyLiBELa/SB/1BCD/direct_only_SF0\n",
            "/content/drive/.shortcut-targets-by-id/1iX13EV9pFTj4bafAE1ugNFli9exvXFbC/pyLiBELa/SB/1BDQ\n",
            "/content/drive/.shortcut-targets-by-id/1iX13EV9pFTj4bafAE1ugNFli9exvXFbC/pyLiBELa/SB/1BDQ/direct_only_SF0\n",
            "/content/drive/.shortcut-targets-by-id/1iX13EV9pFTj4bafAE1ugNFli9exvXFbC/pyLiBELa/SB/1BDR\n",
            "/content/drive/.shortcut-targets-by-id/1iX13EV9pFTj4bafAE1ugNFli9exvXFbC/pyLiBELa/SB/1BDR/direct_only_SF0\n",
            "/content/drive/.shortcut-targets-by-id/1iX13EV9pFTj4bafAE1ugNFli9exvXFbC/pyLiBELa/SB/1BIR\n",
            "/content/drive/.shortcut-targets-by-id/1iX13EV9pFTj4bafAE1ugNFli9exvXFbC/pyLiBELa/SB/1BIR/direct_only_SF0\n",
            "/content/drive/.shortcut-targets-by-id/1iX13EV9pFTj4bafAE1ugNFli9exvXFbC/pyLiBELa/SB/1BJI\n",
            "/content/drive/.shortcut-targets-by-id/1iX13EV9pFTj4bafAE1ugNFli9exvXFbC/pyLiBELa/SB/1BJI/direct_only_SF0\n",
            "/content/drive/.shortcut-targets-by-id/1iX13EV9pFTj4bafAE1ugNFli9exvXFbC/pyLiBELa/SB/1BJU\n",
            "/content/drive/.shortcut-targets-by-id/1iX13EV9pFTj4bafAE1ugNFli9exvXFbC/pyLiBELa/SB/1BJU/direct_only_SF0\n",
            "/content/drive/.shortcut-targets-by-id/1iX13EV9pFTj4bafAE1ugNFli9exvXFbC/pyLiBELa/SB/1BJV\n",
            "/content/drive/.shortcut-targets-by-id/1iX13EV9pFTj4bafAE1ugNFli9exvXFbC/pyLiBELa/SB/1BJV/direct_only_SF0\n",
            "/content/drive/.shortcut-targets-by-id/1iX13EV9pFTj4bafAE1ugNFli9exvXFbC/pyLiBELa/SB/1BL7\n",
            "/content/drive/.shortcut-targets-by-id/1iX13EV9pFTj4bafAE1ugNFli9exvXFbC/pyLiBELa/SB/1BL7/direct_only_SF0\n",
            "/content/drive/.shortcut-targets-by-id/1iX13EV9pFTj4bafAE1ugNFli9exvXFbC/pyLiBELa/SB/1BN1\n",
            "/content/drive/.shortcut-targets-by-id/1iX13EV9pFTj4bafAE1ugNFli9exvXFbC/pyLiBELa/SB/1BN1/direct_only_SF0\n",
            "/content/drive/.shortcut-targets-by-id/1iX13EV9pFTj4bafAE1ugNFli9exvXFbC/pyLiBELa/SB/1BN3\n",
            "/content/drive/.shortcut-targets-by-id/1iX13EV9pFTj4bafAE1ugNFli9exvXFbC/pyLiBELa/SB/1BN3/direct_only_SF0\n",
            "/content/drive/.shortcut-targets-by-id/1iX13EV9pFTj4bafAE1ugNFli9exvXFbC/pyLiBELa/SB/1BN4\n",
            "/content/drive/.shortcut-targets-by-id/1iX13EV9pFTj4bafAE1ugNFli9exvXFbC/pyLiBELa/SB/1BN4/direct_only_SF0\n",
            "/content/drive/.shortcut-targets-by-id/1iX13EV9pFTj4bafAE1ugNFli9exvXFbC/pyLiBELa/SB/1BNN\n",
            "/content/drive/.shortcut-targets-by-id/1iX13EV9pFTj4bafAE1ugNFli9exvXFbC/pyLiBELa/SB/1BNN/direct_only_SF0\n",
            "/content/drive/.shortcut-targets-by-id/1iX13EV9pFTj4bafAE1ugNFli9exvXFbC/pyLiBELa/SB/1BNT\n",
            "/content/drive/.shortcut-targets-by-id/1iX13EV9pFTj4bafAE1ugNFli9exvXFbC/pyLiBELa/SB/1BNT/direct_only_SF0\n",
            "/content/drive/.shortcut-targets-by-id/1iX13EV9pFTj4bafAE1ugNFli9exvXFbC/pyLiBELa/SB/1BNU\n",
            "/content/drive/.shortcut-targets-by-id/1iX13EV9pFTj4bafAE1ugNFli9exvXFbC/pyLiBELa/SB/1BNU/direct_only_SF0\n",
            "/content/drive/.shortcut-targets-by-id/1iX13EV9pFTj4bafAE1ugNFli9exvXFbC/pyLiBELa/SB/1BNV\n",
            "/content/drive/.shortcut-targets-by-id/1iX13EV9pFTj4bafAE1ugNFli9exvXFbC/pyLiBELa/SB/1BNV/direct_only_SF0\n",
            "/content/drive/.shortcut-targets-by-id/1iX13EV9pFTj4bafAE1ugNFli9exvXFbC/pyLiBELa/SB/1BNW\n",
            "/content/drive/.shortcut-targets-by-id/1iX13EV9pFTj4bafAE1ugNFli9exvXFbC/pyLiBELa/SB/1BNW/direct_only_SF0\n",
            "/content/drive/.shortcut-targets-by-id/1iX13EV9pFTj4bafAE1ugNFli9exvXFbC/pyLiBELa/SB/1BP0\n",
            "/content/drive/.shortcut-targets-by-id/1iX13EV9pFTj4bafAE1ugNFli9exvXFbC/pyLiBELa/SB/1BP0/direct_only_SF0\n",
            "/content/drive/.shortcut-targets-by-id/1iX13EV9pFTj4bafAE1ugNFli9exvXFbC/pyLiBELa/SB/1BR5\n",
            "/content/drive/.shortcut-targets-by-id/1iX13EV9pFTj4bafAE1ugNFli9exvXFbC/pyLiBELa/SB/1BR5/direct_only_SF0\n",
            "/content/drive/.shortcut-targets-by-id/1iX13EV9pFTj4bafAE1ugNFli9exvXFbC/pyLiBELa/SB/1BYG\n",
            "/content/drive/.shortcut-targets-by-id/1iX13EV9pFTj4bafAE1ugNFli9exvXFbC/pyLiBELa/SB/1BYG/direct_only_SF0\n",
            "/content/drive/.shortcut-targets-by-id/1iX13EV9pFTj4bafAE1ugNFli9exvXFbC/pyLiBELa/SB/1BZC\n",
            "/content/drive/.shortcut-targets-by-id/1iX13EV9pFTj4bafAE1ugNFli9exvXFbC/pyLiBELa/SB/1BZC/direct_only_SF0\n",
            "/content/drive/.shortcut-targets-by-id/1iX13EV9pFTj4bafAE1ugNFli9exvXFbC/pyLiBELa/SB/1BZJ\n",
            "/content/drive/.shortcut-targets-by-id/1iX13EV9pFTj4bafAE1ugNFli9exvXFbC/pyLiBELa/SB/1BZJ/direct_only_SF0\n",
            "/content/drive/.shortcut-targets-by-id/1iX13EV9pFTj4bafAE1ugNFli9exvXFbC/pyLiBELa/SB/1C1B\n",
            "/content/drive/.shortcut-targets-by-id/1iX13EV9pFTj4bafAE1ugNFli9exvXFbC/pyLiBELa/SB/1C1B/direct_only_SF0\n",
            "/content/drive/.shortcut-targets-by-id/1iX13EV9pFTj4bafAE1ugNFli9exvXFbC/pyLiBELa/SB/1C1C\n",
            "/content/drive/.shortcut-targets-by-id/1iX13EV9pFTj4bafAE1ugNFli9exvXFbC/pyLiBELa/SB/1C1C/direct_only_SF0\n",
            "/content/drive/.shortcut-targets-by-id/1iX13EV9pFTj4bafAE1ugNFli9exvXFbC/pyLiBELa/SB/1C1R\n",
            "/content/drive/.shortcut-targets-by-id/1iX13EV9pFTj4bafAE1ugNFli9exvXFbC/pyLiBELa/SB/1C1R/direct_only_SF0\n",
            "/content/drive/.shortcut-targets-by-id/1iX13EV9pFTj4bafAE1ugNFli9exvXFbC/pyLiBELa/SB/1C4U\n",
            "/content/drive/.shortcut-targets-by-id/1iX13EV9pFTj4bafAE1ugNFli9exvXFbC/pyLiBELa/SB/1C4U/direct_only_SF0\n",
            "/content/drive/.shortcut-targets-by-id/1iX13EV9pFTj4bafAE1ugNFli9exvXFbC/pyLiBELa/SB/1C4V\n",
            "/content/drive/.shortcut-targets-by-id/1iX13EV9pFTj4bafAE1ugNFli9exvXFbC/pyLiBELa/SB/1C4V/direct_only_SF0\n",
            "/content/drive/.shortcut-targets-by-id/1iX13EV9pFTj4bafAE1ugNFli9exvXFbC/pyLiBELa/SB/1C5C\n",
            "/content/drive/.shortcut-targets-by-id/1iX13EV9pFTj4bafAE1ugNFli9exvXFbC/pyLiBELa/SB/1C5C/direct_only_SF0\n",
            "/content/drive/.shortcut-targets-by-id/1iX13EV9pFTj4bafAE1ugNFli9exvXFbC/pyLiBELa/SB/1C5N\n",
            "/content/drive/.shortcut-targets-by-id/1iX13EV9pFTj4bafAE1ugNFli9exvXFbC/pyLiBELa/SB/1C5N/direct_only_SF0\n",
            "/content/drive/.shortcut-targets-by-id/1iX13EV9pFTj4bafAE1ugNFli9exvXFbC/pyLiBELa/SB/1C5O\n",
            "/content/drive/.shortcut-targets-by-id/1iX13EV9pFTj4bafAE1ugNFli9exvXFbC/pyLiBELa/SB/1C5O/direct_only_SF0\n",
            "/content/drive/.shortcut-targets-by-id/1iX13EV9pFTj4bafAE1ugNFli9exvXFbC/pyLiBELa/SB/1C5P\n",
            "/content/drive/.shortcut-targets-by-id/1iX13EV9pFTj4bafAE1ugNFli9exvXFbC/pyLiBELa/SB/1C5P/direct_only_SF0\n",
            "/content/drive/.shortcut-targets-by-id/1iX13EV9pFTj4bafAE1ugNFli9exvXFbC/pyLiBELa/SB/1C5Q\n",
            "/content/drive/.shortcut-targets-by-id/1iX13EV9pFTj4bafAE1ugNFli9exvXFbC/pyLiBELa/SB/1C5Q/direct_only_SF0\n",
            "/content/drive/.shortcut-targets-by-id/1iX13EV9pFTj4bafAE1ugNFli9exvXFbC/pyLiBELa/SB/1C5S\n",
            "/content/drive/.shortcut-targets-by-id/1iX13EV9pFTj4bafAE1ugNFli9exvXFbC/pyLiBELa/SB/1C5S/direct_only_SF0\n",
            "/content/drive/.shortcut-targets-by-id/1iX13EV9pFTj4bafAE1ugNFli9exvXFbC/pyLiBELa/SB/1C5T\n",
            "/content/drive/.shortcut-targets-by-id/1iX13EV9pFTj4bafAE1ugNFli9exvXFbC/pyLiBELa/SB/1C5T/direct_only_SF0\n",
            "/content/drive/.shortcut-targets-by-id/1iX13EV9pFTj4bafAE1ugNFli9exvXFbC/pyLiBELa/SB/1C83\n",
            "/content/drive/.shortcut-targets-by-id/1iX13EV9pFTj4bafAE1ugNFli9exvXFbC/pyLiBELa/SB/1C83/direct_only_SF0\n",
            "/content/drive/.shortcut-targets-by-id/1iX13EV9pFTj4bafAE1ugNFli9exvXFbC/pyLiBELa/SB/1C84\n",
            "/content/drive/.shortcut-targets-by-id/1iX13EV9pFTj4bafAE1ugNFli9exvXFbC/pyLiBELa/SB/1C84/direct_only_SF0\n",
            "/content/drive/.shortcut-targets-by-id/1iX13EV9pFTj4bafAE1ugNFli9exvXFbC/pyLiBELa/SB/1C86\n",
            "/content/drive/.shortcut-targets-by-id/1iX13EV9pFTj4bafAE1ugNFli9exvXFbC/pyLiBELa/SB/1C86/direct_only_SF0\n",
            "/content/drive/.shortcut-targets-by-id/1iX13EV9pFTj4bafAE1ugNFli9exvXFbC/pyLiBELa/SB/1C87\n",
            "/content/drive/.shortcut-targets-by-id/1iX13EV9pFTj4bafAE1ugNFli9exvXFbC/pyLiBELa/SB/1C87/direct_only_SF0\n",
            "/content/drive/.shortcut-targets-by-id/1iX13EV9pFTj4bafAE1ugNFli9exvXFbC/pyLiBELa/SB/1C88\n",
            "/content/drive/.shortcut-targets-by-id/1iX13EV9pFTj4bafAE1ugNFli9exvXFbC/pyLiBELa/SB/1C88/direct_only_SF0\n",
            "/content/drive/.shortcut-targets-by-id/1iX13EV9pFTj4bafAE1ugNFli9exvXFbC/pyLiBELa/SB/1C8K\n",
            "/content/drive/.shortcut-targets-by-id/1iX13EV9pFTj4bafAE1ugNFli9exvXFbC/pyLiBELa/SB/1C8K/direct_only_SF0\n",
            "/content/drive/.shortcut-targets-by-id/1iX13EV9pFTj4bafAE1ugNFli9exvXFbC/pyLiBELa/SB/1C8V\n",
            "/content/drive/.shortcut-targets-by-id/1iX13EV9pFTj4bafAE1ugNFli9exvXFbC/pyLiBELa/SB/1C8V/direct_only_SF0\n",
            "/content/drive/.shortcut-targets-by-id/1iX13EV9pFTj4bafAE1ugNFli9exvXFbC/pyLiBELa/SB/1C9D\n",
            "/content/drive/.shortcut-targets-by-id/1iX13EV9pFTj4bafAE1ugNFli9exvXFbC/pyLiBELa/SB/1C9D/direct_only_SF0\n",
            "/content/drive/.shortcut-targets-by-id/1iX13EV9pFTj4bafAE1ugNFli9exvXFbC/pyLiBELa/SB/1CBX\n",
            "/content/drive/.shortcut-targets-by-id/1iX13EV9pFTj4bafAE1ugNFli9exvXFbC/pyLiBELa/SB/1CBX/direct_only_SF0\n",
            "/content/drive/.shortcut-targets-by-id/1iX13EV9pFTj4bafAE1ugNFli9exvXFbC/pyLiBELa/SB/1CE5\n",
            "/content/drive/.shortcut-targets-by-id/1iX13EV9pFTj4bafAE1ugNFli9exvXFbC/pyLiBELa/SB/1CE5/direct_only_SF0\n",
            "/content/drive/.shortcut-targets-by-id/1iX13EV9pFTj4bafAE1ugNFli9exvXFbC/pyLiBELa/SB/1CET\n",
            "/content/drive/.shortcut-targets-by-id/1iX13EV9pFTj4bafAE1ugNFli9exvXFbC/pyLiBELa/SB/1CET/direct_only_SF0\n",
            "/content/drive/.shortcut-targets-by-id/1iX13EV9pFTj4bafAE1ugNFli9exvXFbC/pyLiBELa/SB/1CIL\n",
            "/content/drive/.shortcut-targets-by-id/1iX13EV9pFTj4bafAE1ugNFli9exvXFbC/pyLiBELa/SB/1CIL/direct_only_SF0\n",
            "/content/drive/.shortcut-targets-by-id/1iX13EV9pFTj4bafAE1ugNFli9exvXFbC/pyLiBELa/SB/1CIM\n",
            "/content/drive/.shortcut-targets-by-id/1iX13EV9pFTj4bafAE1ugNFli9exvXFbC/pyLiBELa/SB/1CIM/direct_only_SF0\n",
            "/content/drive/.shortcut-targets-by-id/1iX13EV9pFTj4bafAE1ugNFli9exvXFbC/pyLiBELa/SB/1CIN\n",
            "/content/drive/.shortcut-targets-by-id/1iX13EV9pFTj4bafAE1ugNFli9exvXFbC/pyLiBELa/SB/1CIN/direct_only_SF0\n",
            "/content/drive/.shortcut-targets-by-id/1iX13EV9pFTj4bafAE1ugNFli9exvXFbC/pyLiBELa/SB/1CKP\n",
            "/content/drive/.shortcut-targets-by-id/1iX13EV9pFTj4bafAE1ugNFli9exvXFbC/pyLiBELa/SB/1CKP/direct_only_SF0\n",
            "/content/drive/.shortcut-targets-by-id/1iX13EV9pFTj4bafAE1ugNFli9exvXFbC/pyLiBELa/SB/1CNW\n",
            "/content/drive/.shortcut-targets-by-id/1iX13EV9pFTj4bafAE1ugNFli9exvXFbC/pyLiBELa/SB/1CNW/direct_only_SF0\n",
            "/content/drive/.shortcut-targets-by-id/1iX13EV9pFTj4bafAE1ugNFli9exvXFbC/pyLiBELa/SB/1CNX\n",
            "/content/drive/.shortcut-targets-by-id/1iX13EV9pFTj4bafAE1ugNFli9exvXFbC/pyLiBELa/SB/1CNX/direct_only_SF0\n",
            "/content/drive/.shortcut-targets-by-id/1iX13EV9pFTj4bafAE1ugNFli9exvXFbC/pyLiBELa/SB/1CNY\n",
            "/content/drive/.shortcut-targets-by-id/1iX13EV9pFTj4bafAE1ugNFli9exvXFbC/pyLiBELa/SB/1CNY/direct_only_SF0\n",
            "/content/drive/.shortcut-targets-by-id/1iX13EV9pFTj4bafAE1ugNFli9exvXFbC/pyLiBELa/SB/1COM\n",
            "/content/drive/.shortcut-targets-by-id/1iX13EV9pFTj4bafAE1ugNFli9exvXFbC/pyLiBELa/SB/1COM/direct_only_SF0\n",
            "/content/drive/.shortcut-targets-by-id/1iX13EV9pFTj4bafAE1ugNFli9exvXFbC/pyLiBELa/SB/1CPI\n",
            "/content/drive/.shortcut-targets-by-id/1iX13EV9pFTj4bafAE1ugNFli9exvXFbC/pyLiBELa/SB/1CPI/direct_only_SF0\n",
            "/content/drive/.shortcut-targets-by-id/1iX13EV9pFTj4bafAE1ugNFli9exvXFbC/pyLiBELa/SB/1CPS\n",
            "/content/drive/.shortcut-targets-by-id/1iX13EV9pFTj4bafAE1ugNFli9exvXFbC/pyLiBELa/SB/1CPS/direct_only_SF0\n",
            "/content/drive/.shortcut-targets-by-id/1iX13EV9pFTj4bafAE1ugNFli9exvXFbC/pyLiBELa/SB/1CTT\n",
            "/content/drive/.shortcut-targets-by-id/1iX13EV9pFTj4bafAE1ugNFli9exvXFbC/pyLiBELa/SB/1CTT/direct_only_SF0\n",
            "/content/drive/.shortcut-targets-by-id/1iX13EV9pFTj4bafAE1ugNFli9exvXFbC/pyLiBELa/SB/1CW2\n",
            "/content/drive/.shortcut-targets-by-id/1iX13EV9pFTj4bafAE1ugNFli9exvXFbC/pyLiBELa/SB/1CW2/direct_only_SF0\n",
            "/content/drive/.shortcut-targets-by-id/1iX13EV9pFTj4bafAE1ugNFli9exvXFbC/pyLiBELa/SB/1CX2\n"
          ]
        }
      ]
    }
  ]
}