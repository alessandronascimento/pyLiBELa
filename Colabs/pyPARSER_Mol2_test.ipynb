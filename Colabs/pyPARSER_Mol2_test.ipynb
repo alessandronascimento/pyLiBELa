{
  "nbformat": 4,
  "nbformat_minor": 0,
  "metadata": {
    "colab": {
      "provenance": [],
      "authorship_tag": "ABX9TyOm+F2Lh7WRJuiO9rdgDQLx",
      "include_colab_link": true
    },
    "kernelspec": {
      "name": "python3",
      "display_name": "Python 3"
    },
    "language_info": {
      "name": "python"
    }
  },
  "cells": [
    {
      "cell_type": "markdown",
      "metadata": {
        "id": "view-in-github",
        "colab_type": "text"
      },
      "source": [
        "<a href=\"https://colab.research.google.com/github/alessandronascimento/pyLiBELa/blob/main/Colabs/pyPARSER_Mol2_test.ipynb\" target=\"_parent\"><img src=\"https://colab.research.google.com/assets/colab-badge.svg\" alt=\"Open In Colab\"/></a>"
      ]
    },
    {
      "cell_type": "code",
      "execution_count": 1,
      "metadata": {
        "colab": {
          "base_uri": "https://localhost:8080/"
        },
        "id": "LkNCFy2dTXJX",
        "outputId": "901dea2a-139d-49e1-d016-61f9efcd8052"
      },
      "outputs": [
        {
          "output_type": "stream",
          "name": "stdout",
          "text": [
            "Reading package lists... Done\n",
            "Building dependency tree       \n",
            "Reading state information... Done\n",
            "Note, selecting 'python-dev-is-python2' instead of 'python-dev'\n",
            "libboost-python1.71-dev is already the newest version (1.71.0-6ubuntu6).\n",
            "libboost-python1.71-dev set to manually installed.\n",
            "zlib1g-dev is already the newest version (1:1.2.11.dfsg-2ubuntu1.5).\n",
            "zlib1g-dev set to manually installed.\n",
            "The following additional packages will be installed:\n",
            "  libopenbabel6 libpython2-dev libpython2-stdlib libpython2.7 libpython2.7-dev\n",
            "  libschroedinger-maeparser1 python-is-python2 python2 python2-dev\n",
            "  python2-minimal python2.7-dev\n",
            "Suggested packages:\n",
            "  python2-doc python-tk\n",
            "The following NEW packages will be installed:\n",
            "  libopenbabel6 libpython2-dev libpython2-stdlib libpython2.7 libpython2.7-dev\n",
            "  libschroedinger-maeparser1 openbabel python-dev-is-python2 python-is-python2\n",
            "  python2 python2-dev python2-minimal python2.7-dev\n",
            "0 upgraded, 13 newly installed, 0 to remove and 19 not upgraded.\n",
            "Need to get 7,654 kB of archives.\n",
            "After this operation, 35.9 MB of additional disk space will be used.\n",
            "Get:1 http://archive.ubuntu.com/ubuntu focal/universe amd64 python2-minimal amd64 2.7.17-2ubuntu4 [27.5 kB]\n",
            "Get:2 http://archive.ubuntu.com/ubuntu focal/universe amd64 libpython2-stdlib amd64 2.7.17-2ubuntu4 [7,072 B]\n",
            "Get:3 http://archive.ubuntu.com/ubuntu focal/universe amd64 python2 amd64 2.7.17-2ubuntu4 [26.5 kB]\n",
            "Get:4 http://archive.ubuntu.com/ubuntu focal/universe amd64 libschroedinger-maeparser1 amd64 1.2.2-1build1 [89.1 kB]\n",
            "Get:5 http://archive.ubuntu.com/ubuntu focal/universe amd64 libopenbabel6 amd64 3.0.0+dfsg-3ubuntu3 [3,568 kB]\n",
            "Get:6 http://archive.ubuntu.com/ubuntu focal-updates/universe amd64 libpython2.7 amd64 2.7.18-1~20.04.3 [1,037 kB]\n",
            "Get:7 http://archive.ubuntu.com/ubuntu focal-updates/universe amd64 libpython2.7-dev amd64 2.7.18-1~20.04.3 [2,466 kB]\n",
            "Get:8 http://archive.ubuntu.com/ubuntu focal/universe amd64 libpython2-dev amd64 2.7.17-2ubuntu4 [7,140 B]\n",
            "Get:9 http://archive.ubuntu.com/ubuntu focal/universe amd64 openbabel amd64 3.0.0+dfsg-3ubuntu3 [127 kB]\n",
            "Get:10 http://archive.ubuntu.com/ubuntu focal/universe amd64 python-is-python2 all 2.7.17-4 [2,496 B]\n",
            "Get:11 http://archive.ubuntu.com/ubuntu focal-updates/universe amd64 python2.7-dev amd64 2.7.18-1~20.04.3 [293 kB]\n",
            "Get:12 http://archive.ubuntu.com/ubuntu focal/universe amd64 python2-dev amd64 2.7.17-2ubuntu4 [1,268 B]\n",
            "Get:13 http://archive.ubuntu.com/ubuntu focal/universe amd64 python-dev-is-python2 all 2.7.17-4 [1,396 B]\n",
            "Fetched 7,654 kB in 2s (4,202 kB/s)\n",
            "Selecting previously unselected package python2-minimal.\n",
            "(Reading database ... 128221 files and directories currently installed.)\n",
            "Preparing to unpack .../python2-minimal_2.7.17-2ubuntu4_amd64.deb ...\n",
            "Unpacking python2-minimal (2.7.17-2ubuntu4) ...\n",
            "Selecting previously unselected package libpython2-stdlib:amd64.\n",
            "Preparing to unpack .../libpython2-stdlib_2.7.17-2ubuntu4_amd64.deb ...\n",
            "Unpacking libpython2-stdlib:amd64 (2.7.17-2ubuntu4) ...\n",
            "Setting up python2-minimal (2.7.17-2ubuntu4) ...\n",
            "Selecting previously unselected package python2.\n",
            "(Reading database ... 128250 files and directories currently installed.)\n",
            "Preparing to unpack .../00-python2_2.7.17-2ubuntu4_amd64.deb ...\n",
            "Unpacking python2 (2.7.17-2ubuntu4) ...\n",
            "Selecting previously unselected package libschroedinger-maeparser1:amd64.\n",
            "Preparing to unpack .../01-libschroedinger-maeparser1_1.2.2-1build1_amd64.deb ...\n",
            "Unpacking libschroedinger-maeparser1:amd64 (1.2.2-1build1) ...\n",
            "Selecting previously unselected package libopenbabel6.\n",
            "Preparing to unpack .../02-libopenbabel6_3.0.0+dfsg-3ubuntu3_amd64.deb ...\n",
            "Unpacking libopenbabel6 (3.0.0+dfsg-3ubuntu3) ...\n",
            "Selecting previously unselected package libpython2.7:amd64.\n",
            "Preparing to unpack .../03-libpython2.7_2.7.18-1~20.04.3_amd64.deb ...\n",
            "Unpacking libpython2.7:amd64 (2.7.18-1~20.04.3) ...\n",
            "Selecting previously unselected package libpython2.7-dev:amd64.\n",
            "Preparing to unpack .../04-libpython2.7-dev_2.7.18-1~20.04.3_amd64.deb ...\n",
            "Unpacking libpython2.7-dev:amd64 (2.7.18-1~20.04.3) ...\n",
            "Selecting previously unselected package libpython2-dev:amd64.\n",
            "Preparing to unpack .../05-libpython2-dev_2.7.17-2ubuntu4_amd64.deb ...\n",
            "Unpacking libpython2-dev:amd64 (2.7.17-2ubuntu4) ...\n",
            "Selecting previously unselected package openbabel.\n",
            "Preparing to unpack .../06-openbabel_3.0.0+dfsg-3ubuntu3_amd64.deb ...\n",
            "Unpacking openbabel (3.0.0+dfsg-3ubuntu3) ...\n",
            "Selecting previously unselected package python-is-python2.\n",
            "Preparing to unpack .../07-python-is-python2_2.7.17-4_all.deb ...\n",
            "Unpacking python-is-python2 (2.7.17-4) ...\n",
            "Selecting previously unselected package python2.7-dev.\n",
            "Preparing to unpack .../08-python2.7-dev_2.7.18-1~20.04.3_amd64.deb ...\n",
            "Unpacking python2.7-dev (2.7.18-1~20.04.3) ...\n",
            "Selecting previously unselected package python2-dev.\n",
            "Preparing to unpack .../09-python2-dev_2.7.17-2ubuntu4_amd64.deb ...\n",
            "Unpacking python2-dev (2.7.17-2ubuntu4) ...\n",
            "Selecting previously unselected package python-dev-is-python2.\n",
            "Preparing to unpack .../10-python-dev-is-python2_2.7.17-4_all.deb ...\n",
            "Unpacking python-dev-is-python2 (2.7.17-4) ...\n",
            "Setting up libpython2.7:amd64 (2.7.18-1~20.04.3) ...\n",
            "Setting up libpython2.7-dev:amd64 (2.7.18-1~20.04.3) ...\n",
            "Setting up libpython2-stdlib:amd64 (2.7.17-2ubuntu4) ...\n",
            "Setting up python2 (2.7.17-2ubuntu4) ...\n",
            "Setting up libschroedinger-maeparser1:amd64 (1.2.2-1build1) ...\n",
            "Setting up libpython2-dev:amd64 (2.7.17-2ubuntu4) ...\n",
            "Setting up python-is-python2 (2.7.17-4) ...\n",
            "Setting up python2.7-dev (2.7.18-1~20.04.3) ...\n",
            "Setting up python2-dev (2.7.17-2ubuntu4) ...\n",
            "Setting up libopenbabel6 (3.0.0+dfsg-3ubuntu3) ...\n",
            "Setting up openbabel (3.0.0+dfsg-3ubuntu3) ...\n",
            "Setting up python-dev-is-python2 (2.7.17-4) ...\n",
            "Processing triggers for man-db (2.9.1-1) ...\n",
            "Processing triggers for libc-bin (2.31-0ubuntu9.9) ...\n"
          ]
        }
      ],
      "source": [
        "! apt-get install libboost-python1.71-dev openbabel python-dev zlib1g-dev "
      ]
    },
    {
      "cell_type": "code",
      "source": [
        "! rm -f pyPARSER* pyMol2*\n",
        "!wget https://raw.githubusercontent.com/alessandronascimento/pyLiBELa/main/src/pyPARSER.cpp\n",
        "!wget https://raw.githubusercontent.com/alessandronascimento/pyLiBELa/main/src/pyPARSER.h\n",
        "!wget https://raw.githubusercontent.com/alessandronascimento/pyLiBELa/main/src/pyMol2.cpp\n",
        "!wget https://raw.githubusercontent.com/alessandronascimento/pyLiBELa/main/src/pyMol2.h\n",
        "!g++ -Wall -Wextra -fPIC -shared -I/usr/include/python3.8 pyPARSER.cpp -o pyPARSER.so -L/usr/lib/x86_64-linux-gnu -lboost_python38\n",
        "!g++ -Wall -Wextra -fPIC -shared -I/usr/include/python3.8 pyMol2.cpp -o pyMol2.so -L/usr/lib/x86_64-linux-gnu -lboost_python38"
      ],
      "metadata": {
        "colab": {
          "base_uri": "https://localhost:8080/"
        },
        "id": "57ftJ-G2T4oi",
        "outputId": "ebffb6b9-0263-44d0-c8c9-492d7a7a9746"
      },
      "execution_count": 5,
      "outputs": [
        {
          "output_type": "stream",
          "name": "stdout",
          "text": [
            "--2023-03-02 12:57:56--  https://raw.githubusercontent.com/alessandronascimento/pyLiBELa/main/src/pyPARSER.cpp\n",
            "Resolving raw.githubusercontent.com (raw.githubusercontent.com)... 185.199.108.133, 185.199.109.133, 185.199.110.133, ...\n",
            "Connecting to raw.githubusercontent.com (raw.githubusercontent.com)|185.199.108.133|:443... connected.\n",
            "HTTP request sent, awaiting response... 200 OK\n",
            "Length: 22346 (22K) [text/plain]\n",
            "Saving to: ‘pyPARSER.cpp’\n",
            "\n",
            "\rpyPARSER.cpp          0%[                    ]       0  --.-KB/s               \rpyPARSER.cpp        100%[===================>]  21.82K  --.-KB/s    in 0.002s  \n",
            "\n",
            "2023-03-02 12:57:56 (10.7 MB/s) - ‘pyPARSER.cpp’ saved [22346/22346]\n",
            "\n",
            "--2023-03-02 12:57:56--  https://raw.githubusercontent.com/alessandronascimento/pyLiBELa/main/src/pyPARSER.h\n",
            "Resolving raw.githubusercontent.com (raw.githubusercontent.com)... 185.199.110.133, 185.199.111.133, 185.199.108.133, ...\n",
            "Connecting to raw.githubusercontent.com (raw.githubusercontent.com)|185.199.110.133|:443... connected.\n",
            "HTTP request sent, awaiting response... 200 OK\n",
            "Length: 12042 (12K) [text/plain]\n",
            "Saving to: ‘pyPARSER.h’\n",
            "\n",
            "pyPARSER.h          100%[===================>]  11.76K  --.-KB/s    in 0.001s  \n",
            "\n",
            "2023-03-02 12:57:56 (21.6 MB/s) - ‘pyPARSER.h’ saved [12042/12042]\n",
            "\n",
            "--2023-03-02 12:57:56--  https://raw.githubusercontent.com/alessandronascimento/pyLiBELa/main/src/pyMol2.cpp\n",
            "Resolving raw.githubusercontent.com (raw.githubusercontent.com)... 185.199.108.133, 185.199.109.133, 185.199.110.133, ...\n",
            "Connecting to raw.githubusercontent.com (raw.githubusercontent.com)|185.199.108.133|:443... connected.\n",
            "HTTP request sent, awaiting response... 200 OK\n",
            "Length: 27485 (27K) [text/plain]\n",
            "Saving to: ‘pyMol2.cpp’\n",
            "\n",
            "pyMol2.cpp          100%[===================>]  26.84K  --.-KB/s    in 0.003s  \n",
            "\n",
            "2023-03-02 12:57:56 (9.87 MB/s) - ‘pyMol2.cpp’ saved [27485/27485]\n",
            "\n",
            "--2023-03-02 12:57:56--  https://raw.githubusercontent.com/alessandronascimento/pyLiBELa/main/src/pyMol2.h\n",
            "Resolving raw.githubusercontent.com (raw.githubusercontent.com)... 185.199.111.133, 185.199.110.133, 185.199.109.133, ...\n",
            "Connecting to raw.githubusercontent.com (raw.githubusercontent.com)|185.199.111.133|:443... connected.\n",
            "HTTP request sent, awaiting response... 200 OK\n",
            "Length: 3876 (3.8K) [text/plain]\n",
            "Saving to: ‘pyMol2.h’\n",
            "\n",
            "pyMol2.h            100%[===================>]   3.79K  --.-KB/s    in 0s      \n",
            "\n",
            "2023-03-02 12:57:56 (62.2 MB/s) - ‘pyMol2.h’ saved [3876/3876]\n",
            "\n"
          ]
        }
      ]
    },
    {
      "cell_type": "code",
      "source": [
        "! rm -f *mol2.gz\n",
        "!wget https://raw.githubusercontent.com/alessandronascimento/pyLiBELa/main/test/rec.mol2.gz\n",
        "!wget https://raw.githubusercontent.com/alessandronascimento/pyLiBELa/main/test/lig.mol2.gz\n",
        "!mkdir param; cd param; wget https://raw.githubusercontent.com/alessandronascimento/pyLiBELa/main/test/LJ_parm.dat; cd ..\n",
        "!ls \n",
        "!ls param\n",
        "!head param/LJ_parm.dat"
      ],
      "metadata": {
        "colab": {
          "base_uri": "https://localhost:8080/"
        },
        "id": "dOEUGvKLUrA2",
        "outputId": "41e1628c-defd-43a2-b59f-d6641fe6b75e"
      },
      "execution_count": 6,
      "outputs": [
        {
          "output_type": "stream",
          "name": "stdout",
          "text": [
            "--2023-03-02 12:58:18--  https://raw.githubusercontent.com/alessandronascimento/pyLiBELa/main/test/rec.mol2.gz\n",
            "Resolving raw.githubusercontent.com (raw.githubusercontent.com)... 185.199.110.133, 185.199.111.133, 185.199.109.133, ...\n",
            "Connecting to raw.githubusercontent.com (raw.githubusercontent.com)|185.199.110.133|:443... connected.\n",
            "HTTP request sent, awaiting response... 200 OK\n",
            "Length: 79116 (77K) [application/octet-stream]\n",
            "Saving to: ‘rec.mol2.gz’\n",
            "\n",
            "\rrec.mol2.gz           0%[                    ]       0  --.-KB/s               \rrec.mol2.gz         100%[===================>]  77.26K  --.-KB/s    in 0.02s   \n",
            "\n",
            "2023-03-02 12:58:19 (4.91 MB/s) - ‘rec.mol2.gz’ saved [79116/79116]\n",
            "\n",
            "--2023-03-02 12:58:19--  https://raw.githubusercontent.com/alessandronascimento/pyLiBELa/main/test/lig.mol2.gz\n",
            "Resolving raw.githubusercontent.com (raw.githubusercontent.com)... 185.199.109.133, 185.199.108.133, 185.199.111.133, ...\n",
            "Connecting to raw.githubusercontent.com (raw.githubusercontent.com)|185.199.109.133|:443... connected.\n",
            "HTTP request sent, awaiting response... 200 OK\n",
            "Length: 563 [application/octet-stream]\n",
            "Saving to: ‘lig.mol2.gz’\n",
            "\n",
            "lig.mol2.gz         100%[===================>]     563  --.-KB/s    in 0s      \n",
            "\n",
            "2023-03-02 12:58:19 (55.5 MB/s) - ‘lig.mol2.gz’ saved [563/563]\n",
            "\n",
            "--2023-03-02 12:58:19--  https://raw.githubusercontent.com/alessandronascimento/pyLiBELa/main/test/LJ_parm.dat\n",
            "Resolving raw.githubusercontent.com (raw.githubusercontent.com)... 185.199.110.133, 185.199.111.133, 185.199.108.133, ...\n",
            "Connecting to raw.githubusercontent.com (raw.githubusercontent.com)|185.199.110.133|:443... connected.\n",
            "HTTP request sent, awaiting response... 200 OK\n",
            "Length: 5968 (5.8K) [text/plain]\n",
            "Saving to: ‘LJ_parm.dat’\n",
            "\n",
            "LJ_parm.dat         100%[===================>]   5.83K  --.-KB/s    in 0s      \n",
            "\n",
            "2023-03-02 12:58:19 (75.8 MB/s) - ‘LJ_parm.dat’ saved [5968/5968]\n",
            "\n",
            "lig.mol2.gz  pyMol2.cpp  pyMol2.so     pyPARSER.h   rec.mol2.gz\n",
            "param\t     pyMol2.h\t pyPARSER.cpp  pyPARSER.so  sample_data\n",
            "LJ_parm.dat\n",
            "# atom type   radius epsilon  mass\n",
            "#  hc          1.4593  0.0208  1.008\n",
            "  hc          0.6000  0.0157  1.008\n",
            "  ha          1.4735  0.0161  1.008\n",
            "  hn          0.6210  0.0100  1.008\n",
            "  ho          0.3019  0.0047  1.008\n",
            "  hs          0.6112  0.0124  1.008\n",
            "  hp          0.6031  0.0144  1.008\n",
            "  o           1.7107  0.1463  16.00\n",
            "  os          1.7713  0.0726  16.00\n"
          ]
        }
      ]
    },
    {
      "cell_type": "code",
      "source": [
        "from pyPARSER import *\n",
        "from pyMol2 import *\n",
        "\n",
        "Input = PARSER()\n",
        "\n"
      ],
      "metadata": {
        "id": "6gGSOCc2p-xo"
      },
      "execution_count": 7,
      "outputs": []
    },
    {
      "cell_type": "code",
      "source": [
        "lig = Mol2(Input, \"lig.mol2.gz\")\n",
        "#rec = Mol2(Input, 'rec.mol2.gz')\n",
        "\n",
        "print(Input.temp)\n",
        "print(lig.molname)"
      ],
      "metadata": {
        "id": "hNPlLejCql7r"
      },
      "execution_count": null,
      "outputs": []
    }
  ]
}