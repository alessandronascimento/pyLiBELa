{
  "nbformat": 4,
  "nbformat_minor": 0,
  "metadata": {
    "colab": {
      "provenance": [],
      "include_colab_link": true
    },
    "kernelspec": {
      "name": "python3",
      "display_name": "Python 3"
    },
    "language_info": {
      "name": "python"
    }
  },
  "cells": [
    {
      "cell_type": "markdown",
      "metadata": {
        "id": "view-in-github",
        "colab_type": "text"
      },
      "source": [
        "<a href=\"https://colab.research.google.com/github/alessandronascimento/pyLiBELa/blob/main/Colabs/pyPARSER_Mol2_test.ipynb\" target=\"_parent\"><img src=\"https://colab.research.google.com/assets/colab-badge.svg\" alt=\"Open In Colab\"/></a>"
      ]
    },
    {
      "cell_type": "code",
      "execution_count": 13,
      "metadata": {
        "id": "LkNCFy2dTXJX"
      },
      "outputs": [],
      "source": [
        "%%capture\n",
        "! apt-get install libboost-python1.71-dev openbabel libopenbabel-dev python-dev zlib1g-dev libeigen3-dev libgsl-dev\n",
        "! rm -rf *.cpp *.h param *.so *.gz\n",
        "!wget https://raw.githubusercontent.com/alessandronascimento/pyLiBELa/main/src/pyPARSER.cpp\n",
        "!wget https://raw.githubusercontent.com/alessandronascimento/pyLiBELa/main/src/pyPARSER.h\n",
        "!wget https://raw.githubusercontent.com/alessandronascimento/pyLiBELa/main/src/pyMol2.cpp\n",
        "!wget https://raw.githubusercontent.com/alessandronascimento/pyLiBELa/main/src/pyMol2.h\n",
        "!wget https://raw.githubusercontent.com/alessandronascimento/pyLiBELa/main/src/pyWRITER.cpp\n",
        "!wget https://raw.githubusercontent.com/alessandronascimento/pyLiBELa/main/src/pyWRITER.h\n",
        "!wget https://raw.githubusercontent.com/alessandronascimento/pyLiBELa/main/src/pyGrid.h\n",
        "!wget https://raw.githubusercontent.com/alessandronascimento/pyLiBELa/main/src/pyGrid.cpp\n",
        "!wget https://raw.githubusercontent.com/alessandronascimento/pyLiBELa/main/src/iMcLiBELa.h\n",
        "!wget https://raw.githubusercontent.com/alessandronascimento/pyLiBELa/main/src/pyCOORD_MC.cpp\n",
        "!wget https://raw.githubusercontent.com/alessandronascimento/pyLiBELa/main/src/pyCOORD_MC.h\n",
        "!wget https://raw.githubusercontent.com/alessandronascimento/pyLiBELa/main/src/pyRAND.h\n",
        "!wget https://raw.githubusercontent.com/alessandronascimento/pyLiBELa/main/test/rec.mol2.gz\n",
        "!wget https://raw.githubusercontent.com/alessandronascimento/pyLiBELa/main/test/lig.mol2.gz\n",
        "#!mkdir param; cd param; wget https://raw.githubusercontent.com/alessandronascimento/pyLiBELa/main/test/LJ_parm.dat; cd .."
      ]
    },
    {
      "cell_type": "code",
      "source": [
        "!g++ -fPIC -shared -I/usr/include/python3.9 -I/usr/include/openbabel3 -I/usr/include/eigen3 pyPARSER.cpp -o pyPARSER.so -L/usr/lib/x86_64-linux-gnu -lboost_python38\n",
        "!g++ -fPIC -shared -DHAVE_EIGEN -o pyMol2.so pyMol2.cpp -I/usr/include/python3.9 -I/usr/include/openbabel3 -I/usr/include/eigen3 -L/usr/lib/x86_64-linux-gnu -lboost_python38 -lz -lopenbabel\n",
        "!g++ -fPIC -shared -DBUILD=0 -I/usr/include/python3.9 -I/usr/include/openbabel3 -I/usr/include/eigen3 pyWRITER.cpp -o pyWRITER.so -L/usr/lib/x86_64-linux-gnu -lboost_python38 -lz\n",
        "!g++ -fPIC -shared -DBUILD=0 -I/usr/include/python3.9 -I/usr/include/openbabel3 -I/usr/include/eigen3 pyGrid.cpp pyWRITER.cpp -o pyGrid.so -L/usr/lib/x86_64-linux-gnu -lboost_python38 -lz\n",
        "!g++ -fPIC -shared -I/usr/include/python3.9 -I/usr/include/openbabel3 -I/usr/include/eigen3 pyCOORD_MC.cpp -o pyCOORD_MC.so -L/usr/lib/x86_64-linux-gnu -lboost_python38 -lz"
      ],
      "metadata": {
        "id": "57ftJ-G2T4oi"
      },
      "execution_count": 14,
      "outputs": []
    },
    {
      "cell_type": "code",
      "source": [
        "!ls *so"
      ],
      "metadata": {
        "colab": {
          "base_uri": "https://localhost:8080/"
        },
        "id": "8ib3nlZgWsR0",
        "outputId": "fe09df54-9e02-4a35-ab49-618427083a1c"
      },
      "execution_count": 15,
      "outputs": [
        {
          "output_type": "stream",
          "name": "stdout",
          "text": [
            "pyCOORD_MC.so  pyGrid.so  pyMol2.so  pyPARSER.so  pyWRITER.so\n"
          ]
        }
      ]
    },
    {
      "cell_type": "code",
      "source": [
        "from pyPARSER import *\n",
        "from pyMol2 import *\n",
        "from pyWRITER import *\n",
        "from pyGrid import *\n",
        "from pyCOORD_MC import *\n",
        "\n",
        "\n",
        "Input = PARSER()\n",
        "print(Input.mol2_aa)"
      ],
      "metadata": {
        "id": "6gGSOCc2p-xo",
        "colab": {
          "base_uri": "https://localhost:8080/"
        },
        "outputId": "f8cd99b9-03cd-444d-bdcc-3b31b70a986d"
      },
      "execution_count": 17,
      "outputs": [
        {
          "output_type": "stream",
          "name": "stdout",
          "text": [
            "False\n"
          ]
        }
      ]
    },
    {
      "cell_type": "code",
      "source": [
        "lig = Mol2(Input, \"lig.mol2.gz\")"
      ],
      "metadata": {
        "id": "hNPlLejCql7r"
      },
      "execution_count": 18,
      "outputs": []
    },
    {
      "cell_type": "code",
      "source": [
        "print(lig.charges)\n",
        "pycharges=[]\n",
        "pycharges = list(lig.charges)\n",
        "print(pycharges)"
      ],
      "metadata": {
        "id": "lWnbYH5hdByb",
        "colab": {
          "base_uri": "https://localhost:8080/"
        },
        "outputId": "8d087c3a-d5d1-4aeb-9674-4e018efbe0db"
      },
      "execution_count": 19,
      "outputs": [
        {
          "output_type": "stream",
          "name": "stdout",
          "text": [
            "<pyMol2.vectorDouble object at 0x7fe95623c9a0>\n",
            "[0.03680000081658363, -0.05900000035762787, -0.1889999955892563, -0.0949999988079071, -0.08299999684095383, -0.14900000393390656, -0.11299999803304672, -0.12099999934434891, -0.1387999951839447, 0.1889999955892563, 0.16500000655651093, 0.1379999965429306, 0.13300000131130219, 0.13500000536441803, 0.15000000596046448]\n"
          ]
        }
      ]
    },
    {
      "cell_type": "code",
      "source": [
        "Writer = WRITER(Input)\n",
        "print(Writer.print_welcome())"
      ],
      "metadata": {
        "id": "NFtwsziWquzv",
        "colab": {
          "base_uri": "https://localhost:8080/"
        },
        "outputId": "204d7be2-848b-4a71-d4e9-fef79d3c667b"
      },
      "execution_count": 20,
      "outputs": [
        {
          "output_type": "stream",
          "name": "stdout",
          "text": [
            "None\n"
          ]
        }
      ]
    }
  ]
}