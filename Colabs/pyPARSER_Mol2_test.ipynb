{
  "nbformat": 4,
  "nbformat_minor": 0,
  "metadata": {
    "colab": {
      "provenance": [],
      "include_colab_link": true
    },
    "kernelspec": {
      "name": "python3",
      "display_name": "Python 3"
    },
    "language_info": {
      "name": "python"
    }
  },
  "cells": [
    {
      "cell_type": "markdown",
      "metadata": {
        "id": "view-in-github",
        "colab_type": "text"
      },
      "source": [
        "<a href=\"https://colab.research.google.com/github/alessandronascimento/pyLiBELa/blob/main/Colabs/pyPARSER_Mol2_test.ipynb\" target=\"_parent\"><img src=\"https://colab.research.google.com/assets/colab-badge.svg\" alt=\"Open In Colab\"/></a>"
      ]
    },
    {
      "cell_type": "code",
      "execution_count": 1,
      "metadata": {
        "id": "LkNCFy2dTXJX"
      },
      "outputs": [],
      "source": [
        "%%capture\n",
        "! apt-get install libboost-python1.71-dev openbabel libopenbabel-dev python-dev zlib1g-dev libeigen3-dev\n",
        "! rm -rf *.cpp *.h param *.so *.gz\n",
        "!wget https://raw.githubusercontent.com/alessandronascimento/pyLiBELa/main/src/pyPARSER.cpp\n",
        "!wget https://raw.githubusercontent.com/alessandronascimento/pyLiBELa/main/src/pyPARSER.h\n",
        "!wget https://raw.githubusercontent.com/alessandronascimento/pyLiBELa/main/src/pyMol2.cpp\n",
        "!wget https://raw.githubusercontent.com/alessandronascimento/pyLiBELa/main/src/pyMol2.h\n",
        "!wget https://raw.githubusercontent.com/alessandronascimento/pyLiBELa/main/src/pyWRITER.cpp\n",
        "!wget https://raw.githubusercontent.com/alessandronascimento/pyLiBELa/main/src/pyWRITER.h\n",
        "!wget https://raw.githubusercontent.com/alessandronascimento/pyLiBELa/main/src/pyGrid.h\n",
        "!wget https://raw.githubusercontent.com/alessandronascimento/pyLiBELa/main/src/pyGrid.cpp\n",
        "!wget https://raw.githubusercontent.com/alessandronascimento/pyLiBELa/main/src/iMcLiBELa.h\n",
        "!wget https://raw.githubusercontent.com/alessandronascimento/pyLiBELa/main/test/rec.mol2.gz\n",
        "!wget https://raw.githubusercontent.com/alessandronascimento/pyLiBELa/main/test/lig.mol2.gz\n",
        "!mkdir param; cd param; wget https://raw.githubusercontent.com/alessandronascimento/pyLiBELa/main/test/LJ_parm.dat; cd .."
      ]
    },
    {
      "cell_type": "code",
      "source": [
        "!g++ -fPIC -shared -I/usr/include/python3.9 -I/usr/include/openbabel3 -I/usr/include/eigen3 pyPARSER.cpp -o pyPARSER.so -L/usr/lib/x86_64-linux-gnu -lboost_python38\n",
        "!g++ -fPIC -shared -DHAVE_EIGEN -o pyMol2.so pyMol2.cpp -I/usr/include/python3.9 -I/usr/include/openbabel3 -I/usr/include/eigen3 -L/usr/lib/x86_64-linux-gnu -lboost_python38 -lz -lopenbabel\n",
        "!g++ -fPIC -shared -DBUILD=0 -I/usr/include/python3.9 -I/usr/include/openbabel3 -I/usr/include/eigen3 pyWRITER.cpp -o pyWRITER.so -L/usr/lib/x86_64-linux-gnu -lboost_python38 -lz\n",
        "!g++ -fPIC -shared -I/usr/include/python3.9 -I/usr/include/openbabel3 -I/usr/include/eigen3 pyGrid.cpp pyWRITER.cpp -o pyGrid.so -L/usr/lib/x86_64-linux-gnu -lboost_python38 -lz"
      ],
      "metadata": {
        "id": "57ftJ-G2T4oi"
      },
      "execution_count": 2,
      "outputs": []
    },
    {
      "cell_type": "code",
      "source": [
        "from pyPARSER import *\n",
        "from pyMol2 import *\n",
        "from pyWRITER import *\n",
        "from pyGrid import *\n",
        "\n",
        "Input = PARSER()\n",
        "print(Input.mol2_aa)"
      ],
      "metadata": {
        "id": "6gGSOCc2p-xo"
      },
      "execution_count": null,
      "outputs": []
    },
    {
      "cell_type": "code",
      "source": [
        "lig = Mol2(Input, \"lig.mol2.gz\")"
      ],
      "metadata": {
        "id": "hNPlLejCql7r"
      },
      "execution_count": 8,
      "outputs": []
    },
    {
      "cell_type": "code",
      "source": [
        "print(lig.charges)\n",
        "pycharges=[]\n",
        "pycharges = list(lig.charges)\n",
        "print(pycharges)"
      ],
      "metadata": {
        "id": "lWnbYH5hdByb"
      },
      "execution_count": null,
      "outputs": []
    },
    {
      "cell_type": "code",
      "source": [
        "Writer = WRITER(Input)\n",
        "print(Writer.print_welcome())"
      ],
      "metadata": {
        "id": "NFtwsziWquzv"
      },
      "execution_count": null,
      "outputs": []
    }
  ]
}