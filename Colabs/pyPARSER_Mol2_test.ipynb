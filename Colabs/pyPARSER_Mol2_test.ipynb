{
  "nbformat": 4,
  "nbformat_minor": 0,
  "metadata": {
    "colab": {
      "provenance": [],
      "include_colab_link": true
    },
    "kernelspec": {
      "name": "python3",
      "display_name": "Python 3"
    },
    "language_info": {
      "name": "python"
    }
  },
  "cells": [
    {
      "cell_type": "markdown",
      "metadata": {
        "id": "view-in-github",
        "colab_type": "text"
      },
      "source": [
        "<a href=\"https://colab.research.google.com/github/alessandronascimento/pyLiBELa/blob/main/Colabs/pyPARSER_Mol2_test.ipynb\" target=\"_parent\"><img src=\"https://colab.research.google.com/assets/colab-badge.svg\" alt=\"Open In Colab\"/></a>"
      ]
    },
    {
      "cell_type": "code",
      "execution_count": 25,
      "metadata": {
        "id": "LkNCFy2dTXJX"
      },
      "outputs": [],
      "source": [
        "%%capture\n",
        "! apt-get install libboost-python1.71-dev openbabel libopenbabel-dev python-dev zlib1g-dev libeigen3-dev libgsl-dev\n",
        "! rm -rf *.cpp *.h param *.so *.gz\n",
        "!wget https://raw.githubusercontent.com/alessandronascimento/pyLiBELa/main/src/pyPARSER.cpp\n",
        "!wget https://raw.githubusercontent.com/alessandronascimento/pyLiBELa/main/src/pyPARSER.h\n",
        "!wget https://raw.githubusercontent.com/alessandronascimento/pyLiBELa/main/src/pyMol2.cpp\n",
        "!wget https://raw.githubusercontent.com/alessandronascimento/pyLiBELa/main/src/pyMol2.h\n",
        "!wget https://raw.githubusercontent.com/alessandronascimento/pyLiBELa/main/src/pyWRITER.cpp\n",
        "!wget https://raw.githubusercontent.com/alessandronascimento/pyLiBELa/main/src/pyWRITER.h\n",
        "!wget https://raw.githubusercontent.com/alessandronascimento/pyLiBELa/main/src/pyGrid.h\n",
        "!wget https://raw.githubusercontent.com/alessandronascimento/pyLiBELa/main/src/pyGrid.cpp\n",
        "!wget https://raw.githubusercontent.com/alessandronascimento/pyLiBELa/main/src/iMcLiBELa.h\n",
        "!wget https://raw.githubusercontent.com/alessandronascimento/pyLiBELa/main/src/pyCOORD_MC.cpp\n",
        "!wget https://raw.githubusercontent.com/alessandronascimento/pyLiBELa/main/src/pyCOORD_MC.h\n",
        "!wget https://raw.githubusercontent.com/alessandronascimento/pyLiBELa/main/src/pyRAND.h\n",
        "!wget https://raw.githubusercontent.com/alessandronascimento/pyLiBELa/main/src/pyFindHB.cpp\n",
        "!wget https://raw.githubusercontent.com/alessandronascimento/pyLiBELa/main/src/pyFindHB.h\n",
        "!wget https://raw.githubusercontent.com/alessandronascimento/pyLiBELa/main/test/rec.mol2.gz\n",
        "!wget https://raw.githubusercontent.com/alessandronascimento/pyLiBELa/main/test/lig.mol2.gz\n",
        "#!mkdir param; cd param; wget https://raw.githubusercontent.com/alessandronascimento/pyLiBELa/main/test/LJ_parm.dat; cd .."
      ]
    },
    {
      "cell_type": "code",
      "source": [
        "!g++ -fPIC -shared -I/usr/include/python3.9 -I/usr/include/openbabel3 -I/usr/include/eigen3 pyPARSER.cpp -o pyPARSER.so -L/usr/lib/x86_64-linux-gnu -lboost_python38\n",
        "!g++ -fPIC -shared -DHAVE_EIGEN -o pyMol2.so pyMol2.cpp -I/usr/include/python3.9 -I/usr/include/openbabel3 -I/usr/include/eigen3 -L/usr/lib/x86_64-linux-gnu -lboost_python38 -lz -lopenbabel\n",
        "!g++ -fPIC -shared -DBUILD=0 -I/usr/include/python3.9 -I/usr/include/openbabel3 -I/usr/include/eigen3 pyWRITER.cpp -o pyWRITER.so -L/usr/lib/x86_64-linux-gnu -lboost_python38 -lz\n",
        "!g++ -fPIC -shared -DBUILD=0 -I/usr/include/python3.9 -I/usr/include/openbabel3 -I/usr/include/eigen3 pyGrid.cpp pyWRITER.cpp -o pyGrid.so -L/usr/lib/x86_64-linux-gnu -lboost_python38 -lz\n",
        "!g++ -fPIC -shared -I/usr/include/python3.9 -I/usr/include/openbabel3 -I/usr/include/eigen3 pyCOORD_MC.cpp -o pyCOORD_MC.so -L/usr/lib/x86_64-linux-gnu -lboost_python38 -lz\n"
      ],
      "metadata": {
        "id": "57ftJ-G2T4oi"
      },
      "execution_count": 27,
      "outputs": []
    },
    {
      "cell_type": "code",
      "source": [
        "!rm -rf *.so\n",
        "!g++ -fPIC -shared -DHAVE_EIGEN -I/usr/include/python3.9 -I/usr/include/openbabel3 -I/usr/include/eigen3 pyFindHB.cpp pyMol2.cpp pyCOORD_MC.cpp pyCOORD_MC.cpp -o pyFindHB.so -L/usr/lib/x86_64-linux-gnu -lboost_python38 -lz"
      ],
      "metadata": {
        "id": "cGcbL283WpAX"
      },
      "execution_count": 41,
      "outputs": []
    },
    {
      "cell_type": "code",
      "source": [
        "!ls *so"
      ],
      "metadata": {
        "colab": {
          "base_uri": "https://localhost:8080/"
        },
        "id": "8ib3nlZgWsR0",
        "outputId": "55971037-5be3-4670-9cfd-c2f66e608fb0"
      },
      "execution_count": 42,
      "outputs": [
        {
          "output_type": "stream",
          "name": "stdout",
          "text": [
            "pyFindHB.so\n"
          ]
        }
      ]
    },
    {
      "cell_type": "code",
      "source": [
        "from pyFindHB import *"
      ],
      "metadata": {
        "id": "Q5ZtY_bFWt34",
        "outputId": "df181a6a-e551-49ef-9823-39f41e15e1fe",
        "colab": {
          "base_uri": "https://localhost:8080/",
          "height": 306
        }
      },
      "execution_count": 47,
      "outputs": [
        {
          "output_type": "error",
          "ename": "ImportError",
          "evalue": "ignored",
          "traceback": [
            "\u001b[0;31m---------------------------------------------------------------------------\u001b[0m",
            "\u001b[0;31mImportError\u001b[0m                               Traceback (most recent call last)",
            "\u001b[0;32m<ipython-input-47-b6fab80b4942>\u001b[0m in \u001b[0;36m<module>\u001b[0;34m\u001b[0m\n\u001b[0;32m----> 1\u001b[0;31m \u001b[0;32mfrom\u001b[0m \u001b[0mpyFindHB\u001b[0m \u001b[0;32mimport\u001b[0m \u001b[0;34m*\u001b[0m\u001b[0;34m\u001b[0m\u001b[0;34m\u001b[0m\u001b[0m\n\u001b[0m",
            "\u001b[0;31mImportError\u001b[0m: /content/pyFindHB.so: undefined symbol: _ZN9OpenBabel10obErrorLogE",
            "",
            "\u001b[0;31m---------------------------------------------------------------------------\u001b[0;32m\nNOTE: If your import is failing due to a missing package, you can\nmanually install dependencies using either !pip or !apt.\n\nTo view examples of installing some common dependencies, click the\n\"Open Examples\" button below.\n\u001b[0;31m---------------------------------------------------------------------------\u001b[0m\n"
          ],
          "errorDetails": {
            "actions": [
              {
                "action": "open_url",
                "actionText": "Open Examples",
                "url": "/notebooks/snippets/importing_libraries.ipynb"
              }
            ]
          }
        }
      ]
    },
    {
      "cell_type": "code",
      "source": [
        "from pyPARSER import *\n",
        "from pyMol2 import *\n",
        "from pyWRITER import *\n",
        "from pyGrid import *\n",
        "from pyCOORD_MC import *\n",
        "from pyFindHB import *\n",
        "\n",
        "\n",
        "Input = PARSER()\n",
        "print(Input.mol2_aa)"
      ],
      "metadata": {
        "id": "6gGSOCc2p-xo",
        "colab": {
          "base_uri": "https://localhost:8080/",
          "height": 376
        },
        "outputId": "173d0501-0d40-4062-93b5-6e9d49fcde4c"
      },
      "execution_count": 29,
      "outputs": [
        {
          "output_type": "error",
          "ename": "ImportError",
          "evalue": "ignored",
          "traceback": [
            "\u001b[0;31m---------------------------------------------------------------------------\u001b[0m",
            "\u001b[0;31mImportError\u001b[0m                               Traceback (most recent call last)",
            "\u001b[0;32m<ipython-input-29-d3dfb80a5109>\u001b[0m in \u001b[0;36m<module>\u001b[0;34m\u001b[0m\n\u001b[1;32m      4\u001b[0m \u001b[0;32mfrom\u001b[0m \u001b[0mpyGrid\u001b[0m \u001b[0;32mimport\u001b[0m \u001b[0;34m*\u001b[0m\u001b[0;34m\u001b[0m\u001b[0;34m\u001b[0m\u001b[0m\n\u001b[1;32m      5\u001b[0m \u001b[0;32mfrom\u001b[0m \u001b[0mpyCOORD_MC\u001b[0m \u001b[0;32mimport\u001b[0m \u001b[0;34m*\u001b[0m\u001b[0;34m\u001b[0m\u001b[0;34m\u001b[0m\u001b[0m\n\u001b[0;32m----> 6\u001b[0;31m \u001b[0;32mfrom\u001b[0m \u001b[0mpyFindHB\u001b[0m \u001b[0;32mimport\u001b[0m \u001b[0;34m*\u001b[0m\u001b[0;34m\u001b[0m\u001b[0;34m\u001b[0m\u001b[0m\n\u001b[0m\u001b[1;32m      7\u001b[0m \u001b[0;34m\u001b[0m\u001b[0m\n\u001b[1;32m      8\u001b[0m \u001b[0;34m\u001b[0m\u001b[0m\n",
            "\u001b[0;31mImportError\u001b[0m: /content/pyFindHB.so: undefined symbol: _ZN9OpenBabel10obErrorLogE",
            "",
            "\u001b[0;31m---------------------------------------------------------------------------\u001b[0;32m\nNOTE: If your import is failing due to a missing package, you can\nmanually install dependencies using either !pip or !apt.\n\nTo view examples of installing some common dependencies, click the\n\"Open Examples\" button below.\n\u001b[0;31m---------------------------------------------------------------------------\u001b[0m\n"
          ],
          "errorDetails": {
            "actions": [
              {
                "action": "open_url",
                "actionText": "Open Examples",
                "url": "/notebooks/snippets/importing_libraries.ipynb"
              }
            ]
          }
        }
      ]
    },
    {
      "cell_type": "code",
      "source": [
        "lig = Mol2(Input, \"lig.mol2.gz\")"
      ],
      "metadata": {
        "id": "hNPlLejCql7r"
      },
      "execution_count": null,
      "outputs": []
    },
    {
      "cell_type": "code",
      "source": [
        "print(lig.charges)\n",
        "pycharges=[]\n",
        "pycharges = list(lig.charges)\n",
        "print(pycharges)"
      ],
      "metadata": {
        "id": "lWnbYH5hdByb",
        "colab": {
          "base_uri": "https://localhost:8080/"
        },
        "outputId": "8d087c3a-d5d1-4aeb-9674-4e018efbe0db"
      },
      "execution_count": null,
      "outputs": [
        {
          "output_type": "stream",
          "name": "stdout",
          "text": [
            "<pyMol2.vectorDouble object at 0x7fe95623c9a0>\n",
            "[0.03680000081658363, -0.05900000035762787, -0.1889999955892563, -0.0949999988079071, -0.08299999684095383, -0.14900000393390656, -0.11299999803304672, -0.12099999934434891, -0.1387999951839447, 0.1889999955892563, 0.16500000655651093, 0.1379999965429306, 0.13300000131130219, 0.13500000536441803, 0.15000000596046448]\n"
          ]
        }
      ]
    },
    {
      "cell_type": "code",
      "source": [
        "Writer = WRITER(Input)\n",
        "print(Writer.print_welcome())"
      ],
      "metadata": {
        "id": "NFtwsziWquzv",
        "colab": {
          "base_uri": "https://localhost:8080/"
        },
        "outputId": "204d7be2-848b-4a71-d4e9-fef79d3c667b"
      },
      "execution_count": null,
      "outputs": [
        {
          "output_type": "stream",
          "name": "stdout",
          "text": [
            "None\n"
          ]
        }
      ]
    }
  ]
}