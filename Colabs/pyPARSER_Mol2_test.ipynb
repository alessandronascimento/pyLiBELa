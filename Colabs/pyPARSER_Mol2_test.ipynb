{
  "nbformat": 4,
  "nbformat_minor": 0,
  "metadata": {
    "colab": {
      "provenance": [],
      "authorship_tag": "ABX9TyPUIOvO3AS+FnjbJKUdBH7a",
      "include_colab_link": true
    },
    "kernelspec": {
      "name": "python3",
      "display_name": "Python 3"
    },
    "language_info": {
      "name": "python"
    }
  },
  "cells": [
    {
      "cell_type": "markdown",
      "metadata": {
        "id": "view-in-github",
        "colab_type": "text"
      },
      "source": [
        "<a href=\"https://colab.research.google.com/github/alessandronascimento/pyLiBELa/blob/main/Colabs/pyPARSER_Mol2_test.ipynb\" target=\"_parent\"><img src=\"https://colab.research.google.com/assets/colab-badge.svg\" alt=\"Open In Colab\"/></a>"
      ]
    },
    {
      "cell_type": "code",
      "execution_count": 1,
      "metadata": {
        "id": "LkNCFy2dTXJX"
      },
      "outputs": [],
      "source": [
        "%%capture\n",
        "! apt-get install libboost-python1.71-dev openbabel libopenbabel-dev python-dev zlib1g-dev libeigen3-dev\n",
        "! rm -rf *.cpp *.h param *.so *.gz\n",
        "!wget https://raw.githubusercontent.com/alessandronascimento/pyLiBELa/main/src/pyPARSER.cpp\n",
        "!wget https://raw.githubusercontent.com/alessandronascimento/pyLiBELa/main/src/pyPARSER.h\n",
        "!wget https://raw.githubusercontent.com/alessandronascimento/pyLiBELa/main/src/pyMol2.cpp\n",
        "!wget https://raw.githubusercontent.com/alessandronascimento/pyLiBELa/main/src/pyMol2.h\n",
        "!wget https://raw.githubusercontent.com/alessandronascimento/pyLiBELa/main/src/pyWRITER.cpp\n",
        "!wget https://raw.githubusercontent.com/alessandronascimento/pyLiBELa/main/src/pyWRITER.h\n",
        "!wget https://raw.githubusercontent.com/alessandronascimento/pyLiBELa/main/src/iMcLiBELa.h\n",
        "!wget https://raw.githubusercontent.com/alessandronascimento/pyLiBELa/main/test/rec.mol2.gz\n",
        "!wget https://raw.githubusercontent.com/alessandronascimento/pyLiBELa/main/test/lig.mol2.gz\n",
        "!mkdir param; cd param; wget https://raw.githubusercontent.com/alessandronascimento/pyLiBELa/main/test/LJ_parm.dat; cd ..\n"
      ]
    },
    {
      "cell_type": "code",
      "source": [
        "!g++ -fPIC -shared -I/usr/include/python3.9 -I/usr/include/openbabel3 -I/usr/include/eigen3 pyPARSER.cpp -o pyPARSER.so -L/usr/lib/x86_64-linux-gnu -lboost_python38\n",
        "!g++ -fPIC -shared -DHAVE_EIGEN -o pyMol2.so pyMol2.cpp -I/usr/include/python3.9 -I/usr/include/openbabel3 -I/usr/include/eigen3 -L/usr/lib/x86_64-linux-gnu -lboost_python38 -lz -lopenbabel\n",
        "!g++ -fPIC -shared -DBUILD=0 -I/usr/include/python3.9 -I/usr/include/openbabel3 -I/usr/include/eigen3 pyWRITER.cpp -o pyWRITER.so -L/usr/lib/x86_64-linux-gnu -lboost_python38 -lz"
      ],
      "metadata": {
        "id": "57ftJ-G2T4oi"
      },
      "execution_count": 12,
      "outputs": []
    },
    {
      "cell_type": "code",
      "source": [
        "from pyPARSER import *\n",
        "from pyMol2 import *\n",
        "from pyWRITER import *\n",
        "\n",
        "Input = PARSER()\n",
        "print(Input.mol2_aa)"
      ],
      "metadata": {
        "id": "6gGSOCc2p-xo",
        "outputId": "4f64815e-e397-42e0-cc6d-3f0d226a9de4",
        "colab": {
          "base_uri": "https://localhost:8080/"
        }
      },
      "execution_count": 13,
      "outputs": [
        {
          "output_type": "stream",
          "name": "stdout",
          "text": [
            "False\n"
          ]
        }
      ]
    },
    {
      "cell_type": "code",
      "source": [
        "lig = Mol2(Input, \"lig.mol2.gz\")"
      ],
      "metadata": {
        "id": "hNPlLejCql7r"
      },
      "execution_count": 14,
      "outputs": []
    },
    {
      "cell_type": "code",
      "source": [
        "print(lig.charges)\n",
        "pycharges=[]\n",
        "pycharges = list(lig.charges)\n",
        "print(pycharges)"
      ],
      "metadata": {
        "id": "lWnbYH5hdByb",
        "outputId": "f8e6c980-dd74-4e2d-bc7e-b45ae0e1d1ea",
        "colab": {
          "base_uri": "https://localhost:8080/"
        }
      },
      "execution_count": 15,
      "outputs": [
        {
          "output_type": "stream",
          "name": "stdout",
          "text": [
            "<pyMol2.vectorDouble object at 0x7f2737ec2160>\n",
            "[0.03680000081658363, -0.05900000035762787, -0.1889999955892563, -0.0949999988079071, -0.08299999684095383, -0.14900000393390656, -0.11299999803304672, -0.12099999934434891, -0.1387999951839447, 0.1889999955892563, 0.16500000655651093, 0.1379999965429306, 0.13300000131130219, 0.13500000536441803, 0.15000000596046448]\n"
          ]
        }
      ]
    },
    {
      "cell_type": "code",
      "source": [
        "Writer = WRITER(Input)\n",
        "print(Writer.print_welcome())"
      ],
      "metadata": {
        "id": "NFtwsziWquzv",
        "outputId": "b3c5136c-38af-4bc8-df41-dd615f504f0b",
        "colab": {
          "base_uri": "https://localhost:8080/"
        }
      },
      "execution_count": 16,
      "outputs": [
        {
          "output_type": "stream",
          "name": "stdout",
          "text": [
            "None\n"
          ]
        }
      ]
    }
  ]
}