{
  "nbformat": 4,
  "nbformat_minor": 0,
  "metadata": {
    "colab": {
      "provenance": [],
      "authorship_tag": "ABX9TyNYZGYhY9OMXUQrsaTRcsl1",
      "include_colab_link": true
    },
    "kernelspec": {
      "name": "python3",
      "display_name": "Python 3"
    },
    "language_info": {
      "name": "python"
    }
  },
  "cells": [
    {
      "cell_type": "markdown",
      "metadata": {
        "id": "view-in-github",
        "colab_type": "text"
      },
      "source": [
        "<a href=\"https://colab.research.google.com/github/alessandronascimento/pyLiBELa/blob/main/Colabs/OpenBabel.ipynb\" target=\"_parent\"><img src=\"https://colab.research.google.com/assets/colab-badge.svg\" alt=\"Open In Colab\"/></a>"
      ]
    },
    {
      "cell_type": "code",
      "execution_count": null,
      "metadata": {
        "id": "SsgFuxoICAYx",
        "cellView": "form"
      },
      "outputs": [],
      "source": [
        "#@title Installing required libraries\n",
        "#@markdown This may take a while..\n",
        "!pip3 install swig py3Dmol\n",
        "!apt-get install libeigen3-dev\n",
        "! wget https://github.com/openbabel/openbabel/releases/download/openbabel-3-1-1/openbabel-3.1.1-source.tar.bz2\n",
        "! tar -xvjf openbabel-3.1.1-source.tar.bz2\n",
        "! cd openbabel-3.1.1; mkdir build;\n",
        "! cd openbabel-3.1.1/build; rm -rf *; cmake -DRUN_SWIG=ON -DPYTHON_BINDINGS=ON -DEIGEN3_INCLUDE_DIR=/usr/include/eigen3 ..\n",
        "! cd openbabel-3.1.1/build; make -j4 install"
      ]
    },
    {
      "cell_type": "code",
      "source": [
        "#@title Testing OpenBabel....\n",
        "#@markdown Converting a smiles to 3D molecule and saving as mol2 file.\n",
        "from openbabel import pybel\n",
        "import py3Dmol\n",
        "\n",
        "mol = pybel.readstring(\"smi\", \"C[C@](O)(CS(=O)(=O)c1ccc(F)cc1)C(=O)Nc1ccc(C#N)c(C(F)(F)F)c1\")\n",
        "mol.addh()\n",
        "mol.make3D()\n",
        "mol.write(\"mol2\", \"test.mol2\")\n",
        "mol\n",
        "\n"
      ],
      "metadata": {
        "cellView": "form",
        "id": "Zg4iLwgGgi0d"
      },
      "execution_count": null,
      "outputs": []
    },
    {
      "cell_type": "code",
      "source": [
        "#@title Visualization with py3Dmol\n",
        "\n",
        "with open(\"test.mol2\") as ifile:\n",
        "    system = \"\".join([x for x in ifile])\n",
        "\n",
        "\n",
        "view = py3Dmol.view()\n",
        "view.addModel(system)\n",
        "view.setStyle({'stick':{}})\n",
        "view.zoomTo()\n",
        "view.show()\n",
        "\n"
      ],
      "metadata": {
        "cellView": "form",
        "id": "kHT5NRY7tYf2"
      },
      "execution_count": null,
      "outputs": []
    }
  ]
}