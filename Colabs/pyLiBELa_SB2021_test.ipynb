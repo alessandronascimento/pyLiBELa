{
  "nbformat": 4,
  "nbformat_minor": 0,
  "metadata": {
    "colab": {
      "provenance": [],
      "include_colab_link": true
    },
    "kernelspec": {
      "name": "python3",
      "display_name": "Python 3"
    },
    "language_info": {
      "name": "python"
    }
  },
  "cells": [
    {
      "cell_type": "markdown",
      "metadata": {
        "id": "view-in-github",
        "colab_type": "text"
      },
      "source": [
        "<a href=\"https://colab.research.google.com/github/alessandronascimento/pyLiBELa/blob/main/Colabs/pyLiBELa_SB2021_test.ipynb\" target=\"_parent\"><img src=\"https://colab.research.google.com/assets/colab-badge.svg\" alt=\"Open In Colab\"/></a>"
      ]
    },
    {
      "cell_type": "code",
      "source": [
        "#@title Downloading and Installing OpenBabel {display-mode: \"form\"}\n",
        "! apt-get install python-dev-is-python3 zlib1g-dev libeigen3-dev libgsl-dev libnlopt-cxx-dev libgsl-dev\n",
        "!pip install ipython-autotime\n",
        "%load_ext autotime\n",
        "!pip3 install condacolab\n",
        "import condacolab\n",
        "condacolab.install()\n",
        "!mamba install openbabel"
      ],
      "metadata": {
        "id": "0NP7rjKJLKWC"
      },
      "execution_count": null,
      "outputs": []
    },
    {
      "cell_type": "code",
      "source": [
        "! git clone https://github.com/alessandronascimento/pyLiBELa.git\n",
        "! mv pyLiBELa/src src\n",
        "! rm -rf pyLiBELa\n",
        "! mkdir -p obj\n",
        "! rm -f Makefile*\n",
        "! wget https://raw.githubusercontent.com/alessandronascimento/pyLiBELa/main/Colabs/Makefile\n",
        "! make -j2"
      ],
      "metadata": {
        "id": "yaG9QX0ACwVT"
      },
      "execution_count": null,
      "outputs": []
    },
    {
      "cell_type": "code",
      "source": [
        "#@title Compiling McGrid.CUDA {display-mode: \"form\"}\n"
      ],
      "metadata": {
        "id": "0Pweihdy8kj3"
      },
      "execution_count": null,
      "outputs": []
    },
    {
      "cell_type": "code",
      "execution_count": 2,
      "metadata": {
        "id": "mmqpdtV1CU49",
        "colab": {
          "base_uri": "https://localhost:8080/"
        },
        "outputId": "66347cc5-4cc7-4527-cb8f-3a8337c47531"
      },
      "outputs": [
        {
          "output_type": "stream",
          "name": "stdout",
          "text": [
            "pyLiBELa is imported!\n"
          ]
        }
      ],
      "source": [
        "#@title Importing libraries {display-mode: \"form\"}\n",
        "import os\n",
        "try:\n",
        "  from pyPARSER import *\n",
        "  from pyMol2 import *\n",
        "  from pyWRITER import *\n",
        "  from pyGrid import *\n",
        "  from pyCOORD_MC import *\n",
        "  from pyFindHB import *\n",
        "  from pyEnergy2 import *\n",
        "  from pyGaussian import *\n",
        "  from pyConformer import *\n",
        "  from pyRAND import *\n",
        "  from pyMcEntropy import *\n",
        "  from pySA import *\n",
        "  from pyOptimizer import *\n",
        "  from pyMC import *\n",
        "  from pyFullSearch import *\n",
        "  from pyDocker import *\n",
        "  print('pyLiBELa is imported!')\n",
        "except ImportError:\n",
        "  print('An ImportError occurred, try running this cell again!')"
      ]
    },
    {
      "cell_type": "code",
      "source": [
        "#@title Connect with Google Drive {display-mode: \"form\"}\n",
        "\n",
        "from google.colab import drive\n",
        "drive.mount('/gdrive')\n",
        "\n",
        "sb_folder='/gdrive/My Drive/Projects_Data/pyLiBELa/SB/'\n",
        "\n",
        "%cd /gdrive/My Drive/Projects_Data/pyLiBELa/SB\n",
        "\n",
        "targets=[]\n",
        "targets_file = open('list', 'r');\n",
        "for line in targets_file:\n",
        "  targets.append(line.strip())\n",
        "targets_file.close()\n",
        "\n"
      ],
      "metadata": {
        "id": "3sA3hsz4uOWq",
        "outputId": "ec8ff320-9773-46e8-c804-6ce676309a92",
        "colab": {
          "base_uri": "https://localhost:8080/"
        }
      },
      "execution_count": 10,
      "outputs": [
        {
          "output_type": "stream",
          "name": "stdout",
          "text": [
            "Drive already mounted at /gdrive; to attempt to forcibly remount, call drive.mount(\"/gdrive\", force_remount=True).\n",
            "/gdrive/.shortcut-targets-by-id/1iX13EV9pFTj4bafAE1ugNFli9exvXFbC/pyLiBELa/SB\n"
          ]
        }
      ]
    },
    {
      "cell_type": "code",
      "source": [
        "for i in range(11):\n",
        "  target=targets[i];\n",
        "  folder = sb_folder+target\n",
        "  %cd $folder\n",
        "  ! mkdir test\n",
        "  %cd test\n",
        "  ! cp ../*lig.am1bcc.mol2.gz lig.mol2.gz\n",
        "  ! cp ../*.rec.clean.mol2.gz rec.mol2.gz\n",
        "  ! obabel -imol2 lig.mol2.gz -osmi -O lig.smi"
      ],
      "metadata": {
        "colab": {
          "base_uri": "https://localhost:8080/"
        },
        "id": "xOdf5xM5vSQz",
        "outputId": "41197d8c-4c44-4748-f1ed-6c0d8143fe1d"
      },
      "execution_count": 11,
      "outputs": [
        {
          "output_type": "stream",
          "name": "stdout",
          "text": [
            "/gdrive/.shortcut-targets-by-id/1iX13EV9pFTj4bafAE1ugNFli9exvXFbC/pyLiBELa/SB/121P\n",
            "/gdrive/.shortcut-targets-by-id/1iX13EV9pFTj4bafAE1ugNFli9exvXFbC/pyLiBELa/SB/121P/test\n",
            "1 molecule converted\n",
            "/gdrive/.shortcut-targets-by-id/1iX13EV9pFTj4bafAE1ugNFli9exvXFbC/pyLiBELa/SB/181L\n",
            "/gdrive/.shortcut-targets-by-id/1iX13EV9pFTj4bafAE1ugNFli9exvXFbC/pyLiBELa/SB/181L/test\n",
            "1 molecule converted\n",
            "/gdrive/.shortcut-targets-by-id/1iX13EV9pFTj4bafAE1ugNFli9exvXFbC/pyLiBELa/SB/182L\n",
            "/gdrive/.shortcut-targets-by-id/1iX13EV9pFTj4bafAE1ugNFli9exvXFbC/pyLiBELa/SB/182L/test\n",
            "1 molecule converted\n",
            "/gdrive/.shortcut-targets-by-id/1iX13EV9pFTj4bafAE1ugNFli9exvXFbC/pyLiBELa/SB/183L\n",
            "/gdrive/.shortcut-targets-by-id/1iX13EV9pFTj4bafAE1ugNFli9exvXFbC/pyLiBELa/SB/183L/test\n",
            "1 molecule converted\n",
            "/gdrive/.shortcut-targets-by-id/1iX13EV9pFTj4bafAE1ugNFli9exvXFbC/pyLiBELa/SB/184L\n",
            "/gdrive/.shortcut-targets-by-id/1iX13EV9pFTj4bafAE1ugNFli9exvXFbC/pyLiBELa/SB/184L/test\n",
            "1 molecule converted\n",
            "/gdrive/.shortcut-targets-by-id/1iX13EV9pFTj4bafAE1ugNFli9exvXFbC/pyLiBELa/SB/185L\n",
            "/gdrive/.shortcut-targets-by-id/1iX13EV9pFTj4bafAE1ugNFli9exvXFbC/pyLiBELa/SB/185L/test\n",
            "1 molecule converted\n",
            "/gdrive/.shortcut-targets-by-id/1iX13EV9pFTj4bafAE1ugNFli9exvXFbC/pyLiBELa/SB/186L\n",
            "/gdrive/.shortcut-targets-by-id/1iX13EV9pFTj4bafAE1ugNFli9exvXFbC/pyLiBELa/SB/186L/test\n",
            "1 molecule converted\n",
            "/gdrive/.shortcut-targets-by-id/1iX13EV9pFTj4bafAE1ugNFli9exvXFbC/pyLiBELa/SB/187L\n",
            "/gdrive/.shortcut-targets-by-id/1iX13EV9pFTj4bafAE1ugNFli9exvXFbC/pyLiBELa/SB/187L/test\n",
            "1 molecule converted\n",
            "/gdrive/.shortcut-targets-by-id/1iX13EV9pFTj4bafAE1ugNFli9exvXFbC/pyLiBELa/SB/188L\n",
            "/gdrive/.shortcut-targets-by-id/1iX13EV9pFTj4bafAE1ugNFli9exvXFbC/pyLiBELa/SB/188L/test\n",
            "1 molecule converted\n",
            "/gdrive/.shortcut-targets-by-id/1iX13EV9pFTj4bafAE1ugNFli9exvXFbC/pyLiBELa/SB/1A28\n",
            "/gdrive/.shortcut-targets-by-id/1iX13EV9pFTj4bafAE1ugNFli9exvXFbC/pyLiBELa/SB/1A28/test\n",
            "1 molecule converted\n",
            "/gdrive/.shortcut-targets-by-id/1iX13EV9pFTj4bafAE1ugNFli9exvXFbC/pyLiBELa/SB/1A30\n",
            "/gdrive/.shortcut-targets-by-id/1iX13EV9pFTj4bafAE1ugNFli9exvXFbC/pyLiBELa/SB/1A30/test\n",
            "1 molecule converted\n"
          ]
        }
      ]
    },
    {
      "cell_type": "code",
      "source": [
        "#@title Docking parameters {display-mode: \"form\"}\n",
        "\n",
        "import os\n",
        "import timeit\n",
        "import numpy as np\n",
        "\n",
        "Input = PARSER()\n",
        "\n",
        "# Some default options:\n",
        "# 1. We are using two processors for Grid calculations;\n",
        "#\n",
        "\n",
        "Input.generate_conformers = True;\n",
        "Input.dock_parallel = True;\n",
        "Input.parallel_jobs = 2;\n",
        "Input.write_grids = True\n",
        "Input.use_grids = True\n",
        "Input.write_mol2 = True\n",
        "Input.atom_limit = 60 #@param {type:\"number\"}\n",
        "    #atom limit not counting H\n",
        "\n",
        "# Energy Calculation Parameters:\n",
        "scoring_function = \"0\" #@param [\"0\", \"1\", \"2\", \"3\"]\n",
        "Input.dielectric_model = \"r\" #@param [\"r\", \"constant\"]\n",
        "Input.scoring_function = int(scoring_function)\n",
        "grid_dimension = 30.0 #@param {type:\"number\"}\n",
        "Input.grid_spacing = 0.5 #@param {type:\"number\"}\n",
        "Input.solvation_alpha = 0.1 #@param {type:\"number\"}\n",
        "Input.solvation_beta = -0.005 #@param {type:\"number\"}\n",
        "\n",
        "# Optimization parameter:\n",
        "Input.min_tol = 1E-10;\n",
        "Input.min_delta = 1E-5;\n",
        "Input.dock_min_tol = 1E-10;\n",
        "search_box = 20.0 #@param {type:\"number\"}\n",
        "Input.timeout = 30 #@param {type:\"number\"}\n",
        "Input.min_timeout = 30 #@param {type:\"number\"}\n",
        "Input.overlay_optimizer = \"none\" #@param [\"mma\", \"ln_auglag\", \"subplex\", \"none\"]\n",
        "Input.energy_optimizer = \"none\" #@param [\"direct\", \"isres\", \"crs\", \"esch\", \"stogo\", \"mma\", \"simplex\", \"none\"]\n",
        "if (Input.scoring_function < 3):\n",
        "  delta = 2.5 #@param {type:\"number\"}\n",
        "  Input.deltaij6 = (delta*delta*delta*delta*delta*delta)\n",
        "  delta_es = 2.5 #@param {type:\"number\"}\n",
        "  Input.deltaij_es6 = pow(delta_es, 6);\n",
        "  Input.deltaij_es3 = (delta_es*delta_es*delta_es)\n",
        "\n",
        "Input.search_box_x, Input.search_box_y, Input.search_box_z = search_box, search_box, search_box;\n",
        "Input.x_dim, Input.y_dim, Input.z_dim = grid_dimension, grid_dimension, grid_dimension;"
      ],
      "metadata": {
        "id": "bBiFwd-WIDdw"
      },
      "execution_count": 12,
      "outputs": []
    },
    {
      "cell_type": "code",
      "source": [
        "#@title Reading molecular files {display-mode: \"form\"}\n",
        "\n",
        "#Reading Ligand SMILES\n",
        "\n",
        "\n",
        "insmiles = open('lig.smi', 'r');\n",
        "line=insmiles.readline().strip()\n",
        "line2 = line.split()\n",
        "ligand_smiles = line2[0]\n",
        "insmiles.close();\n",
        "print('SMILES read: %s' % ligand_smiles)\n",
        "\n",
        "Lig2 = Mol2()\n",
        "\n",
        "lig_src = 'lig.mol2.gz'\n",
        "rec_src = 'rec.mol2.gz'\n",
        "\n",
        "REC = Mol2(Input, rec_src)\n",
        "RefLig = Mol2(Input, lig_src)\n",
        "Lig2.parse_smiles(Input, ligand_smiles, 'LIG')\n",
        "\n",
        "print('Receptor and reference ligand parsed successfully!')\n",
        "print(\"Receptor has %4d atoms.\" % REC.N)\n",
        "print('Reference Ligand has %4d atoms' % RefLig.N)\n",
        "print('Search ligand has %4d atoms' % Lig2.N)\n"
      ],
      "metadata": {
        "id": "UwJdna1V2f96",
        "outputId": "75770bad-bf77-4e8b-b356-8c1617365aad",
        "colab": {
          "base_uri": "https://localhost:8080/"
        }
      },
      "execution_count": 22,
      "outputs": [
        {
          "output_type": "stream",
          "name": "stdout",
          "text": [
            "SMILES read: [NH3+][C@H](C(=O)N[C@H](C(=O)N[C@H](C(=O)[O])CC(C)C)CC(=O)[O])CCC(=O)[O]\n",
            "Receptor and reference ligand parsed successfully!\n",
            "Receptor has 3138 atoms.\n",
            "Reference Ligand has   49 atoms\n",
            "Search ligand has   49 atoms\n"
          ]
        }
      ]
    },
    {
      "cell_type": "code",
      "source": [
        "#@title Grid Generation and Docking calculation\n",
        "!rm -rf McLiBELa_dock.mol2.gz\n",
        "\n",
        "Writer = WRITER(Input)\n",
        "Coord = COORD_MC()\n",
        "HB = FindHB()\n",
        "Ene  = Energy2(Input)\n",
        "\n",
        "for i in range(len(REC.residue_pointer)-1):\n",
        "  HB.parse_residue(REC.residue_pointer[i]-1, REC.residue_pointer[i+1]-2, REC.resnames[i], REC, RefLig, 9.0);\n",
        "HB.find_ligandHB(lig_src, RefLig);\n",
        "print('The receptor has %5d / %5d HB donors/acceptors around the active site.' % (len(REC.HBdonors), len(REC.HBacceptors)));\n",
        "\n",
        "Dock = Docker(Writer)\n",
        "center = Coord.compute_com(RefLig)\n",
        "\n",
        "print()\n",
        "start_energy = Ene.compute_ene(REC, RefLig, RefLig.xyz);\n",
        "print('Starting energy: %7.3f kcal/mol' % start_energy);\n",
        "print()\n",
        "print('Generating grids. This may take a while..')\n",
        "Grids = Grid(Input, Writer, REC, center)\n",
        "print('Grids computed!')\n",
        "grid_energy = Ene.compute_ene(Grids, RefLig, RefLig.xyz);\n",
        "print('Grid original energy: %7.3f kcal/mol' % grid_energy);\n",
        "print('Grid error: %7.3f %%' % abs(100.*(start_energy-grid_energy)/start_energy));\n"
      ],
      "metadata": {
        "id": "3V0xpV6F2i3q"
      },
      "execution_count": null,
      "outputs": []
    },
    {
      "cell_type": "code",
      "source": [
        "print('Starting docking calculation...')\n",
        "Dock.run(REC, Lig2, RefLig, center, Input, Grids, 0)\n",
        "print('Docking calculation finished!')\n",
        "\n",
        "Writer.write_box(center, Grids.xbegin, Grids.ybegin, Grids.zbegin, Grids.xend, Grids.yend, Grids.zend)\n"
      ],
      "metadata": {
        "id": "rkmB9Wh3VV05"
      },
      "execution_count": null,
      "outputs": []
    },
    {
      "cell_type": "code",
      "source": [
        "#@title Preparing Output Files\n",
        "!rm -rf lig2.pdb lig_ref.pdb rec.pdb\n",
        "\n",
        "\n",
        "!obabel -imol2 McLiBELa_dock.mol2.gz -opdb -O lig2.pdb\n",
        "!obabel -imol2 test/lig.mol2.gz -opdb -O lig_ref.pdb\n",
        "!obabel -imol2 test/rec.mol2.gz -opdb -O rec.pdb\n",
        "\n",
        "lig2_pdb = open('lig2.pdb', 'r').read()\n",
        "lig_ref_pdb = open('lig_ref.pdb', 'r').read()\n",
        "rec_pdb = open('rec.pdb','r').read()\n",
        "\n",
        "box_pdb = open('box.pdb','r').read()\n",
        "\n",
        "def join_pdb(name_file_rec,name_file_lig,name_file_merge):\n",
        "  !cp $name_file_rec temp_rec.pdb\n",
        "  !cp $name_file_lig temp_lig.pdb\n",
        "\n",
        "  !sed -i '/END\\|CONECT/d' temp_rec.pdb #tira o end e o conect do arquivo do receptor\n",
        "\n",
        "  !sed -i 's/A  /B  /g' temp_lig.pdb #troca a cadeia A por B no arquivo do ligante\n",
        "\n",
        "  !sed -i '/CONECT/d' temp_lig.pdb #tira o conect do arquivo do ligante\n",
        "\n",
        "  !cat temp_rec.pdb temp_lig.pdb > $name_file_merge #concatena os arquivos\n",
        "\n",
        "  !rm -rf temp_rec.pdb temp_lig.pdb\n",
        "\n",
        "\n",
        "join_pdb('rec.pdb','lig_ref.pdb','complex1.pdb')\n",
        "complex1_pdb = open('complex1.pdb','r').read()\n",
        "\n",
        "join_pdb('rec.pdb','lig2.pdb','complex2.pdb')\n",
        "complex2_pdb = open('complex2.pdb','r').read()\n"
      ],
      "metadata": {
        "id": "GfSEvBRyASyr",
        "cellView": "form"
      },
      "execution_count": null,
      "outputs": []
    },
    {
      "cell_type": "code",
      "source": [
        "#@title Setting view\n",
        "%%capture\n",
        "try:\n",
        "  import py3Dmol\n",
        "except:\n",
        "  !pip install py3Dmol\n",
        "  import py3Dmol\n",
        "aminoacids = ['MET', 'THR', 'ASN', 'LYS', 'SER', 'ARG', 'VAL', 'ALA', 'ASP', 'GLU', 'GLY', 'PHE', 'LEU', 'TYR', 'CYS', 'TRP', 'PRO', 'HIS', 'GLN', 'ILE', 'ASH', 'CYX', 'GLH', 'HIE', 'HID', 'HIP','HOH']\n"
      ],
      "metadata": {
        "id": "cXTwPuTHFceG",
        "cellView": "form"
      },
      "execution_count": null,
      "outputs": []
    },
    {
      "cell_type": "code",
      "source": [
        "#@title Ligands\n",
        "view = py3Dmol.view()\n",
        "\n",
        "#Adding models\n",
        "view.addModel(lig2_pdb,'pdb') #model 0\n",
        "view.addModel(lig_ref_pdb,'pdb') #model 1\n",
        "#view.addModel(box_pdb,'pdb') #something wrong with it\n",
        "\n",
        "view.setStyle({'model':0},{'stick': {'colorscheme':'yellowCarbon'}})\n",
        "view.setStyle({'model':1},{'stick': {'colorscheme':'greenCarbon'}})\n",
        "\n",
        "\n",
        "view.setBackgroundColor('white')\n",
        "view.zoomTo()\n",
        "view.show()"
      ],
      "metadata": {
        "id": "LQ0t4AEo22mN",
        "cellView": "form"
      },
      "execution_count": null,
      "outputs": []
    },
    {
      "cell_type": "code",
      "source": [
        "#@title Original complex\n",
        "view = py3Dmol.view(width=1200,height=800)\n",
        "\n",
        "#Adding models\n",
        "view.addModel(complex1_pdb,'pdb') #model 0\n",
        "view.addModel(rec_pdb,'pdb') #model 1\n",
        "\n",
        "\n",
        "view.setStyle({'chain':'B'},{'stick': {'colorscheme':'greenCarbon'}})\n",
        "\n",
        "view.setStyle({'chain':'A'},  {\"cartoon\":{'arrows':True,'colorscheme':'rasmol','opacity':0.7}})\n",
        "view.setStyle({ 'chain':'A', 'not':{'resn':aminoacids}}, {'sphere':{}})\n",
        "view.addStyle({'chain':'A','within':{'distance':'5', 'sel':{'chain':'B'}},'byres':True}, {'stick': {'colorscheme':'skyblueCarbon'}})\n",
        "\n",
        "\n",
        "view.setBackgroundColor('white')\n",
        "view.zoomTo({'chain':'B'})\n",
        "view.show()"
      ],
      "metadata": {
        "id": "sAGIFCrW8zIQ"
      },
      "execution_count": null,
      "outputs": []
    },
    {
      "cell_type": "code",
      "source": [
        "#@title Docking complex\n",
        "view = py3Dmol.view(width=1200,height=800)\n",
        "\n",
        "#Adding models\n",
        "view.addModel(complex2_pdb,'pdb')\n",
        "\n",
        "view.setStyle({'chain':'B'},{'stick': {'colorscheme':'yellowCarbon'}})\n",
        "\n",
        "view.setStyle({'chain':'A'},  {\"cartoon\":{'arrows':True,'colorscheme':'ssPymol','opacity':0.7}})\n",
        "view.setStyle({ 'chain':'A', 'not':{'resn':aminoacids}}, {'sphere':{}})\n",
        "view.addStyle({'chain':'A','within':{'distance':'5', 'sel':{'chain':'B'}},'byres':True}, {'stick': {'colorscheme':'skyblueCarbon'}})\n",
        "\n",
        "\n",
        "view.setBackgroundColor('white')\n",
        "view.zoomTo({'chain':'B'})\n",
        "view.show()"
      ],
      "metadata": {
        "id": "JqvU5pQD_X-d"
      },
      "execution_count": null,
      "outputs": []
    },
    {
      "cell_type": "code",
      "source": [
        "#talvez seja bom colocar algo assim no futuro\n",
        "view = py3Dmol.view(query='pdb:1dc9',linked=False,viewergrid=(2,2))\n",
        "\n",
        "view.removeAllModels(viewer=(0,0))\n",
        "view.addModel(lig2_pdb,viewer=(0,0))\n",
        "view.setStyle({'model':0},{'stick':{'colorscheme':'greenCarbon'}},viewer=(0,0))\n",
        "\n",
        "\n",
        "view.zoomto()\n",
        "view.show()"
      ],
      "metadata": {
        "id": "j8TQU39I5deW"
      },
      "execution_count": null,
      "outputs": []
    },
    {
      "cell_type": "code",
      "source": [
        "#@title Reading molecular files {display-mode: \"form\"}\n",
        "\n",
        "#Reading Ligand SMILES\n",
        "\n",
        "\n",
        "ligand_smiles = \"o1ccc2ccccc12\" #@param {type:\"string\"}\n",
        "#print(ligand_smiles)\n",
        "#NCC(O)=O\n",
        "\n",
        "Lig2 = Mol2()\n",
        "if Mol2.parse_smiles(Lig2, Input, ligand_smiles, 'Lig2'):\n",
        "   print('Ligand SMILES parsed successfully!')\n",
        "\n",
        "else:\n",
        "  print('Oops, something wrong with you ligand... \\nIt may be way too big or have an unknown atom.')\n",
        "\n",
        "#Reading reference ligand and receptor from source\n",
        "\n",
        "lig_src =  'test/lig.mol2.gz' #@param {type:\"string\"}\n",
        "rec_src = 'test/rec.mol2.gz' #@param {type:\"string\"}\n",
        "\n",
        "REC = Mol2(Input, rec_src)\n",
        "RefLig = Mol2(Input, lig_src)\n",
        "\n",
        "print('Receptor and reference ligand parsed successfully!')\n",
        "print(\"Receptor has %4d atoms.\" % REC.N)\n",
        "print('Reference Ligand has %4d atoms' % RefLig.N)\n",
        "print('Search ligand has %4d atoms' % Lig2.N)\n"
      ],
      "metadata": {
        "id": "kcpNV5E1yKWB"
      },
      "execution_count": null,
      "outputs": []
    },
    {
      "cell_type": "code",
      "source": [
        "! rm -f Makefile*\n",
        "! wget https://raw.githubusercontent.com/alessandronascimento/pyLiBELa/main/Colabs/Makefile\n",
        "! sed -i '18d' Makefile\n",
        "! sed  -i '18i\\ \t -I/home/caio/openbabel/openbabel-openbabel-3-1-1/include/openbabel3   \\\\' Makefile\n",
        "! sed  -i '27i\\\t -L/home/caio/openbabel/build/lib \\\\' Makefile\n",
        "! head -30 Makefile | tail +15"
      ],
      "metadata": {
        "id": "XXA5Ozo7fAvh"
      },
      "execution_count": null,
      "outputs": []
    }
  ]
}