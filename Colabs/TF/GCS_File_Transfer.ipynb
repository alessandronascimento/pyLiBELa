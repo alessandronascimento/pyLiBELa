{
  "nbformat": 4,
  "nbformat_minor": 0,
  "metadata": {
    "colab": {
      "provenance": [],
      "authorship_tag": "ABX9TyPppZ6/FpMzMIUDILgiNYCY",
      "include_colab_link": true
    },
    "kernelspec": {
      "name": "python3",
      "display_name": "Python 3"
    },
    "language_info": {
      "name": "python"
    }
  },
  "cells": [
    {
      "cell_type": "markdown",
      "metadata": {
        "id": "view-in-github",
        "colab_type": "text"
      },
      "source": [
        "<a href=\"https://colab.research.google.com/github/alessandronascimento/pyLiBELa/blob/main/Colabs/TF/GCS_File_Transfer.ipynb\" target=\"_parent\"><img src=\"https://colab.research.google.com/assets/colab-badge.svg\" alt=\"Open In Colab\"/></a>"
      ]
    },
    {
      "cell_type": "code",
      "execution_count": 2,
      "metadata": {
        "colab": {
          "base_uri": "https://localhost:8080/"
        },
        "id": "Q8Hky7CX7yrY",
        "outputId": "adb97d8b-b6e1-4217-f3a8-0a56de380e77"
      },
      "outputs": [
        {
          "output_type": "stream",
          "name": "stdout",
          "text": [
            "Mounted at /content/drive\n",
            "/content/drive/.shortcut-targets-by-id/1yaTdYVpjmL1DAJ6BUmgTH5HVaSbYH99b/PDBbind_v2020\n"
          ]
        }
      ],
      "source": [
        "from google.colab import drive\n",
        "drive.mount('/content/drive')\n",
        "\n",
        "%cd /content/drive/MyDrive/PDBbind_v2020"
      ]
    },
    {
      "cell_type": "code",
      "metadata": {
        "id": "aehvgY-u7zRe",
        "colab": {
          "base_uri": "https://localhost:8080/"
        },
        "outputId": "4b951379-d561-4cd9-e69a-56b7314f1939"
      },
      "source": [
        "from google.colab import auth\n",
        "auth.authenticate_user()\n",
        "\n",
        "project_id = 'smart-monitor-401017'\n",
        "!gcloud config set project {project_id}\n",
        "!gsutil ls"
      ],
      "execution_count": 3,
      "outputs": [
        {
          "output_type": "stream",
          "name": "stdout",
          "text": [
            "Updated property [core/project].\n",
            "gs://pdbbind/\n"
          ]
        }
      ]
    },
    {
      "cell_type": "code",
      "source": [
        "# creating a static form of organizing the target names to avoid randomness\n",
        "# in the GDrive's file access and indexing\n",
        "targets = []\n",
        "with open(\"scripts/in_targets.dat\", 'r') as f:\n",
        "  for l in f.readlines():\n",
        "    targets.append(l[0:4])\n",
        "\n",
        "print(f\"{len(targets)} targets found\\n\")"
      ],
      "metadata": {
        "colab": {
          "base_uri": "https://localhost:8080/"
        },
        "id": "RrtmqDbF9DO0",
        "outputId": "be88c49c-7ce1-4355-ab9a-9455561734bf"
      },
      "execution_count": 4,
      "outputs": [
        {
          "output_type": "stream",
          "name": "stdout",
          "text": [
            "14222 targets found\n",
            "\n"
          ]
        }
      ]
    },
    {
      "cell_type": "code",
      "source": [
        "# recover last recorded grid processed from the log file\n",
        "\n",
        "try:\n",
        "  log = open(\"scripts/progress_log.dat\", \"r\")\n",
        "except FileNotFoundError:\n",
        "  log = open(\"scripts/progress_log.dat\", \"w\")\n",
        "\n",
        "try:\n",
        "  last = log.readlines()[-1]\n",
        "except:\n",
        "  last = None\n",
        "\n",
        "if last is not None:\n",
        "  if (last.split()[3] != 'OkExecution') : raise ValueError # if this raises we need to check the log manually\n",
        "  next_target = int(last.split()[1]) + 1\n",
        "else: next_target = 0\n",
        "\n",
        "log.close()"
      ],
      "metadata": {
        "id": "kaOHh1LREf_5"
      },
      "execution_count": 8,
      "outputs": []
    },
    {
      "cell_type": "code",
      "source": [
        "from ast import Pass\n",
        "from datetime import datetime\n",
        "import os\n",
        "\n",
        "log = open(\"scripts/progress_log.dat\", \"a\")\n",
        "\n",
        "for i in range(len(targets[next_target:])):\n",
        "  name = targets[i + next_target]\n",
        "\n",
        "  if os.path.exists(f'targets/{name}'):\n",
        "    !gsutil -m cp -r targets/{name}/* gs://pdbbind/targets/{name}/\n",
        "    status = 'OkExecution'\n",
        "  else:\n",
        "    status = 'PathNotFound'\n",
        "\n",
        "  now = datetime.now()\n",
        "  dt_string = now.strftime(\"[%d/%m/%Y|%H:%M:%S]\")\n",
        "  log.write(f\"{dt_string} {i + next_target} {targets[i]} {status}\\n\")\n",
        "\n",
        "log.close()"
      ],
      "metadata": {
        "colab": {
          "base_uri": "https://localhost:8080/"
        },
        "id": "hYy8mwUjOCim",
        "outputId": "dd6af772-e2f6-42a5-fab6-036249dc4156"
      },
      "execution_count": null,
      "outputs": [
        {
          "output_type": "stream",
          "name": "stdout",
          "text": [
            "Copying file://targets/3a4p/grid_30_0.5_SF0/McGrid.log [Content-Type=application/octet-stream]...\n",
            "/ [0/36 files][    0.0 B/ 60.0 MiB]   0% Done                                   \rCopying file://targets/3a4p/grid_30_0.5_SF0/3a4p.log [Content-Type=application/octet-stream]...\n",
            "/ [0/36 files][    0.0 B/ 60.0 MiB]   0% Done                                   \rCopying file://targets/3a4p/3a4p_ligand.sdf [Content-Type=chemical/x-mdl-sdfile]...\n",
            "/ [0/36 files][    0.0 B/ 60.0 MiB]   0% Done                                   \rCopying file://targets/3a4p/3a4p_ligand.mol2 [Content-Type=chemical/x-mol2]...\n",
            "/ [0/36 files][    0.0 B/ 60.0 MiB]   0% Done                                   \rCopying file://targets/3a4p/grid_30_0.5_SF0/McGrid_dec_1.grid [Content-Type=application/octet-stream]...\n",
            "/ [0/36 files][    0.0 B/ 60.0 MiB]   0% Done                                   \rCopying file://targets/3a4p/3a4p_pocket.pdb [Content-Type=chemical/x-pdb]...\n",
            "/ [0/36 files][    0.0 B/ 60.0 MiB]   0% Done                                   \rCopying file://targets/3a4p/grid_30_0.5_SF0/McGrid_dec_10.grid [Content-Type=application/octet-stream]...\n",
            "/ [0/36 files][    0.0 B/ 60.0 MiB]   0% Done                                   \rCopying file://targets/3a4p/3a4p_protein.pdb [Content-Type=chemical/x-pdb]...\n",
            "Copying file://targets/3a4p/grid_30_0.5_SF0/McGrid_dec_2.grid [Content-Type=application/octet-stream]...\n",
            "Copying file://targets/3a4p/binding.dat [Content-Type=application/octet-stream]...\n",
            "Copying file://targets/3a4p/grid_30_0.5_SF0/McGrid_dec_3.grid [Content-Type=application/octet-stream]...\n",
            "Copying file://targets/3a4p/grid_30_0.5_SF0/McGrid_dec_8.grid [Content-Type=application/octet-stream]...\n",
            "Copying file://targets/3a4p/grid_30_0.5_SF0/McGrid_dec_7.grid [Content-Type=application/octet-stream]...\n",
            "Copying file://targets/3a4p/grid_30_0.5_SF0/McGrid_dec_6.grid [Content-Type=application/octet-stream]...\n",
            "Copying file://targets/3a4p/grid_30_0.5_SF0/McGrid_dec_4.grid [Content-Type=application/octet-stream]...\n",
            "Copying file://targets/3a4p/grid_30_0.5_SF0/McGrid_dec_5.grid [Content-Type=application/octet-stream]...\n",
            "Copying file://targets/3a4p/grid_30_0.5_SF0/slurm-134280.out [Content-Type=application/octet-stream]...\n",
            "Copying file://targets/3a4p/grid_30_0.5_SF0/box.pdb [Content-Type=chemical/x-pdb]...\n",
            "Copying file://targets/3a4p/grid_30_0.5_SF0/slurm-114308.out [Content-Type=application/octet-stream]...\n",
            "Copying file://targets/3a4p/grid_30_0.5_SF0/McGrid_lig.grid [Content-Type=application/octet-stream]...\n",
            "Copying file://targets/3a4p/grid_30_0.5_SF0/grid.sub [Content-Type=application/octet-stream]...\n",
            "Copying file://targets/3a4p/grid_30_0.5_SF0/McGrid_rec.grid [Content-Type=application/octet-stream]...\n",
            "Copying file://targets/3a4p/grid_30_0.5_SF0/McGrid_dec_9.grid [Content-Type=application/octet-stream]...\n",
            "Copying file://targets/3a4p/mol2/3a4p_lig_dec_6.mol2.gz [Content-Type=chemical/x-mol2]...\n",
            "Copying file://targets/3a4p/mol2/3a4p_lig_dec_3.mol2.gz [Content-Type=chemical/x-mol2]...\n",
            "Copying file://targets/3a4p/mol2/3a4p_lig_dec_2.mol2.gz [Content-Type=chemical/x-mol2]...\n",
            "Copying file://targets/3a4p/mol2/3a4p_lig_dec_7.mol2.gz [Content-Type=chemical/x-mol2]...\n",
            "Copying file://targets/3a4p/mol2/3a4p_lig_dec_4.mol2.gz [Content-Type=chemical/x-mol2]...\n",
            "Copying file://targets/3a4p/mol2/3a4p_lig_dec_9.mol2.gz [Content-Type=chemical/x-mol2]...\n",
            "Copying file://targets/3a4p/mol2/3a4p_lig_dec_10.mol2.gz [Content-Type=chemical/x-mol2]...\n",
            "Copying file://targets/3a4p/mol2/3a4p_lig_dec_1.mol2.gz [Content-Type=chemical/x-mol2]...\n",
            "Copying file://targets/3a4p/mol2/3a4p_rec.mol2.gz [Content-Type=chemical/x-mol2]...\n",
            "Copying file://targets/3a4p/mol2/3a4p_lig.mol2.gz [Content-Type=chemical/x-mol2]...\n",
            "Copying file://targets/3a4p/mol2/chimera.out [Content-Type=application/octet-stream]...\n",
            "Copying file://targets/3a4p/mol2/3a4p_lig_dec_8.mol2.gz [Content-Type=chemical/x-mol2]...\n",
            "Copying file://targets/3a4p/mol2/3a4p_lig_dec_5.mol2.gz [Content-Type=chemical/x-mol2]...\n",
            "\\ [36/36 files][ 60.0 MiB/ 60.0 MiB] 100% Done                                  \n",
            "Operation completed over 36 objects/60.0 MiB.                                    \n",
            "Copying file://targets/3a5y/3a5y_ligand.sdf [Content-Type=chemical/x-mdl-sdfile]...\n",
            "Copying file://targets/3a5y/3a5y_pocket.pdb [Content-Type=chemical/x-pdb]...\n",
            "Copying file://targets/3a5y/3a5y_ligand.mol2 [Content-Type=chemical/x-mol2]...\n",
            "Copying file://targets/3a5y/3a5y_protein.pdb [Content-Type=chemical/x-pdb]...\n",
            "Copying file://targets/3a5y/binding.dat [Content-Type=application/octet-stream]...\n",
            "Copying file://targets/3a5y/grid_30_0.5_SF0/3a5y.log [Content-Type=application/octet-stream]...\n",
            "Copying file://targets/3a5y/grid_30_0.5_SF0/McGrid.log [Content-Type=application/octet-stream]...\n",
            "Copying file://targets/3a5y/grid_30_0.5_SF0/McGrid_dec_1.grid [Content-Type=application/octet-stream]...\n",
            "Copying file://targets/3a5y/grid_30_0.5_SF0/McGrid_dec_2.grid [Content-Type=application/octet-stream]...\n",
            "Copying file://targets/3a5y/grid_30_0.5_SF0/McGrid_dec_3.grid [Content-Type=application/octet-stream]...\n",
            "Copying file://targets/3a5y/grid_30_0.5_SF0/McGrid_dec_10.grid [Content-Type=application/octet-stream]...\n",
            "Copying file://targets/3a5y/grid_30_0.5_SF0/McGrid_dec_7.grid [Content-Type=application/octet-stream]...\n",
            "Copying file://targets/3a5y/grid_30_0.5_SF0/McGrid_dec_5.grid [Content-Type=application/octet-stream]...\n",
            "Copying file://targets/3a5y/grid_30_0.5_SF0/McGrid_dec_6.grid [Content-Type=application/octet-stream]...\n",
            "Copying file://targets/3a5y/grid_30_0.5_SF0/McGrid_dec_4.grid [Content-Type=application/octet-stream]...\n",
            "Copying file://targets/3a5y/grid_30_0.5_SF0/grid.sub [Content-Type=application/octet-stream]...\n",
            "Copying file://targets/3a5y/grid_30_0.5_SF0/McGrid_dec_8.grid [Content-Type=application/octet-stream]...\n",
            "Copying file://targets/3a5y/grid_30_0.5_SF0/slurm-134281.out [Content-Type=application/octet-stream]...\n",
            "Copying file://targets/3a5y/grid_30_0.5_SF0/McGrid_dec_9.grid [Content-Type=application/octet-stream]...\n",
            "Copying file://targets/3a5y/grid_30_0.5_SF0/McGrid_lig.grid [Content-Type=application/octet-stream]...\n",
            "Copying file://targets/3a5y/grid_30_0.5_SF0/box.pdb [Content-Type=chemical/x-pdb]...\n",
            "Copying file://targets/3a5y/grid_30_0.5_SF0/slurm-114309.out [Content-Type=application/octet-stream]...\n",
            "Copying file://targets/3a5y/grid_30_0.5_SF0/McGrid_rec.grid [Content-Type=application/octet-stream]...\n",
            "Copying file://targets/3a5y/mol2/3a5y_lig_dec_1.mol2.gz [Content-Type=chemical/x-mol2]...\n",
            "Copying file://targets/3a5y/mol2/3a5y_lig.mol2.gz [Content-Type=chemical/x-mol2]...\n",
            "Copying file://targets/3a5y/mol2/chimera.out [Content-Type=application/octet-stream]...\n",
            "Copying file://targets/3a5y/mol2/3a5y_lig_dec_10.mol2.gz [Content-Type=chemical/x-mol2]...\n",
            "Copying file://targets/3a5y/mol2/3a5y_lig_dec_9.mol2.gz [Content-Type=chemical/x-mol2]...\n",
            "Copying file://targets/3a5y/mol2/3a5y_rec.mol2.gz [Content-Type=chemical/x-mol2]...\n",
            "Copying file://targets/3a5y/mol2/3a5y_lig_dec_5.mol2.gz [Content-Type=chemical/x-mol2]...\n",
            "Copying file://targets/3a5y/mol2/3a5y_lig_dec_2.mol2.gz [Content-Type=chemical/x-mol2]...\n",
            "Copying file://targets/3a5y/mol2/3a5y_lig_dec_7.mol2.gz [Content-Type=chemical/x-mol2]...\n",
            "Copying file://targets/3a5y/mol2/3a5y_lig_dec_8.mol2.gz [Content-Type=chemical/x-mol2]...\n",
            "Copying file://targets/3a5y/mol2/3a5y_lig_dec_4.mol2.gz [Content-Type=chemical/x-mol2]...\n",
            "Copying file://targets/3a5y/mol2/3a5y_lig_dec_3.mol2.gz [Content-Type=chemical/x-mol2]...\n",
            "Copying file://targets/3a5y/mol2/3a5y_lig_dec_6.mol2.gz [Content-Type=chemical/x-mol2]...\n",
            "\\ [36/36 files][ 60.6 MiB/ 60.6 MiB] 100% Done                                  \n",
            "Operation completed over 36 objects/60.6 MiB.                                    \n",
            "Copying file://targets/3a6t/3a6t_pocket.pdb [Content-Type=chemical/x-pdb]...\n",
            "Copying file://targets/3a6t/3a6t_ligand.sdf [Content-Type=chemical/x-mdl-sdfile]...\n",
            "Copying file://targets/3a6t/3a6t_ligand.mol2 [Content-Type=chemical/x-mol2]...\n",
            "Copying file://targets/3a6t/3a6t_protein.pdb [Content-Type=chemical/x-pdb]...\n",
            "Copying file://targets/3a6t/binding.dat [Content-Type=application/octet-stream]...\n",
            "Copying file://targets/3a6t/grid_30_0.5_SF0/McGrid_dec_10.grid [Content-Type=application/octet-stream]...\n",
            "Copying file://targets/3a6t/grid_30_0.5_SF0/McGrid_dec_2.grid [Content-Type=application/octet-stream]...\n",
            "Copying file://targets/3a6t/grid_30_0.5_SF0/McGrid.log [Content-Type=application/octet-stream]...\n",
            "Copying file://targets/3a6t/grid_30_0.5_SF0/3a6t.log [Content-Type=application/octet-stream]...\n",
            "Copying file://targets/3a6t/grid_30_0.5_SF0/McGrid_dec_1.grid [Content-Type=application/octet-stream]...\n",
            "Copying file://targets/3a6t/grid_30_0.5_SF0/McGrid_dec_3.grid [Content-Type=application/octet-stream]...\n",
            "Copying file://targets/3a6t/grid_30_0.5_SF0/McGrid_dec_9.grid [Content-Type=application/octet-stream]...\n",
            "Copying file://targets/3a6t/grid_30_0.5_SF0/McGrid_dec_4.grid [Content-Type=application/octet-stream]...\n",
            "Copying file://targets/3a6t/grid_30_0.5_SF0/McGrid_dec_6.grid [Content-Type=application/octet-stream]...\n",
            "Copying file://targets/3a6t/grid_30_0.5_SF0/McGrid_dec_8.grid [Content-Type=application/octet-stream]...\n",
            "Copying file://targets/3a6t/grid_30_0.5_SF0/McGrid_dec_5.grid [Content-Type=application/octet-stream]...\n",
            "Copying file://targets/3a6t/grid_30_0.5_SF0/McGrid_dec_7.grid [Content-Type=application/octet-stream]...\n",
            "Copying file://targets/3a6t/grid_30_0.5_SF0/McGrid_rec.grid [Content-Type=application/octet-stream]...\n",
            "Copying file://targets/3a6t/grid_30_0.5_SF0/box.pdb [Content-Type=chemical/x-pdb]...\n",
            "Copying file://targets/3a6t/grid_30_0.5_SF0/grid.sub [Content-Type=application/octet-stream]...\n",
            "Copying file://targets/3a6t/grid_30_0.5_SF0/McGrid_lig.grid [Content-Type=application/octet-stream]...\n",
            "Copying file://targets/3a6t/grid_30_0.5_SF0/slurm-134282.out [Content-Type=application/octet-stream]...\n",
            "Copying file://targets/3a6t/grid_30_0.5_SF0/slurm-114310.out [Content-Type=application/octet-stream]...\n",
            "Copying file://targets/3a6t/mol2/3a6t_lig_dec_2.mol2.gz [Content-Type=chemical/x-mol2]...\n",
            "Copying file://targets/3a6t/mol2/3a6t_lig.mol2.gz [Content-Type=chemical/x-mol2]...\n",
            "Copying file://targets/3a6t/mol2/3a6t_lig_dec_3.mol2.gz [Content-Type=chemical/x-mol2]...\n",
            "Copying file://targets/3a6t/mol2/3a6t_lig_dec_1.mol2.gz [Content-Type=chemical/x-mol2]...\n",
            "Copying file://targets/3a6t/mol2/3a6t_lig_dec_8.mol2.gz [Content-Type=chemical/x-mol2]...\n",
            "Copying file://targets/3a6t/mol2/3a6t_lig_dec_10.mol2.gz [Content-Type=chemical/x-mol2]...\n",
            "Copying file://targets/3a6t/mol2/3a6t_rec.mol2.gz [Content-Type=chemical/x-mol2]...\n",
            "Copying file://targets/3a6t/mol2/3a6t_lig_dec_4.mol2.gz [Content-Type=chemical/x-mol2]...\n",
            "Copying file://targets/3a6t/mol2/3a6t_lig_dec_9.mol2.gz [Content-Type=chemical/x-mol2]...\n",
            "Copying file://targets/3a6t/mol2/3a6t_lig_dec_6.mol2.gz [Content-Type=chemical/x-mol2]...\n",
            "Copying file://targets/3a6t/mol2/chimera.out [Content-Type=application/octet-stream]...\n",
            "Copying file://targets/3a6t/mol2/3a6t_lig_dec_5.mol2.gz [Content-Type=chemical/x-mol2]...\n",
            "Copying file://targets/3a6t/mol2/3a6t_lig_dec_7.mol2.gz [Content-Type=chemical/x-mol2]...\n",
            "/ [36/36 files][ 59.7 MiB/ 59.7 MiB] 100% Done                                  \n",
            "Operation completed over 36 objects/59.7 MiB.                                    \n",
            "Copying file://targets/3a73/3a73_ligand.sdf [Content-Type=chemical/x-mdl-sdfile]...\n",
            "Copying file://targets/3a73/grid_30_0.5_SF0/3a73.log [Content-Type=application/octet-stream]...\n",
            "Copying file://targets/3a73/grid_30_0.5_SF0/McGrid.log [Content-Type=application/octet-stream]...\n",
            "Copying file://targets/3a73/3a73_ligand.mol2 [Content-Type=chemical/x-mol2]...\n",
            "Copying file://targets/3a73/3a73_pocket.pdb [Content-Type=chemical/x-pdb]...\n",
            "Copying file://targets/3a73/3a73_protein.pdb [Content-Type=chemical/x-pdb]...\n",
            "Copying file://targets/3a73/binding.dat [Content-Type=application/octet-stream]...\n",
            "Copying file://targets/3a73/grid_30_0.5_SF0/McGrid_dec_2.grid [Content-Type=application/octet-stream]...\n",
            "Copying file://targets/3a73/grid_30_0.5_SF0/McGrid_dec_1.grid [Content-Type=application/octet-stream]...\n",
            "Copying file://targets/3a73/grid_30_0.5_SF0/McGrid_dec_10.grid [Content-Type=application/octet-stream]...\n",
            "Copying file://targets/3a73/grid_30_0.5_SF0/McGrid_dec_4.grid [Content-Type=application/octet-stream]...\n",
            "Copying file://targets/3a73/grid_30_0.5_SF0/McGrid_dec_5.grid [Content-Type=application/octet-stream]...\n",
            "Copying file://targets/3a73/grid_30_0.5_SF0/McGrid_dec_3.grid [Content-Type=application/octet-stream]...\n",
            "Copying file://targets/3a73/grid_30_0.5_SF0/slurm-114311.out [Content-Type=application/octet-stream]...\n",
            "Copying file://targets/3a73/grid_30_0.5_SF0/McGrid_dec_6.grid [Content-Type=application/octet-stream]...\n",
            "Copying file://targets/3a73/grid_30_0.5_SF0/box.pdb [Content-Type=chemical/x-pdb]...\n",
            "Copying file://targets/3a73/grid_30_0.5_SF0/grid.sub [Content-Type=application/octet-stream]...\n",
            "Copying file://targets/3a73/grid_30_0.5_SF0/McGrid_dec_7.grid [Content-Type=application/octet-stream]...\n",
            "Copying file://targets/3a73/grid_30_0.5_SF0/McGrid_dec_9.grid [Content-Type=application/octet-stream]...\n",
            "Copying file://targets/3a73/grid_30_0.5_SF0/McGrid_rec.grid [Content-Type=application/octet-stream]...\n",
            "Copying file://targets/3a73/grid_30_0.5_SF0/McGrid_dec_8.grid [Content-Type=application/octet-stream]...\n",
            "Copying file://targets/3a73/grid_30_0.5_SF0/McGrid_lig.grid [Content-Type=application/octet-stream]...\n",
            "Copying file://targets/3a73/grid_30_0.5_SF0/slurm-134283.out [Content-Type=application/octet-stream]...\n",
            "Copying file://targets/3a73/mol2/3a73_lig_dec_2.mol2.gz [Content-Type=chemical/x-mol2]...\n",
            "Copying file://targets/3a73/mol2/3a73_rec.mol2.gz [Content-Type=chemical/x-mol2]...\n",
            "Copying file://targets/3a73/mol2/3a73_lig_dec_6.mol2.gz [Content-Type=chemical/x-mol2]...\n",
            "Copying file://targets/3a73/mol2/3a73_lig_dec_1.mol2.gz [Content-Type=chemical/x-mol2]...\n",
            "Copying file://targets/3a73/mol2/3a73_lig_dec_7.mol2.gz [Content-Type=chemical/x-mol2]...\n",
            "Copying file://targets/3a73/mol2/3a73_lig.mol2.gz [Content-Type=chemical/x-mol2]...\n",
            "Copying file://targets/3a73/mol2/3a73_lig_dec_3.mol2.gz [Content-Type=chemical/x-mol2]...\n",
            "Copying file://targets/3a73/mol2/3a73_lig_dec_4.mol2.gz [Content-Type=chemical/x-mol2]...\n",
            "Copying file://targets/3a73/mol2/3a73_lig_dec_8.mol2.gz [Content-Type=chemical/x-mol2]...\n",
            "Copying file://targets/3a73/mol2/chimera.out [Content-Type=application/octet-stream]...\n",
            "Copying file://targets/3a73/mol2/3a73_lig_dec_5.mol2.gz [Content-Type=chemical/x-mol2]...\n",
            "Copying file://targets/3a73/mol2/3a73_lig_dec_9.mol2.gz [Content-Type=chemical/x-mol2]...\n",
            "Copying file://targets/3a73/mol2/3a73_lig_dec_10.mol2.gz [Content-Type=chemical/x-mol2]...\n",
            "\\ [36/36 files][ 60.4 MiB/ 60.4 MiB] 100% Done                                  \n",
            "Operation completed over 36 objects/60.4 MiB.                                    \n",
            "Copying file://targets/3a9i/grid_30_0.5_SF0/3a9i.log [Content-Type=application/octet-stream]...\n",
            "Copying file://targets/3a9i/3a9i_ligand.mol2 [Content-Type=chemical/x-mol2]...\n",
            "Copying file://targets/3a9i/3a9i_ligand.sdf [Content-Type=chemical/x-mdl-sdfile]...\n",
            "Copying file://targets/3a9i/3a9i_pocket.pdb [Content-Type=chemical/x-pdb]...\n",
            "Copying file://targets/3a9i/3a9i_protein.pdb [Content-Type=chemical/x-pdb]...\n",
            "Copying file://targets/3a9i/grid_30_0.5_SF0/McGrid_dec_1.grid [Content-Type=application/octet-stream]...\n",
            "Copying file://targets/3a9i/grid_30_0.5_SF0/McGrid.log [Content-Type=application/octet-stream]...\n",
            "Copying file://targets/3a9i/binding.dat [Content-Type=application/octet-stream]...\n",
            "Copying file://targets/3a9i/grid_30_0.5_SF0/McGrid_dec_3.grid [Content-Type=application/octet-stream]...\n",
            "Copying file://targets/3a9i/grid_30_0.5_SF0/McGrid_dec_4.grid [Content-Type=application/octet-stream]...\n",
            "Copying file://targets/3a9i/grid_30_0.5_SF0/McGrid_dec_5.grid [Content-Type=application/octet-stream]...\n",
            "Copying file://targets/3a9i/grid_30_0.5_SF0/McGrid_dec_6.grid [Content-Type=application/octet-stream]...\n",
            "Copying file://targets/3a9i/grid_30_0.5_SF0/McGrid_dec_2.grid [Content-Type=application/octet-stream]...\n",
            "Copying file://targets/3a9i/grid_30_0.5_SF0/McGrid_dec_10.grid [Content-Type=application/octet-stream]...\n",
            "Copying file://targets/3a9i/grid_30_0.5_SF0/McGrid_rec.grid [Content-Type=application/octet-stream]...\n",
            "Copying file://targets/3a9i/grid_30_0.5_SF0/McGrid_dec_7.grid [Content-Type=application/octet-stream]...\n",
            "Copying file://targets/3a9i/grid_30_0.5_SF0/slurm-134284.out [Content-Type=application/octet-stream]...\n",
            "Copying file://targets/3a9i/grid_30_0.5_SF0/grid.sub [Content-Type=application/octet-stream]...\n",
            "Copying file://targets/3a9i/grid_30_0.5_SF0/McGrid_lig.grid [Content-Type=application/octet-stream]...\n",
            "Copying file://targets/3a9i/grid_30_0.5_SF0/McGrid_dec_9.grid [Content-Type=application/octet-stream]...\n",
            "Copying file://targets/3a9i/grid_30_0.5_SF0/McGrid_dec_8.grid [Content-Type=application/octet-stream]...\n",
            "Copying file://targets/3a9i/grid_30_0.5_SF0/slurm-114312.out [Content-Type=application/octet-stream]...\n",
            "Copying file://targets/3a9i/grid_30_0.5_SF0/box.pdb [Content-Type=chemical/x-pdb]...\n",
            "Copying file://targets/3a9i/mol2/3a9i_lig_dec_5.mol2.gz [Content-Type=chemical/x-mol2]...\n",
            "Copying file://targets/3a9i/mol2/3a9i_lig_dec_4.mol2.gz [Content-Type=chemical/x-mol2]...\n",
            "Copying file://targets/3a9i/mol2/3a9i_rec.mol2.gz [Content-Type=chemical/x-mol2]...\n",
            "Copying file://targets/3a9i/mol2/3a9i_lig_dec_2.mol2.gz [Content-Type=chemical/x-mol2]...\n",
            "Copying file://targets/3a9i/mol2/3a9i_lig_dec_1.mol2.gz [Content-Type=chemical/x-mol2]...\n",
            "Copying file://targets/3a9i/mol2/3a9i_lig_dec_9.mol2.gz [Content-Type=chemical/x-mol2]...\n",
            "Copying file://targets/3a9i/mol2/3a9i_lig_dec_10.mol2.gz [Content-Type=chemical/x-mol2]...\n",
            "Copying file://targets/3a9i/mol2/3a9i_lig_dec_6.mol2.gz [Content-Type=chemical/x-mol2]...\n",
            "Copying file://targets/3a9i/mol2/3a9i_lig_dec_8.mol2.gz [Content-Type=chemical/x-mol2]...\n",
            "Copying file://targets/3a9i/mol2/3a9i_lig.mol2.gz [Content-Type=chemical/x-mol2]...\n",
            "Copying file://targets/3a9i/mol2/chimera.out [Content-Type=application/octet-stream]...\n",
            "Copying file://targets/3a9i/mol2/3a9i_lig_dec_7.mol2.gz [Content-Type=chemical/x-mol2]...\n",
            "Copying file://targets/3a9i/mol2/3a9i_lig_dec_3.mol2.gz [Content-Type=chemical/x-mol2]...\n",
            "- [36/36 files][ 60.8 MiB/ 60.8 MiB] 100% Done                                  \n",
            "Operation completed over 36 objects/60.8 MiB.                                    \n"
          ]
        }
      ]
    }
  ]
}