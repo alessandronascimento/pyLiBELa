{
  "nbformat": 4,
  "nbformat_minor": 0,
  "metadata": {
    "colab": {
      "provenance": [],
      "include_colab_link": true
    },
    "kernelspec": {
      "name": "python3",
      "display_name": "Python 3"
    },
    "language_info": {
      "name": "python"
    }
  },
  "cells": [
    {
      "cell_type": "markdown",
      "metadata": {
        "id": "view-in-github",
        "colab_type": "text"
      },
      "source": [
        "<a href=\"https://colab.research.google.com/github/alessandronascimento/pyLiBELa/blob/main/Colabs/Working_Example.ipynb\" target=\"_parent\"><img src=\"https://colab.research.google.com/assets/colab-badge.svg\" alt=\"Open In Colab\"/></a>"
      ]
    },
    {
      "cell_type": "code",
      "execution_count": 1,
      "metadata": {
        "id": "vM3SMyF51nMg"
      },
      "outputs": [],
      "source": [
        "%%capture\n",
        "! apt-get install libboost-python1.71-dev openbabel libopenbabel-dev python-dev zlib1g-dev libeigen3-dev libgsl-dev\n",
        "!rm -f Makefile*\n",
        "!wget https://raw.githubusercontent.com/alessandronascimento/pyLiBELa/main/Colabs/Makefile\n",
        "!make uninstall\n",
        "!make install\n",
        "!more pyMol2.cpp | grep VectorInt\n",
        "!make clean\n",
        "!make -j4\n",
        "!mv /content/obj/* /content/src/*gz /content"
      ]
    },
    {
      "cell_type": "code",
      "source": [
        "from pyPARSER import *\n",
        "from pyMol2 import *\n",
        "from pyWRITER import *\n",
        "from pyGrid import *\n",
        "from pyCOORD_MC import *\n",
        "from pyFindHB import * \n",
        "from pyEnergy2 import *"
      ],
      "metadata": {
        "id": "oJNsUKhz17Bj"
      },
      "execution_count": 2,
      "outputs": []
    },
    {
      "cell_type": "code",
      "source": [
        "Input = PARSER()\n",
        "Writer = WRITER(Input)\n",
        "Coord = COORD_MC()\n",
        "HB = FindHB()\n",
        "lig = Mol2(Input, \"test/lig.mol2.gz\")\n",
        "rec = Mol2(Input, \"test/rec.mol2.gz\")\n",
        "\n",
        "for i in range(len(list(rec.residue_pointer))-1):\n",
        "  HB.parse_residue(rec.residue_pointer[i]-1, rec.residue_pointer[i+1]-2, rec.resnames[i], rec, lig, 9.0)\n",
        "\n",
        "HB.find_ligandHB(\"test/lig.mol2.gz\", lig)\n",
        "\n",
        "com = Coord.compute_com(lig)\n",
        "\n",
        "Input.write_grids = True;\n",
        "Grids = Grid(Input, Writer, rec, com)"
      ],
      "metadata": {
        "id": "DCCul8uB2Y85"
      },
      "execution_count": 3,
      "outputs": []
    }
  ]
}