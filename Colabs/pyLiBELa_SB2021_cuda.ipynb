{
  "nbformat": 4,
  "nbformat_minor": 0,
  "metadata": {
    "colab": {
      "provenance": [],
      "gpuType": "T4",
      "authorship_tag": "ABX9TyPppAD8PZ1F/guhD8IK4RNi",
      "include_colab_link": true
    },
    "kernelspec": {
      "name": "python3",
      "display_name": "Python 3"
    },
    "language_info": {
      "name": "python"
    },
    "accelerator": "GPU"
  },
  "cells": [
    {
      "cell_type": "markdown",
      "metadata": {
        "id": "view-in-github",
        "colab_type": "text"
      },
      "source": [
        "<a href=\"https://colab.research.google.com/github/alessandronascimento/pyLiBELa/blob/main/Colabs/pyLiBELa_SB2021_cuda.ipynb\" target=\"_parent\"><img src=\"https://colab.research.google.com/assets/colab-badge.svg\" alt=\"Open In Colab\"/></a>"
      ]
    },
    {
      "cell_type": "markdown",
      "source": [
        "# First things first\n",
        "### From now on, we will be only using CUDA, a GPU computing API.\n",
        "### In order to do that, we need to use the GPU runtime from Google Colab that can be selected following the steps in the menu:\n",
        "### `Runtime > Change Runtime Type > T4 GPU`"
      ],
      "metadata": {
        "id": "cr6BrZIv54Fl"
      }
    },
    {
      "cell_type": "code",
      "source": [
        "#@title Downloading dependencies {display-mode: \"form\"}\n",
        "\n",
        "%%capture\n",
        "! apt-get install python-dev-is-python3 zlib1g-dev libeigen3-dev libgsl-dev libnlopt-cxx-dev\n",
        "!pip install ipython-autotime\n",
        "%load_ext autotime\n",
        "!pip3 install condacolab\n",
        "import condacolab\n",
        "condacolab.install()\n",
        "!mamba install openbabel\n"
      ],
      "metadata": {
        "id": "0NP7rjKJLKWC",
        "colab": {
          "base_uri": "https://localhost:8080/"
        },
        "outputId": "c98c7108-7d37-490d-eb83-12c2c93a0f2a"
      },
      "execution_count": 1,
      "outputs": [
        {
          "output_type": "stream",
          "name": "stdout",
          "text": [
            "time: 45.6 s (started: 2023-09-26 23:02:09 +00:00)\n"
          ]
        }
      ]
    },
    {
      "cell_type": "code",
      "source": [
        "#@title Installing pyLiBELa {display-mode: \"form\"}\n",
        "\n",
        "%%capture\n",
        "! git clone --branch alex-works https://github.com/alessandronascimento/pyLiBELa.git\n",
        "! mv pyLiBELa/src src\n",
        "! rm -rf pyLiBELa\n",
        "! mkdir -p obj\n",
        "! rm -f Makefile*\n",
        "! wget https://raw.githubusercontent.com/alessandronascimento/pyLiBELa/alex-works/Colabs/Makefile\n",
        "! sed -i 's+-I/usr/include/openbabel3+-I/usr/local/include/openbabel3+g' Makefile\n",
        "! make -j2"
      ],
      "metadata": {
        "id": "ofZ9ZY0uvuDM"
      },
      "execution_count": 1,
      "outputs": []
    },
    {
      "cell_type": "code",
      "execution_count": 3,
      "metadata": {
        "id": "mmqpdtV1CU49",
        "colab": {
          "base_uri": "https://localhost:8080/"
        },
        "outputId": "404758ff-0cdf-4817-b442-5027c4ae9850"
      },
      "outputs": [
        {
          "output_type": "stream",
          "name": "stdout",
          "text": [
            "pyLiBELa is imported!\n",
            "time: 55.7 ms (started: 2023-09-26 23:21:51 +00:00)\n"
          ]
        }
      ],
      "source": [
        "#@title Importing pyLiBELa {display-mode: \"form\"}\n",
        "import random\n",
        "\n",
        "try:\n",
        "  from pyPARSER import *\n",
        "  from pyMol2 import *\n",
        "  from pyWRITER import *\n",
        "  from pyGrid import *\n",
        "  from pyCOORD_MC import *\n",
        "  from pyFindHB import *\n",
        "  from pyEnergy2 import *\n",
        "  from pyGaussian import *\n",
        "  from pyConformer import *\n",
        "  from pyRAND import *\n",
        "  from pyMcEntropy import *\n",
        "  from pySA import *\n",
        "  from pyOptimizer import *\n",
        "  from pyMC import *\n",
        "  from pyFullSearch import *\n",
        "  from pyDocker import *\n",
        "  print('pyLiBELa is imported!')\n",
        "except ImportError:\n",
        "  print('An ImportError occurred, try running this cell again!')"
      ]
    },
    {
      "cell_type": "code",
      "source": [
        "#@title Getting SB2021 data {display-mode: \"form\"}\n",
        "\n",
        "%%capture\n",
        "from google.colab import drive\n",
        "drive.mount('/content/drive/')\n",
        "sb_folder = '/content/drive/MyDrive/pyLiBELa/SB/' #@param {type:\"string\"}\n",
        "\n",
        "%cd $sb_folder\n",
        "targets=[]\n",
        "targets_file = open('list', 'r');\n",
        "for line in targets_file:\n",
        "  targets.append(line.strip())\n",
        "targets_file.close()\n"
      ],
      "metadata": {
        "id": "tK7k52p63YgW",
        "outputId": "3ac712cd-2372-4ff1-a7b9-a988deb25f23",
        "colab": {
          "base_uri": "https://localhost:8080/"
        }
      },
      "execution_count": 4,
      "outputs": [
        {
          "output_type": "stream",
          "name": "stdout",
          "text": [
            "time: 2.27 s (started: 2023-09-26 23:21:54 +00:00)\n"
          ]
        }
      ]
    },
    {
      "cell_type": "code",
      "source": [
        "#@title Docking parameters {display-mode: \"form\"}\n",
        "\n",
        "import os\n",
        "import timeit\n",
        "import numpy as np\n",
        "\n",
        "Input = PARSER()\n",
        "\n",
        "# Some default options:\n",
        "# 1. We are using two processors for Grid calculations;\n",
        "#\n",
        "\n",
        "Input.generate_conformers = True;\n",
        "Input.dock_parallel = True;\n",
        "Input.parallel_jobs = 2;\n",
        "Input.write_grids = True\n",
        "Input.use_grids = True\n",
        "Input.write_mol2 = True\n",
        "Input.atom_limit = 150 #@param {type:\"number\"}\n",
        "    #atom limit not counting H\n",
        "\n",
        "# Energy Calculation Parameters:\n",
        "scoring_function = \"0\" #@param [\"0\", \"1\", \"2\", \"3\"]\n",
        "Input.dielectric_model = \"r\" #@param [\"r\", \"constant\"]\n",
        "Input.scoring_function = int(scoring_function)\n",
        "grid_dimension = 30.0 #@param {type:\"number\"}\n",
        "Input.grid_spacing = 0.5 #@param {type:\"number\"}\n",
        "Input.solvation_alpha = 0.1 #@param {type:\"number\"}\n",
        "Input.solvation_beta = -0.005 #@param {type:\"number\"}\n",
        "\n",
        "# Optimization parameter:\n",
        "Input.min_tol = 1E-4;\n",
        "Input.min_delta = 1E-5;\n",
        "Input.dock_min_tol = 1E-4;\n",
        "search_box = 30.0 #@param {type:\"number\"}\n",
        "Input.timeout = 30 #@param {type:\"number\"}\n",
        "Input.min_timeout = 30 #@param {type:\"number\"}\n",
        "Input.overlay_optimizer = \"mma\" #@param [\"mma\", \"ln_auglag\", \"subplex\", \"none\"]\n",
        "Input.energy_optimizer = \"mma\" #@param [\"direct\", \"isres\", \"crs\", \"esch\", \"stogo\", \"mma\", \"simplex\", \"none\"]\n",
        "if (Input.scoring_function < 3):\n",
        "  delta = 2.5 #@param {type:\"number\"}\n",
        "  Input.deltaij6 = (delta*delta*delta*delta*delta*delta)\n",
        "  delta_es = 2.5 #@param {type:\"number\"}\n",
        "  Input.deltaij_es6 = pow(delta_es, 6);\n",
        "  Input.deltaij_es3 = (delta_es*delta_es*delta_es)\n",
        "\n",
        "Input.search_box_x, Input.search_box_y, Input.search_box_z = search_box, search_box, search_box;\n",
        "Input.x_dim, Input.y_dim, Input.z_dim = grid_dimension, grid_dimension, grid_dimension;\n",
        "Input.grid_prefix = \"McGrid\""
      ],
      "metadata": {
        "id": "bBiFwd-WIDdw",
        "outputId": "a41da1ad-2a1d-46a6-d532-d28cd984f6f4",
        "colab": {
          "base_uri": "https://localhost:8080/"
        }
      },
      "execution_count": 5,
      "outputs": [
        {
          "output_type": "stream",
          "name": "stdout",
          "text": [
            "time: 1.35 ms (started: 2023-09-26 23:22:03 +00:00)\n"
          ]
        }
      ]
    },
    {
      "cell_type": "code",
      "source": [
        "#@title Docking {display-mode: \"form\"}\n",
        "\n",
        "%load_ext autotime\n",
        "import os\n",
        "\n",
        "\n",
        "print('#%10s %10s' % ('TARGET', 'RMSD(Ang)'))\n",
        "\n",
        "targets_random=random.sample(targets, len(targets));\n",
        "\n",
        "\n",
        "target_cut = targets[:390]\n",
        "\n",
        "for target in target_cut:\n",
        "\n",
        "  folder = sb_folder+target\n",
        "\n",
        "#  print()\n",
        "#  print()\n",
        "  %cd $folder\n",
        "  subfolder = \"self_docking_\"+Input.energy_optimizer\n",
        "  ! mkdir -p $subfolder\n",
        "  %cd $subfolder\n",
        "\n",
        "#  !rm -rf *\n",
        "  if \"McLiBELa_dock.mol2.gz\" not in os.listdir():\n",
        "\n",
        "    print()\n",
        "    print()\n",
        "\n",
        "    ! cp ../*lig.am1bcc.mol2.gz lig.mol2.gz\n",
        "    ! cp ../*.rec.clean.mol2.gz rec.mol2.gz\n",
        "\n",
        "\n",
        "    if \"lig2.smi\" not in os.listdir():\n",
        "\n",
        "      print('Generating SMILES.')\n",
        "      ! obabel -imol2 lig.mol2.gz -osmi -O lig2.smi &> /dev/null #self docking\n",
        "\n",
        "    else:\n",
        "\n",
        "      print('Already SMILEd!')\n",
        "\n",
        "\n",
        "\n",
        "    insmiles = open('lig2.smi', 'r');\n",
        "    line=insmiles.readline().strip()\n",
        "    line2 = line.split()\n",
        "    ligand_smiles = line2[0]\n",
        "    insmiles.close();\n",
        "\n",
        "    Lig2 = Mol2()\n",
        "    ligcheck = Lig2.parse_smiles(Input, ligand_smiles, 'LIG')\n",
        "  #  if (not ligcheck):\n",
        "  #    print(\"#Ops! A problem was identified in ligand %s\" % target);\n",
        "\n",
        "    lig_src =  'lig.mol2.gz'\n",
        "    rec_src = 'rec.mol2.gz'\n",
        "\n",
        "    REC = Mol2(Input, rec_src)\n",
        "    RefLig = Mol2(Input, lig_src)\n",
        "\n",
        "  #  print(\"Receptor has %4d atoms.\" % REC.N)\n",
        "  #  print('Reference Ligand has %4d atoms' % RefLig.N)\n",
        "  #  print('Search ligand has %4d atoms' % Lig2.N)\n",
        "\n",
        "    if (ligcheck):\n",
        "      Writer = WRITER(Input)\n",
        "      Coord = COORD_MC()\n",
        "      HB = FindHB()\n",
        "      Ene  = Energy2(Input)\n",
        "\n",
        "      for i in range(len(REC.residue_pointer)-1):\n",
        "        HB.parse_residue(REC.residue_pointer[i]-1, REC.residue_pointer[i+1]-2, REC.resnames[i], REC, RefLig, 9.0);\n",
        "      HB.find_ligandHB(lig_src, RefLig);\n",
        "\n",
        "      #print('The receptor has %5d / %5d HB donors/acceptors around the active site.' % (len(REC.HBdonors), len(REC.HBacceptors)));\n",
        "\n",
        "      Dock = Docker(Writer)\n",
        "      center = Coord.compute_com(RefLig)\n",
        "\n",
        "  #    print()\n",
        "\n",
        "      start_energy = Ene.compute_ene(REC, RefLig, RefLig.xyz);\n",
        "\n",
        "      #print('Starting energy: %7.3f kcal/mol' % start_energy);\n",
        "      #print('Generating grids. This may take a while..')\n",
        "\n",
        "      #print(Input.overlay_optimizer)\n",
        "      #print(Input.energy_optimizer)\n",
        "\n",
        "\n",
        "      start_time = timeit.default_timer()\n",
        "      Grids = Grid(Input, Writer, REC, center)\n",
        "      time_grid = timeit.default_timer() - start_time\n",
        "\n",
        "      time_per_atom = time_grid/REC.N\n",
        "      #print('Grids computed, and it took %.2f s! That means %.4f s per atom.' %(time_grid,time_per_atom))\n",
        "\n",
        "      grid_energy = Ene.compute_ene(Grids, RefLig, RefLig.xyz);\n",
        "\n",
        "      #print('Grid original energy: %7.3f kcal/mol' % grid_energy);\n",
        "      #print('Grid error: %7.3f %%' % abs(100.*(start_energy-grid_energy)/start_energy));\n",
        "\n",
        "      #print('Starting docking calculation...')\n",
        "\n",
        "      start_time = timeit.default_timer()\n",
        "      Dock.run(REC, Lig2, RefLig, center, Input, Grids, 0)\n",
        "      time_dock = timeit.default_timer() - start_time\n",
        "\n",
        "      !rm -rf log.txt\n",
        "\n",
        "      log = open(\"log.txt\", 'w')\n",
        "\n",
        "      header = \"target\\tREC.N\\tRefLig.N\\tLig2.N\\tstart_energy\\ttime_grid\\tgrid_energy\\ttime_dock\\n\"\n",
        "      log.write(header)\n",
        "\n",
        "      data = \"%s\\t%d\\t%d\\t%d\\t%.3f\\t%.3f\\t%.3f\\t%.3f\\n\" %(target,REC.N, RefLig.N, Lig2.N, start_energy, time_grid, grid_energy, time_dock)\n",
        "      log.write(data)\n",
        "\n",
        "      !echo $data > log.txt\n",
        "  else:\n",
        "    print('Target already docked!')\n",
        "\n"
      ],
      "metadata": {
        "id": "KlcqBR-l9gqd",
        "colab": {
          "base_uri": "https://localhost:8080/"
        },
        "outputId": "71d46ac7-7f27-49e8-9250-fe10aa0a4bb7"
      },
      "execution_count": null,
      "outputs": [
        {
          "output_type": "stream",
          "name": "stdout",
          "text": [
            "The autotime extension is already loaded. To reload it, use:\n",
            "  %reload_ext autotime\n",
            "#    TARGET  RMSD(Ang)\n",
            "/content/drive/MyDrive/pyLiBELa/SB/121P\n",
            "/content/drive/MyDrive/pyLiBELa/SB/121P/self_docking_mma\n",
            "Target already docked!\n",
            "/content/drive/MyDrive/pyLiBELa/SB/181L\n",
            "/content/drive/MyDrive/pyLiBELa/SB/181L/self_docking_mma\n",
            "Target already docked!\n",
            "/content/drive/MyDrive/pyLiBELa/SB/182L\n",
            "/content/drive/MyDrive/pyLiBELa/SB/182L/self_docking_mma\n",
            "\n",
            "\n",
            "Generating SMILES.\n",
            "182L 2603 15 15 -17.806 3.359 -17.668 0.049\n",
            "/content/drive/MyDrive/pyLiBELa/SB/183L\n",
            "/content/drive/MyDrive/pyLiBELa/SB/183L/self_docking_mma\n",
            "\n",
            "\n",
            "Generating SMILES.\n",
            "183L 2603 17 17 -18.047 3.377 -17.812 0.039\n",
            "/content/drive/MyDrive/pyLiBELa/SB/184L\n",
            "/content/drive/MyDrive/pyLiBELa/SB/184L/self_docking_mma\n",
            "\n",
            "\n",
            "Generating SMILES.\n",
            "184L 2603 24 24 -20.221 3.360 -20.085 0.617\n",
            "/content/drive/MyDrive/pyLiBELa/SB/185L\n",
            "/content/drive/MyDrive/pyLiBELa/SB/185L/self_docking_mma\n",
            "\n",
            "\n",
            "Generating SMILES.\n",
            "185L 2603 16 16 -19.014 3.436 -18.767 0.139\n",
            "/content/drive/MyDrive/pyLiBELa/SB/186L\n",
            "/content/drive/MyDrive/pyLiBELa/SB/186L/self_docking_mma\n",
            "\n",
            "\n"
          ]
        }
      ]
    }
  ]
}