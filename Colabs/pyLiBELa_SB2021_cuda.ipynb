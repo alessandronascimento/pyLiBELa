{
  "nbformat": 4,
  "nbformat_minor": 0,
  "metadata": {
    "colab": {
      "provenance": [],
      "gpuType": "T4",
      "authorship_tag": "ABX9TyMYloVQdhUv3aLr5CzTHeTO",
      "include_colab_link": true
    },
    "kernelspec": {
      "name": "python3",
      "display_name": "Python 3"
    },
    "language_info": {
      "name": "python"
    },
    "accelerator": "GPU"
  },
  "cells": [
    {
      "cell_type": "markdown",
      "metadata": {
        "id": "view-in-github",
        "colab_type": "text"
      },
      "source": [
        "<a href=\"https://colab.research.google.com/github/alessandronascimento/pyLiBELa/blob/main/Colabs/pyLiBELa_SB2021_cuda.ipynb\" target=\"_parent\"><img src=\"https://colab.research.google.com/assets/colab-badge.svg\" alt=\"Open In Colab\"/></a>"
      ]
    },
    {
      "cell_type": "markdown",
      "source": [
        "# First things first\n",
        "### From now on, we will be only using CUDA, a GPU computing API.\n",
        "### In order to do that, we need to use the GPU runtime from Google Colab that can be selected following the steps in the menu:\n",
        "### `Runtime > Change Runtime Type > T4 GPU`"
      ],
      "metadata": {
        "id": "cr6BrZIv54Fl"
      }
    },
    {
      "cell_type": "code",
      "source": [
        "#@title Downloading dependencies {display-mode: \"form\"}\n",
        "\n",
        "%%capture\n",
        "! apt-get install python-dev-is-python3 zlib1g-dev libeigen3-dev libgsl-dev libnlopt-cxx-dev\n",
        "!pip install ipython-autotime\n",
        "%load_ext autotime\n",
        "!pip3 install condacolab\n",
        "import condacolab\n",
        "condacolab.install()\n",
        "!mamba install openbabel\n"
      ],
      "metadata": {
        "id": "0NP7rjKJLKWC",
        "colab": {
          "base_uri": "https://localhost:8080/"
        },
        "outputId": "79499dfc-aeca-429f-cc2b-bafc51cd377b"
      },
      "execution_count": 1,
      "outputs": [
        {
          "output_type": "stream",
          "name": "stdout",
          "text": [
            "time: 44.1 s (started: 2023-09-30 00:45:53 +00:00)\n"
          ]
        }
      ]
    },
    {
      "cell_type": "code",
      "source": [
        "#@title Installing pyLiBELa {display-mode: \"form\"}\n",
        "\n",
        "%%capture\n",
        "use_cuda = True #@param {type:\"boolean\"}\n",
        "\n",
        "! rm -f Makefile*\n",
        "if use_cuda:\n",
        "  ! git clone --branch alex-works https://github.com/alessandronascimento/pyLiBELa.git\n",
        "  ! wget https://raw.githubusercontent.com/alessandronascimento/pyLiBELa/alex-works/Colabs/Makefile\n",
        "else:\n",
        "  ! git clone --branch main https://github.com/alessandronascimento/pyLiBELa.git\n",
        "  ! wget https://raw.githubusercontent.com/alessandronascimento/pyLiBELa/main/Colabs/Makefile\n",
        "\n",
        "! mv pyLiBELa/src src\n",
        "! rm -rf pyLiBELa\n",
        "! mkdir -p obj\n",
        "! sed -i 's+-I/usr/include/openbabel3+-I/usr/local/include/openbabel3+g' Makefile\n",
        "! make -j2"
      ],
      "metadata": {
        "id": "ofZ9ZY0uvuDM"
      },
      "execution_count": 1,
      "outputs": []
    },
    {
      "cell_type": "code",
      "execution_count": 16,
      "metadata": {
        "id": "mmqpdtV1CU49",
        "colab": {
          "base_uri": "https://localhost:8080/"
        },
        "outputId": "9dc8b5a5-d92f-42be-82c1-3765491f7485"
      },
      "outputs": [
        {
          "output_type": "stream",
          "name": "stdout",
          "text": [
            "pyLiBELa is imported!\n",
            "time: 677 µs (started: 2023-09-30 02:00:48 +00:00)\n"
          ]
        }
      ],
      "source": [
        "#@title Importing pyLiBELa {display-mode: \"form\"}\n",
        "import random\n",
        "\n",
        "try:\n",
        "  from pyPARSER import *\n",
        "  from pyMol2 import *\n",
        "  from pyWRITER import *\n",
        "  from pyGrid import *\n",
        "  from pyCOORD_MC import *\n",
        "  from pyFindHB import *\n",
        "  from pyEnergy2 import *\n",
        "  from pyGaussian import *\n",
        "  from pyConformer import *\n",
        "  from pyRAND import *\n",
        "  from pyMcEntropy import *\n",
        "  from pySA import *\n",
        "  from pyOptimizer import *\n",
        "  from pyMC import *\n",
        "  from pyFullSearch import *\n",
        "  from pyDocker import *\n",
        "  print('pyLiBELa is imported!')\n",
        "except ImportError:\n",
        "  print('An ImportError occurred, try running this cell again!')"
      ]
    },
    {
      "cell_type": "code",
      "source": [
        "#@title Getting SB2021 data {display-mode: \"form\"}\n",
        "\n",
        "%%capture\n",
        "from google.colab import drive\n",
        "drive.mount('/content/drive/')\n",
        "sb_folder = '/content/drive/MyDrive/pyLiBELa/SB/' #@param {type:\"string\"}\n",
        "\n",
        "%cd $sb_folder\n",
        "targets=[]\n",
        "targets_file = open('list', 'r');\n",
        "for line in targets_file:\n",
        "  targets.append(line.strip())\n",
        "targets_file.close()\n",
        "targets = targets[:-2] #os últimos 2 são list e list.txt, só quero os pdb"
      ],
      "metadata": {
        "id": "tK7k52p63YgW",
        "outputId": "b82af994-9074-463c-dd33-1c27330239df",
        "colab": {
          "base_uri": "https://localhost:8080/"
        }
      },
      "execution_count": 17,
      "outputs": [
        {
          "output_type": "stream",
          "name": "stdout",
          "text": [
            "time: 1.97 s (started: 2023-09-30 02:00:51 +00:00)\n"
          ]
        }
      ]
    },
    {
      "cell_type": "code",
      "source": [
        "#@title Docking parameters {display-mode: \"form\"}\n",
        "\n",
        "import os\n",
        "import timeit\n",
        "import numpy as np\n",
        "\n",
        "Input = PARSER()\n",
        "\n",
        "# Some default options:\n",
        "# 1. We are using two processors for Grid calculations;\n",
        "#\n",
        "\n",
        "Input.generate_conformers = True;\n",
        "Input.dock_parallel = True;\n",
        "Input.parallel_jobs = 2;\n",
        "Input.write_grids = True\n",
        "Input.use_grids = True\n",
        "Input.write_mol2 = True\n",
        "Input.atom_limit = 150 #@param {type:\"number\"}\n",
        "    #atom limit not counting H\n",
        "\n",
        "# Energy Calculation Parameters:\n",
        "scoring_function = \"0\" #@param [\"0\", \"1\", \"2\", \"3\"]\n",
        "Input.dielectric_model = \"r\" #@param [\"r\", \"constant\"]\n",
        "Input.scoring_function = int(scoring_function)\n",
        "grid_dimension = 30.0 #@param {type:\"number\"}\n",
        "Input.grid_spacing = 0.5 #@param {type:\"number\"}\n",
        "Input.solvation_alpha = 0.1 #@param {type:\"number\"}\n",
        "Input.solvation_beta = -0.005 #@param {type:\"number\"}\n",
        "\n",
        "# Optimization parameter:\n",
        "Input.min_tol = 1E-4;\n",
        "Input.min_delta = 1E-5;\n",
        "Input.dock_min_tol = 1E-4;\n",
        "search_box = 30.0 #@param {type:\"number\"}\n",
        "Input.timeout = 30 #@param {type:\"number\"}\n",
        "Input.min_timeout = 30 #@param {type:\"number\"}\n",
        "Input.overlay_optimizer = \"mma\" #@param [\"mma\", \"ln_auglag\", \"subplex\", \"none\"]\n",
        "Input.energy_optimizer = \"mma\" #@param [\"direct\", \"isres\", \"crs\", \"esch\", \"stogo\", \"mma\", \"simplex\", \"none\"]\n",
        "if (Input.scoring_function < 3):\n",
        "  delta = 2.5 #@param {type:\"number\"}\n",
        "  Input.deltaij6 = (delta*delta*delta*delta*delta*delta)\n",
        "  delta_es = 2.5 #@param {type:\"number\"}\n",
        "  Input.deltaij_es6 = pow(delta_es, 6);\n",
        "  Input.deltaij_es3 = (delta_es*delta_es*delta_es)\n",
        "\n",
        "Input.search_box_x, Input.search_box_y, Input.search_box_z = search_box, search_box, search_box;\n",
        "Input.x_dim, Input.y_dim, Input.z_dim = grid_dimension, grid_dimension, grid_dimension;\n",
        "Input.grid_prefix = \"McGrid\""
      ],
      "metadata": {
        "id": "bBiFwd-WIDdw",
        "outputId": "d4bc32d7-ac3d-40f6-b4a5-34fc92410594",
        "colab": {
          "base_uri": "https://localhost:8080/"
        }
      },
      "execution_count": 18,
      "outputs": [
        {
          "output_type": "stream",
          "name": "stdout",
          "text": [
            "time: 5.93 ms (started: 2023-09-30 02:01:03 +00:00)\n"
          ]
        }
      ]
    },
    {
      "cell_type": "code",
      "source": [
        "#@title Generating Grids {display-mode: \"form\"}\n",
        "\n",
        "%reload_ext autotime\n",
        "import os\n",
        "\n",
        "\n",
        "print('#%10s %10s' % ('TARGET', 'RMSD(Ang)'))\n",
        "\n",
        "target_cut = targets[360:362]\n",
        "\n",
        "\n",
        "k=0\n",
        "for target in target_cut:\n",
        "  print(k)\n",
        "  k+=1\n",
        "\n",
        "  folder = sb_folder+target\n",
        "\n",
        "\n",
        "  %cd $folder\n",
        "  subfolder = \"self_docking_\"+Input.energy_optimizer\n",
        "  ! mkdir -p $subfolder\n",
        "  %cd $subfolder\n",
        "\n",
        "  #!rm -rf *\n",
        "  if \"McGrid.grid\" not in os.listdir():\n",
        "\n",
        "    print()\n",
        "    print()\n",
        "\n",
        "    ! cp ../*lig.am1bcc.mol2.gz lig.mol2.gz\n",
        "    ! cp ../*.rec.clean.mol2.gz rec.mol2.gz\n",
        "\n",
        "\n",
        "    if \"lig2.smi\" not in os.listdir():\n",
        "\n",
        "      print('Generating SMILES.')\n",
        "      ! obabel -imol2 lig.mol2.gz -osmi -O lig2.smi &> /dev/null #self docking\n",
        "\n",
        "    else:\n",
        "\n",
        "      print('Already SMILEd!')\n",
        "\n",
        "\n",
        "    insmiles = open('lig2.smi', 'r');\n",
        "    line=insmiles.readline().strip()\n",
        "    line2 = line.split()\n",
        "    ligand_smiles = line2[0]\n",
        "    insmiles.close();\n",
        "\n",
        "    lig_src =  'lig.mol2.gz'\n",
        "    rec_src = 'rec.mol2.gz'\n",
        "\n",
        "    try:\n",
        "\n",
        "      REC = Mol2(Input, rec_src)\n",
        "      RefLig = Mol2(Input, lig_src)\n",
        "      Lig2 = Mol2()\n",
        "\n",
        "      ligcheck = Lig2.parse_smiles(Input, ligand_smiles, 'LIG')\n",
        "\n",
        "      error_message=''\n",
        "\n",
        "    except (RuntimeError, MemoryError):\n",
        "      print(\"Skipping, something went wrong...Check the logs.\")\n",
        "      log = open(\"log.txt\", 'w')\n",
        "      log.write(\"Something went wrong, this target was skipped.\")\n",
        "      log.close()\n",
        "      continue\n",
        "\n",
        "\n",
        "    if (ligcheck):\n",
        "\n",
        "      Writer = WRITER(Input)\n",
        "      Coord = COORD_MC()\n",
        "      HB = FindHB()\n",
        "      Ene  = Energy2(Input)\n",
        "\n",
        "      for i in range(len(REC.residue_pointer)-1):\n",
        "        HB.parse_residue(REC.residue_pointer[i]-1, REC.residue_pointer[i+1]-2, REC.resnames[i], REC, RefLig, 9.0);\n",
        "      HB.find_ligandHB(lig_src, RefLig);\n",
        "\n",
        "      Dock = Docker(Writer)\n",
        "      center = Coord.compute_com(RefLig)\n",
        "\n",
        "\n",
        "      start_time = timeit.default_timer()\n",
        "      Grids = Grid(Input, Writer, REC, center)\n",
        "      time_grid = timeit.default_timer() - start_time\n",
        "\n",
        "      if not use_cuda:\n",
        "        print('Not using cuda')\n",
        "\n",
        "        start_energy = Ene.compute_ene(REC, RefLig, RefLig.xyz);\n",
        "\n",
        "        grid_energy = Ene.compute_ene(Grids, RefLig, RefLig.xyz);\n",
        "\n",
        "\n",
        "        start_time = timeit.default_timer()\n",
        "        Dock.run(REC, Lig2, RefLig, center, Input, Grids, 0)\n",
        "        time_dock = timeit.default_timer() - start_time\n",
        "\n",
        "\n",
        "        log = open(\"log.txt\", 'a')\n",
        "\n",
        "        data = \"%s\\t%d\\t%d\\t%d\\t%.3f\\t%.3f\\t%.3f\\t%.3f\\n\" %(target,REC.N, RefLig.N, Lig2.N,time_grid,start_energy,grid_energy, time_dock)\n",
        "        log.write(data)\n",
        "        print(data)\n",
        "        log.close()\n",
        "\n",
        "\n",
        "      else:\n",
        "\n",
        "        log = open(\"log.txt\", 'w')\n",
        "\n",
        "        header = \"target\\tREC.N\\tRefLig.N\\tLig2.N\\ttime_grid\\tstart_energy\\tgrid_energy\\ttime_dock\\n\"\n",
        "        log.write(header)\n",
        "\n",
        "        data = \"%s\\t%d\\t%d\\t%d\\t%.3f\\t\" %(target,REC.N, RefLig.N, Lig2.N,time_grid)\n",
        "        print(data)\n",
        "        log.write(data)\n",
        "\n",
        "        log.close()\n",
        "\n",
        "\n",
        "  else:\n",
        "    print('Target already docked!')\n",
        "\n"
      ],
      "metadata": {
        "id": "KlcqBR-l9gqd",
        "colab": {
          "base_uri": "https://localhost:8080/"
        },
        "outputId": "5f3f72a6-8935-4054-eaf3-24464cb9050d"
      },
      "execution_count": 22,
      "outputs": [
        {
          "output_type": "stream",
          "name": "stdout",
          "text": [
            "#    TARGET  RMSD(Ang)\n",
            "0\n",
            "/content/drive/MyDrive/pyLiBELa/SB/1M52\n",
            "/content/drive/MyDrive/pyLiBELa/SB/1M52/self_docking_mma\n",
            "\n",
            "\n",
            "Generating SMILES.\n",
            "1M52\t4374\t45\t45\t5.339\t\n",
            "1\n",
            "/content/drive/MyDrive/pyLiBELa/SB/1MAI\n",
            "/content/drive/MyDrive/pyLiBELa/SB/1MAI/self_docking_mma\n",
            "\n",
            "\n",
            "Generating SMILES.\n",
            "1MAI\t1971\t33\t33\t2.455\t\n",
            "time: 10.7 s (started: 2023-09-30 02:03:18 +00:00)\n"
          ]
        }
      ]
    },
    {
      "cell_type": "code",
      "source": [
        "#@title Docking {display-mode: \"form\"}\n",
        "\n",
        "%load_ext autotime\n",
        "import os\n",
        "\n",
        "print('#%10s %10s' % ('TARGET', 'RMSD(Ang)'))\n",
        "\n",
        "\n",
        "k=0\n",
        "for target in target_cut:\n",
        "  print(k)\n",
        "  k+=1\n",
        "\n",
        "  folder = sb_folder+target\n",
        "\n",
        "\n",
        "  %cd $folder\n",
        "  subfolder = \"self_docking_\"+Input.energy_optimizer\n",
        "  ! mkdir -p $subfolder\n",
        "  %cd $subfolder\n",
        "\n",
        " # !rm -rf McLiBELa_dock*\n",
        "  if (\"McLiBELa_dock.mol2.gz\"  not in os.listdir()) and (\"McGrid.grid\" in os.listdir()):\n",
        "\n",
        "    print()\n",
        "    print()\n",
        "\n",
        "    ! cp ../*lig.am1bcc.mol2.gz lig.mol2.gz\n",
        "    ! cp ../*.rec.clean.mol2.gz rec.mol2.gz\n",
        "\n",
        "\n",
        "    if \"lig2.smi\" not in os.listdir():\n",
        "\n",
        "      print('Generating SMILES.')\n",
        "      ! obabel -imol2 lig.mol2.gz -osmi -O lig2.smi &> /dev/null #self docking\n",
        "\n",
        "    else:\n",
        "\n",
        "      print('Already SMILEd!')\n",
        "\n",
        "\n",
        "    insmiles = open('lig2.smi', 'r');\n",
        "    line=insmiles.readline().strip()\n",
        "    line2 = line.split()\n",
        "    ligand_smiles = line2[0]\n",
        "    insmiles.close();\n",
        "\n",
        "    lig_src =  'lig.mol2.gz'\n",
        "    rec_src = 'rec.mol2.gz'\n",
        "\n",
        "    try:\n",
        "\n",
        "      REC = Mol2(Input, rec_src)\n",
        "      RefLig = Mol2(Input, lig_src)\n",
        "      Lig2 = Mol2()\n",
        "\n",
        "      ligcheck = Lig2.parse_smiles(Input, ligand_smiles, 'LIG')\n",
        "\n",
        "    except (RuntimeError, MemoryError):\n",
        "      print(\"Skipping, something went wrong...Check the logs.\")\n",
        "      continue\n",
        "\n",
        "\n",
        "    if (ligcheck):\n",
        "\n",
        "      Writer = WRITER(Input)\n",
        "      Coord = COORD_MC()\n",
        "      HB = FindHB()\n",
        "      Ene  = Energy2(Input)\n",
        "\n",
        "      for i in range(len(REC.residue_pointer)-1):\n",
        "        HB.parse_residue(REC.residue_pointer[i]-1, REC.residue_pointer[i+1]-2, REC.resnames[i], REC, RefLig, 9.0);\n",
        "      HB.find_ligandHB(lig_src, RefLig);\n",
        "\n",
        "      Dock = Docker(Writer)\n",
        "      center = Coord.compute_com(RefLig)\n",
        "\n",
        "      start_time = timeit.default_timer()\n",
        "      Grids = Grid(Input, Writer)\n",
        "      Grids.load_grids_from_file()\n",
        "      time_grid = timeit.default_timer() - start_time\n",
        "      print(time_grid)\n",
        "\n",
        "\n",
        "      start_energy = Ene.compute_ene(REC, RefLig, RefLig.xyz);\n",
        "\n",
        "      grid_energy = Ene.compute_ene(Grids, RefLig, RefLig.xyz);\n",
        "\n",
        "\n",
        "      start_time = timeit.default_timer()\n",
        "      Dock.run(REC, Lig2, RefLig, center, Input, Grids, 0)\n",
        "      time_dock = timeit.default_timer() - start_time\n",
        "\n",
        "\n",
        "      log = open(\"log.txt\", 'a')\n",
        "\n",
        "      data = \"%.3f\\t%.3f\\t%.3f\\n\" %(start_energy,grid_energy, time_dock)\n",
        "      log.write(data)\n",
        "      print(data)\n",
        "      log.close()\n",
        "\n",
        "  else:\n",
        "    print('Target already docked!')\n",
        "\n"
      ],
      "metadata": {
        "id": "uxGcm_doxYAW",
        "outputId": "0e8435ce-98c0-4b24-e26e-af5645b284fb",
        "colab": {
          "base_uri": "https://localhost:8080/"
        }
      },
      "execution_count": 23,
      "outputs": [
        {
          "output_type": "stream",
          "name": "stdout",
          "text": [
            "The autotime extension is already loaded. To reload it, use:\n",
            "  %reload_ext autotime\n",
            "#    TARGET  RMSD(Ang)\n",
            "0\n",
            "/content/drive/MyDrive/pyLiBELa/SB/1M52\n",
            "/content/drive/MyDrive/pyLiBELa/SB/1M52/self_docking_mma\n",
            "\n",
            "\n",
            "Already SMILEd!\n",
            "0.07925353399969026\n",
            "-45.803\t-46.049\t2.373\n",
            "\n",
            "1\n",
            "/content/drive/MyDrive/pyLiBELa/SB/1MAI\n",
            "/content/drive/MyDrive/pyLiBELa/SB/1MAI/self_docking_mma\n",
            "\n",
            "\n",
            "Already SMILEd!\n",
            "0.0977389330000733\n",
            "-194.448\t-52.121\t2.207\n",
            "\n",
            "time: 5.98 s (started: 2023-09-30 02:03:37 +00:00)\n"
          ]
        }
      ]
    }
  ]
}