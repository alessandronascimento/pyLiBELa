{
  "nbformat": 4,
  "nbformat_minor": 0,
  "metadata": {
    "colab": {
      "provenance": [],
      "gpuType": "T4",
      "authorship_tag": "ABX9TyOWHEgJrMhvzd1qgrGvOpLD",
      "include_colab_link": true
    },
    "kernelspec": {
      "name": "python3",
      "display_name": "Python 3"
    },
    "language_info": {
      "name": "python"
    },
    "accelerator": "GPU"
  },
  "cells": [
    {
      "cell_type": "markdown",
      "metadata": {
        "id": "view-in-github",
        "colab_type": "text"
      },
      "source": [
        "<a href=\"https://colab.research.google.com/github/alessandronascimento/pyLiBELa/blob/main/Colabs/pyLiBELa_SB2021_cuda.ipynb\" target=\"_parent\"><img src=\"https://colab.research.google.com/assets/colab-badge.svg\" alt=\"Open In Colab\"/></a>"
      ]
    },
    {
      "cell_type": "markdown",
      "source": [
        "# First things first\n",
        "### From now on, we will be only using CUDA, a GPU computing API.\n",
        "### In order to do that, we need to use the GPU runtime from Google Colab that can be selected following the steps in the menu:\n",
        "### `Runtime > Change Runtime Type > T4 GPU`"
      ],
      "metadata": {
        "id": "cr6BrZIv54Fl"
      }
    },
    {
      "cell_type": "code",
      "source": [
        "#@title Downloading dependencies {display-mode: \"form\"}\n",
        "\n",
        "%%capture\n",
        "! apt-get install python-dev-is-python3 zlib1g-dev libeigen3-dev libgsl-dev libnlopt-cxx-dev\n",
        "!pip install ipython-autotime\n",
        "%load_ext autotime\n",
        "!pip3 install condacolab\n",
        "import condacolab\n",
        "condacolab.install()\n",
        "!mamba install openbabel\n"
      ],
      "metadata": {
        "id": "0NP7rjKJLKWC",
        "colab": {
          "base_uri": "https://localhost:8080/"
        },
        "outputId": "8d876f8d-6382-4c42-962f-7e298f421c2e"
      },
      "execution_count": 1,
      "outputs": [
        {
          "output_type": "stream",
          "name": "stdout",
          "text": [
            "time: 44.5 s (started: 2023-09-25 18:21:34 +00:00)\n"
          ]
        }
      ]
    },
    {
      "cell_type": "code",
      "source": [
        "#@title Installing pyLiBELa {display-mode: \"form\"}\n",
        "\n",
        "%%capture\n",
        "! git clone --branch alex-works https://github.com/alessandronascimento/pyLiBELa.git\n",
        "! mv pyLiBELa/src src\n",
        "! rm -rf pyLiBELa\n",
        "! mkdir -p obj\n",
        "! rm -f Makefile*\n",
        "! wget https://raw.githubusercontent.com/alessandronascimento/pyLiBELa/alex-works/Colabs/Makefile\n",
        "! sed -i 's+-I/usr/include/openbabel3+-I/usr/local/include/openbabel3+g' Makefile\n",
        "! make -j2"
      ],
      "metadata": {
        "id": "ofZ9ZY0uvuDM"
      },
      "execution_count": 1,
      "outputs": []
    },
    {
      "cell_type": "code",
      "execution_count": 3,
      "metadata": {
        "id": "mmqpdtV1CU49",
        "colab": {
          "base_uri": "https://localhost:8080/"
        },
        "outputId": "7d21076e-4124-4393-9bac-07637dff8a51"
      },
      "outputs": [
        {
          "output_type": "stream",
          "name": "stdout",
          "text": [
            "pyLiBELa is imported!\n"
          ]
        }
      ],
      "source": [
        "#@title Importing pyLiBELa {display-mode: \"form\"}\n",
        "import random\n",
        "\n",
        "try:\n",
        "  from pyPARSER import *\n",
        "  from pyMol2 import *\n",
        "  from pyWRITER import *\n",
        "  from pyGrid import *\n",
        "  from pyCOORD_MC import *\n",
        "  from pyFindHB import *\n",
        "  from pyEnergy2 import *\n",
        "  from pyGaussian import *\n",
        "  from pyConformer import *\n",
        "  from pyRAND import *\n",
        "  from pyMcEntropy import *\n",
        "  from pySA import *\n",
        "  from pyOptimizer import *\n",
        "  from pyMC import *\n",
        "  from pyFullSearch import *\n",
        "  from pyDocker import *\n",
        "  print('pyLiBELa is imported!')\n",
        "except ImportError:\n",
        "  print('An ImportError occurred, try running this cell again!')"
      ]
    },
    {
      "cell_type": "code",
      "source": [
        "#@title Getting SB2021 data {display-mode: \"form\"}\n",
        "\n",
        "%%capture\n",
        "from google.colab import drive\n",
        "drive.mount('/content/drive/')\n",
        "sb_folder = '/content/drive/MyDrive/pyLiBELa/SB/' #@param {type:\"string\"}\n",
        "\n",
        "%cd $sb_folder\n",
        "targets=[]\n",
        "targets_file = open('list', 'r');\n",
        "for line in targets_file:\n",
        "  targets.append(line.strip())\n",
        "targets_file.close()\n"
      ],
      "metadata": {
        "id": "tK7k52p63YgW"
      },
      "execution_count": 4,
      "outputs": []
    },
    {
      "cell_type": "code",
      "source": [
        "#@title Docking parameters {display-mode: \"form\"}\n",
        "\n",
        "import os\n",
        "import timeit\n",
        "import numpy as np\n",
        "\n",
        "Input = PARSER()\n",
        "\n",
        "# Some default options:\n",
        "# 1. We are using two processors for Grid calculations;\n",
        "#\n",
        "\n",
        "Input.generate_conformers = True;\n",
        "Input.dock_parallel = True;\n",
        "Input.parallel_jobs = 2;\n",
        "Input.write_grids = True\n",
        "Input.use_grids = True\n",
        "Input.write_mol2 = True\n",
        "Input.atom_limit = 150 #@param {type:\"number\"}\n",
        "    #atom limit not counting H\n",
        "\n",
        "# Energy Calculation Parameters:\n",
        "scoring_function = \"0\" #@param [\"0\", \"1\", \"2\", \"3\"]\n",
        "Input.dielectric_model = \"r\" #@param [\"r\", \"constant\"]\n",
        "Input.scoring_function = int(scoring_function)\n",
        "grid_dimension = 30.0 #@param {type:\"number\"}\n",
        "Input.grid_spacing = 0.5 #@param {type:\"number\"}\n",
        "Input.solvation_alpha = 0.1 #@param {type:\"number\"}\n",
        "Input.solvation_beta = -0.005 #@param {type:\"number\"}\n",
        "\n",
        "# Optimization parameter:\n",
        "Input.min_tol = 1E-4;\n",
        "Input.min_delta = 1E-5;\n",
        "Input.dock_min_tol = 1E-4;\n",
        "search_box = 30.0 #@param {type:\"number\"}\n",
        "Input.timeout = 30 #@param {type:\"number\"}\n",
        "Input.min_timeout = 30 #@param {type:\"number\"}\n",
        "Input.overlay_optimizer = \"mma\" #@param [\"mma\", \"ln_auglag\", \"subplex\", \"none\"]\n",
        "Input.energy_optimizer = \"mma\" #@param [\"direct\", \"isres\", \"crs\", \"esch\", \"stogo\", \"mma\", \"simplex\", \"none\"]\n",
        "if (Input.scoring_function < 3):\n",
        "  delta = 2.5 #@param {type:\"number\"}\n",
        "  Input.deltaij6 = (delta*delta*delta*delta*delta*delta)\n",
        "  delta_es = 2.5 #@param {type:\"number\"}\n",
        "  Input.deltaij_es6 = pow(delta_es, 6);\n",
        "  Input.deltaij_es3 = (delta_es*delta_es*delta_es)\n",
        "\n",
        "Input.search_box_x, Input.search_box_y, Input.search_box_z = search_box, search_box, search_box;\n",
        "Input.x_dim, Input.y_dim, Input.z_dim = grid_dimension, grid_dimension, grid_dimension;\n",
        "Input.grid_prefix = \"McGrid\""
      ],
      "metadata": {
        "id": "bBiFwd-WIDdw"
      },
      "execution_count": 5,
      "outputs": []
    },
    {
      "cell_type": "code",
      "source": [
        "#@title Docking {display-mode: \"form\"}\n",
        "\n",
        "%load_ext autotime\n",
        "\n",
        "\n",
        "\n",
        "print('#%10s %10s' % ('TARGET', 'RMSD(Ang)'))\n",
        "\n",
        "targets_random=random.sample(targets, len(targets));\n",
        "\n",
        "\n",
        "target_cut = targets[:5]\n",
        "\n",
        "for target in target_cut:\n",
        "#  target=targets_random[68]\n",
        "  folder = sb_folder+target\n",
        "#  print()\n",
        "#  print()\n",
        "  %cd $folder\n",
        "  ! mkdir -p test\n",
        "  %cd test\n",
        "  ! rm -f *\n",
        "\n",
        "  print()\n",
        "  print()\n",
        "\n",
        "  ! cp ../*lig.am1bcc.mol2.gz lig.mol2.gz\n",
        "  ! cp ../*.rec.clean.mol2.gz rec.mol2.gz\n",
        "  ! obabel -imol2 lig.mol2.gz -osmi -O lig2.smi &> /dev/null #self docking\n",
        "\n",
        "  insmiles = open('lig2.smi', 'r');\n",
        "  line=insmiles.readline().strip()\n",
        "  line2 = line.split()\n",
        "  ligand_smiles = line2[0]\n",
        "  insmiles.close();\n",
        "\n",
        "  Lig2 = Mol2()\n",
        "  ligcheck = Lig2.parse_smiles(Input, ligand_smiles, 'LIG')\n",
        "#  if (not ligcheck):\n",
        "#    print(\"#Ops! A problem was identified in ligand %s\" % target);\n",
        "\n",
        "  lig_src =  'lig.mol2.gz'\n",
        "  rec_src = 'rec.mol2.gz'\n",
        "\n",
        "  REC = Mol2(Input, rec_src)\n",
        "  RefLig = Mol2(Input, lig_src)\n",
        "\n",
        "#  print(\"Receptor has %4d atoms.\" % REC.N)\n",
        "#  print('Reference Ligand has %4d atoms' % RefLig.N)\n",
        "#  print('Search ligand has %4d atoms' % Lig2.N)\n",
        "\n",
        "  if (ligcheck):\n",
        "    Writer = WRITER(Input)\n",
        "    Coord = COORD_MC()\n",
        "    HB = FindHB()\n",
        "    Ene  = Energy2(Input)\n",
        "\n",
        "    for i in range(len(REC.residue_pointer)-1):\n",
        "      HB.parse_residue(REC.residue_pointer[i]-1, REC.residue_pointer[i+1]-2, REC.resnames[i], REC, RefLig, 9.0);\n",
        "    HB.find_ligandHB(lig_src, RefLig);\n",
        "\n",
        "    print('The receptor has %5d / %5d HB donors/acceptors around the active site.' % (len(REC.HBdonors), len(REC.HBacceptors)));\n",
        "\n",
        "    Dock = Docker(Writer)\n",
        "    center = Coord.compute_com(RefLig)\n",
        "\n",
        "#    print()\n",
        "\n",
        "    start_energy = Ene.compute_ene(REC, RefLig, RefLig.xyz);\n",
        "\n",
        "    print('Starting energy: %7.3f kcal/mol' % start_energy);\n",
        "    print('Generating grids. This may take a while..')\n",
        "\n",
        "\n",
        "    start_time = timeit.default_timer()\n",
        "    Grids = Grid(Input, Writer, REC, center)\n",
        "    time_grid = timeit.default_timer() - start_time\n",
        "\n",
        "    time_per_atom = time/REC.N\n",
        "    print('Grids computed, and it took %.2f s! That means %.4f s per atom.' %(time,time_per_atom))\n",
        "\n",
        "    grid_energy = Ene.compute_ene(Grids, RefLig, RefLig.xyz);\n",
        "\n",
        "    print('Grid original energy: %7.3f kcal/mol' % grid_energy);\n",
        "    print('Grid error: %7.3f %%' % abs(100.*(start_energy-grid_energy)/start_energy));\n",
        "\n",
        "    print('Starting docking calculation...')\n",
        "\n",
        "    start_time = timeit.default_timer()\n",
        "    Dock.run(REC, Lig2, RefLig, center, Input, Grids, 0)\n",
        "    time_dock = timeit.default_timer() - start_time\n",
        "\n",
        "#    Computing the RMSD\n",
        "\n",
        "    ! obabel -imol2 McLiBELa_dock.mol2.gz -pdb -O docked_ligand.pdb &> /dev/null\n",
        "    rmsd = ! obrms lig.mol2.gz docked_ligand.pdb\n",
        "    if (len(rmsd) > 0):\n",
        "      rmsd = rmsd[0].split()\n",
        "#      print(rmsd)\n",
        "      if (len(rmsd) == 3):\n",
        "        print('%10s %10.10s Ang' % (target, rmsd[2]))\n",
        "    else:\n",
        "      print('%10s %10.10s Ang' % (target, 'N/A'));\n",
        "    print('***********************************************************************************************')\n"
      ],
      "metadata": {
        "id": "KlcqBR-l9gqd",
        "colab": {
          "base_uri": "https://localhost:8080/"
        },
        "outputId": "73210abc-bed3-4404-e925-fe4b165212a9"
      },
      "execution_count": 8,
      "outputs": [
        {
          "output_type": "stream",
          "name": "stdout",
          "text": [
            "#    TARGET  RMSD(Ang)\n",
            "/content/drive/MyDrive/pyLiBELa/SB/121P\n",
            "/content/drive/MyDrive/pyLiBELa/SB/121P/test\n",
            "\n",
            "\n",
            "The receptor has    24 /    25 HB donors/acceptors around the active site.\n",
            "Starting energy: -144.121 kcal/mol\n",
            "Generating grids. This may take a while..\n",
            "Grids computed, and it took 3.36 s! That means 0.0013 s per atom.\n",
            "Grid original energy:  26.705 kcal/mol\n",
            "Grid error: 118.530 %\n",
            "Starting docking calculation...\n",
            "      121P        N/A Ang\n",
            "***********************************************************************************************\n",
            "/content/drive/MyDrive/pyLiBELa/SB/181L\n",
            "/content/drive/MyDrive/pyLiBELa/SB/181L/test\n",
            "rm: cannot remove 'obj': Is a directory\n",
            "rm: cannot remove 'src': Is a directory\n",
            "rm: cannot remove 'test': Is a directory\n",
            "\n",
            "\n",
            "The receptor has    38 /    26 HB donors/acceptors around the active site.\n",
            "Starting energy: -12.525 kcal/mol\n",
            "Generating grids. This may take a while..\n",
            "Grids computed, and it took 3.38 s! That means 0.0013 s per atom.\n",
            "Grid original energy: -12.427 kcal/mol\n",
            "Grid error:   0.782 %\n",
            "Starting docking calculation...\n",
            "      181L        N/A Ang\n",
            "***********************************************************************************************\n",
            "/content/drive/MyDrive/pyLiBELa/SB/182L\n",
            "/content/drive/MyDrive/pyLiBELa/SB/182L/test\n",
            "\n",
            "\n",
            "The receptor has    35 /    25 HB donors/acceptors around the active site.\n",
            "Starting energy: -17.806 kcal/mol\n",
            "Generating grids. This may take a while..\n",
            "Grids computed, and it took 3.18 s! That means 0.0012 s per atom.\n",
            "Grid original energy: -17.668 kcal/mol\n",
            "Grid error:   0.774 %\n",
            "Starting docking calculation...\n",
            "      182L    3.66919 Ang\n",
            "***********************************************************************************************\n",
            "/content/drive/MyDrive/pyLiBELa/SB/183L\n",
            "/content/drive/MyDrive/pyLiBELa/SB/183L/test\n",
            "\n",
            "\n",
            "The receptor has    38 /    25 HB donors/acceptors around the active site.\n",
            "Starting energy: -18.047 kcal/mol\n",
            "Generating grids. This may take a while..\n",
            "Grids computed, and it took 3.27 s! That means 0.0013 s per atom.\n",
            "Grid original energy: -17.812 kcal/mol\n",
            "Grid error:   1.302 %\n",
            "Starting docking calculation...\n",
            "      183L    3.17175 Ang\n",
            "***********************************************************************************************\n",
            "/content/drive/MyDrive/pyLiBELa/SB/184L\n",
            "/content/drive/MyDrive/pyLiBELa/SB/184L/test\n",
            "\n",
            "\n",
            "The receptor has    32 /    24 HB donors/acceptors around the active site.\n",
            "Starting energy: -20.221 kcal/mol\n",
            "Generating grids. This may take a while..\n",
            "Grids computed, and it took 3.19 s! That means 0.0012 s per atom.\n",
            "Grid original energy: -20.085 kcal/mol\n",
            "Grid error:   0.674 %\n",
            "Starting docking calculation...\n",
            "      184L   0.586474 Ang\n",
            "***********************************************************************************************\n",
            "time: 32.8 s (started: 2023-09-25 18:43:24 +00:00)\n"
          ]
        }
      ]
    }
  ]
}