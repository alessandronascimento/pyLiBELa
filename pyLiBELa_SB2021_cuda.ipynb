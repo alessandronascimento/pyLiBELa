{
  "nbformat": 4,
  "nbformat_minor": 0,
  "metadata": {
    "colab": {
      "provenance": [],
      "gpuType": "T4",
      "authorship_tag": "ABX9TyOicOKXmYDlurTs3MprE699",
      "include_colab_link": true
    },
    "kernelspec": {
      "name": "python3",
      "display_name": "Python 3"
    },
    "language_info": {
      "name": "python"
    },
    "accelerator": "GPU"
  },
  "cells": [
    {
      "cell_type": "markdown",
      "metadata": {
        "id": "view-in-github",
        "colab_type": "text"
      },
      "source": [
        "<a href=\"https://colab.research.google.com/github/alessandronascimento/pyLiBELa/blob/main/pyLiBELa_SB2021_cuda.ipynb\" target=\"_parent\"><img src=\"https://colab.research.google.com/assets/colab-badge.svg\" alt=\"Open In Colab\"/></a>"
      ]
    },
    {
      "cell_type": "markdown",
      "source": [
        "# First things first\n",
        "### From now on, we will be only using CUDA, a GPU computing API.\n",
        "### In order to do that, we need to use the GPU runtime from Google Colab that can be selected following the steps in the menu:\n",
        "### `Runtime > Change Runtime Type > T4 GPU`"
      ],
      "metadata": {
        "id": "cr6BrZIv54Fl"
      }
    },
    {
      "cell_type": "code",
      "source": [
        "#@title Downloading dependencies {display-mode: \"form\"}\n",
        "\n",
        "%%capture\n",
        "! apt-get install python-dev-is-python3 zlib1g-dev libeigen3-dev libgsl-dev libnlopt-cxx-dev libgsl-dev\n",
        "!pip install ipython-autotime\n",
        "%load_ext autotime\n",
        "!pip3 install condacolab\n",
        "import condacolab\n",
        "condacolab.install()\n",
        "!mamba install openbabel\n"
      ],
      "metadata": {
        "id": "0NP7rjKJLKWC",
        "colab": {
          "base_uri": "https://localhost:8080/"
        },
        "outputId": "ce509759-5acc-460d-d23b-3771e6aef9a2"
      },
      "execution_count": 1,
      "outputs": [
        {
          "output_type": "stream",
          "name": "stdout",
          "text": [
            "time: 57.2 s (started: 2023-09-06 14:45:55 +00:00)\n"
          ]
        }
      ]
    },
    {
      "cell_type": "code",
      "source": [
        "#@title Installing pyLiBELa {display-mode: \"form\"}\n",
        "\n",
        "%%capture\n",
        "! git clone https://github.com/alessandronascimento/pyLiBELa.git\n",
        "! ( cd pyLiBELa && git checkout alex-works)\n",
        "! mv pyLiBELa/src src\n",
        "! rm -rf pyLiBELa\n",
        "! mkdir -p obj\n",
        "! rm -f Makefile*\n",
        "! wget https://raw.githubusercontent.com/alessandronascimento/pyLiBELa/alex-works/Colabs/Makefile\n",
        "! sed -i 's+-I/usr/include/openbabel3+-I/usr/local/include/openbabel3+g' Makefile\n",
        "! make -j2"
      ],
      "metadata": {
        "id": "ofZ9ZY0uvuDM"
      },
      "execution_count": 1,
      "outputs": []
    },
    {
      "cell_type": "code",
      "execution_count": 2,
      "metadata": {
        "id": "mmqpdtV1CU49",
        "colab": {
          "base_uri": "https://localhost:8080/"
        },
        "outputId": "73ceaaa3-aaff-42fc-eb58-85ceaf53ff4c"
      },
      "outputs": [
        {
          "output_type": "stream",
          "name": "stdout",
          "text": [
            "pyLiBELa is imported!\n"
          ]
        }
      ],
      "source": [
        "#@title Importing pyLiBELa {display-mode: \"form\"}\n",
        "try:\n",
        "  from pyPARSER import *\n",
        "  from pyMol2 import *\n",
        "  from pyWRITER import *\n",
        "  from pyGrid import *\n",
        "  from pyCOORD_MC import *\n",
        "  from pyFindHB import *\n",
        "  from pyEnergy2 import *\n",
        "  from pyGaussian import *\n",
        "  from pyConformer import *\n",
        "  from pyRAND import *\n",
        "  from pyMcEntropy import *\n",
        "  from pySA import *\n",
        "  from pyOptimizer import *\n",
        "  from pyMC import *\n",
        "  from pyFullSearch import *\n",
        "  from pyDocker import *\n",
        "  print('pyLiBELa is imported!')\n",
        "except ImportError:\n",
        "  print('An ImportError occurred, try running this cell again!')"
      ]
    },
    {
      "cell_type": "code",
      "source": [
        "#@title Getting SB2021 data {display-mode: \"form\"}\n",
        "\n",
        "%%capture\n",
        "from google.colab import drive\n",
        "drive.mount('/content/drive/')\n",
        "sb_folder = '/content/drive/MyDrive/pyLiBELa/SB/' #@param {type:\"string\"}\n",
        "\n",
        "with open(sb_folder+'list.txt') as f:\n",
        "    targets_list = f.readlines()\n",
        "\n",
        "\n",
        "targets_list = [target[0:4] for target in targets_list]\n"
      ],
      "metadata": {
        "id": "tK7k52p63YgW"
      },
      "execution_count": 3,
      "outputs": []
    },
    {
      "cell_type": "code",
      "source": [
        "#@title Organizing test files {display-mode: \"form\"}\n",
        "i=10\n",
        "target=targets_list[i]\n",
        "folder = sb_folder+target\n",
        "%cd $folder\n",
        "#! mkdir test\n",
        "%cd test\n",
        "\n",
        "! cp ../*lig.am1bcc.mol2.gz lig.mol2.gz\n",
        "! cp ../*.rec.clean.mol2.gz rec.mol2.gz\n",
        "! obabel -imol2 lig.mol2.gz -osmi -O lig2.smi #self docking"
      ],
      "metadata": {
        "colab": {
          "base_uri": "https://localhost:8080/"
        },
        "id": "KlcqBR-l9gqd",
        "outputId": "7c600051-ac24-43cc-a64a-760661d5c688"
      },
      "execution_count": 19,
      "outputs": [
        {
          "output_type": "stream",
          "name": "stdout",
          "text": [
            "/content/drive/MyDrive/pyLiBELa/SB/1A30\n",
            "/content/drive/MyDrive/pyLiBELa/SB/1A30/test\n",
            "1 molecule converted\n"
          ]
        }
      ]
    },
    {
      "cell_type": "code",
      "source": [
        "#@title Docking parameters {display-mode: \"form\"}\n",
        "\n",
        "import os\n",
        "import timeit\n",
        "import numpy as np\n",
        "\n",
        "Input = PARSER()\n",
        "\n",
        "# Some default options:\n",
        "# 1. We are using two processors for Grid calculations;\n",
        "#\n",
        "\n",
        "Input.generate_conformers = True;\n",
        "Input.dock_parallel = True;\n",
        "Input.parallel_jobs = 2;\n",
        "Input.write_grids = True\n",
        "Input.use_grids = True\n",
        "Input.write_mol2 = True\n",
        "Input.atom_limit = 60 #@param {type:\"number\"}\n",
        "    #atom limit not counting H\n",
        "\n",
        "# Energy Calculation Parameters:\n",
        "scoring_function = \"0\" #@param [\"0\", \"1\", \"2\", \"3\"]\n",
        "Input.dielectric_model = \"r\" #@param [\"r\", \"constant\"]\n",
        "Input.scoring_function = int(scoring_function)\n",
        "grid_dimension = 30.0 #@param {type:\"number\"}\n",
        "Input.grid_spacing = 0.5 #@param {type:\"number\"}\n",
        "Input.solvation_alpha = 0.1 #@param {type:\"number\"}\n",
        "Input.solvation_beta = -0.005 #@param {type:\"number\"}\n",
        "\n",
        "# Optimization parameter:\n",
        "Input.min_tol = 1E-10;\n",
        "Input.min_delta = 1E-5;\n",
        "Input.dock_min_tol = 1E-10;\n",
        "search_box = 20.0 #@param {type:\"number\"}\n",
        "Input.timeout = 30 #@param {type:\"number\"}\n",
        "Input.min_timeout = 30 #@param {type:\"number\"}\n",
        "Input.overlay_optimizer = \"mma\" #@param [\"mma\", \"ln_auglag\", \"subplex\", \"none\"]\n",
        "Input.energy_optimizer = \"mma\" #@param [\"direct\", \"isres\", \"crs\", \"esch\", \"stogo\", \"mma\", \"simplex\", \"none\"]\n",
        "if (Input.scoring_function < 3):\n",
        "  delta = 2.5 #@param {type:\"number\"}\n",
        "  Input.deltaij6 = (delta*delta*delta*delta*delta*delta)\n",
        "  delta_es = 2.5 #@param {type:\"number\"}\n",
        "  Input.deltaij_es6 = pow(delta_es, 6);\n",
        "  Input.deltaij_es3 = (delta_es*delta_es*delta_es)\n",
        "\n",
        "Input.search_box_x, Input.search_box_y, Input.search_box_z = search_box, search_box, search_box;\n",
        "Input.x_dim, Input.y_dim, Input.z_dim = grid_dimension, grid_dimension, grid_dimension;"
      ],
      "metadata": {
        "id": "bBiFwd-WIDdw"
      },
      "execution_count": 20,
      "outputs": []
    },
    {
      "cell_type": "code",
      "source": [
        "#@title Reading molecular files {display-mode: \"form\"}\n",
        "\n",
        "#Reading Ligand SMILES\n",
        "%cd $folder\n",
        "%cd test\n",
        "\n",
        "insmiles = open('lig2.smi', 'r');\n",
        "line=insmiles.readline().strip()\n",
        "line2 = line.split()\n",
        "ligand_smiles = line2[0]\n",
        "insmiles.close();\n",
        "print('SMILES read: %s' % ligand_smiles)\n",
        "\n",
        "Lig2 = Mol2()\n",
        "Lig2.parse_smiles(Input, ligand_smiles, 'LIG')\n",
        "\n",
        "#if Lig2.parse_smiles(Input, ligand_smiles, 'LIG'):\n",
        "#   print('Ligand SMILES parsed successfully!')\n",
        "#   print(ligand_smiles)\n",
        "#else:\n",
        "#  print('Oops, something wrong with you ligand... \\nIt may be way too big or have an unknown atom.')\n",
        "\n",
        "#Reading reference ligand and receptor from source\n",
        "\n",
        "lig_src =  'lig.mol2.gz' #@param {type:\"string\"}\n",
        "rec_src = 'rec.mol2.gz' #@param {type:\"string\"}\n",
        "\n",
        "REC = Mol2(Input, rec_src)\n",
        "RefLig = Mol2(Input, lig_src)\n",
        "\n",
        "print('Receptor and reference ligand parsed successfully!')\n",
        "print(\"Receptor has %4d atoms.\" % REC.N)\n",
        "print('Reference Ligand has %4d atoms' % RefLig.N)\n",
        "print('Search ligand has %4d atoms' % Lig2.N)\n"
      ],
      "metadata": {
        "colab": {
          "base_uri": "https://localhost:8080/"
        },
        "id": "Y2FSx8Nh_hqy",
        "outputId": "733ebbf2-f587-4ce7-e593-0483ef8c0d83"
      },
      "execution_count": 26,
      "outputs": [
        {
          "output_type": "stream",
          "name": "stdout",
          "text": [
            "/content/drive/MyDrive/pyLiBELa/SB/1A30\n",
            "/content/drive/MyDrive/pyLiBELa/SB/1A30/test\n",
            "SMILES read: [NH3+][C@H](C(=O)N[C@H](C(=O)N[C@H](C(=O)[O])CC(C)C)CC(=O)[O])CCC(=O)[O]\n",
            "Receptor and reference ligand parsed successfully!\n",
            "Receptor has 3138 atoms.\n",
            "Reference Ligand has   49 atoms\n",
            "Search ligand has   49 atoms\n"
          ]
        }
      ]
    },
    {
      "cell_type": "code",
      "source": [
        "#@title Grid Generation and Docking calculation\n",
        "!rm -rf McLiBELa_dock.mol2.gz\n",
        "import timeit\n",
        "\n",
        "Writer = WRITER(Input)\n",
        "Coord = COORD_MC()\n",
        "HB = FindHB()\n",
        "Ene  = Energy2(Input)\n",
        "\n",
        "for i in range(len(REC.residue_pointer)-1):\n",
        "  HB.parse_residue(REC.residue_pointer[i]-1, REC.residue_pointer[i+1]-2, REC.resnames[i], REC, RefLig, 9.0);\n",
        "HB.find_ligandHB(lig_src, RefLig);\n",
        "print('The receptor has %5d / %5d HB donors/acceptors around the active site.' % (len(REC.HBdonors), len(REC.HBacceptors)));\n",
        "\n",
        "Dock = Docker(Writer)\n",
        "center = Coord.compute_com(RefLig)\n",
        "\n",
        "print()\n",
        "start_energy = Ene.compute_ene(REC, RefLig, RefLig.xyz);\n",
        "print('Starting energy: %7.3f kcal/mol' % start_energy);\n",
        "print()\n",
        "print('Generating grids. This may take a while..')\n",
        "\n",
        "start_time = timeit.default_timer()\n",
        "Grids = Grid(Input, Writer, REC, center)\n",
        "time = timeit.default_timer() - start_time\n",
        "\n",
        "time_per_atom = time/REC.N\n",
        "print('Grids computed, and it took %.2f s! That means %.4f s per atom.' %(time,time_per_atom))\n",
        "grid_energy = Ene.compute_ene(Grids, RefLig, RefLig.xyz);\n",
        "print('Grid original energy: %7.3f kcal/mol' % grid_energy);\n",
        "print('Grid error: %7.3f' % abs(100.*(start_energy-grid_energy)/start_energy));\n",
        "print()\n",
        "print()\n",
        "print('Starting docking calculation...')\n",
        "Dock.run(REC, Lig2, RefLig, center, Input, Grids, 0)\n",
        "print('Docking calculation finished!')\n",
        "\n",
        "Writer.write_box(center, Grids.xbegin, Grids.ybegin, Grids.zbegin, Grids.xend, Grids.yend, Grids.zend)\n"
      ],
      "metadata": {
        "id": "3V0xpV6F2i3q",
        "colab": {
          "base_uri": "https://localhost:8080/"
        },
        "outputId": "04771219-1462-4ac5-f65a-aa4547ae65a2"
      },
      "execution_count": null,
      "outputs": [
        {
          "output_type": "stream",
          "name": "stdout",
          "text": [
            "The receptor has    11 /    16 HB donors/acceptors around the active site.\n",
            "\n",
            "Starting energy: -11.723 kcal/mol\n",
            "\n",
            "Generating grids. This may take a while..\n"
          ]
        }
      ]
    },
    {
      "cell_type": "code",
      "source": [
        "#@title Preparing Output Files\n",
        "!rm -rf lig2.pdb lig_ref.pdb rec.pdb\n",
        "\n",
        "\n",
        "!obabel -imol2 McLiBELa_dock.mol2.gz -opdb -O lig2.pdb\n",
        "!obabel -imol2 test/lig.mol2.gz -opdb -O lig_ref.pdb\n",
        "!obabel -imol2 test/rec.mol2.gz -opdb -O rec.pdb\n",
        "\n",
        "lig2_pdb = open('lig2.pdb', 'r').read()\n",
        "lig_ref_pdb = open('lig_ref.pdb', 'r').read()\n",
        "rec_pdb = open('rec.pdb','r').read()\n",
        "\n",
        "box_pdb = open('box.pdb','r').read()\n",
        "\n",
        "def join_pdb(name_file_rec,name_file_lig,name_file_merge):\n",
        "  !cp $name_file_rec temp_rec.pdb\n",
        "  !cp $name_file_lig temp_lig.pdb\n",
        "\n",
        "  !sed -i '/END\\|CONECT/d' temp_rec.pdb #tira o end e o conect do arquivo do receptor\n",
        "\n",
        "  !sed -i 's/A  /B  /g' temp_lig.pdb #troca a cadeia A por B no arquivo do ligante\n",
        "\n",
        "  !sed -i '/CONECT/d' temp_lig.pdb #tira o conect do arquivo do ligante\n",
        "\n",
        "  !cat temp_rec.pdb temp_lig.pdb > $name_file_merge #concatena os arquivos\n",
        "\n",
        "  !rm -rf temp_rec.pdb temp_lig.pdb\n",
        "\n",
        "\n",
        "join_pdb('rec.pdb','lig_ref.pdb','complex1.pdb')\n",
        "complex1_pdb = open('complex1.pdb','r').read()\n",
        "\n",
        "join_pdb('rec.pdb','lig2.pdb','complex2.pdb')\n",
        "complex2_pdb = open('complex2.pdb','r').read()\n"
      ],
      "metadata": {
        "id": "GfSEvBRyASyr",
        "cellView": "form"
      },
      "execution_count": null,
      "outputs": []
    },
    {
      "cell_type": "code",
      "source": [
        "#@title Calculating RMSD\n",
        "!obrms lig_ref.pdb lig2.pdb > rmsd.txt\n",
        "with open('rmsd.txt') as rmsd_text:\n",
        "   rmsd_list = rmsd_text.readlines()\n",
        "\n",
        "#print(rmsd_list)\n",
        "rmsd = rmsd_list[0].split()[-1]\n",
        "\n",
        "print('The RMSD between the reference ligand and its reference after docking is %s.' %rmsd)\n"
      ],
      "metadata": {
        "cellView": "form",
        "id": "VzMGLWszjlUX"
      },
      "execution_count": null,
      "outputs": []
    },
    {
      "cell_type": "code",
      "source": [
        "#@title Setting view\n",
        "%%capture\n",
        "try:\n",
        "  import py3Dmol\n",
        "except:\n",
        "  !pip install py3Dmol\n",
        "  import py3Dmol\n",
        "aminoacids = ['MET', 'THR', 'ASN', 'LYS', 'SER', 'ARG', 'VAL', 'ALA', 'ASP', 'GLU', 'GLY', 'PHE', 'LEU', 'TYR', 'CYS', 'TRP', 'PRO', 'HIS', 'GLN', 'ILE', 'ASH', 'CYX', 'GLH', 'HIE', 'HID', 'HIP','HOH']\n"
      ],
      "metadata": {
        "id": "cXTwPuTHFceG",
        "cellView": "form"
      },
      "execution_count": null,
      "outputs": []
    },
    {
      "cell_type": "code",
      "source": [
        "#@title Ligands\n",
        "#@markdown The reference ligand is in green and the docked ligand is in yellow.\n",
        "view = py3Dmol.view()\n",
        "\n",
        "#Adding models\n",
        "view.addModel(lig2_pdb,'pdb') #model 0\n",
        "view.addModel(lig_ref_pdb,'pdb') #model 1\n",
        "#view.addModel(box_pdb,'pdb') #something wrong with it\n",
        "\n",
        "view.setStyle({'model':0},{'stick': {'colorscheme':'yellowCarbon'}})\n",
        "view.setStyle({'model':1},{'stick': {'colorscheme':'greenCarbon'}})\n",
        "\n",
        "\n",
        "view.setBackgroundColor('white')\n",
        "view.zoomTo()\n",
        "view.show()"
      ],
      "metadata": {
        "id": "LQ0t4AEo22mN",
        "cellView": "form"
      },
      "execution_count": null,
      "outputs": []
    },
    {
      "cell_type": "code",
      "source": [
        "#@title Docking complex\n",
        "view = py3Dmol.view(width=1200,height=800)\n",
        "\n",
        "#Adding models\n",
        "view.addModel(complex2_pdb,'pdb')\n",
        "view.addModel(lig_ref_pdb,'pdb') #model 1\n",
        "\n",
        "view.setStyle({'chain':'B'},{'stick': {'colorscheme':'yellowCarbon'}})\n",
        "\n",
        "view.setStyle({'chain':'A'},  {\"cartoon\":{'arrows':True,'colorscheme':'ssPymol','opacity':0.7}})\n",
        "view.setStyle({ 'chain':'A', 'not':{'resn':aminoacids}}, {'sphere':{}})\n",
        "view.addStyle({'chain':'A','within':{'distance':'5', 'sel':{'chain':'B'}},'byres':True}, {'stick': {'colorscheme':'skyblueCarbon'}})\n",
        "view.setStyle({'model':1},{'stick': {'colorscheme':'greenCarbon','opacity':0.7}})\n",
        "\n",
        "view.setBackgroundColor('white')\n",
        "view.zoomTo({'chain':'B'})\n",
        "view.show()"
      ],
      "metadata": {
        "id": "JqvU5pQD_X-d"
      },
      "execution_count": null,
      "outputs": []
    },
    {
      "cell_type": "code",
      "source": [
        "grid_name = Input.grid_prefix + '.grid'\n",
        "!mv $grid_name test/\n",
        "log_name = 'McLiBELa' + target + '_' + tag + '.log'\n",
        "\n",
        "\n",
        "!mv McLiBELa.log test/$log_name\n"
      ],
      "metadata": {
        "id": "gUretWVCAoZH"
      },
      "execution_count": null,
      "outputs": []
    },
    {
      "cell_type": "code",
      "source": [
        "!tail McLiBELa.log\n",
        "rmsd = 0\n",
        "use_cuda = 'False'\n",
        "log_add = 'Use CUDA = %s \\n Grids Time = %.2f \\n Time per atom  = %.2f \\n RMSD = %.2f'%(use_cuda,time,time_per_atom,rmsd)\n",
        "print(log_add)\n",
        "#!sed -i\n",
        "#printf(\"* %-30s %-66d*\\n\", \"number_of_conformers\", Input->lig_conformers);"
      ],
      "metadata": {
        "id": "8KxgeGsfV9wp"
      },
      "execution_count": null,
      "outputs": []
    }
  ]
}