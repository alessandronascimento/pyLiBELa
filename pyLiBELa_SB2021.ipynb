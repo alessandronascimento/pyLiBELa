{
  "nbformat": 4,
  "nbformat_minor": 0,
  "metadata": {
    "colab": {
      "provenance": [],
      "authorship_tag": "ABX9TyN/0Q2remo1zORRo/siCv33",
      "include_colab_link": true
    },
    "kernelspec": {
      "name": "python3",
      "display_name": "Python 3"
    },
    "language_info": {
      "name": "python"
    }
  },
  "cells": [
    {
      "cell_type": "markdown",
      "metadata": {
        "id": "view-in-github",
        "colab_type": "text"
      },
      "source": [
        "<a href=\"https://colab.research.google.com/github/alessandronascimento/pyLiBELa/blob/main/pyLiBELa_SB2021.ipynb\" target=\"_parent\"><img src=\"https://colab.research.google.com/assets/colab-badge.svg\" alt=\"Open In Colab\"/></a>"
      ]
    },
    {
      "cell_type": "code",
      "execution_count": 1,
      "metadata": {
        "colab": {
          "base_uri": "https://localhost:8080/"
        },
        "id": "eh9gTk0k3Iue",
        "outputId": "232efd95-549c-486e-92d3-adcf2c5e5583"
      },
      "outputs": [
        {
          "output_type": "stream",
          "name": "stdout",
          "text": [
            "time: 1min 1s (started: 2023-09-05 18:40:47 +00:00)\n"
          ]
        }
      ],
      "source": [
        "#@title Downloading dependencies {display-mode: \"form\"}\n",
        "\n",
        "%%capture\n",
        "! apt-get install python-dev-is-python3 zlib1g-dev libeigen3-dev libgsl-dev libnlopt-cxx-dev libgsl-dev\n",
        "!pip install ipython-autotime\n",
        "%load_ext autotime\n",
        "!pip3 install condacolab\n",
        "import condacolab\n",
        "condacolab.install()\n",
        "!mamba install openbabel"
      ]
    },
    {
      "cell_type": "code",
      "source": [
        "#@title Installing pyLiBELa {display-mode: \"form\"}\n",
        "\n",
        "%%capture\n",
        "! git clone https://github.com/alessandronascimento/pyLiBELa.git\n",
        "! mv pyLiBELa/src src\n",
        "! rm -rf pyLiBELa\n",
        "! mkdir -p obj\n",
        "! rm -f Makefile*\n",
        "! wget https://raw.githubusercontent.com/alessandronascimento/pyLiBELa/main/Colabs/Makefile\n",
        "! make -j2"
      ],
      "metadata": {
        "id": "ofZ9ZY0uvuDM"
      },
      "execution_count": 1,
      "outputs": []
    },
    {
      "cell_type": "code",
      "execution_count": 2,
      "metadata": {
        "id": "mmqpdtV1CU49",
        "colab": {
          "base_uri": "https://localhost:8080/"
        },
        "outputId": "ec010a71-088c-4831-d96b-a8a7bca952b3"
      },
      "outputs": [
        {
          "output_type": "stream",
          "name": "stdout",
          "text": [
            "pyLiBELa is imported!\n"
          ]
        }
      ],
      "source": [
        "#@title Importing pyLiBELa {display-mode: \"form\"}\n",
        "try:\n",
        "  from pyPARSER import *\n",
        "  from pyMol2 import *\n",
        "  from pyWRITER import *\n",
        "  from pyGrid import *\n",
        "  from pyCOORD_MC import *\n",
        "  from pyFindHB import *\n",
        "  from pyEnergy2 import *\n",
        "  from pyGaussian import *\n",
        "  from pyConformer import *\n",
        "  from pyRAND import *\n",
        "  from pyMcEntropy import *\n",
        "  from pySA import *\n",
        "  from pyOptimizer import *\n",
        "  from pyMC import *\n",
        "  from pyFullSearch import *\n",
        "  from pyDocker import *\n",
        "  print('pyLiBELa is imported!')\n",
        "except ImportError:\n",
        "  print('An ImportError occurred, try running this cell again!')"
      ]
    },
    {
      "cell_type": "code",
      "source": [
        "#@title Getting SB2021 data {display-mode: \"form\"}\n",
        "\n",
        "%%capture\n",
        "from google.colab import drive\n",
        "drive.mount('/content/drive/')\n",
        "sb_folder = '/content/drive/MyDrive/pyLiBELa/SB/' #@param {type:\"string\"}\n",
        "\n",
        "with open(sb_folder+'list.txt') as f:\n",
        "    targets_list = f.readlines()\n",
        "\n",
        "\n",
        "targets_list = [target[0:4] for target in targets_list]\n",
        ""
      ],
      "metadata": {
        "id": "tK7k52p63YgW"
      },
      "execution_count": 3,
      "outputs": []
    },
    {
      "cell_type": "code",
      "source": [
        "#@title Organizing test files {display-mode: \"form\"}\n",
        "i=0\n",
        "target=targets_list[i]\n",
        "folder = sb_folder+target\n",
        "%cd $folder\n",
        "! mkdir test\n",
        "%cd test\n",
        "! cp ../*lig.am1bcc.mol2.gz lig.mol2.gz\n",
        "! cp ../*.rec.clean.mol2.gz rec.mol2.gz\n",
        "! obabel -imol2 lig.mol2.gz -osmi -O lig.smi"
      ],
      "metadata": {
        "colab": {
          "base_uri": "https://localhost:8080/"
        },
        "id": "KlcqBR-l9gqd",
        "outputId": "72a7f1dd-d3ce-40e2-b09d-f7e2f3c468da"
      },
      "execution_count": 4,
      "outputs": [
        {
          "output_type": "stream",
          "name": "stdout",
          "text": [
            "/content/drive/MyDrive/pyLiBELa/SB/121P\n",
            "mkdir: cannot create directory ‘test’: File exists\n",
            "/content/drive/MyDrive/pyLiBELa/SB/121P/test\n",
            "1 molecule converted\n"
          ]
        }
      ]
    },
    {
      "cell_type": "code",
      "source": [
        "#@title Docking parameters {display-mode: \"form\"}\n",
        "\n",
        "import os\n",
        "import timeit\n",
        "import numpy as np\n",
        "\n",
        "Input = PARSER()\n",
        "\n",
        "# Some default options:\n",
        "# 1. We are using two processors for Grid calculations;\n",
        "#\n",
        "\n",
        "Input.generate_conformers = True;\n",
        "Input.dock_parallel = True;\n",
        "Input.parallel_jobs = 2;\n",
        "Input.write_grids = True\n",
        "Input.use_grids = True\n",
        "Input.write_mol2 = True\n",
        "Input.atom_limit = 60 #@param {type:\"number\"}\n",
        "    #atom limit not counting H\n",
        "\n",
        "# Energy Calculation Parameters:\n",
        "scoring_function = \"0\" #@param [\"0\", \"1\", \"2\", \"3\"]\n",
        "Input.dielectric_model = \"r\" #@param [\"r\", \"constant\"]\n",
        "Input.scoring_function = int(scoring_function)\n",
        "grid_dimension = 30.0 #@param {type:\"number\"}\n",
        "Input.grid_spacing = 0.5 #@param {type:\"number\"}\n",
        "Input.solvation_alpha = 0.1 #@param {type:\"number\"}\n",
        "Input.solvation_beta = -0.005 #@param {type:\"number\"}\n",
        "\n",
        "# Optimization parameter:\n",
        "Input.min_tol = 1E-10;\n",
        "Input.min_delta = 1E-5;\n",
        "Input.dock_min_tol = 1E-10;\n",
        "search_box = 20.0 #@param {type:\"number\"}\n",
        "Input.timeout = 30 #@param {type:\"number\"}\n",
        "Input.min_timeout = 30 #@param {type:\"number\"}\n",
        "Input.overlay_optimizer = \"mma\" #@param [\"mma\", \"ln_auglag\", \"subplex\", \"none\"]\n",
        "Input.energy_optimizer = \"mma\" #@param [\"direct\", \"isres\", \"crs\", \"esch\", \"stogo\", \"mma\", \"simplex\", \"none\"]\n",
        "if (Input.scoring_function < 3):\n",
        "  delta = 2.5 #@param {type:\"number\"}\n",
        "  Input.deltaij6 = (delta*delta*delta*delta*delta*delta)\n",
        "  delta_es = 2.5 #@param {type:\"number\"}\n",
        "  Input.deltaij_es6 = pow(delta_es, 6);\n",
        "  Input.deltaij_es3 = (delta_es*delta_es*delta_es)\n",
        "\n",
        "Input.search_box_x, Input.search_box_y, Input.search_box_z = search_box, search_box, search_box;\n",
        "Input.x_dim, Input.y_dim, Input.z_dim = grid_dimension, grid_dimension, grid_dimension;"
      ],
      "metadata": {
        "id": "bBiFwd-WIDdw"
      },
      "execution_count": 5,
      "outputs": []
    },
    {
      "cell_type": "code",
      "source": [
        "tag  = 'A' #@param {type:\"string\"}\n",
        "Input.grid_prefix = \"McGrid_\" + target + '_' + tag\n",
        "\n",
        "\n",
        "insmiles = open('lig.smi', 'r');\n",
        "line=insmiles.readline().strip()\n",
        "line2 = line.split()\n",
        "ligand_smiles = line2[0]\n",
        "insmiles.close();\n",
        "print('SMILES read: %s' % ligand_smiles)\n",
        "\n",
        "Lig2 = Mol2()\n",
        "\n",
        "lig_src = 'lig.mol2.gz'\n",
        "rec_src = 'rec.mol2.gz'\n",
        "\n",
        "REC = Mol2(Input, rec_src)\n",
        "RefLig = Mol2(Input, lig_src)\n",
        "Lig2.parse_smiles(Input, ligand_smiles, 'LIG')\n",
        "\n",
        "print('Receptor and reference ligand parsed successfully!')\n",
        "print(\"Receptor has %4d atoms.\" % REC.N)\n",
        "print('Reference Ligand has %4d atoms' % RefLig.N)\n",
        "print('Search ligand has %4d atoms' % Lig2.N)"
      ],
      "metadata": {
        "colab": {
          "base_uri": "https://localhost:8080/"
        },
        "id": "85cmZuGd_BYF",
        "outputId": "81a3c209-a6d8-43df-e548-548edd261ed8"
      },
      "execution_count": 6,
      "outputs": [
        {
          "output_type": "stream",
          "name": "stdout",
          "text": [
            "SMILES read: [P]([O])([O])([O])C[P]([O])([O])O[P]([O])([O])OC[C@H]1O[C@H]([C@@H]([C@@H]1O)O)N1C=NC2=C1N=C(NC2=O)N\n",
            "Receptor and reference ligand parsed successfully!\n",
            "Receptor has 2620 atoms.\n",
            "Reference Ligand has   46 atoms\n",
            "Search ligand has   46 atoms\n"
          ]
        }
      ]
    },
    {
      "cell_type": "code",
      "source": [
        "#@title Grid Generation and Docking calculation\n",
        "!rm -rf McLiBELa_dock.mol2.gz\n",
        "import timeit\n",
        "\n",
        "Writer = WRITER(Input)\n",
        "Coord = COORD_MC()\n",
        "HB = FindHB()\n",
        "Ene  = Energy2(Input)\n",
        "\n",
        "for i in range(len(REC.residue_pointer)-1):\n",
        "  HB.parse_residue(REC.residue_pointer[i]-1, REC.residue_pointer[i+1]-2, REC.resnames[i], REC, RefLig, 9.0);\n",
        "HB.find_ligandHB(lig_src, RefLig);\n",
        "print('The receptor has %5d / %5d HB donors/acceptors around the active site.' % (len(REC.HBdonors), len(REC.HBacceptors)));\n",
        "\n",
        "Dock = Docker(Writer)\n",
        "center = Coord.compute_com(RefLig)\n",
        "\n",
        "print()\n",
        "start_energy = Ene.compute_ene(REC, RefLig, RefLig.xyz);\n",
        "print('Starting energy: %7.3f kcal/mol' % start_energy);\n",
        "print()\n",
        "print('Generating grids. This may take a while..')\n",
        "\n",
        "start_time = timeit.default_timer()\n",
        "Grids = Grid(Input, Writer, REC, center)\n",
        "time = timeit.default_timer() - start_time\n",
        "\n",
        "time_per_atom = time/REC.N\n",
        "print('Grids computed, and it took %.2f s! That means %.4f s per atom.' %(time,time_per_atom))\n",
        "grid_energy = Ene.compute_ene(Grids, RefLig, RefLig.xyz);\n",
        "print('Grid original energy: %7.3f kcal/mol' % grid_energy);\n",
        "print('Grid error: %7.3f' % abs(100.*(start_energy-grid_energy)/start_energy));\n",
        "print()\n",
        "print()\n",
        "print('Starting docking calculation...')\n",
        "Dock.run(REC, Lig2, RefLig, center, Input, Grids, 0)\n",
        "print('Docking calculation finished!')\n",
        "\n",
        "Writer.write_box(center, Grids.xbegin, Grids.ybegin, Grids.zbegin, Grids.xend, Grids.yend, Grids.zend)\n"
      ],
      "metadata": {
        "id": "3V0xpV6F2i3q",
        "cellView": "form"
      },
      "execution_count": null,
      "outputs": []
    },
    {
      "cell_type": "code",
      "source": [
        "grid_name = Input.grid_prefix + '.grid'\n",
        "!mv $grid_name test/\n",
        "log_name = 'McLiBELa' + target + '_' + tag + '.log'\n",
        "\n",
        "\n",
        "!mv McLiBELa.log test/$log_name\n"
      ],
      "metadata": {
        "id": "gUretWVCAoZH"
      },
      "execution_count": null,
      "outputs": []
    },
    {
      "cell_type": "code",
      "source": [
        "!tail McLiBELa.log\n",
        "rmsd = 0\n",
        "use_cuda = 'False'\n",
        "log_add = 'Use CUDA = %s \\n Grids Time = %.2f \\n Time per atom  = %.2f \\n RMSD = %.2f'%(use_cuda,time,time_per_atom,rmsd)\n",
        "print(log_add)\n",
        "#!sed -i\n",
        "#printf(\"* %-30s %-66d*\\n\", \"number_of_conformers\", Input->lig_conformers);"
      ],
      "metadata": {
        "id": "8KxgeGsfV9wp"
      },
      "execution_count": null,
      "outputs": []
    }
  ]
}